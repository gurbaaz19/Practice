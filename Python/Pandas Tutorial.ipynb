{
 "cells": [
  {
   "cell_type": "code",
   "execution_count": 1,
   "id": "7eef446a",
   "metadata": {
    "pycharm": {
     "name": "#%%\n"
    }
   },
   "outputs": [],
   "source": [
    "import numpy as np\n",
    "import pandas as pd"
   ]
  },
  {
   "cell_type": "code",
   "execution_count": 2,
   "id": "dde150af",
   "metadata": {
    "pycharm": {
     "name": "#%%\n"
    }
   },
   "outputs": [],
   "source": [
    "dict1 ={\n",
    "    \"name\":['gurbaaz','timmy','gunnu','alex'],\n",
    "    \"marks\":[92,34,24,17],\n",
    "    \"city\":['chandigarh','patiala','ludhiana','NewYork']\n",
    "}"
   ]
  },
  {
   "cell_type": "code",
   "execution_count": 3,
   "id": "a1667f90",
   "metadata": {
    "pycharm": {
     "name": "#%%\n"
    }
   },
   "outputs": [],
   "source": [
    "df=pd.DataFrame(dict1)"
   ]
  },
  {
   "cell_type": "code",
   "execution_count": 4,
   "outputs": [
    {
     "data": {
      "text/plain": "      name  marks        city\n0  gurbaaz     92  chandigarh\n1    timmy     34     patiala\n2    gunnu     24    ludhiana\n3     alex     17     NewYork",
      "text/html": "<div>\n<style scoped>\n    .dataframe tbody tr th:only-of-type {\n        vertical-align: middle;\n    }\n\n    .dataframe tbody tr th {\n        vertical-align: top;\n    }\n\n    .dataframe thead th {\n        text-align: right;\n    }\n</style>\n<table border=\"1\" class=\"dataframe\">\n  <thead>\n    <tr style=\"text-align: right;\">\n      <th></th>\n      <th>name</th>\n      <th>marks</th>\n      <th>city</th>\n    </tr>\n  </thead>\n  <tbody>\n    <tr>\n      <th>0</th>\n      <td>gurbaaz</td>\n      <td>92</td>\n      <td>chandigarh</td>\n    </tr>\n    <tr>\n      <th>1</th>\n      <td>timmy</td>\n      <td>34</td>\n      <td>patiala</td>\n    </tr>\n    <tr>\n      <th>2</th>\n      <td>gunnu</td>\n      <td>24</td>\n      <td>ludhiana</td>\n    </tr>\n    <tr>\n      <th>3</th>\n      <td>alex</td>\n      <td>17</td>\n      <td>NewYork</td>\n    </tr>\n  </tbody>\n</table>\n</div>"
     },
     "execution_count": 4,
     "metadata": {},
     "output_type": "execute_result"
    }
   ],
   "source": [
    "df"
   ],
   "metadata": {
    "collapsed": false,
    "pycharm": {
     "name": "#%%\n"
    }
   }
  },
  {
   "cell_type": "code",
   "execution_count": 5,
   "outputs": [
    {
     "data": {
      "text/plain": "0    chandigarh\n1       patiala\n2      ludhiana\n3       NewYork\nName: city, dtype: object"
     },
     "execution_count": 5,
     "metadata": {},
     "output_type": "execute_result"
    }
   ],
   "source": [
    "df.city"
   ],
   "metadata": {
    "collapsed": false,
    "pycharm": {
     "name": "#%%\n"
    }
   }
  },
  {
   "cell_type": "code",
   "execution_count": 6,
   "outputs": [],
   "source": [
    "df.to_csv('friends.csv')"
   ],
   "metadata": {
    "collapsed": false,
    "pycharm": {
     "name": "#%%\n"
    }
   }
  },
  {
   "cell_type": "code",
   "execution_count": 7,
   "outputs": [],
   "source": [
    "df.to_excel('friends.xlsx')"
   ],
   "metadata": {
    "collapsed": false,
    "pycharm": {
     "name": "#%%\n"
    }
   }
  },
  {
   "cell_type": "code",
   "execution_count": 8,
   "outputs": [],
   "source": [
    "df.to_csv('friends_indexNo.csv', index=False)"
   ],
   "metadata": {
    "collapsed": false,
    "pycharm": {
     "name": "#%%\n"
    }
   }
  },
  {
   "cell_type": "code",
   "execution_count": 9,
   "outputs": [
    {
     "data": {
      "text/plain": "      name  marks        city\n0  gurbaaz     92  chandigarh\n1    timmy     34     patiala",
      "text/html": "<div>\n<style scoped>\n    .dataframe tbody tr th:only-of-type {\n        vertical-align: middle;\n    }\n\n    .dataframe tbody tr th {\n        vertical-align: top;\n    }\n\n    .dataframe thead th {\n        text-align: right;\n    }\n</style>\n<table border=\"1\" class=\"dataframe\">\n  <thead>\n    <tr style=\"text-align: right;\">\n      <th></th>\n      <th>name</th>\n      <th>marks</th>\n      <th>city</th>\n    </tr>\n  </thead>\n  <tbody>\n    <tr>\n      <th>0</th>\n      <td>gurbaaz</td>\n      <td>92</td>\n      <td>chandigarh</td>\n    </tr>\n    <tr>\n      <th>1</th>\n      <td>timmy</td>\n      <td>34</td>\n      <td>patiala</td>\n    </tr>\n  </tbody>\n</table>\n</div>"
     },
     "execution_count": 9,
     "metadata": {},
     "output_type": "execute_result"
    }
   ],
   "source": [
    "df.head(2)"
   ],
   "metadata": {
    "collapsed": false,
    "pycharm": {
     "name": "#%%\n"
    }
   }
  },
  {
   "cell_type": "code",
   "execution_count": 10,
   "outputs": [
    {
     "data": {
      "text/plain": "    name  marks      city\n2  gunnu     24  ludhiana\n3   alex     17   NewYork",
      "text/html": "<div>\n<style scoped>\n    .dataframe tbody tr th:only-of-type {\n        vertical-align: middle;\n    }\n\n    .dataframe tbody tr th {\n        vertical-align: top;\n    }\n\n    .dataframe thead th {\n        text-align: right;\n    }\n</style>\n<table border=\"1\" class=\"dataframe\">\n  <thead>\n    <tr style=\"text-align: right;\">\n      <th></th>\n      <th>name</th>\n      <th>marks</th>\n      <th>city</th>\n    </tr>\n  </thead>\n  <tbody>\n    <tr>\n      <th>2</th>\n      <td>gunnu</td>\n      <td>24</td>\n      <td>ludhiana</td>\n    </tr>\n    <tr>\n      <th>3</th>\n      <td>alex</td>\n      <td>17</td>\n      <td>NewYork</td>\n    </tr>\n  </tbody>\n</table>\n</div>"
     },
     "execution_count": 10,
     "metadata": {},
     "output_type": "execute_result"
    }
   ],
   "source": [
    "df.tail(2)"
   ],
   "metadata": {
    "collapsed": false,
    "pycharm": {
     "name": "#%%\n"
    }
   }
  },
  {
   "cell_type": "code",
   "execution_count": 11,
   "outputs": [
    {
     "data": {
      "text/plain": "          marks\ncount   4.00000\nmean   41.75000\nstd    34.21866\nmin    17.00000\n25%    22.25000\n50%    29.00000\n75%    48.50000\nmax    92.00000",
      "text/html": "<div>\n<style scoped>\n    .dataframe tbody tr th:only-of-type {\n        vertical-align: middle;\n    }\n\n    .dataframe tbody tr th {\n        vertical-align: top;\n    }\n\n    .dataframe thead th {\n        text-align: right;\n    }\n</style>\n<table border=\"1\" class=\"dataframe\">\n  <thead>\n    <tr style=\"text-align: right;\">\n      <th></th>\n      <th>marks</th>\n    </tr>\n  </thead>\n  <tbody>\n    <tr>\n      <th>count</th>\n      <td>4.00000</td>\n    </tr>\n    <tr>\n      <th>mean</th>\n      <td>41.75000</td>\n    </tr>\n    <tr>\n      <th>std</th>\n      <td>34.21866</td>\n    </tr>\n    <tr>\n      <th>min</th>\n      <td>17.00000</td>\n    </tr>\n    <tr>\n      <th>25%</th>\n      <td>22.25000</td>\n    </tr>\n    <tr>\n      <th>50%</th>\n      <td>29.00000</td>\n    </tr>\n    <tr>\n      <th>75%</th>\n      <td>48.50000</td>\n    </tr>\n    <tr>\n      <th>max</th>\n      <td>92.00000</td>\n    </tr>\n  </tbody>\n</table>\n</div>"
     },
     "execution_count": 11,
     "metadata": {},
     "output_type": "execute_result"
    }
   ],
   "source": [
    "df.describe()"
   ],
   "metadata": {
    "collapsed": false,
    "pycharm": {
     "name": "#%%\n"
    }
   }
  },
  {
   "cell_type": "code",
   "execution_count": 12,
   "outputs": [],
   "source": [
    "timmy= pd.read_csv('timmy.csv')"
   ],
   "metadata": {
    "collapsed": false,
    "pycharm": {
     "name": "#%%\n"
    }
   }
  },
  {
   "cell_type": "code",
   "execution_count": 13,
   "outputs": [
    {
     "data": {
      "text/plain": "   Unnamed: 0.21  Unnamed: 0.20  Unnamed: 0.19  Unnamed: 0.18  Unnamed: 0.17  \\\n0              0              0              0              0              0   \n1              1              1              1              1              1   \n2              2              2              2              2              2   \n3              3              3              3              3              3   \n\n   Unnamed: 0.16  Unnamed: 0.15  Unnamed: 0.14  Unnamed: 0.13  Unnamed: 0.12  \\\n0              0              0              0              0              0   \n1              1              1              1              1              1   \n2              2              2              2              2              2   \n3              3              3              3              3              3   \n\n   ...  Unnamed: 0.6  Unnamed: 0.5  Unnamed: 0.4  Unnamed: 0.3  Unnamed: 0.2  \\\n0  ...             0             0             0             0             0   \n1  ...             1             1             1             1             1   \n2  ...             2             2             2             2             2   \n3  ...             3             3             3             3             3   \n\n   Unnamed: 0.1  Unnamed: 0  Tain No.  Speed        City  \n0             0           0     12322     50  chandigarh  \n1             1           1     12534    123     patiala  \n2             2           2    125654     67    ludhiana  \n3             3           3    564523     87      rajkot  \n\n[4 rows x 25 columns]",
      "text/html": "<div>\n<style scoped>\n    .dataframe tbody tr th:only-of-type {\n        vertical-align: middle;\n    }\n\n    .dataframe tbody tr th {\n        vertical-align: top;\n    }\n\n    .dataframe thead th {\n        text-align: right;\n    }\n</style>\n<table border=\"1\" class=\"dataframe\">\n  <thead>\n    <tr style=\"text-align: right;\">\n      <th></th>\n      <th>Unnamed: 0.21</th>\n      <th>Unnamed: 0.20</th>\n      <th>Unnamed: 0.19</th>\n      <th>Unnamed: 0.18</th>\n      <th>Unnamed: 0.17</th>\n      <th>Unnamed: 0.16</th>\n      <th>Unnamed: 0.15</th>\n      <th>Unnamed: 0.14</th>\n      <th>Unnamed: 0.13</th>\n      <th>Unnamed: 0.12</th>\n      <th>...</th>\n      <th>Unnamed: 0.6</th>\n      <th>Unnamed: 0.5</th>\n      <th>Unnamed: 0.4</th>\n      <th>Unnamed: 0.3</th>\n      <th>Unnamed: 0.2</th>\n      <th>Unnamed: 0.1</th>\n      <th>Unnamed: 0</th>\n      <th>Tain No.</th>\n      <th>Speed</th>\n      <th>City</th>\n    </tr>\n  </thead>\n  <tbody>\n    <tr>\n      <th>0</th>\n      <td>0</td>\n      <td>0</td>\n      <td>0</td>\n      <td>0</td>\n      <td>0</td>\n      <td>0</td>\n      <td>0</td>\n      <td>0</td>\n      <td>0</td>\n      <td>0</td>\n      <td>...</td>\n      <td>0</td>\n      <td>0</td>\n      <td>0</td>\n      <td>0</td>\n      <td>0</td>\n      <td>0</td>\n      <td>0</td>\n      <td>12322</td>\n      <td>50</td>\n      <td>chandigarh</td>\n    </tr>\n    <tr>\n      <th>1</th>\n      <td>1</td>\n      <td>1</td>\n      <td>1</td>\n      <td>1</td>\n      <td>1</td>\n      <td>1</td>\n      <td>1</td>\n      <td>1</td>\n      <td>1</td>\n      <td>1</td>\n      <td>...</td>\n      <td>1</td>\n      <td>1</td>\n      <td>1</td>\n      <td>1</td>\n      <td>1</td>\n      <td>1</td>\n      <td>1</td>\n      <td>12534</td>\n      <td>123</td>\n      <td>patiala</td>\n    </tr>\n    <tr>\n      <th>2</th>\n      <td>2</td>\n      <td>2</td>\n      <td>2</td>\n      <td>2</td>\n      <td>2</td>\n      <td>2</td>\n      <td>2</td>\n      <td>2</td>\n      <td>2</td>\n      <td>2</td>\n      <td>...</td>\n      <td>2</td>\n      <td>2</td>\n      <td>2</td>\n      <td>2</td>\n      <td>2</td>\n      <td>2</td>\n      <td>2</td>\n      <td>125654</td>\n      <td>67</td>\n      <td>ludhiana</td>\n    </tr>\n    <tr>\n      <th>3</th>\n      <td>3</td>\n      <td>3</td>\n      <td>3</td>\n      <td>3</td>\n      <td>3</td>\n      <td>3</td>\n      <td>3</td>\n      <td>3</td>\n      <td>3</td>\n      <td>3</td>\n      <td>...</td>\n      <td>3</td>\n      <td>3</td>\n      <td>3</td>\n      <td>3</td>\n      <td>3</td>\n      <td>3</td>\n      <td>3</td>\n      <td>564523</td>\n      <td>87</td>\n      <td>rajkot</td>\n    </tr>\n  </tbody>\n</table>\n<p>4 rows × 25 columns</p>\n</div>"
     },
     "execution_count": 13,
     "metadata": {},
     "output_type": "execute_result"
    }
   ],
   "source": [
    "timmy"
   ],
   "metadata": {
    "collapsed": false,
    "pycharm": {
     "name": "#%%\n"
    }
   }
  },
  {
   "cell_type": "code",
   "execution_count": 14,
   "outputs": [
    {
     "name": "stderr",
     "output_type": "stream",
     "text": [
      "C:\\Users\\gurba\\AppData\\Local\\Temp\\ipykernel_20276\\3645333898.py:1: SettingWithCopyWarning: \n",
      "A value is trying to be set on a copy of a slice from a DataFrame\n",
      "\n",
      "See the caveats in the documentation: https://pandas.pydata.org/pandas-docs/stable/user_guide/indexing.html#returning-a-view-versus-a-copy\n",
      "  timmy['Speed'][0]=50\n"
     ]
    }
   ],
   "source": [
    "timmy['Speed'][0]=50"
   ],
   "metadata": {
    "collapsed": false,
    "pycharm": {
     "name": "#%%\n"
    }
   }
  },
  {
   "cell_type": "code",
   "execution_count": 15,
   "outputs": [
    {
     "data": {
      "text/plain": "   Unnamed: 0.21  Unnamed: 0.20  Unnamed: 0.19  Unnamed: 0.18  Unnamed: 0.17  \\\n0              0              0              0              0              0   \n1              1              1              1              1              1   \n2              2              2              2              2              2   \n3              3              3              3              3              3   \n\n   Unnamed: 0.16  Unnamed: 0.15  Unnamed: 0.14  Unnamed: 0.13  Unnamed: 0.12  \\\n0              0              0              0              0              0   \n1              1              1              1              1              1   \n2              2              2              2              2              2   \n3              3              3              3              3              3   \n\n   ...  Unnamed: 0.6  Unnamed: 0.5  Unnamed: 0.4  Unnamed: 0.3  Unnamed: 0.2  \\\n0  ...             0             0             0             0             0   \n1  ...             1             1             1             1             1   \n2  ...             2             2             2             2             2   \n3  ...             3             3             3             3             3   \n\n   Unnamed: 0.1  Unnamed: 0  Tain No.  Speed        City  \n0             0           0     12322     50  chandigarh  \n1             1           1     12534    123     patiala  \n2             2           2    125654     67    ludhiana  \n3             3           3    564523     87      rajkot  \n\n[4 rows x 25 columns]",
      "text/html": "<div>\n<style scoped>\n    .dataframe tbody tr th:only-of-type {\n        vertical-align: middle;\n    }\n\n    .dataframe tbody tr th {\n        vertical-align: top;\n    }\n\n    .dataframe thead th {\n        text-align: right;\n    }\n</style>\n<table border=\"1\" class=\"dataframe\">\n  <thead>\n    <tr style=\"text-align: right;\">\n      <th></th>\n      <th>Unnamed: 0.21</th>\n      <th>Unnamed: 0.20</th>\n      <th>Unnamed: 0.19</th>\n      <th>Unnamed: 0.18</th>\n      <th>Unnamed: 0.17</th>\n      <th>Unnamed: 0.16</th>\n      <th>Unnamed: 0.15</th>\n      <th>Unnamed: 0.14</th>\n      <th>Unnamed: 0.13</th>\n      <th>Unnamed: 0.12</th>\n      <th>...</th>\n      <th>Unnamed: 0.6</th>\n      <th>Unnamed: 0.5</th>\n      <th>Unnamed: 0.4</th>\n      <th>Unnamed: 0.3</th>\n      <th>Unnamed: 0.2</th>\n      <th>Unnamed: 0.1</th>\n      <th>Unnamed: 0</th>\n      <th>Tain No.</th>\n      <th>Speed</th>\n      <th>City</th>\n    </tr>\n  </thead>\n  <tbody>\n    <tr>\n      <th>0</th>\n      <td>0</td>\n      <td>0</td>\n      <td>0</td>\n      <td>0</td>\n      <td>0</td>\n      <td>0</td>\n      <td>0</td>\n      <td>0</td>\n      <td>0</td>\n      <td>0</td>\n      <td>...</td>\n      <td>0</td>\n      <td>0</td>\n      <td>0</td>\n      <td>0</td>\n      <td>0</td>\n      <td>0</td>\n      <td>0</td>\n      <td>12322</td>\n      <td>50</td>\n      <td>chandigarh</td>\n    </tr>\n    <tr>\n      <th>1</th>\n      <td>1</td>\n      <td>1</td>\n      <td>1</td>\n      <td>1</td>\n      <td>1</td>\n      <td>1</td>\n      <td>1</td>\n      <td>1</td>\n      <td>1</td>\n      <td>1</td>\n      <td>...</td>\n      <td>1</td>\n      <td>1</td>\n      <td>1</td>\n      <td>1</td>\n      <td>1</td>\n      <td>1</td>\n      <td>1</td>\n      <td>12534</td>\n      <td>123</td>\n      <td>patiala</td>\n    </tr>\n    <tr>\n      <th>2</th>\n      <td>2</td>\n      <td>2</td>\n      <td>2</td>\n      <td>2</td>\n      <td>2</td>\n      <td>2</td>\n      <td>2</td>\n      <td>2</td>\n      <td>2</td>\n      <td>2</td>\n      <td>...</td>\n      <td>2</td>\n      <td>2</td>\n      <td>2</td>\n      <td>2</td>\n      <td>2</td>\n      <td>2</td>\n      <td>2</td>\n      <td>125654</td>\n      <td>67</td>\n      <td>ludhiana</td>\n    </tr>\n    <tr>\n      <th>3</th>\n      <td>3</td>\n      <td>3</td>\n      <td>3</td>\n      <td>3</td>\n      <td>3</td>\n      <td>3</td>\n      <td>3</td>\n      <td>3</td>\n      <td>3</td>\n      <td>3</td>\n      <td>...</td>\n      <td>3</td>\n      <td>3</td>\n      <td>3</td>\n      <td>3</td>\n      <td>3</td>\n      <td>3</td>\n      <td>3</td>\n      <td>564523</td>\n      <td>87</td>\n      <td>rajkot</td>\n    </tr>\n  </tbody>\n</table>\n<p>4 rows × 25 columns</p>\n</div>"
     },
     "execution_count": 15,
     "metadata": {},
     "output_type": "execute_result"
    }
   ],
   "source": [
    "timmy"
   ],
   "metadata": {
    "collapsed": false,
    "pycharm": {
     "name": "#%%\n"
    }
   }
  },
  {
   "cell_type": "code",
   "execution_count": 16,
   "outputs": [],
   "source": [
    "timmy.to_csv('timmy.csv')"
   ],
   "metadata": {
    "collapsed": false,
    "pycharm": {
     "name": "#%%\n"
    }
   }
  },
  {
   "cell_type": "code",
   "execution_count": 17,
   "outputs": [],
   "source": [
    "timmy.index=['first','second','third','fourth']"
   ],
   "metadata": {
    "collapsed": false,
    "pycharm": {
     "name": "#%%\n"
    }
   }
  },
  {
   "cell_type": "code",
   "execution_count": 18,
   "outputs": [
    {
     "data": {
      "text/plain": "        Unnamed: 0.21  Unnamed: 0.20  Unnamed: 0.19  Unnamed: 0.18  \\\nfirst               0              0              0              0   \nsecond              1              1              1              1   \nthird               2              2              2              2   \nfourth              3              3              3              3   \n\n        Unnamed: 0.17  Unnamed: 0.16  Unnamed: 0.15  Unnamed: 0.14  \\\nfirst               0              0              0              0   \nsecond              1              1              1              1   \nthird               2              2              2              2   \nfourth              3              3              3              3   \n\n        Unnamed: 0.13  Unnamed: 0.12  ...  Unnamed: 0.6  Unnamed: 0.5  \\\nfirst               0              0  ...             0             0   \nsecond              1              1  ...             1             1   \nthird               2              2  ...             2             2   \nfourth              3              3  ...             3             3   \n\n        Unnamed: 0.4  Unnamed: 0.3  Unnamed: 0.2  Unnamed: 0.1  Unnamed: 0  \\\nfirst              0             0             0             0           0   \nsecond             1             1             1             1           1   \nthird              2             2             2             2           2   \nfourth             3             3             3             3           3   \n\n        Tain No.  Speed        City  \nfirst      12322     50  chandigarh  \nsecond     12534    123     patiala  \nthird     125654     67    ludhiana  \nfourth    564523     87      rajkot  \n\n[4 rows x 25 columns]",
      "text/html": "<div>\n<style scoped>\n    .dataframe tbody tr th:only-of-type {\n        vertical-align: middle;\n    }\n\n    .dataframe tbody tr th {\n        vertical-align: top;\n    }\n\n    .dataframe thead th {\n        text-align: right;\n    }\n</style>\n<table border=\"1\" class=\"dataframe\">\n  <thead>\n    <tr style=\"text-align: right;\">\n      <th></th>\n      <th>Unnamed: 0.21</th>\n      <th>Unnamed: 0.20</th>\n      <th>Unnamed: 0.19</th>\n      <th>Unnamed: 0.18</th>\n      <th>Unnamed: 0.17</th>\n      <th>Unnamed: 0.16</th>\n      <th>Unnamed: 0.15</th>\n      <th>Unnamed: 0.14</th>\n      <th>Unnamed: 0.13</th>\n      <th>Unnamed: 0.12</th>\n      <th>...</th>\n      <th>Unnamed: 0.6</th>\n      <th>Unnamed: 0.5</th>\n      <th>Unnamed: 0.4</th>\n      <th>Unnamed: 0.3</th>\n      <th>Unnamed: 0.2</th>\n      <th>Unnamed: 0.1</th>\n      <th>Unnamed: 0</th>\n      <th>Tain No.</th>\n      <th>Speed</th>\n      <th>City</th>\n    </tr>\n  </thead>\n  <tbody>\n    <tr>\n      <th>first</th>\n      <td>0</td>\n      <td>0</td>\n      <td>0</td>\n      <td>0</td>\n      <td>0</td>\n      <td>0</td>\n      <td>0</td>\n      <td>0</td>\n      <td>0</td>\n      <td>0</td>\n      <td>...</td>\n      <td>0</td>\n      <td>0</td>\n      <td>0</td>\n      <td>0</td>\n      <td>0</td>\n      <td>0</td>\n      <td>0</td>\n      <td>12322</td>\n      <td>50</td>\n      <td>chandigarh</td>\n    </tr>\n    <tr>\n      <th>second</th>\n      <td>1</td>\n      <td>1</td>\n      <td>1</td>\n      <td>1</td>\n      <td>1</td>\n      <td>1</td>\n      <td>1</td>\n      <td>1</td>\n      <td>1</td>\n      <td>1</td>\n      <td>...</td>\n      <td>1</td>\n      <td>1</td>\n      <td>1</td>\n      <td>1</td>\n      <td>1</td>\n      <td>1</td>\n      <td>1</td>\n      <td>12534</td>\n      <td>123</td>\n      <td>patiala</td>\n    </tr>\n    <tr>\n      <th>third</th>\n      <td>2</td>\n      <td>2</td>\n      <td>2</td>\n      <td>2</td>\n      <td>2</td>\n      <td>2</td>\n      <td>2</td>\n      <td>2</td>\n      <td>2</td>\n      <td>2</td>\n      <td>...</td>\n      <td>2</td>\n      <td>2</td>\n      <td>2</td>\n      <td>2</td>\n      <td>2</td>\n      <td>2</td>\n      <td>2</td>\n      <td>125654</td>\n      <td>67</td>\n      <td>ludhiana</td>\n    </tr>\n    <tr>\n      <th>fourth</th>\n      <td>3</td>\n      <td>3</td>\n      <td>3</td>\n      <td>3</td>\n      <td>3</td>\n      <td>3</td>\n      <td>3</td>\n      <td>3</td>\n      <td>3</td>\n      <td>3</td>\n      <td>...</td>\n      <td>3</td>\n      <td>3</td>\n      <td>3</td>\n      <td>3</td>\n      <td>3</td>\n      <td>3</td>\n      <td>3</td>\n      <td>564523</td>\n      <td>87</td>\n      <td>rajkot</td>\n    </tr>\n  </tbody>\n</table>\n<p>4 rows × 25 columns</p>\n</div>"
     },
     "execution_count": 18,
     "metadata": {},
     "output_type": "execute_result"
    }
   ],
   "source": [
    "timmy"
   ],
   "metadata": {
    "collapsed": false,
    "pycharm": {
     "name": "#%%\n"
    }
   }
  },
  {
   "cell_type": "code",
   "execution_count": 19,
   "outputs": [],
   "source": [
    "ser=pd.Series(np.random.rand(34))"
   ],
   "metadata": {
    "collapsed": false,
    "pycharm": {
     "name": "#%%\n"
    }
   }
  },
  {
   "cell_type": "code",
   "execution_count": 20,
   "outputs": [
    {
     "data": {
      "text/plain": "0     0.809775\n1     0.235089\n2     0.206388\n3     0.692217\n4     0.221565\n5     0.412176\n6     0.592806\n7     0.227437\n8     0.598874\n9     0.019756\n10    0.217228\n11    0.381553\n12    0.222644\n13    0.210331\n14    0.785053\n15    0.558526\n16    0.474422\n17    0.903260\n18    0.270161\n19    0.707366\n20    0.047200\n21    0.430351\n22    0.994350\n23    0.621902\n24    0.814161\n25    0.005013\n26    0.427336\n27    0.014882\n28    0.137645\n29    0.382418\n30    0.328665\n31    0.217830\n32    0.098289\n33    0.554639\ndtype: float64"
     },
     "execution_count": 20,
     "metadata": {},
     "output_type": "execute_result"
    }
   ],
   "source": [
    "ser"
   ],
   "metadata": {
    "collapsed": false,
    "pycharm": {
     "name": "#%%\n"
    }
   }
  },
  {
   "cell_type": "code",
   "execution_count": 21,
   "outputs": [
    {
     "data": {
      "text/plain": "pandas.core.series.Series"
     },
     "execution_count": 21,
     "metadata": {},
     "output_type": "execute_result"
    }
   ],
   "source": [
    "type(ser)"
   ],
   "metadata": {
    "collapsed": false,
    "pycharm": {
     "name": "#%%\n"
    }
   }
  },
  {
   "cell_type": "code",
   "execution_count": 22,
   "outputs": [],
   "source": [
    "newdf=pd.DataFrame(np.random.rand(334,5), index=np.arange(334))"
   ],
   "metadata": {
    "collapsed": false,
    "pycharm": {
     "name": "#%%\n"
    }
   }
  },
  {
   "cell_type": "code",
   "execution_count": 23,
   "outputs": [
    {
     "data": {
      "text/plain": "          0         1         2         3         4\n0  0.360946  0.339032  0.423460  0.584312  0.931776\n1  0.399641  0.972699  0.908414  0.789760  0.958483\n2  0.308629  0.431881  0.930735  0.235765  0.601155\n3  0.387777  0.436599  0.973174  0.850069  0.224284\n4  0.190751  0.645029  0.815076  0.772746  0.227016",
      "text/html": "<div>\n<style scoped>\n    .dataframe tbody tr th:only-of-type {\n        vertical-align: middle;\n    }\n\n    .dataframe tbody tr th {\n        vertical-align: top;\n    }\n\n    .dataframe thead th {\n        text-align: right;\n    }\n</style>\n<table border=\"1\" class=\"dataframe\">\n  <thead>\n    <tr style=\"text-align: right;\">\n      <th></th>\n      <th>0</th>\n      <th>1</th>\n      <th>2</th>\n      <th>3</th>\n      <th>4</th>\n    </tr>\n  </thead>\n  <tbody>\n    <tr>\n      <th>0</th>\n      <td>0.360946</td>\n      <td>0.339032</td>\n      <td>0.423460</td>\n      <td>0.584312</td>\n      <td>0.931776</td>\n    </tr>\n    <tr>\n      <th>1</th>\n      <td>0.399641</td>\n      <td>0.972699</td>\n      <td>0.908414</td>\n      <td>0.789760</td>\n      <td>0.958483</td>\n    </tr>\n    <tr>\n      <th>2</th>\n      <td>0.308629</td>\n      <td>0.431881</td>\n      <td>0.930735</td>\n      <td>0.235765</td>\n      <td>0.601155</td>\n    </tr>\n    <tr>\n      <th>3</th>\n      <td>0.387777</td>\n      <td>0.436599</td>\n      <td>0.973174</td>\n      <td>0.850069</td>\n      <td>0.224284</td>\n    </tr>\n    <tr>\n      <th>4</th>\n      <td>0.190751</td>\n      <td>0.645029</td>\n      <td>0.815076</td>\n      <td>0.772746</td>\n      <td>0.227016</td>\n    </tr>\n  </tbody>\n</table>\n</div>"
     },
     "execution_count": 23,
     "metadata": {},
     "output_type": "execute_result"
    }
   ],
   "source": [
    "newdf.head()"
   ],
   "metadata": {
    "collapsed": false,
    "pycharm": {
     "name": "#%%\n"
    }
   }
  },
  {
   "cell_type": "code",
   "execution_count": 24,
   "outputs": [
    {
     "data": {
      "text/plain": "pandas.core.frame.DataFrame"
     },
     "execution_count": 24,
     "metadata": {},
     "output_type": "execute_result"
    }
   ],
   "source": [
    "type(newdf)"
   ],
   "metadata": {
    "collapsed": false,
    "pycharm": {
     "name": "#%%\n"
    }
   }
  },
  {
   "cell_type": "code",
   "execution_count": 25,
   "outputs": [
    {
     "data": {
      "text/plain": "                0           1           2           3           4\ncount  334.000000  334.000000  334.000000  334.000000  334.000000\nmean     0.478158    0.500163    0.529720    0.496826    0.512905\nstd      0.279955    0.302544    0.285229    0.289984    0.289942\nmin      0.000795    0.002305    0.006576    0.003410    0.003537\n25%      0.240790    0.224404    0.310259    0.232276    0.262675\n50%      0.462301    0.528501    0.524607    0.503003    0.523856\n75%      0.695203    0.763711    0.769985    0.776904    0.783272\nmax      0.999870    0.997197    0.999559    0.994948    0.996324",
      "text/html": "<div>\n<style scoped>\n    .dataframe tbody tr th:only-of-type {\n        vertical-align: middle;\n    }\n\n    .dataframe tbody tr th {\n        vertical-align: top;\n    }\n\n    .dataframe thead th {\n        text-align: right;\n    }\n</style>\n<table border=\"1\" class=\"dataframe\">\n  <thead>\n    <tr style=\"text-align: right;\">\n      <th></th>\n      <th>0</th>\n      <th>1</th>\n      <th>2</th>\n      <th>3</th>\n      <th>4</th>\n    </tr>\n  </thead>\n  <tbody>\n    <tr>\n      <th>count</th>\n      <td>334.000000</td>\n      <td>334.000000</td>\n      <td>334.000000</td>\n      <td>334.000000</td>\n      <td>334.000000</td>\n    </tr>\n    <tr>\n      <th>mean</th>\n      <td>0.478158</td>\n      <td>0.500163</td>\n      <td>0.529720</td>\n      <td>0.496826</td>\n      <td>0.512905</td>\n    </tr>\n    <tr>\n      <th>std</th>\n      <td>0.279955</td>\n      <td>0.302544</td>\n      <td>0.285229</td>\n      <td>0.289984</td>\n      <td>0.289942</td>\n    </tr>\n    <tr>\n      <th>min</th>\n      <td>0.000795</td>\n      <td>0.002305</td>\n      <td>0.006576</td>\n      <td>0.003410</td>\n      <td>0.003537</td>\n    </tr>\n    <tr>\n      <th>25%</th>\n      <td>0.240790</td>\n      <td>0.224404</td>\n      <td>0.310259</td>\n      <td>0.232276</td>\n      <td>0.262675</td>\n    </tr>\n    <tr>\n      <th>50%</th>\n      <td>0.462301</td>\n      <td>0.528501</td>\n      <td>0.524607</td>\n      <td>0.503003</td>\n      <td>0.523856</td>\n    </tr>\n    <tr>\n      <th>75%</th>\n      <td>0.695203</td>\n      <td>0.763711</td>\n      <td>0.769985</td>\n      <td>0.776904</td>\n      <td>0.783272</td>\n    </tr>\n    <tr>\n      <th>max</th>\n      <td>0.999870</td>\n      <td>0.997197</td>\n      <td>0.999559</td>\n      <td>0.994948</td>\n      <td>0.996324</td>\n    </tr>\n  </tbody>\n</table>\n</div>"
     },
     "execution_count": 25,
     "metadata": {},
     "output_type": "execute_result"
    }
   ],
   "source": [
    "newdf.describe()"
   ],
   "metadata": {
    "collapsed": false,
    "pycharm": {
     "name": "#%%\n"
    }
   }
  },
  {
   "cell_type": "code",
   "execution_count": 26,
   "outputs": [
    {
     "data": {
      "text/plain": "0    float64\n1    float64\n2    float64\n3    float64\n4    float64\ndtype: object"
     },
     "execution_count": 26,
     "metadata": {},
     "output_type": "execute_result"
    }
   ],
   "source": [
    "newdf.dtypes"
   ],
   "metadata": {
    "collapsed": false,
    "pycharm": {
     "name": "#%%\n"
    }
   }
  },
  {
   "cell_type": "code",
   "execution_count": 27,
   "outputs": [
    {
     "data": {
      "text/plain": "Int64Index([  0,   1,   2,   3,   4,   5,   6,   7,   8,   9,\n            ...\n            324, 325, 326, 327, 328, 329, 330, 331, 332, 333],\n           dtype='int64', length=334)"
     },
     "execution_count": 27,
     "metadata": {},
     "output_type": "execute_result"
    }
   ],
   "source": [
    "newdf.index"
   ],
   "metadata": {
    "collapsed": false,
    "pycharm": {
     "name": "#%%\n"
    }
   }
  },
  {
   "cell_type": "code",
   "execution_count": 28,
   "outputs": [
    {
     "data": {
      "text/plain": "RangeIndex(start=0, stop=5, step=1)"
     },
     "execution_count": 28,
     "metadata": {},
     "output_type": "execute_result"
    }
   ],
   "source": [
    "newdf.columns"
   ],
   "metadata": {
    "collapsed": false,
    "pycharm": {
     "name": "#%%\n"
    }
   }
  },
  {
   "cell_type": "code",
   "execution_count": 29,
   "outputs": [
    {
     "data": {
      "text/plain": "array([[0.3609464 , 0.33903178, 0.42345952, 0.58431165, 0.93177639],\n       [0.39964072, 0.97269884, 0.90841432, 0.78976032, 0.95848335],\n       [0.30862891, 0.43188095, 0.93073511, 0.23576464, 0.60115523],\n       ...,\n       [0.00444617, 0.53826558, 0.60709061, 0.7258973 , 0.42088348],\n       [0.23326121, 0.76685919, 0.9177768 , 0.01166265, 0.16336153],\n       [0.92302533, 0.68490626, 0.85505185, 0.08657423, 0.42933315]])"
     },
     "execution_count": 29,
     "metadata": {},
     "output_type": "execute_result"
    }
   ],
   "source": [
    "newdf.to_numpy()"
   ],
   "metadata": {
    "collapsed": false,
    "pycharm": {
     "name": "#%%\n"
    }
   }
  },
  {
   "cell_type": "code",
   "execution_count": 30,
   "outputs": [
    {
     "data": {
      "text/plain": "0    float64\n1    float64\n2    float64\n3    float64\n4    float64\ndtype: object"
     },
     "execution_count": 30,
     "metadata": {},
     "output_type": "execute_result"
    }
   ],
   "source": [
    "newdf.dtypes"
   ],
   "metadata": {
    "collapsed": false,
    "pycharm": {
     "name": "#%%\n"
    }
   }
  },
  {
   "cell_type": "code",
   "execution_count": 31,
   "outputs": [
    {
     "data": {
      "text/plain": "        0         1         2         3         4         5         6    \\\n0  0.360946  0.399641  0.308629  0.387777  0.190751  0.972251  0.515082   \n1  0.339032  0.972699  0.431881  0.436599  0.645029  0.442772  0.949653   \n2  0.423460  0.908414  0.930735  0.973174  0.815076  0.813174  0.101943   \n3  0.584312  0.789760  0.235765  0.850069  0.772746  0.632670  0.402271   \n4  0.931776  0.958483  0.601155  0.224284  0.227016  0.969324  0.691239   \n\n        7         8         9    ...       324       325       326       327  \\\n0  0.718734  0.544006  0.563910  ...  0.762559  0.384389  0.582279  0.289379   \n1  0.707423  0.356518  0.648409  ...  0.024288  0.670269  0.212814  0.852582   \n2  0.227527  0.061204  0.544829  ...  0.728678  0.797975  0.955379  0.827850   \n3  0.792407  0.502480  0.619246  ...  0.069284  0.157615  0.096764  0.510641   \n4  0.271148  0.371217  0.706634  ...  0.259025  0.170613  0.212836  0.666780   \n\n        328       329       330       331       332       333  \n0  0.067632  0.312950  0.829268  0.004446  0.233261  0.923025  \n1  0.888954  0.832818  0.978064  0.538266  0.766859  0.684906  \n2  0.881712  0.514514  0.366935  0.607091  0.917777  0.855052  \n3  0.414938  0.789997  0.970260  0.725897  0.011663  0.086574  \n4  0.708830  0.007673  0.647665  0.420883  0.163362  0.429333  \n\n[5 rows x 334 columns]",
      "text/html": "<div>\n<style scoped>\n    .dataframe tbody tr th:only-of-type {\n        vertical-align: middle;\n    }\n\n    .dataframe tbody tr th {\n        vertical-align: top;\n    }\n\n    .dataframe thead th {\n        text-align: right;\n    }\n</style>\n<table border=\"1\" class=\"dataframe\">\n  <thead>\n    <tr style=\"text-align: right;\">\n      <th></th>\n      <th>0</th>\n      <th>1</th>\n      <th>2</th>\n      <th>3</th>\n      <th>4</th>\n      <th>5</th>\n      <th>6</th>\n      <th>7</th>\n      <th>8</th>\n      <th>9</th>\n      <th>...</th>\n      <th>324</th>\n      <th>325</th>\n      <th>326</th>\n      <th>327</th>\n      <th>328</th>\n      <th>329</th>\n      <th>330</th>\n      <th>331</th>\n      <th>332</th>\n      <th>333</th>\n    </tr>\n  </thead>\n  <tbody>\n    <tr>\n      <th>0</th>\n      <td>0.360946</td>\n      <td>0.399641</td>\n      <td>0.308629</td>\n      <td>0.387777</td>\n      <td>0.190751</td>\n      <td>0.972251</td>\n      <td>0.515082</td>\n      <td>0.718734</td>\n      <td>0.544006</td>\n      <td>0.563910</td>\n      <td>...</td>\n      <td>0.762559</td>\n      <td>0.384389</td>\n      <td>0.582279</td>\n      <td>0.289379</td>\n      <td>0.067632</td>\n      <td>0.312950</td>\n      <td>0.829268</td>\n      <td>0.004446</td>\n      <td>0.233261</td>\n      <td>0.923025</td>\n    </tr>\n    <tr>\n      <th>1</th>\n      <td>0.339032</td>\n      <td>0.972699</td>\n      <td>0.431881</td>\n      <td>0.436599</td>\n      <td>0.645029</td>\n      <td>0.442772</td>\n      <td>0.949653</td>\n      <td>0.707423</td>\n      <td>0.356518</td>\n      <td>0.648409</td>\n      <td>...</td>\n      <td>0.024288</td>\n      <td>0.670269</td>\n      <td>0.212814</td>\n      <td>0.852582</td>\n      <td>0.888954</td>\n      <td>0.832818</td>\n      <td>0.978064</td>\n      <td>0.538266</td>\n      <td>0.766859</td>\n      <td>0.684906</td>\n    </tr>\n    <tr>\n      <th>2</th>\n      <td>0.423460</td>\n      <td>0.908414</td>\n      <td>0.930735</td>\n      <td>0.973174</td>\n      <td>0.815076</td>\n      <td>0.813174</td>\n      <td>0.101943</td>\n      <td>0.227527</td>\n      <td>0.061204</td>\n      <td>0.544829</td>\n      <td>...</td>\n      <td>0.728678</td>\n      <td>0.797975</td>\n      <td>0.955379</td>\n      <td>0.827850</td>\n      <td>0.881712</td>\n      <td>0.514514</td>\n      <td>0.366935</td>\n      <td>0.607091</td>\n      <td>0.917777</td>\n      <td>0.855052</td>\n    </tr>\n    <tr>\n      <th>3</th>\n      <td>0.584312</td>\n      <td>0.789760</td>\n      <td>0.235765</td>\n      <td>0.850069</td>\n      <td>0.772746</td>\n      <td>0.632670</td>\n      <td>0.402271</td>\n      <td>0.792407</td>\n      <td>0.502480</td>\n      <td>0.619246</td>\n      <td>...</td>\n      <td>0.069284</td>\n      <td>0.157615</td>\n      <td>0.096764</td>\n      <td>0.510641</td>\n      <td>0.414938</td>\n      <td>0.789997</td>\n      <td>0.970260</td>\n      <td>0.725897</td>\n      <td>0.011663</td>\n      <td>0.086574</td>\n    </tr>\n    <tr>\n      <th>4</th>\n      <td>0.931776</td>\n      <td>0.958483</td>\n      <td>0.601155</td>\n      <td>0.224284</td>\n      <td>0.227016</td>\n      <td>0.969324</td>\n      <td>0.691239</td>\n      <td>0.271148</td>\n      <td>0.371217</td>\n      <td>0.706634</td>\n      <td>...</td>\n      <td>0.259025</td>\n      <td>0.170613</td>\n      <td>0.212836</td>\n      <td>0.666780</td>\n      <td>0.708830</td>\n      <td>0.007673</td>\n      <td>0.647665</td>\n      <td>0.420883</td>\n      <td>0.163362</td>\n      <td>0.429333</td>\n    </tr>\n  </tbody>\n</table>\n<p>5 rows × 334 columns</p>\n</div>"
     },
     "execution_count": 31,
     "metadata": {},
     "output_type": "execute_result"
    }
   ],
   "source": [
    "newdf.T"
   ],
   "metadata": {
    "collapsed": false,
    "pycharm": {
     "name": "#%%\n"
    }
   }
  },
  {
   "cell_type": "code",
   "execution_count": 32,
   "outputs": [
    {
     "data": {
      "text/plain": "            0         1         2         3         4\n0    0.360946  0.339032  0.423460  0.584312  0.931776\n1    0.399641  0.972699  0.908414  0.789760  0.958483\n2    0.308629  0.431881  0.930735  0.235765  0.601155\n3    0.387777  0.436599  0.973174  0.850069  0.224284\n4    0.190751  0.645029  0.815076  0.772746  0.227016\n..        ...       ...       ...       ...       ...\n329  0.312950  0.832818  0.514514  0.789997  0.007673\n330  0.829268  0.978064  0.366935  0.970260  0.647665\n331  0.004446  0.538266  0.607091  0.725897  0.420883\n332  0.233261  0.766859  0.917777  0.011663  0.163362\n333  0.923025  0.684906  0.855052  0.086574  0.429333\n\n[334 rows x 5 columns]",
      "text/html": "<div>\n<style scoped>\n    .dataframe tbody tr th:only-of-type {\n        vertical-align: middle;\n    }\n\n    .dataframe tbody tr th {\n        vertical-align: top;\n    }\n\n    .dataframe thead th {\n        text-align: right;\n    }\n</style>\n<table border=\"1\" class=\"dataframe\">\n  <thead>\n    <tr style=\"text-align: right;\">\n      <th></th>\n      <th>0</th>\n      <th>1</th>\n      <th>2</th>\n      <th>3</th>\n      <th>4</th>\n    </tr>\n  </thead>\n  <tbody>\n    <tr>\n      <th>0</th>\n      <td>0.360946</td>\n      <td>0.339032</td>\n      <td>0.423460</td>\n      <td>0.584312</td>\n      <td>0.931776</td>\n    </tr>\n    <tr>\n      <th>1</th>\n      <td>0.399641</td>\n      <td>0.972699</td>\n      <td>0.908414</td>\n      <td>0.789760</td>\n      <td>0.958483</td>\n    </tr>\n    <tr>\n      <th>2</th>\n      <td>0.308629</td>\n      <td>0.431881</td>\n      <td>0.930735</td>\n      <td>0.235765</td>\n      <td>0.601155</td>\n    </tr>\n    <tr>\n      <th>3</th>\n      <td>0.387777</td>\n      <td>0.436599</td>\n      <td>0.973174</td>\n      <td>0.850069</td>\n      <td>0.224284</td>\n    </tr>\n    <tr>\n      <th>4</th>\n      <td>0.190751</td>\n      <td>0.645029</td>\n      <td>0.815076</td>\n      <td>0.772746</td>\n      <td>0.227016</td>\n    </tr>\n    <tr>\n      <th>...</th>\n      <td>...</td>\n      <td>...</td>\n      <td>...</td>\n      <td>...</td>\n      <td>...</td>\n    </tr>\n    <tr>\n      <th>329</th>\n      <td>0.312950</td>\n      <td>0.832818</td>\n      <td>0.514514</td>\n      <td>0.789997</td>\n      <td>0.007673</td>\n    </tr>\n    <tr>\n      <th>330</th>\n      <td>0.829268</td>\n      <td>0.978064</td>\n      <td>0.366935</td>\n      <td>0.970260</td>\n      <td>0.647665</td>\n    </tr>\n    <tr>\n      <th>331</th>\n      <td>0.004446</td>\n      <td>0.538266</td>\n      <td>0.607091</td>\n      <td>0.725897</td>\n      <td>0.420883</td>\n    </tr>\n    <tr>\n      <th>332</th>\n      <td>0.233261</td>\n      <td>0.766859</td>\n      <td>0.917777</td>\n      <td>0.011663</td>\n      <td>0.163362</td>\n    </tr>\n    <tr>\n      <th>333</th>\n      <td>0.923025</td>\n      <td>0.684906</td>\n      <td>0.855052</td>\n      <td>0.086574</td>\n      <td>0.429333</td>\n    </tr>\n  </tbody>\n</table>\n<p>334 rows × 5 columns</p>\n</div>"
     },
     "execution_count": 32,
     "metadata": {},
     "output_type": "execute_result"
    }
   ],
   "source": [
    "newdf"
   ],
   "metadata": {
    "collapsed": false,
    "pycharm": {
     "name": "#%%\n"
    }
   }
  },
  {
   "cell_type": "code",
   "execution_count": 33,
   "outputs": [
    {
     "data": {
      "text/plain": "            0         1         2         3         4\n333  0.923025  0.684906  0.855052  0.086574  0.429333\n332  0.233261  0.766859  0.917777  0.011663  0.163362\n331  0.004446  0.538266  0.607091  0.725897  0.420883\n330  0.829268  0.978064  0.366935  0.970260  0.647665\n329  0.312950  0.832818  0.514514  0.789997  0.007673\n..        ...       ...       ...       ...       ...\n4    0.190751  0.645029  0.815076  0.772746  0.227016\n3    0.387777  0.436599  0.973174  0.850069  0.224284\n2    0.308629  0.431881  0.930735  0.235765  0.601155\n1    0.399641  0.972699  0.908414  0.789760  0.958483\n0    0.360946  0.339032  0.423460  0.584312  0.931776\n\n[334 rows x 5 columns]",
      "text/html": "<div>\n<style scoped>\n    .dataframe tbody tr th:only-of-type {\n        vertical-align: middle;\n    }\n\n    .dataframe tbody tr th {\n        vertical-align: top;\n    }\n\n    .dataframe thead th {\n        text-align: right;\n    }\n</style>\n<table border=\"1\" class=\"dataframe\">\n  <thead>\n    <tr style=\"text-align: right;\">\n      <th></th>\n      <th>0</th>\n      <th>1</th>\n      <th>2</th>\n      <th>3</th>\n      <th>4</th>\n    </tr>\n  </thead>\n  <tbody>\n    <tr>\n      <th>333</th>\n      <td>0.923025</td>\n      <td>0.684906</td>\n      <td>0.855052</td>\n      <td>0.086574</td>\n      <td>0.429333</td>\n    </tr>\n    <tr>\n      <th>332</th>\n      <td>0.233261</td>\n      <td>0.766859</td>\n      <td>0.917777</td>\n      <td>0.011663</td>\n      <td>0.163362</td>\n    </tr>\n    <tr>\n      <th>331</th>\n      <td>0.004446</td>\n      <td>0.538266</td>\n      <td>0.607091</td>\n      <td>0.725897</td>\n      <td>0.420883</td>\n    </tr>\n    <tr>\n      <th>330</th>\n      <td>0.829268</td>\n      <td>0.978064</td>\n      <td>0.366935</td>\n      <td>0.970260</td>\n      <td>0.647665</td>\n    </tr>\n    <tr>\n      <th>329</th>\n      <td>0.312950</td>\n      <td>0.832818</td>\n      <td>0.514514</td>\n      <td>0.789997</td>\n      <td>0.007673</td>\n    </tr>\n    <tr>\n      <th>...</th>\n      <td>...</td>\n      <td>...</td>\n      <td>...</td>\n      <td>...</td>\n      <td>...</td>\n    </tr>\n    <tr>\n      <th>4</th>\n      <td>0.190751</td>\n      <td>0.645029</td>\n      <td>0.815076</td>\n      <td>0.772746</td>\n      <td>0.227016</td>\n    </tr>\n    <tr>\n      <th>3</th>\n      <td>0.387777</td>\n      <td>0.436599</td>\n      <td>0.973174</td>\n      <td>0.850069</td>\n      <td>0.224284</td>\n    </tr>\n    <tr>\n      <th>2</th>\n      <td>0.308629</td>\n      <td>0.431881</td>\n      <td>0.930735</td>\n      <td>0.235765</td>\n      <td>0.601155</td>\n    </tr>\n    <tr>\n      <th>1</th>\n      <td>0.399641</td>\n      <td>0.972699</td>\n      <td>0.908414</td>\n      <td>0.789760</td>\n      <td>0.958483</td>\n    </tr>\n    <tr>\n      <th>0</th>\n      <td>0.360946</td>\n      <td>0.339032</td>\n      <td>0.423460</td>\n      <td>0.584312</td>\n      <td>0.931776</td>\n    </tr>\n  </tbody>\n</table>\n<p>334 rows × 5 columns</p>\n</div>"
     },
     "execution_count": 33,
     "metadata": {},
     "output_type": "execute_result"
    }
   ],
   "source": [
    "newdf.sort_index(axis=0,ascending=False)"
   ],
   "metadata": {
    "collapsed": false,
    "pycharm": {
     "name": "#%%\n"
    }
   }
  },
  {
   "cell_type": "code",
   "execution_count": 34,
   "outputs": [
    {
     "data": {
      "text/plain": "            4         3         2         1         0\n0    0.931776  0.584312  0.423460  0.339032  0.360946\n1    0.958483  0.789760  0.908414  0.972699  0.399641\n2    0.601155  0.235765  0.930735  0.431881  0.308629\n3    0.224284  0.850069  0.973174  0.436599  0.387777\n4    0.227016  0.772746  0.815076  0.645029  0.190751\n..        ...       ...       ...       ...       ...\n329  0.007673  0.789997  0.514514  0.832818  0.312950\n330  0.647665  0.970260  0.366935  0.978064  0.829268\n331  0.420883  0.725897  0.607091  0.538266  0.004446\n332  0.163362  0.011663  0.917777  0.766859  0.233261\n333  0.429333  0.086574  0.855052  0.684906  0.923025\n\n[334 rows x 5 columns]",
      "text/html": "<div>\n<style scoped>\n    .dataframe tbody tr th:only-of-type {\n        vertical-align: middle;\n    }\n\n    .dataframe tbody tr th {\n        vertical-align: top;\n    }\n\n    .dataframe thead th {\n        text-align: right;\n    }\n</style>\n<table border=\"1\" class=\"dataframe\">\n  <thead>\n    <tr style=\"text-align: right;\">\n      <th></th>\n      <th>4</th>\n      <th>3</th>\n      <th>2</th>\n      <th>1</th>\n      <th>0</th>\n    </tr>\n  </thead>\n  <tbody>\n    <tr>\n      <th>0</th>\n      <td>0.931776</td>\n      <td>0.584312</td>\n      <td>0.423460</td>\n      <td>0.339032</td>\n      <td>0.360946</td>\n    </tr>\n    <tr>\n      <th>1</th>\n      <td>0.958483</td>\n      <td>0.789760</td>\n      <td>0.908414</td>\n      <td>0.972699</td>\n      <td>0.399641</td>\n    </tr>\n    <tr>\n      <th>2</th>\n      <td>0.601155</td>\n      <td>0.235765</td>\n      <td>0.930735</td>\n      <td>0.431881</td>\n      <td>0.308629</td>\n    </tr>\n    <tr>\n      <th>3</th>\n      <td>0.224284</td>\n      <td>0.850069</td>\n      <td>0.973174</td>\n      <td>0.436599</td>\n      <td>0.387777</td>\n    </tr>\n    <tr>\n      <th>4</th>\n      <td>0.227016</td>\n      <td>0.772746</td>\n      <td>0.815076</td>\n      <td>0.645029</td>\n      <td>0.190751</td>\n    </tr>\n    <tr>\n      <th>...</th>\n      <td>...</td>\n      <td>...</td>\n      <td>...</td>\n      <td>...</td>\n      <td>...</td>\n    </tr>\n    <tr>\n      <th>329</th>\n      <td>0.007673</td>\n      <td>0.789997</td>\n      <td>0.514514</td>\n      <td>0.832818</td>\n      <td>0.312950</td>\n    </tr>\n    <tr>\n      <th>330</th>\n      <td>0.647665</td>\n      <td>0.970260</td>\n      <td>0.366935</td>\n      <td>0.978064</td>\n      <td>0.829268</td>\n    </tr>\n    <tr>\n      <th>331</th>\n      <td>0.420883</td>\n      <td>0.725897</td>\n      <td>0.607091</td>\n      <td>0.538266</td>\n      <td>0.004446</td>\n    </tr>\n    <tr>\n      <th>332</th>\n      <td>0.163362</td>\n      <td>0.011663</td>\n      <td>0.917777</td>\n      <td>0.766859</td>\n      <td>0.233261</td>\n    </tr>\n    <tr>\n      <th>333</th>\n      <td>0.429333</td>\n      <td>0.086574</td>\n      <td>0.855052</td>\n      <td>0.684906</td>\n      <td>0.923025</td>\n    </tr>\n  </tbody>\n</table>\n<p>334 rows × 5 columns</p>\n</div>"
     },
     "execution_count": 34,
     "metadata": {},
     "output_type": "execute_result"
    }
   ],
   "source": [
    "newdf.sort_index(axis=1,ascending=False)"
   ],
   "metadata": {
    "collapsed": false,
    "pycharm": {
     "name": "#%%\n"
    }
   }
  },
  {
   "cell_type": "code",
   "execution_count": 35,
   "outputs": [],
   "source": [
    "newdf2=newdf"
   ],
   "metadata": {
    "collapsed": false,
    "pycharm": {
     "name": "#%%\n"
    }
   }
  },
  {
   "cell_type": "code",
   "execution_count": 36,
   "outputs": [],
   "source": [
    "newdf2[0][0]=9756"
   ],
   "metadata": {
    "collapsed": false,
    "pycharm": {
     "name": "#%%\n"
    }
   }
  },
  {
   "cell_type": "code",
   "execution_count": 37,
   "outputs": [
    {
     "data": {
      "text/plain": "               0         1         2         3         4\n0    9756.000000  0.339032  0.423460  0.584312  0.931776\n1       0.399641  0.972699  0.908414  0.789760  0.958483\n2       0.308629  0.431881  0.930735  0.235765  0.601155\n3       0.387777  0.436599  0.973174  0.850069  0.224284\n4       0.190751  0.645029  0.815076  0.772746  0.227016\n..           ...       ...       ...       ...       ...\n329     0.312950  0.832818  0.514514  0.789997  0.007673\n330     0.829268  0.978064  0.366935  0.970260  0.647665\n331     0.004446  0.538266  0.607091  0.725897  0.420883\n332     0.233261  0.766859  0.917777  0.011663  0.163362\n333     0.923025  0.684906  0.855052  0.086574  0.429333\n\n[334 rows x 5 columns]",
      "text/html": "<div>\n<style scoped>\n    .dataframe tbody tr th:only-of-type {\n        vertical-align: middle;\n    }\n\n    .dataframe tbody tr th {\n        vertical-align: top;\n    }\n\n    .dataframe thead th {\n        text-align: right;\n    }\n</style>\n<table border=\"1\" class=\"dataframe\">\n  <thead>\n    <tr style=\"text-align: right;\">\n      <th></th>\n      <th>0</th>\n      <th>1</th>\n      <th>2</th>\n      <th>3</th>\n      <th>4</th>\n    </tr>\n  </thead>\n  <tbody>\n    <tr>\n      <th>0</th>\n      <td>9756.000000</td>\n      <td>0.339032</td>\n      <td>0.423460</td>\n      <td>0.584312</td>\n      <td>0.931776</td>\n    </tr>\n    <tr>\n      <th>1</th>\n      <td>0.399641</td>\n      <td>0.972699</td>\n      <td>0.908414</td>\n      <td>0.789760</td>\n      <td>0.958483</td>\n    </tr>\n    <tr>\n      <th>2</th>\n      <td>0.308629</td>\n      <td>0.431881</td>\n      <td>0.930735</td>\n      <td>0.235765</td>\n      <td>0.601155</td>\n    </tr>\n    <tr>\n      <th>3</th>\n      <td>0.387777</td>\n      <td>0.436599</td>\n      <td>0.973174</td>\n      <td>0.850069</td>\n      <td>0.224284</td>\n    </tr>\n    <tr>\n      <th>4</th>\n      <td>0.190751</td>\n      <td>0.645029</td>\n      <td>0.815076</td>\n      <td>0.772746</td>\n      <td>0.227016</td>\n    </tr>\n    <tr>\n      <th>...</th>\n      <td>...</td>\n      <td>...</td>\n      <td>...</td>\n      <td>...</td>\n      <td>...</td>\n    </tr>\n    <tr>\n      <th>329</th>\n      <td>0.312950</td>\n      <td>0.832818</td>\n      <td>0.514514</td>\n      <td>0.789997</td>\n      <td>0.007673</td>\n    </tr>\n    <tr>\n      <th>330</th>\n      <td>0.829268</td>\n      <td>0.978064</td>\n      <td>0.366935</td>\n      <td>0.970260</td>\n      <td>0.647665</td>\n    </tr>\n    <tr>\n      <th>331</th>\n      <td>0.004446</td>\n      <td>0.538266</td>\n      <td>0.607091</td>\n      <td>0.725897</td>\n      <td>0.420883</td>\n    </tr>\n    <tr>\n      <th>332</th>\n      <td>0.233261</td>\n      <td>0.766859</td>\n      <td>0.917777</td>\n      <td>0.011663</td>\n      <td>0.163362</td>\n    </tr>\n    <tr>\n      <th>333</th>\n      <td>0.923025</td>\n      <td>0.684906</td>\n      <td>0.855052</td>\n      <td>0.086574</td>\n      <td>0.429333</td>\n    </tr>\n  </tbody>\n</table>\n<p>334 rows × 5 columns</p>\n</div>"
     },
     "execution_count": 37,
     "metadata": {},
     "output_type": "execute_result"
    }
   ],
   "source": [
    "newdf"
   ],
   "metadata": {
    "collapsed": false,
    "pycharm": {
     "name": "#%%\n"
    }
   }
  },
  {
   "cell_type": "code",
   "execution_count": 38,
   "outputs": [],
   "source": [
    "newdf3=newdf.copy()"
   ],
   "metadata": {
    "collapsed": false,
    "pycharm": {
     "name": "#%%\n"
    }
   }
  },
  {
   "cell_type": "code",
   "execution_count": 39,
   "outputs": [
    {
     "data": {
      "text/plain": "               0         1         2         3         4\n0    9756.000000  0.339032  0.423460  0.584312  0.931776\n1       0.399641  0.972699  0.908414  0.789760  0.958483\n2       0.308629  0.431881  0.930735  0.235765  0.601155\n3       0.387777  0.436599  0.973174  0.850069  0.224284\n4       0.190751  0.645029  0.815076  0.772746  0.227016\n..           ...       ...       ...       ...       ...\n329     0.312950  0.832818  0.514514  0.789997  0.007673\n330     0.829268  0.978064  0.366935  0.970260  0.647665\n331     0.004446  0.538266  0.607091  0.725897  0.420883\n332     0.233261  0.766859  0.917777  0.011663  0.163362\n333     0.923025  0.684906  0.855052  0.086574  0.429333\n\n[334 rows x 5 columns]",
      "text/html": "<div>\n<style scoped>\n    .dataframe tbody tr th:only-of-type {\n        vertical-align: middle;\n    }\n\n    .dataframe tbody tr th {\n        vertical-align: top;\n    }\n\n    .dataframe thead th {\n        text-align: right;\n    }\n</style>\n<table border=\"1\" class=\"dataframe\">\n  <thead>\n    <tr style=\"text-align: right;\">\n      <th></th>\n      <th>0</th>\n      <th>1</th>\n      <th>2</th>\n      <th>3</th>\n      <th>4</th>\n    </tr>\n  </thead>\n  <tbody>\n    <tr>\n      <th>0</th>\n      <td>9756.000000</td>\n      <td>0.339032</td>\n      <td>0.423460</td>\n      <td>0.584312</td>\n      <td>0.931776</td>\n    </tr>\n    <tr>\n      <th>1</th>\n      <td>0.399641</td>\n      <td>0.972699</td>\n      <td>0.908414</td>\n      <td>0.789760</td>\n      <td>0.958483</td>\n    </tr>\n    <tr>\n      <th>2</th>\n      <td>0.308629</td>\n      <td>0.431881</td>\n      <td>0.930735</td>\n      <td>0.235765</td>\n      <td>0.601155</td>\n    </tr>\n    <tr>\n      <th>3</th>\n      <td>0.387777</td>\n      <td>0.436599</td>\n      <td>0.973174</td>\n      <td>0.850069</td>\n      <td>0.224284</td>\n    </tr>\n    <tr>\n      <th>4</th>\n      <td>0.190751</td>\n      <td>0.645029</td>\n      <td>0.815076</td>\n      <td>0.772746</td>\n      <td>0.227016</td>\n    </tr>\n    <tr>\n      <th>...</th>\n      <td>...</td>\n      <td>...</td>\n      <td>...</td>\n      <td>...</td>\n      <td>...</td>\n    </tr>\n    <tr>\n      <th>329</th>\n      <td>0.312950</td>\n      <td>0.832818</td>\n      <td>0.514514</td>\n      <td>0.789997</td>\n      <td>0.007673</td>\n    </tr>\n    <tr>\n      <th>330</th>\n      <td>0.829268</td>\n      <td>0.978064</td>\n      <td>0.366935</td>\n      <td>0.970260</td>\n      <td>0.647665</td>\n    </tr>\n    <tr>\n      <th>331</th>\n      <td>0.004446</td>\n      <td>0.538266</td>\n      <td>0.607091</td>\n      <td>0.725897</td>\n      <td>0.420883</td>\n    </tr>\n    <tr>\n      <th>332</th>\n      <td>0.233261</td>\n      <td>0.766859</td>\n      <td>0.917777</td>\n      <td>0.011663</td>\n      <td>0.163362</td>\n    </tr>\n    <tr>\n      <th>333</th>\n      <td>0.923025</td>\n      <td>0.684906</td>\n      <td>0.855052</td>\n      <td>0.086574</td>\n      <td>0.429333</td>\n    </tr>\n  </tbody>\n</table>\n<p>334 rows × 5 columns</p>\n</div>"
     },
     "execution_count": 39,
     "metadata": {},
     "output_type": "execute_result"
    }
   ],
   "source": [
    "newdf3"
   ],
   "metadata": {
    "collapsed": false,
    "pycharm": {
     "name": "#%%\n"
    }
   }
  },
  {
   "cell_type": "code",
   "execution_count": 40,
   "outputs": [],
   "source": [
    "newdf.loc[0,0]=654"
   ],
   "metadata": {
    "collapsed": false,
    "pycharm": {
     "name": "#%%\n"
    }
   }
  },
  {
   "cell_type": "code",
   "execution_count": 41,
   "outputs": [
    {
     "data": {
      "text/plain": "            0         1         2         3         4\n0  654.000000  0.339032  0.423460  0.584312  0.931776\n1    0.399641  0.972699  0.908414  0.789760  0.958483",
      "text/html": "<div>\n<style scoped>\n    .dataframe tbody tr th:only-of-type {\n        vertical-align: middle;\n    }\n\n    .dataframe tbody tr th {\n        vertical-align: top;\n    }\n\n    .dataframe thead th {\n        text-align: right;\n    }\n</style>\n<table border=\"1\" class=\"dataframe\">\n  <thead>\n    <tr style=\"text-align: right;\">\n      <th></th>\n      <th>0</th>\n      <th>1</th>\n      <th>2</th>\n      <th>3</th>\n      <th>4</th>\n    </tr>\n  </thead>\n  <tbody>\n    <tr>\n      <th>0</th>\n      <td>654.000000</td>\n      <td>0.339032</td>\n      <td>0.423460</td>\n      <td>0.584312</td>\n      <td>0.931776</td>\n    </tr>\n    <tr>\n      <th>1</th>\n      <td>0.399641</td>\n      <td>0.972699</td>\n      <td>0.908414</td>\n      <td>0.789760</td>\n      <td>0.958483</td>\n    </tr>\n  </tbody>\n</table>\n</div>"
     },
     "execution_count": 41,
     "metadata": {},
     "output_type": "execute_result"
    }
   ],
   "source": [
    "newdf.head(2)"
   ],
   "metadata": {
    "collapsed": false,
    "pycharm": {
     "name": "#%%\n"
    }
   }
  },
  {
   "cell_type": "code",
   "execution_count": 42,
   "outputs": [],
   "source": [
    "newdf.columns=list(\"ABCDE\")"
   ],
   "metadata": {
    "collapsed": false,
    "pycharm": {
     "name": "#%%\n"
    }
   }
  },
  {
   "cell_type": "code",
   "execution_count": 43,
   "outputs": [
    {
     "data": {
      "text/plain": "              A         B         C         D         E\n0    654.000000  0.339032  0.423460  0.584312  0.931776\n1      0.399641  0.972699  0.908414  0.789760  0.958483\n2      0.308629  0.431881  0.930735  0.235765  0.601155\n3      0.387777  0.436599  0.973174  0.850069  0.224284\n4      0.190751  0.645029  0.815076  0.772746  0.227016\n..          ...       ...       ...       ...       ...\n329    0.312950  0.832818  0.514514  0.789997  0.007673\n330    0.829268  0.978064  0.366935  0.970260  0.647665\n331    0.004446  0.538266  0.607091  0.725897  0.420883\n332    0.233261  0.766859  0.917777  0.011663  0.163362\n333    0.923025  0.684906  0.855052  0.086574  0.429333\n\n[334 rows x 5 columns]",
      "text/html": "<div>\n<style scoped>\n    .dataframe tbody tr th:only-of-type {\n        vertical-align: middle;\n    }\n\n    .dataframe tbody tr th {\n        vertical-align: top;\n    }\n\n    .dataframe thead th {\n        text-align: right;\n    }\n</style>\n<table border=\"1\" class=\"dataframe\">\n  <thead>\n    <tr style=\"text-align: right;\">\n      <th></th>\n      <th>A</th>\n      <th>B</th>\n      <th>C</th>\n      <th>D</th>\n      <th>E</th>\n    </tr>\n  </thead>\n  <tbody>\n    <tr>\n      <th>0</th>\n      <td>654.000000</td>\n      <td>0.339032</td>\n      <td>0.423460</td>\n      <td>0.584312</td>\n      <td>0.931776</td>\n    </tr>\n    <tr>\n      <th>1</th>\n      <td>0.399641</td>\n      <td>0.972699</td>\n      <td>0.908414</td>\n      <td>0.789760</td>\n      <td>0.958483</td>\n    </tr>\n    <tr>\n      <th>2</th>\n      <td>0.308629</td>\n      <td>0.431881</td>\n      <td>0.930735</td>\n      <td>0.235765</td>\n      <td>0.601155</td>\n    </tr>\n    <tr>\n      <th>3</th>\n      <td>0.387777</td>\n      <td>0.436599</td>\n      <td>0.973174</td>\n      <td>0.850069</td>\n      <td>0.224284</td>\n    </tr>\n    <tr>\n      <th>4</th>\n      <td>0.190751</td>\n      <td>0.645029</td>\n      <td>0.815076</td>\n      <td>0.772746</td>\n      <td>0.227016</td>\n    </tr>\n    <tr>\n      <th>...</th>\n      <td>...</td>\n      <td>...</td>\n      <td>...</td>\n      <td>...</td>\n      <td>...</td>\n    </tr>\n    <tr>\n      <th>329</th>\n      <td>0.312950</td>\n      <td>0.832818</td>\n      <td>0.514514</td>\n      <td>0.789997</td>\n      <td>0.007673</td>\n    </tr>\n    <tr>\n      <th>330</th>\n      <td>0.829268</td>\n      <td>0.978064</td>\n      <td>0.366935</td>\n      <td>0.970260</td>\n      <td>0.647665</td>\n    </tr>\n    <tr>\n      <th>331</th>\n      <td>0.004446</td>\n      <td>0.538266</td>\n      <td>0.607091</td>\n      <td>0.725897</td>\n      <td>0.420883</td>\n    </tr>\n    <tr>\n      <th>332</th>\n      <td>0.233261</td>\n      <td>0.766859</td>\n      <td>0.917777</td>\n      <td>0.011663</td>\n      <td>0.163362</td>\n    </tr>\n    <tr>\n      <th>333</th>\n      <td>0.923025</td>\n      <td>0.684906</td>\n      <td>0.855052</td>\n      <td>0.086574</td>\n      <td>0.429333</td>\n    </tr>\n  </tbody>\n</table>\n<p>334 rows × 5 columns</p>\n</div>"
     },
     "execution_count": 43,
     "metadata": {},
     "output_type": "execute_result"
    }
   ],
   "source": [
    "newdf"
   ],
   "metadata": {
    "collapsed": false,
    "pycharm": {
     "name": "#%%\n"
    }
   }
  },
  {
   "cell_type": "code",
   "execution_count": 44,
   "outputs": [],
   "source": [
    "newdf.loc[0,'A']=119.2"
   ],
   "metadata": {
    "collapsed": false,
    "pycharm": {
     "name": "#%%\n"
    }
   }
  },
  {
   "cell_type": "code",
   "execution_count": 45,
   "outputs": [
    {
     "data": {
      "text/plain": "              A         B         C         D         E\n0    119.200000  0.339032  0.423460  0.584312  0.931776\n1      0.399641  0.972699  0.908414  0.789760  0.958483\n2      0.308629  0.431881  0.930735  0.235765  0.601155\n3      0.387777  0.436599  0.973174  0.850069  0.224284\n4      0.190751  0.645029  0.815076  0.772746  0.227016\n..          ...       ...       ...       ...       ...\n329    0.312950  0.832818  0.514514  0.789997  0.007673\n330    0.829268  0.978064  0.366935  0.970260  0.647665\n331    0.004446  0.538266  0.607091  0.725897  0.420883\n332    0.233261  0.766859  0.917777  0.011663  0.163362\n333    0.923025  0.684906  0.855052  0.086574  0.429333\n\n[334 rows x 5 columns]",
      "text/html": "<div>\n<style scoped>\n    .dataframe tbody tr th:only-of-type {\n        vertical-align: middle;\n    }\n\n    .dataframe tbody tr th {\n        vertical-align: top;\n    }\n\n    .dataframe thead th {\n        text-align: right;\n    }\n</style>\n<table border=\"1\" class=\"dataframe\">\n  <thead>\n    <tr style=\"text-align: right;\">\n      <th></th>\n      <th>A</th>\n      <th>B</th>\n      <th>C</th>\n      <th>D</th>\n      <th>E</th>\n    </tr>\n  </thead>\n  <tbody>\n    <tr>\n      <th>0</th>\n      <td>119.200000</td>\n      <td>0.339032</td>\n      <td>0.423460</td>\n      <td>0.584312</td>\n      <td>0.931776</td>\n    </tr>\n    <tr>\n      <th>1</th>\n      <td>0.399641</td>\n      <td>0.972699</td>\n      <td>0.908414</td>\n      <td>0.789760</td>\n      <td>0.958483</td>\n    </tr>\n    <tr>\n      <th>2</th>\n      <td>0.308629</td>\n      <td>0.431881</td>\n      <td>0.930735</td>\n      <td>0.235765</td>\n      <td>0.601155</td>\n    </tr>\n    <tr>\n      <th>3</th>\n      <td>0.387777</td>\n      <td>0.436599</td>\n      <td>0.973174</td>\n      <td>0.850069</td>\n      <td>0.224284</td>\n    </tr>\n    <tr>\n      <th>4</th>\n      <td>0.190751</td>\n      <td>0.645029</td>\n      <td>0.815076</td>\n      <td>0.772746</td>\n      <td>0.227016</td>\n    </tr>\n    <tr>\n      <th>...</th>\n      <td>...</td>\n      <td>...</td>\n      <td>...</td>\n      <td>...</td>\n      <td>...</td>\n    </tr>\n    <tr>\n      <th>329</th>\n      <td>0.312950</td>\n      <td>0.832818</td>\n      <td>0.514514</td>\n      <td>0.789997</td>\n      <td>0.007673</td>\n    </tr>\n    <tr>\n      <th>330</th>\n      <td>0.829268</td>\n      <td>0.978064</td>\n      <td>0.366935</td>\n      <td>0.970260</td>\n      <td>0.647665</td>\n    </tr>\n    <tr>\n      <th>331</th>\n      <td>0.004446</td>\n      <td>0.538266</td>\n      <td>0.607091</td>\n      <td>0.725897</td>\n      <td>0.420883</td>\n    </tr>\n    <tr>\n      <th>332</th>\n      <td>0.233261</td>\n      <td>0.766859</td>\n      <td>0.917777</td>\n      <td>0.011663</td>\n      <td>0.163362</td>\n    </tr>\n    <tr>\n      <th>333</th>\n      <td>0.923025</td>\n      <td>0.684906</td>\n      <td>0.855052</td>\n      <td>0.086574</td>\n      <td>0.429333</td>\n    </tr>\n  </tbody>\n</table>\n<p>334 rows × 5 columns</p>\n</div>"
     },
     "execution_count": 45,
     "metadata": {},
     "output_type": "execute_result"
    }
   ],
   "source": [
    "newdf"
   ],
   "metadata": {
    "collapsed": false,
    "pycharm": {
     "name": "#%%\n"
    }
   }
  },
  {
   "cell_type": "code",
   "execution_count": 46,
   "outputs": [],
   "source": [
    "newdf.loc[0,0]=55.4"
   ],
   "metadata": {
    "collapsed": false,
    "pycharm": {
     "name": "#%%\n"
    }
   }
  },
  {
   "cell_type": "code",
   "execution_count": 47,
   "outputs": [
    {
     "data": {
      "text/plain": "              A         B         C         D         E     0\n0    119.200000  0.339032  0.423460  0.584312  0.931776  55.4\n1      0.399641  0.972699  0.908414  0.789760  0.958483   NaN\n2      0.308629  0.431881  0.930735  0.235765  0.601155   NaN\n3      0.387777  0.436599  0.973174  0.850069  0.224284   NaN\n4      0.190751  0.645029  0.815076  0.772746  0.227016   NaN\n..          ...       ...       ...       ...       ...   ...\n329    0.312950  0.832818  0.514514  0.789997  0.007673   NaN\n330    0.829268  0.978064  0.366935  0.970260  0.647665   NaN\n331    0.004446  0.538266  0.607091  0.725897  0.420883   NaN\n332    0.233261  0.766859  0.917777  0.011663  0.163362   NaN\n333    0.923025  0.684906  0.855052  0.086574  0.429333   NaN\n\n[334 rows x 6 columns]",
      "text/html": "<div>\n<style scoped>\n    .dataframe tbody tr th:only-of-type {\n        vertical-align: middle;\n    }\n\n    .dataframe tbody tr th {\n        vertical-align: top;\n    }\n\n    .dataframe thead th {\n        text-align: right;\n    }\n</style>\n<table border=\"1\" class=\"dataframe\">\n  <thead>\n    <tr style=\"text-align: right;\">\n      <th></th>\n      <th>A</th>\n      <th>B</th>\n      <th>C</th>\n      <th>D</th>\n      <th>E</th>\n      <th>0</th>\n    </tr>\n  </thead>\n  <tbody>\n    <tr>\n      <th>0</th>\n      <td>119.200000</td>\n      <td>0.339032</td>\n      <td>0.423460</td>\n      <td>0.584312</td>\n      <td>0.931776</td>\n      <td>55.4</td>\n    </tr>\n    <tr>\n      <th>1</th>\n      <td>0.399641</td>\n      <td>0.972699</td>\n      <td>0.908414</td>\n      <td>0.789760</td>\n      <td>0.958483</td>\n      <td>NaN</td>\n    </tr>\n    <tr>\n      <th>2</th>\n      <td>0.308629</td>\n      <td>0.431881</td>\n      <td>0.930735</td>\n      <td>0.235765</td>\n      <td>0.601155</td>\n      <td>NaN</td>\n    </tr>\n    <tr>\n      <th>3</th>\n      <td>0.387777</td>\n      <td>0.436599</td>\n      <td>0.973174</td>\n      <td>0.850069</td>\n      <td>0.224284</td>\n      <td>NaN</td>\n    </tr>\n    <tr>\n      <th>4</th>\n      <td>0.190751</td>\n      <td>0.645029</td>\n      <td>0.815076</td>\n      <td>0.772746</td>\n      <td>0.227016</td>\n      <td>NaN</td>\n    </tr>\n    <tr>\n      <th>...</th>\n      <td>...</td>\n      <td>...</td>\n      <td>...</td>\n      <td>...</td>\n      <td>...</td>\n      <td>...</td>\n    </tr>\n    <tr>\n      <th>329</th>\n      <td>0.312950</td>\n      <td>0.832818</td>\n      <td>0.514514</td>\n      <td>0.789997</td>\n      <td>0.007673</td>\n      <td>NaN</td>\n    </tr>\n    <tr>\n      <th>330</th>\n      <td>0.829268</td>\n      <td>0.978064</td>\n      <td>0.366935</td>\n      <td>0.970260</td>\n      <td>0.647665</td>\n      <td>NaN</td>\n    </tr>\n    <tr>\n      <th>331</th>\n      <td>0.004446</td>\n      <td>0.538266</td>\n      <td>0.607091</td>\n      <td>0.725897</td>\n      <td>0.420883</td>\n      <td>NaN</td>\n    </tr>\n    <tr>\n      <th>332</th>\n      <td>0.233261</td>\n      <td>0.766859</td>\n      <td>0.917777</td>\n      <td>0.011663</td>\n      <td>0.163362</td>\n      <td>NaN</td>\n    </tr>\n    <tr>\n      <th>333</th>\n      <td>0.923025</td>\n      <td>0.684906</td>\n      <td>0.855052</td>\n      <td>0.086574</td>\n      <td>0.429333</td>\n      <td>NaN</td>\n    </tr>\n  </tbody>\n</table>\n<p>334 rows × 6 columns</p>\n</div>"
     },
     "execution_count": 47,
     "metadata": {},
     "output_type": "execute_result"
    }
   ],
   "source": [
    "newdf"
   ],
   "metadata": {
    "collapsed": false,
    "pycharm": {
     "name": "#%%\n"
    }
   }
  },
  {
   "cell_type": "code",
   "execution_count": 48,
   "outputs": [],
   "source": [
    "newdf=newdf.drop(0,axis=1)"
   ],
   "metadata": {
    "collapsed": false,
    "pycharm": {
     "name": "#%%\n"
    }
   }
  },
  {
   "cell_type": "code",
   "execution_count": 49,
   "outputs": [
    {
     "data": {
      "text/plain": "              A         B         C         D         E\n0    119.200000  0.339032  0.423460  0.584312  0.931776\n1      0.399641  0.972699  0.908414  0.789760  0.958483\n2      0.308629  0.431881  0.930735  0.235765  0.601155\n3      0.387777  0.436599  0.973174  0.850069  0.224284\n4      0.190751  0.645029  0.815076  0.772746  0.227016\n..          ...       ...       ...       ...       ...\n329    0.312950  0.832818  0.514514  0.789997  0.007673\n330    0.829268  0.978064  0.366935  0.970260  0.647665\n331    0.004446  0.538266  0.607091  0.725897  0.420883\n332    0.233261  0.766859  0.917777  0.011663  0.163362\n333    0.923025  0.684906  0.855052  0.086574  0.429333\n\n[334 rows x 5 columns]",
      "text/html": "<div>\n<style scoped>\n    .dataframe tbody tr th:only-of-type {\n        vertical-align: middle;\n    }\n\n    .dataframe tbody tr th {\n        vertical-align: top;\n    }\n\n    .dataframe thead th {\n        text-align: right;\n    }\n</style>\n<table border=\"1\" class=\"dataframe\">\n  <thead>\n    <tr style=\"text-align: right;\">\n      <th></th>\n      <th>A</th>\n      <th>B</th>\n      <th>C</th>\n      <th>D</th>\n      <th>E</th>\n    </tr>\n  </thead>\n  <tbody>\n    <tr>\n      <th>0</th>\n      <td>119.200000</td>\n      <td>0.339032</td>\n      <td>0.423460</td>\n      <td>0.584312</td>\n      <td>0.931776</td>\n    </tr>\n    <tr>\n      <th>1</th>\n      <td>0.399641</td>\n      <td>0.972699</td>\n      <td>0.908414</td>\n      <td>0.789760</td>\n      <td>0.958483</td>\n    </tr>\n    <tr>\n      <th>2</th>\n      <td>0.308629</td>\n      <td>0.431881</td>\n      <td>0.930735</td>\n      <td>0.235765</td>\n      <td>0.601155</td>\n    </tr>\n    <tr>\n      <th>3</th>\n      <td>0.387777</td>\n      <td>0.436599</td>\n      <td>0.973174</td>\n      <td>0.850069</td>\n      <td>0.224284</td>\n    </tr>\n    <tr>\n      <th>4</th>\n      <td>0.190751</td>\n      <td>0.645029</td>\n      <td>0.815076</td>\n      <td>0.772746</td>\n      <td>0.227016</td>\n    </tr>\n    <tr>\n      <th>...</th>\n      <td>...</td>\n      <td>...</td>\n      <td>...</td>\n      <td>...</td>\n      <td>...</td>\n    </tr>\n    <tr>\n      <th>329</th>\n      <td>0.312950</td>\n      <td>0.832818</td>\n      <td>0.514514</td>\n      <td>0.789997</td>\n      <td>0.007673</td>\n    </tr>\n    <tr>\n      <th>330</th>\n      <td>0.829268</td>\n      <td>0.978064</td>\n      <td>0.366935</td>\n      <td>0.970260</td>\n      <td>0.647665</td>\n    </tr>\n    <tr>\n      <th>331</th>\n      <td>0.004446</td>\n      <td>0.538266</td>\n      <td>0.607091</td>\n      <td>0.725897</td>\n      <td>0.420883</td>\n    </tr>\n    <tr>\n      <th>332</th>\n      <td>0.233261</td>\n      <td>0.766859</td>\n      <td>0.917777</td>\n      <td>0.011663</td>\n      <td>0.163362</td>\n    </tr>\n    <tr>\n      <th>333</th>\n      <td>0.923025</td>\n      <td>0.684906</td>\n      <td>0.855052</td>\n      <td>0.086574</td>\n      <td>0.429333</td>\n    </tr>\n  </tbody>\n</table>\n<p>334 rows × 5 columns</p>\n</div>"
     },
     "execution_count": 49,
     "metadata": {},
     "output_type": "execute_result"
    }
   ],
   "source": [
    "newdf"
   ],
   "metadata": {
    "collapsed": false,
    "pycharm": {
     "name": "#%%\n"
    }
   }
  },
  {
   "cell_type": "code",
   "execution_count": 50,
   "outputs": [
    {
     "data": {
      "text/plain": "          C         D\n1  0.908414  0.789760\n2  0.930735  0.235765",
      "text/html": "<div>\n<style scoped>\n    .dataframe tbody tr th:only-of-type {\n        vertical-align: middle;\n    }\n\n    .dataframe tbody tr th {\n        vertical-align: top;\n    }\n\n    .dataframe thead th {\n        text-align: right;\n    }\n</style>\n<table border=\"1\" class=\"dataframe\">\n  <thead>\n    <tr style=\"text-align: right;\">\n      <th></th>\n      <th>C</th>\n      <th>D</th>\n    </tr>\n  </thead>\n  <tbody>\n    <tr>\n      <th>1</th>\n      <td>0.908414</td>\n      <td>0.789760</td>\n    </tr>\n    <tr>\n      <th>2</th>\n      <td>0.930735</td>\n      <td>0.235765</td>\n    </tr>\n  </tbody>\n</table>\n</div>"
     },
     "execution_count": 50,
     "metadata": {},
     "output_type": "execute_result"
    }
   ],
   "source": [
    "newdf.loc[[1,2],['C','D']]"
   ],
   "metadata": {
    "collapsed": false,
    "pycharm": {
     "name": "#%%\n"
    }
   }
  },
  {
   "cell_type": "code",
   "execution_count": 51,
   "outputs": [
    {
     "data": {
      "text/plain": "            A         B         C         D         E\n4    0.190751  0.645029  0.815076  0.772746  0.227016\n14   0.219416  0.620615  0.864995  0.601493  0.902535\n15   0.074723  0.583368  0.195331  0.595071  0.922961\n25   0.263380  0.421105  0.585447  0.166787  0.706482\n26   0.012909  0.778738  0.702006  0.821864  0.843679\n..        ...       ...       ...       ...       ...\n323  0.171106  0.750766  0.892199  0.519372  0.409419\n327  0.289379  0.852582  0.827850  0.510641  0.666780\n328  0.067632  0.888954  0.881712  0.414938  0.708830\n331  0.004446  0.538266  0.607091  0.725897  0.420883\n332  0.233261  0.766859  0.917777  0.011663  0.163362\n\n[87 rows x 5 columns]",
      "text/html": "<div>\n<style scoped>\n    .dataframe tbody tr th:only-of-type {\n        vertical-align: middle;\n    }\n\n    .dataframe tbody tr th {\n        vertical-align: top;\n    }\n\n    .dataframe thead th {\n        text-align: right;\n    }\n</style>\n<table border=\"1\" class=\"dataframe\">\n  <thead>\n    <tr style=\"text-align: right;\">\n      <th></th>\n      <th>A</th>\n      <th>B</th>\n      <th>C</th>\n      <th>D</th>\n      <th>E</th>\n    </tr>\n  </thead>\n  <tbody>\n    <tr>\n      <th>4</th>\n      <td>0.190751</td>\n      <td>0.645029</td>\n      <td>0.815076</td>\n      <td>0.772746</td>\n      <td>0.227016</td>\n    </tr>\n    <tr>\n      <th>14</th>\n      <td>0.219416</td>\n      <td>0.620615</td>\n      <td>0.864995</td>\n      <td>0.601493</td>\n      <td>0.902535</td>\n    </tr>\n    <tr>\n      <th>15</th>\n      <td>0.074723</td>\n      <td>0.583368</td>\n      <td>0.195331</td>\n      <td>0.595071</td>\n      <td>0.922961</td>\n    </tr>\n    <tr>\n      <th>25</th>\n      <td>0.263380</td>\n      <td>0.421105</td>\n      <td>0.585447</td>\n      <td>0.166787</td>\n      <td>0.706482</td>\n    </tr>\n    <tr>\n      <th>26</th>\n      <td>0.012909</td>\n      <td>0.778738</td>\n      <td>0.702006</td>\n      <td>0.821864</td>\n      <td>0.843679</td>\n    </tr>\n    <tr>\n      <th>...</th>\n      <td>...</td>\n      <td>...</td>\n      <td>...</td>\n      <td>...</td>\n      <td>...</td>\n    </tr>\n    <tr>\n      <th>323</th>\n      <td>0.171106</td>\n      <td>0.750766</td>\n      <td>0.892199</td>\n      <td>0.519372</td>\n      <td>0.409419</td>\n    </tr>\n    <tr>\n      <th>327</th>\n      <td>0.289379</td>\n      <td>0.852582</td>\n      <td>0.827850</td>\n      <td>0.510641</td>\n      <td>0.666780</td>\n    </tr>\n    <tr>\n      <th>328</th>\n      <td>0.067632</td>\n      <td>0.888954</td>\n      <td>0.881712</td>\n      <td>0.414938</td>\n      <td>0.708830</td>\n    </tr>\n    <tr>\n      <th>331</th>\n      <td>0.004446</td>\n      <td>0.538266</td>\n      <td>0.607091</td>\n      <td>0.725897</td>\n      <td>0.420883</td>\n    </tr>\n    <tr>\n      <th>332</th>\n      <td>0.233261</td>\n      <td>0.766859</td>\n      <td>0.917777</td>\n      <td>0.011663</td>\n      <td>0.163362</td>\n    </tr>\n  </tbody>\n</table>\n<p>87 rows × 5 columns</p>\n</div>"
     },
     "execution_count": 51,
     "metadata": {},
     "output_type": "execute_result"
    }
   ],
   "source": [
    "newdf.loc[(newdf['A']<0.3) &(newdf['C']>0.1)]"
   ],
   "metadata": {
    "collapsed": false,
    "pycharm": {
     "name": "#%%\n"
    }
   }
  },
  {
   "cell_type": "code",
   "execution_count": 52,
   "outputs": [
    {
     "data": {
      "text/plain": "0.5843116537320346"
     },
     "execution_count": 52,
     "metadata": {},
     "output_type": "execute_result"
    }
   ],
   "source": [
    "newdf.iloc[0,3]"
   ],
   "metadata": {
    "collapsed": false,
    "pycharm": {
     "name": "#%%\n"
    }
   }
  },
  {
   "cell_type": "code",
   "execution_count": 53,
   "outputs": [
    {
     "data": {
      "text/plain": "          B         C\n0  0.339032  0.423460\n5  0.442772  0.813174",
      "text/html": "<div>\n<style scoped>\n    .dataframe tbody tr th:only-of-type {\n        vertical-align: middle;\n    }\n\n    .dataframe tbody tr th {\n        vertical-align: top;\n    }\n\n    .dataframe thead th {\n        text-align: right;\n    }\n</style>\n<table border=\"1\" class=\"dataframe\">\n  <thead>\n    <tr style=\"text-align: right;\">\n      <th></th>\n      <th>B</th>\n      <th>C</th>\n    </tr>\n  </thead>\n  <tbody>\n    <tr>\n      <th>0</th>\n      <td>0.339032</td>\n      <td>0.423460</td>\n    </tr>\n    <tr>\n      <th>5</th>\n      <td>0.442772</td>\n      <td>0.813174</td>\n    </tr>\n  </tbody>\n</table>\n</div>"
     },
     "execution_count": 53,
     "metadata": {},
     "output_type": "execute_result"
    }
   ],
   "source": [
    "newdf.iloc[[0,5],[1,2]]"
   ],
   "metadata": {
    "collapsed": false,
    "pycharm": {
     "name": "#%%\n"
    }
   }
  },
  {
   "cell_type": "code",
   "execution_count": 54,
   "outputs": [],
   "source": [
    "newdf.drop([0],inplace=True)"
   ],
   "metadata": {
    "collapsed": false,
    "pycharm": {
     "name": "#%%\n"
    }
   }
  },
  {
   "cell_type": "code",
   "execution_count": 55,
   "outputs": [
    {
     "data": {
      "text/plain": "            A         B         C         D         E\n1    0.399641  0.972699  0.908414  0.789760  0.958483\n2    0.308629  0.431881  0.930735  0.235765  0.601155\n3    0.387777  0.436599  0.973174  0.850069  0.224284\n4    0.190751  0.645029  0.815076  0.772746  0.227016\n5    0.972251  0.442772  0.813174  0.632670  0.969324\n..        ...       ...       ...       ...       ...\n329  0.312950  0.832818  0.514514  0.789997  0.007673\n330  0.829268  0.978064  0.366935  0.970260  0.647665\n331  0.004446  0.538266  0.607091  0.725897  0.420883\n332  0.233261  0.766859  0.917777  0.011663  0.163362\n333  0.923025  0.684906  0.855052  0.086574  0.429333\n\n[333 rows x 5 columns]",
      "text/html": "<div>\n<style scoped>\n    .dataframe tbody tr th:only-of-type {\n        vertical-align: middle;\n    }\n\n    .dataframe tbody tr th {\n        vertical-align: top;\n    }\n\n    .dataframe thead th {\n        text-align: right;\n    }\n</style>\n<table border=\"1\" class=\"dataframe\">\n  <thead>\n    <tr style=\"text-align: right;\">\n      <th></th>\n      <th>A</th>\n      <th>B</th>\n      <th>C</th>\n      <th>D</th>\n      <th>E</th>\n    </tr>\n  </thead>\n  <tbody>\n    <tr>\n      <th>1</th>\n      <td>0.399641</td>\n      <td>0.972699</td>\n      <td>0.908414</td>\n      <td>0.789760</td>\n      <td>0.958483</td>\n    </tr>\n    <tr>\n      <th>2</th>\n      <td>0.308629</td>\n      <td>0.431881</td>\n      <td>0.930735</td>\n      <td>0.235765</td>\n      <td>0.601155</td>\n    </tr>\n    <tr>\n      <th>3</th>\n      <td>0.387777</td>\n      <td>0.436599</td>\n      <td>0.973174</td>\n      <td>0.850069</td>\n      <td>0.224284</td>\n    </tr>\n    <tr>\n      <th>4</th>\n      <td>0.190751</td>\n      <td>0.645029</td>\n      <td>0.815076</td>\n      <td>0.772746</td>\n      <td>0.227016</td>\n    </tr>\n    <tr>\n      <th>5</th>\n      <td>0.972251</td>\n      <td>0.442772</td>\n      <td>0.813174</td>\n      <td>0.632670</td>\n      <td>0.969324</td>\n    </tr>\n    <tr>\n      <th>...</th>\n      <td>...</td>\n      <td>...</td>\n      <td>...</td>\n      <td>...</td>\n      <td>...</td>\n    </tr>\n    <tr>\n      <th>329</th>\n      <td>0.312950</td>\n      <td>0.832818</td>\n      <td>0.514514</td>\n      <td>0.789997</td>\n      <td>0.007673</td>\n    </tr>\n    <tr>\n      <th>330</th>\n      <td>0.829268</td>\n      <td>0.978064</td>\n      <td>0.366935</td>\n      <td>0.970260</td>\n      <td>0.647665</td>\n    </tr>\n    <tr>\n      <th>331</th>\n      <td>0.004446</td>\n      <td>0.538266</td>\n      <td>0.607091</td>\n      <td>0.725897</td>\n      <td>0.420883</td>\n    </tr>\n    <tr>\n      <th>332</th>\n      <td>0.233261</td>\n      <td>0.766859</td>\n      <td>0.917777</td>\n      <td>0.011663</td>\n      <td>0.163362</td>\n    </tr>\n    <tr>\n      <th>333</th>\n      <td>0.923025</td>\n      <td>0.684906</td>\n      <td>0.855052</td>\n      <td>0.086574</td>\n      <td>0.429333</td>\n    </tr>\n  </tbody>\n</table>\n<p>333 rows × 5 columns</p>\n</div>"
     },
     "execution_count": 55,
     "metadata": {},
     "output_type": "execute_result"
    }
   ],
   "source": [
    "newdf"
   ],
   "metadata": {
    "collapsed": false,
    "pycharm": {
     "name": "#%%\n"
    }
   }
  },
  {
   "cell_type": "code",
   "execution_count": 56,
   "outputs": [],
   "source": [
    "newdf.reset_index(drop=True,inplace=True)"
   ],
   "metadata": {
    "collapsed": false,
    "pycharm": {
     "name": "#%%\n"
    }
   }
  },
  {
   "cell_type": "code",
   "execution_count": 57,
   "outputs": [
    {
     "data": {
      "text/plain": "            A         B         C         D         E\n0    0.399641  0.972699  0.908414  0.789760  0.958483\n1    0.308629  0.431881  0.930735  0.235765  0.601155\n2    0.387777  0.436599  0.973174  0.850069  0.224284\n3    0.190751  0.645029  0.815076  0.772746  0.227016\n4    0.972251  0.442772  0.813174  0.632670  0.969324\n..        ...       ...       ...       ...       ...\n328  0.312950  0.832818  0.514514  0.789997  0.007673\n329  0.829268  0.978064  0.366935  0.970260  0.647665\n330  0.004446  0.538266  0.607091  0.725897  0.420883\n331  0.233261  0.766859  0.917777  0.011663  0.163362\n332  0.923025  0.684906  0.855052  0.086574  0.429333\n\n[333 rows x 5 columns]",
      "text/html": "<div>\n<style scoped>\n    .dataframe tbody tr th:only-of-type {\n        vertical-align: middle;\n    }\n\n    .dataframe tbody tr th {\n        vertical-align: top;\n    }\n\n    .dataframe thead th {\n        text-align: right;\n    }\n</style>\n<table border=\"1\" class=\"dataframe\">\n  <thead>\n    <tr style=\"text-align: right;\">\n      <th></th>\n      <th>A</th>\n      <th>B</th>\n      <th>C</th>\n      <th>D</th>\n      <th>E</th>\n    </tr>\n  </thead>\n  <tbody>\n    <tr>\n      <th>0</th>\n      <td>0.399641</td>\n      <td>0.972699</td>\n      <td>0.908414</td>\n      <td>0.789760</td>\n      <td>0.958483</td>\n    </tr>\n    <tr>\n      <th>1</th>\n      <td>0.308629</td>\n      <td>0.431881</td>\n      <td>0.930735</td>\n      <td>0.235765</td>\n      <td>0.601155</td>\n    </tr>\n    <tr>\n      <th>2</th>\n      <td>0.387777</td>\n      <td>0.436599</td>\n      <td>0.973174</td>\n      <td>0.850069</td>\n      <td>0.224284</td>\n    </tr>\n    <tr>\n      <th>3</th>\n      <td>0.190751</td>\n      <td>0.645029</td>\n      <td>0.815076</td>\n      <td>0.772746</td>\n      <td>0.227016</td>\n    </tr>\n    <tr>\n      <th>4</th>\n      <td>0.972251</td>\n      <td>0.442772</td>\n      <td>0.813174</td>\n      <td>0.632670</td>\n      <td>0.969324</td>\n    </tr>\n    <tr>\n      <th>...</th>\n      <td>...</td>\n      <td>...</td>\n      <td>...</td>\n      <td>...</td>\n      <td>...</td>\n    </tr>\n    <tr>\n      <th>328</th>\n      <td>0.312950</td>\n      <td>0.832818</td>\n      <td>0.514514</td>\n      <td>0.789997</td>\n      <td>0.007673</td>\n    </tr>\n    <tr>\n      <th>329</th>\n      <td>0.829268</td>\n      <td>0.978064</td>\n      <td>0.366935</td>\n      <td>0.970260</td>\n      <td>0.647665</td>\n    </tr>\n    <tr>\n      <th>330</th>\n      <td>0.004446</td>\n      <td>0.538266</td>\n      <td>0.607091</td>\n      <td>0.725897</td>\n      <td>0.420883</td>\n    </tr>\n    <tr>\n      <th>331</th>\n      <td>0.233261</td>\n      <td>0.766859</td>\n      <td>0.917777</td>\n      <td>0.011663</td>\n      <td>0.163362</td>\n    </tr>\n    <tr>\n      <th>332</th>\n      <td>0.923025</td>\n      <td>0.684906</td>\n      <td>0.855052</td>\n      <td>0.086574</td>\n      <td>0.429333</td>\n    </tr>\n  </tbody>\n</table>\n<p>333 rows × 5 columns</p>\n</div>"
     },
     "execution_count": 57,
     "metadata": {},
     "output_type": "execute_result"
    }
   ],
   "source": [
    "newdf"
   ],
   "metadata": {
    "collapsed": false,
    "pycharm": {
     "name": "#%%\n"
    }
   }
  },
  {
   "cell_type": "code",
   "execution_count": 58,
   "outputs": [
    {
     "data": {
      "text/plain": "0      False\n1      False\n2      False\n3      False\n4      False\n       ...  \n328    False\n329    False\n330    False\n331    False\n332    False\nName: B, Length: 333, dtype: bool"
     },
     "execution_count": 58,
     "metadata": {},
     "output_type": "execute_result"
    }
   ],
   "source": [
    "newdf['B'].isnull()"
   ],
   "metadata": {
    "collapsed": false,
    "pycharm": {
     "name": "#%%\n"
    }
   }
  },
  {
   "cell_type": "code",
   "execution_count": 59,
   "outputs": [],
   "source": [
    "newdf.loc[:,'B']=None"
   ],
   "metadata": {
    "collapsed": false,
    "pycharm": {
     "name": "#%%\n"
    }
   }
  },
  {
   "cell_type": "code",
   "execution_count": 60,
   "outputs": [
    {
     "data": {
      "text/plain": "            A     B         C         D         E\n0    0.399641  None  0.908414  0.789760  0.958483\n1    0.308629  None  0.930735  0.235765  0.601155\n2    0.387777  None  0.973174  0.850069  0.224284\n3    0.190751  None  0.815076  0.772746  0.227016\n4    0.972251  None  0.813174  0.632670  0.969324\n..        ...   ...       ...       ...       ...\n328  0.312950  None  0.514514  0.789997  0.007673\n329  0.829268  None  0.366935  0.970260  0.647665\n330  0.004446  None  0.607091  0.725897  0.420883\n331  0.233261  None  0.917777  0.011663  0.163362\n332  0.923025  None  0.855052  0.086574  0.429333\n\n[333 rows x 5 columns]",
      "text/html": "<div>\n<style scoped>\n    .dataframe tbody tr th:only-of-type {\n        vertical-align: middle;\n    }\n\n    .dataframe tbody tr th {\n        vertical-align: top;\n    }\n\n    .dataframe thead th {\n        text-align: right;\n    }\n</style>\n<table border=\"1\" class=\"dataframe\">\n  <thead>\n    <tr style=\"text-align: right;\">\n      <th></th>\n      <th>A</th>\n      <th>B</th>\n      <th>C</th>\n      <th>D</th>\n      <th>E</th>\n    </tr>\n  </thead>\n  <tbody>\n    <tr>\n      <th>0</th>\n      <td>0.399641</td>\n      <td>None</td>\n      <td>0.908414</td>\n      <td>0.789760</td>\n      <td>0.958483</td>\n    </tr>\n    <tr>\n      <th>1</th>\n      <td>0.308629</td>\n      <td>None</td>\n      <td>0.930735</td>\n      <td>0.235765</td>\n      <td>0.601155</td>\n    </tr>\n    <tr>\n      <th>2</th>\n      <td>0.387777</td>\n      <td>None</td>\n      <td>0.973174</td>\n      <td>0.850069</td>\n      <td>0.224284</td>\n    </tr>\n    <tr>\n      <th>3</th>\n      <td>0.190751</td>\n      <td>None</td>\n      <td>0.815076</td>\n      <td>0.772746</td>\n      <td>0.227016</td>\n    </tr>\n    <tr>\n      <th>4</th>\n      <td>0.972251</td>\n      <td>None</td>\n      <td>0.813174</td>\n      <td>0.632670</td>\n      <td>0.969324</td>\n    </tr>\n    <tr>\n      <th>...</th>\n      <td>...</td>\n      <td>...</td>\n      <td>...</td>\n      <td>...</td>\n      <td>...</td>\n    </tr>\n    <tr>\n      <th>328</th>\n      <td>0.312950</td>\n      <td>None</td>\n      <td>0.514514</td>\n      <td>0.789997</td>\n      <td>0.007673</td>\n    </tr>\n    <tr>\n      <th>329</th>\n      <td>0.829268</td>\n      <td>None</td>\n      <td>0.366935</td>\n      <td>0.970260</td>\n      <td>0.647665</td>\n    </tr>\n    <tr>\n      <th>330</th>\n      <td>0.004446</td>\n      <td>None</td>\n      <td>0.607091</td>\n      <td>0.725897</td>\n      <td>0.420883</td>\n    </tr>\n    <tr>\n      <th>331</th>\n      <td>0.233261</td>\n      <td>None</td>\n      <td>0.917777</td>\n      <td>0.011663</td>\n      <td>0.163362</td>\n    </tr>\n    <tr>\n      <th>332</th>\n      <td>0.923025</td>\n      <td>None</td>\n      <td>0.855052</td>\n      <td>0.086574</td>\n      <td>0.429333</td>\n    </tr>\n  </tbody>\n</table>\n<p>333 rows × 5 columns</p>\n</div>"
     },
     "execution_count": 60,
     "metadata": {},
     "output_type": "execute_result"
    }
   ],
   "source": [
    "newdf"
   ],
   "metadata": {
    "collapsed": false,
    "pycharm": {
     "name": "#%%\n"
    }
   }
  },
  {
   "cell_type": "code",
   "execution_count": 61,
   "outputs": [],
   "source": [
    "newdf.loc[:,'B']=45"
   ],
   "metadata": {
    "collapsed": false,
    "pycharm": {
     "name": "#%%\n"
    }
   }
  },
  {
   "cell_type": "code",
   "execution_count": 62,
   "outputs": [
    {
     "data": {
      "text/plain": "            A   B         C         D         E\n0    0.399641  45  0.908414  0.789760  0.958483\n1    0.308629  45  0.930735  0.235765  0.601155\n2    0.387777  45  0.973174  0.850069  0.224284\n3    0.190751  45  0.815076  0.772746  0.227016\n4    0.972251  45  0.813174  0.632670  0.969324\n..        ...  ..       ...       ...       ...\n328  0.312950  45  0.514514  0.789997  0.007673\n329  0.829268  45  0.366935  0.970260  0.647665\n330  0.004446  45  0.607091  0.725897  0.420883\n331  0.233261  45  0.917777  0.011663  0.163362\n332  0.923025  45  0.855052  0.086574  0.429333\n\n[333 rows x 5 columns]",
      "text/html": "<div>\n<style scoped>\n    .dataframe tbody tr th:only-of-type {\n        vertical-align: middle;\n    }\n\n    .dataframe tbody tr th {\n        vertical-align: top;\n    }\n\n    .dataframe thead th {\n        text-align: right;\n    }\n</style>\n<table border=\"1\" class=\"dataframe\">\n  <thead>\n    <tr style=\"text-align: right;\">\n      <th></th>\n      <th>A</th>\n      <th>B</th>\n      <th>C</th>\n      <th>D</th>\n      <th>E</th>\n    </tr>\n  </thead>\n  <tbody>\n    <tr>\n      <th>0</th>\n      <td>0.399641</td>\n      <td>45</td>\n      <td>0.908414</td>\n      <td>0.789760</td>\n      <td>0.958483</td>\n    </tr>\n    <tr>\n      <th>1</th>\n      <td>0.308629</td>\n      <td>45</td>\n      <td>0.930735</td>\n      <td>0.235765</td>\n      <td>0.601155</td>\n    </tr>\n    <tr>\n      <th>2</th>\n      <td>0.387777</td>\n      <td>45</td>\n      <td>0.973174</td>\n      <td>0.850069</td>\n      <td>0.224284</td>\n    </tr>\n    <tr>\n      <th>3</th>\n      <td>0.190751</td>\n      <td>45</td>\n      <td>0.815076</td>\n      <td>0.772746</td>\n      <td>0.227016</td>\n    </tr>\n    <tr>\n      <th>4</th>\n      <td>0.972251</td>\n      <td>45</td>\n      <td>0.813174</td>\n      <td>0.632670</td>\n      <td>0.969324</td>\n    </tr>\n    <tr>\n      <th>...</th>\n      <td>...</td>\n      <td>...</td>\n      <td>...</td>\n      <td>...</td>\n      <td>...</td>\n    </tr>\n    <tr>\n      <th>328</th>\n      <td>0.312950</td>\n      <td>45</td>\n      <td>0.514514</td>\n      <td>0.789997</td>\n      <td>0.007673</td>\n    </tr>\n    <tr>\n      <th>329</th>\n      <td>0.829268</td>\n      <td>45</td>\n      <td>0.366935</td>\n      <td>0.970260</td>\n      <td>0.647665</td>\n    </tr>\n    <tr>\n      <th>330</th>\n      <td>0.004446</td>\n      <td>45</td>\n      <td>0.607091</td>\n      <td>0.725897</td>\n      <td>0.420883</td>\n    </tr>\n    <tr>\n      <th>331</th>\n      <td>0.233261</td>\n      <td>45</td>\n      <td>0.917777</td>\n      <td>0.011663</td>\n      <td>0.163362</td>\n    </tr>\n    <tr>\n      <th>332</th>\n      <td>0.923025</td>\n      <td>45</td>\n      <td>0.855052</td>\n      <td>0.086574</td>\n      <td>0.429333</td>\n    </tr>\n  </tbody>\n</table>\n<p>333 rows × 5 columns</p>\n</div>"
     },
     "execution_count": 62,
     "metadata": {},
     "output_type": "execute_result"
    }
   ],
   "source": [
    "newdf"
   ],
   "metadata": {
    "collapsed": false,
    "pycharm": {
     "name": "#%%\n"
    }
   }
  },
  {
   "cell_type": "code",
   "execution_count": 63,
   "outputs": [
    {
     "data": {
      "text/plain": "<AxesSubplot:>"
     },
     "execution_count": 63,
     "metadata": {},
     "output_type": "execute_result"
    },
    {
     "data": {
      "text/plain": "<Figure size 432x288 with 1 Axes>",
      "image/png": "[encoded data removed]"
     },
     "metadata": {
      "needs_background": "light"
     },
     "output_type": "display_data"
    }
   ],
   "source": [
    "df.plot()"
   ],
   "metadata": {
    "collapsed": false,
    "pycharm": {
     "name": "#%%\n"
    }
   }
  },
  {
   "cell_type": "code",
   "execution_count": 64,
   "outputs": [],
   "source": [
    "df=pd.DataFrame({\"name\": ['Alfred', 'Batman', 'Catwoman'],\n",
    "                 \"toy\": [np.nan, 'Batmobile', 'Bullwhip'],\n",
    "                 \"born\": [pd.NaT, pd.Timestamp(1940,4,25),\n",
    "                          pd.NaT]})"
   ],
   "metadata": {
    "collapsed": false,
    "pycharm": {
     "name": "#%%\n"
    }
   }
  },
  {
   "cell_type": "code",
   "execution_count": 65,
   "outputs": [
    {
     "data": {
      "text/plain": "       name        toy       born\n0    Alfred        NaN        NaT\n1    Batman  Batmobile 1940-04-25\n2  Catwoman   Bullwhip        NaT",
      "text/html": "<div>\n<style scoped>\n    .dataframe tbody tr th:only-of-type {\n        vertical-align: middle;\n    }\n\n    .dataframe tbody tr th {\n        vertical-align: top;\n    }\n\n    .dataframe thead th {\n        text-align: right;\n    }\n</style>\n<table border=\"1\" class=\"dataframe\">\n  <thead>\n    <tr style=\"text-align: right;\">\n      <th></th>\n      <th>name</th>\n      <th>toy</th>\n      <th>born</th>\n    </tr>\n  </thead>\n  <tbody>\n    <tr>\n      <th>0</th>\n      <td>Alfred</td>\n      <td>NaN</td>\n      <td>NaT</td>\n    </tr>\n    <tr>\n      <th>1</th>\n      <td>Batman</td>\n      <td>Batmobile</td>\n      <td>1940-04-25</td>\n    </tr>\n    <tr>\n      <th>2</th>\n      <td>Catwoman</td>\n      <td>Bullwhip</td>\n      <td>NaT</td>\n    </tr>\n  </tbody>\n</table>\n</div>"
     },
     "execution_count": 65,
     "metadata": {},
     "output_type": "execute_result"
    }
   ],
   "source": [
    "df"
   ],
   "metadata": {
    "collapsed": false,
    "pycharm": {
     "name": "#%%\n"
    }
   }
  },
  {
   "cell_type": "code",
   "execution_count": 66,
   "outputs": [
    {
     "data": {
      "text/plain": "     name        toy       born\n1  Batman  Batmobile 1940-04-25",
      "text/html": "<div>\n<style scoped>\n    .dataframe tbody tr th:only-of-type {\n        vertical-align: middle;\n    }\n\n    .dataframe tbody tr th {\n        vertical-align: top;\n    }\n\n    .dataframe thead th {\n        text-align: right;\n    }\n</style>\n<table border=\"1\" class=\"dataframe\">\n  <thead>\n    <tr style=\"text-align: right;\">\n      <th></th>\n      <th>name</th>\n      <th>toy</th>\n      <th>born</th>\n    </tr>\n  </thead>\n  <tbody>\n    <tr>\n      <th>1</th>\n      <td>Batman</td>\n      <td>Batmobile</td>\n      <td>1940-04-25</td>\n    </tr>\n  </tbody>\n</table>\n</div>"
     },
     "execution_count": 66,
     "metadata": {},
     "output_type": "execute_result"
    }
   ],
   "source": [
    "df.dropna()"
   ],
   "metadata": {
    "collapsed": false,
    "pycharm": {
     "name": "#%%\n"
    }
   }
  },
  {
   "cell_type": "code",
   "execution_count": 67,
   "outputs": [],
   "source": [
    "data=pd.read_excel('friends.xlsx')"
   ],
   "metadata": {
    "collapsed": false,
    "pycharm": {
     "name": "#%%\n"
    }
   }
  },
  {
   "cell_type": "code",
   "execution_count": 68,
   "outputs": [
    {
     "data": {
      "text/plain": "   Unnamed: 0     name  marks        city\n0           0  gurbaaz     92  chandigarh\n1           1    timmy     34     patiala\n2           2    gunnu     24    ludhiana\n3           3     alex     17     NewYork",
      "text/html": "<div>\n<style scoped>\n    .dataframe tbody tr th:only-of-type {\n        vertical-align: middle;\n    }\n\n    .dataframe tbody tr th {\n        vertical-align: top;\n    }\n\n    .dataframe thead th {\n        text-align: right;\n    }\n</style>\n<table border=\"1\" class=\"dataframe\">\n  <thead>\n    <tr style=\"text-align: right;\">\n      <th></th>\n      <th>Unnamed: 0</th>\n      <th>name</th>\n      <th>marks</th>\n      <th>city</th>\n    </tr>\n  </thead>\n  <tbody>\n    <tr>\n      <th>0</th>\n      <td>0</td>\n      <td>gurbaaz</td>\n      <td>92</td>\n      <td>chandigarh</td>\n    </tr>\n    <tr>\n      <th>1</th>\n      <td>1</td>\n      <td>timmy</td>\n      <td>34</td>\n      <td>patiala</td>\n    </tr>\n    <tr>\n      <th>2</th>\n      <td>2</td>\n      <td>gunnu</td>\n      <td>24</td>\n      <td>ludhiana</td>\n    </tr>\n    <tr>\n      <th>3</th>\n      <td>3</td>\n      <td>alex</td>\n      <td>17</td>\n      <td>NewYork</td>\n    </tr>\n  </tbody>\n</table>\n</div>"
     },
     "execution_count": 68,
     "metadata": {},
     "output_type": "execute_result"
    }
   ],
   "source": [
    "data"
   ],
   "metadata": {
    "collapsed": false,
    "pycharm": {
     "name": "#%%\n"
    }
   }
  }
 ],
 "metadata": {
  "kernelspec": {
   "display_name": "Python 3 (ipykernel)",
   "language": "python",
   "name": "python3"
  },
  "language_info": {
   "codemirror_mode": {
    "name": "ipython",
    "version": 3
   },
   "file_extension": ".py",
   "mimetype": "text/x-python",
   "name": "python",
   "nbconvert_exporter": "python",
   "pygments_lexer": "ipython3",
   "version": "3.9.12"
  }
 },
 "nbformat": 4,
 "nbformat_minor": 5
}