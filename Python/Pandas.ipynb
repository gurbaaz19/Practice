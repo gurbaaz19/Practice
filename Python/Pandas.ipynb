{
 "cells": [
  {
   "cell_type": "code",
   "execution_count": 1,
   "id": "7eef446a",
   "metadata": {
    "pycharm": {
     "name": "#%%\n"
    }
   },
   "outputs": [],
   "source": [
    "import numpy as np\n",
    "import pandas as pd"
   ]
  },
  {
   "cell_type": "code",
   "execution_count": 2,
   "id": "dde150af",
   "metadata": {
    "pycharm": {
     "name": "#%%\n"
    }
   },
   "outputs": [],
   "source": [
    "dict1 ={\n",
    "    \"name\":['gurbaaz','timmy','gunnu','alex'],\n",
    "    \"marks\":[92,34,24,17],\n",
    "    \"city\":['chandigarh','patiala','ludhiana','NewYork']\n",
    "}"
   ]
  },
  {
   "cell_type": "code",
   "execution_count": 3,
   "id": "a1667f90",
   "metadata": {
    "pycharm": {
     "name": "#%%\n"
    }
   },
   "outputs": [],
   "source": [
    "df=pd.DataFrame(dict1)"
   ]
  },
  {
   "cell_type": "code",
   "execution_count": 4,
   "outputs": [
    {
     "data": {
      "text/plain": "      name  marks        city\n0  gurbaaz     92  chandigarh\n1    timmy     34     patiala\n2    gunnu     24    ludhiana\n3     alex     17     NewYork",
      "text/html": "<div>\n<style scoped>\n    .dataframe tbody tr th:only-of-type {\n        vertical-align: middle;\n    }\n\n    .dataframe tbody tr th {\n        vertical-align: top;\n    }\n\n    .dataframe thead th {\n        text-align: right;\n    }\n</style>\n<table border=\"1\" class=\"dataframe\">\n  <thead>\n    <tr style=\"text-align: right;\">\n      <th></th>\n      <th>name</th>\n      <th>marks</th>\n      <th>city</th>\n    </tr>\n  </thead>\n  <tbody>\n    <tr>\n      <th>0</th>\n      <td>gurbaaz</td>\n      <td>92</td>\n      <td>chandigarh</td>\n    </tr>\n    <tr>\n      <th>1</th>\n      <td>timmy</td>\n      <td>34</td>\n      <td>patiala</td>\n    </tr>\n    <tr>\n      <th>2</th>\n      <td>gunnu</td>\n      <td>24</td>\n      <td>ludhiana</td>\n    </tr>\n    <tr>\n      <th>3</th>\n      <td>alex</td>\n      <td>17</td>\n      <td>NewYork</td>\n    </tr>\n  </tbody>\n</table>\n</div>"
     },
     "execution_count": 4,
     "metadata": {},
     "output_type": "execute_result"
    }
   ],
   "source": [
    "df"
   ],
   "metadata": {
    "collapsed": false,
    "pycharm": {
     "name": "#%%\n"
    }
   }
  },
  {
   "cell_type": "code",
   "execution_count": 5,
   "outputs": [
    {
     "data": {
      "text/plain": "0    chandigarh\n1       patiala\n2      ludhiana\n3       NewYork\nName: city, dtype: object"
     },
     "execution_count": 5,
     "metadata": {},
     "output_type": "execute_result"
    }
   ],
   "source": [
    "df.city"
   ],
   "metadata": {
    "collapsed": false,
    "pycharm": {
     "name": "#%%\n"
    }
   }
  },
  {
   "cell_type": "code",
   "execution_count": 6,
   "outputs": [],
   "source": [
    "df.to_csv('friends.csv')"
   ],
   "metadata": {
    "collapsed": false,
    "pycharm": {
     "name": "#%%\n"
    }
   }
  },
  {
   "cell_type": "code",
   "execution_count": 7,
   "outputs": [],
   "source": [
    "df.to_excel('friends.xlsx')"
   ],
   "metadata": {
    "collapsed": false,
    "pycharm": {
     "name": "#%%\n"
    }
   }
  },
  {
   "cell_type": "code",
   "execution_count": 8,
   "outputs": [],
   "source": [
    "df.to_csv('friends_indexNo.csv', index=False)"
   ],
   "metadata": {
    "collapsed": false,
    "pycharm": {
     "name": "#%%\n"
    }
   }
  },
  {
   "cell_type": "code",
   "execution_count": 9,
   "outputs": [
    {
     "data": {
      "text/plain": "      name  marks        city\n0  gurbaaz     92  chandigarh\n1    timmy     34     patiala",
      "text/html": "<div>\n<style scoped>\n    .dataframe tbody tr th:only-of-type {\n        vertical-align: middle;\n    }\n\n    .dataframe tbody tr th {\n        vertical-align: top;\n    }\n\n    .dataframe thead th {\n        text-align: right;\n    }\n</style>\n<table border=\"1\" class=\"dataframe\">\n  <thead>\n    <tr style=\"text-align: right;\">\n      <th></th>\n      <th>name</th>\n      <th>marks</th>\n      <th>city</th>\n    </tr>\n  </thead>\n  <tbody>\n    <tr>\n      <th>0</th>\n      <td>gurbaaz</td>\n      <td>92</td>\n      <td>chandigarh</td>\n    </tr>\n    <tr>\n      <th>1</th>\n      <td>timmy</td>\n      <td>34</td>\n      <td>patiala</td>\n    </tr>\n  </tbody>\n</table>\n</div>"
     },
     "execution_count": 9,
     "metadata": {},
     "output_type": "execute_result"
    }
   ],
   "source": [
    "df.head(2)"
   ],
   "metadata": {
    "collapsed": false,
    "pycharm": {
     "name": "#%%\n"
    }
   }
  },
  {
   "cell_type": "code",
   "execution_count": 10,
   "outputs": [
    {
     "data": {
      "text/plain": "    name  marks      city\n2  gunnu     24  ludhiana\n3   alex     17   NewYork",
      "text/html": "<div>\n<style scoped>\n    .dataframe tbody tr th:only-of-type {\n        vertical-align: middle;\n    }\n\n    .dataframe tbody tr th {\n        vertical-align: top;\n    }\n\n    .dataframe thead th {\n        text-align: right;\n    }\n</style>\n<table border=\"1\" class=\"dataframe\">\n  <thead>\n    <tr style=\"text-align: right;\">\n      <th></th>\n      <th>name</th>\n      <th>marks</th>\n      <th>city</th>\n    </tr>\n  </thead>\n  <tbody>\n    <tr>\n      <th>2</th>\n      <td>gunnu</td>\n      <td>24</td>\n      <td>ludhiana</td>\n    </tr>\n    <tr>\n      <th>3</th>\n      <td>alex</td>\n      <td>17</td>\n      <td>NewYork</td>\n    </tr>\n  </tbody>\n</table>\n</div>"
     },
     "execution_count": 10,
     "metadata": {},
     "output_type": "execute_result"
    }
   ],
   "source": [
    "df.tail(2)"
   ],
   "metadata": {
    "collapsed": false,
    "pycharm": {
     "name": "#%%\n"
    }
   }
  },
  {
   "cell_type": "code",
   "execution_count": 11,
   "outputs": [
    {
     "data": {
      "text/plain": "          marks\ncount   4.00000\nmean   41.75000\nstd    34.21866\nmin    17.00000\n25%    22.25000\n50%    29.00000\n75%    48.50000\nmax    92.00000",
      "text/html": "<div>\n<style scoped>\n    .dataframe tbody tr th:only-of-type {\n        vertical-align: middle;\n    }\n\n    .dataframe tbody tr th {\n        vertical-align: top;\n    }\n\n    .dataframe thead th {\n        text-align: right;\n    }\n</style>\n<table border=\"1\" class=\"dataframe\">\n  <thead>\n    <tr style=\"text-align: right;\">\n      <th></th>\n      <th>marks</th>\n    </tr>\n  </thead>\n  <tbody>\n    <tr>\n      <th>count</th>\n      <td>4.00000</td>\n    </tr>\n    <tr>\n      <th>mean</th>\n      <td>41.75000</td>\n    </tr>\n    <tr>\n      <th>std</th>\n      <td>34.21866</td>\n    </tr>\n    <tr>\n      <th>min</th>\n      <td>17.00000</td>\n    </tr>\n    <tr>\n      <th>25%</th>\n      <td>22.25000</td>\n    </tr>\n    <tr>\n      <th>50%</th>\n      <td>29.00000</td>\n    </tr>\n    <tr>\n      <th>75%</th>\n      <td>48.50000</td>\n    </tr>\n    <tr>\n      <th>max</th>\n      <td>92.00000</td>\n    </tr>\n  </tbody>\n</table>\n</div>"
     },
     "execution_count": 11,
     "metadata": {},
     "output_type": "execute_result"
    }
   ],
   "source": [
    "df.describe()"
   ],
   "metadata": {
    "collapsed": false,
    "pycharm": {
     "name": "#%%\n"
    }
   }
  },
  {
   "cell_type": "code",
   "execution_count": 12,
   "outputs": [],
   "source": [
    "timmy= pd.read_csv('timmy.csv')"
   ],
   "metadata": {
    "collapsed": false,
    "pycharm": {
     "name": "#%%\n"
    }
   }
  },
  {
   "cell_type": "code",
   "execution_count": 13,
   "outputs": [
    {
     "data": {
      "text/plain": "   Unnamed: 0.8  Unnamed: 0.7  Unnamed: 0.6  Unnamed: 0.5  Unnamed: 0.4  \\\n0             0             0             0             0             0   \n1             1             1             1             1             1   \n2             2             2             2             2             2   \n3             3             3             3             3             3   \n\n   Unnamed: 0.3  Unnamed: 0.2  Unnamed: 0.1  Unnamed: 0  Tain No.  Speed  \\\n0             0             0             0           0     12322     50   \n1             1             1             1           1     12534    123   \n2             2             2             2           2    125654     67   \n3             3             3             3           3    564523     87   \n\n         City  \n0  chandigarh  \n1     patiala  \n2    ludhiana  \n3      rajkot  ",
      "text/html": "<div>\n<style scoped>\n    .dataframe tbody tr th:only-of-type {\n        vertical-align: middle;\n    }\n\n    .dataframe tbody tr th {\n        vertical-align: top;\n    }\n\n    .dataframe thead th {\n        text-align: right;\n    }\n</style>\n<table border=\"1\" class=\"dataframe\">\n  <thead>\n    <tr style=\"text-align: right;\">\n      <th></th>\n      <th>Unnamed: 0.8</th>\n      <th>Unnamed: 0.7</th>\n      <th>Unnamed: 0.6</th>\n      <th>Unnamed: 0.5</th>\n      <th>Unnamed: 0.4</th>\n      <th>Unnamed: 0.3</th>\n      <th>Unnamed: 0.2</th>\n      <th>Unnamed: 0.1</th>\n      <th>Unnamed: 0</th>\n      <th>Tain No.</th>\n      <th>Speed</th>\n      <th>City</th>\n    </tr>\n  </thead>\n  <tbody>\n    <tr>\n      <th>0</th>\n      <td>0</td>\n      <td>0</td>\n      <td>0</td>\n      <td>0</td>\n      <td>0</td>\n      <td>0</td>\n      <td>0</td>\n      <td>0</td>\n      <td>0</td>\n      <td>12322</td>\n      <td>50</td>\n      <td>chandigarh</td>\n    </tr>\n    <tr>\n      <th>1</th>\n      <td>1</td>\n      <td>1</td>\n      <td>1</td>\n      <td>1</td>\n      <td>1</td>\n      <td>1</td>\n      <td>1</td>\n      <td>1</td>\n      <td>1</td>\n      <td>12534</td>\n      <td>123</td>\n      <td>patiala</td>\n    </tr>\n    <tr>\n      <th>2</th>\n      <td>2</td>\n      <td>2</td>\n      <td>2</td>\n      <td>2</td>\n      <td>2</td>\n      <td>2</td>\n      <td>2</td>\n      <td>2</td>\n      <td>2</td>\n      <td>125654</td>\n      <td>67</td>\n      <td>ludhiana</td>\n    </tr>\n    <tr>\n      <th>3</th>\n      <td>3</td>\n      <td>3</td>\n      <td>3</td>\n      <td>3</td>\n      <td>3</td>\n      <td>3</td>\n      <td>3</td>\n      <td>3</td>\n      <td>3</td>\n      <td>564523</td>\n      <td>87</td>\n      <td>rajkot</td>\n    </tr>\n  </tbody>\n</table>\n</div>"
     },
     "execution_count": 13,
     "metadata": {},
     "output_type": "execute_result"
    }
   ],
   "source": [
    "timmy"
   ],
   "metadata": {
    "collapsed": false,
    "pycharm": {
     "name": "#%%\n"
    }
   }
  },
  {
   "cell_type": "code",
   "execution_count": 14,
   "outputs": [
    {
     "name": "stderr",
     "output_type": "stream",
     "text": [
      "C:\\Users\\gurba\\AppData\\Local\\Temp\\ipykernel_14592\\3645333898.py:1: SettingWithCopyWarning: \n",
      "A value is trying to be set on a copy of a slice from a DataFrame\n",
      "\n",
      "See the caveats in the documentation: https://pandas.pydata.org/pandas-docs/stable/user_guide/indexing.html#returning-a-view-versus-a-copy\n",
      "  timmy['Speed'][0]=50\n"
     ]
    }
   ],
   "source": [
    "timmy['Speed'][0]=50"
   ],
   "metadata": {
    "collapsed": false,
    "pycharm": {
     "name": "#%%\n"
    }
   }
  },
  {
   "cell_type": "code",
   "execution_count": 15,
   "outputs": [
    {
     "data": {
      "text/plain": "   Unnamed: 0.8  Unnamed: 0.7  Unnamed: 0.6  Unnamed: 0.5  Unnamed: 0.4  \\\n0             0             0             0             0             0   \n1             1             1             1             1             1   \n2             2             2             2             2             2   \n3             3             3             3             3             3   \n\n   Unnamed: 0.3  Unnamed: 0.2  Unnamed: 0.1  Unnamed: 0  Tain No.  Speed  \\\n0             0             0             0           0     12322     50   \n1             1             1             1           1     12534    123   \n2             2             2             2           2    125654     67   \n3             3             3             3           3    564523     87   \n\n         City  \n0  chandigarh  \n1     patiala  \n2    ludhiana  \n3      rajkot  ",
      "text/html": "<div>\n<style scoped>\n    .dataframe tbody tr th:only-of-type {\n        vertical-align: middle;\n    }\n\n    .dataframe tbody tr th {\n        vertical-align: top;\n    }\n\n    .dataframe thead th {\n        text-align: right;\n    }\n</style>\n<table border=\"1\" class=\"dataframe\">\n  <thead>\n    <tr style=\"text-align: right;\">\n      <th></th>\n      <th>Unnamed: 0.8</th>\n      <th>Unnamed: 0.7</th>\n      <th>Unnamed: 0.6</th>\n      <th>Unnamed: 0.5</th>\n      <th>Unnamed: 0.4</th>\n      <th>Unnamed: 0.3</th>\n      <th>Unnamed: 0.2</th>\n      <th>Unnamed: 0.1</th>\n      <th>Unnamed: 0</th>\n      <th>Tain No.</th>\n      <th>Speed</th>\n      <th>City</th>\n    </tr>\n  </thead>\n  <tbody>\n    <tr>\n      <th>0</th>\n      <td>0</td>\n      <td>0</td>\n      <td>0</td>\n      <td>0</td>\n      <td>0</td>\n      <td>0</td>\n      <td>0</td>\n      <td>0</td>\n      <td>0</td>\n      <td>12322</td>\n      <td>50</td>\n      <td>chandigarh</td>\n    </tr>\n    <tr>\n      <th>1</th>\n      <td>1</td>\n      <td>1</td>\n      <td>1</td>\n      <td>1</td>\n      <td>1</td>\n      <td>1</td>\n      <td>1</td>\n      <td>1</td>\n      <td>1</td>\n      <td>12534</td>\n      <td>123</td>\n      <td>patiala</td>\n    </tr>\n    <tr>\n      <th>2</th>\n      <td>2</td>\n      <td>2</td>\n      <td>2</td>\n      <td>2</td>\n      <td>2</td>\n      <td>2</td>\n      <td>2</td>\n      <td>2</td>\n      <td>2</td>\n      <td>125654</td>\n      <td>67</td>\n      <td>ludhiana</td>\n    </tr>\n    <tr>\n      <th>3</th>\n      <td>3</td>\n      <td>3</td>\n      <td>3</td>\n      <td>3</td>\n      <td>3</td>\n      <td>3</td>\n      <td>3</td>\n      <td>3</td>\n      <td>3</td>\n      <td>564523</td>\n      <td>87</td>\n      <td>rajkot</td>\n    </tr>\n  </tbody>\n</table>\n</div>"
     },
     "execution_count": 15,
     "metadata": {},
     "output_type": "execute_result"
    }
   ],
   "source": [
    "timmy"
   ],
   "metadata": {
    "collapsed": false,
    "pycharm": {
     "name": "#%%\n"
    }
   }
  },
  {
   "cell_type": "code",
   "execution_count": 16,
   "outputs": [],
   "source": [
    "timmy.to_csv('timmy.csv')"
   ],
   "metadata": {
    "collapsed": false,
    "pycharm": {
     "name": "#%%\n"
    }
   }
  },
  {
   "cell_type": "code",
   "execution_count": 17,
   "outputs": [],
   "source": [
    "timmy.index=['first','second','third','fourth']"
   ],
   "metadata": {
    "collapsed": false,
    "pycharm": {
     "name": "#%%\n"
    }
   }
  },
  {
   "cell_type": "code",
   "execution_count": 18,
   "outputs": [
    {
     "data": {
      "text/plain": "        Unnamed: 0.8  Unnamed: 0.7  Unnamed: 0.6  Unnamed: 0.5  Unnamed: 0.4  \\\nfirst              0             0             0             0             0   \nsecond             1             1             1             1             1   \nthird              2             2             2             2             2   \nfourth             3             3             3             3             3   \n\n        Unnamed: 0.3  Unnamed: 0.2  Unnamed: 0.1  Unnamed: 0  Tain No.  Speed  \\\nfirst              0             0             0           0     12322     50   \nsecond             1             1             1           1     12534    123   \nthird              2             2             2           2    125654     67   \nfourth             3             3             3           3    564523     87   \n\n              City  \nfirst   chandigarh  \nsecond     patiala  \nthird     ludhiana  \nfourth      rajkot  ",
      "text/html": "<div>\n<style scoped>\n    .dataframe tbody tr th:only-of-type {\n        vertical-align: middle;\n    }\n\n    .dataframe tbody tr th {\n        vertical-align: top;\n    }\n\n    .dataframe thead th {\n        text-align: right;\n    }\n</style>\n<table border=\"1\" class=\"dataframe\">\n  <thead>\n    <tr style=\"text-align: right;\">\n      <th></th>\n      <th>Unnamed: 0.8</th>\n      <th>Unnamed: 0.7</th>\n      <th>Unnamed: 0.6</th>\n      <th>Unnamed: 0.5</th>\n      <th>Unnamed: 0.4</th>\n      <th>Unnamed: 0.3</th>\n      <th>Unnamed: 0.2</th>\n      <th>Unnamed: 0.1</th>\n      <th>Unnamed: 0</th>\n      <th>Tain No.</th>\n      <th>Speed</th>\n      <th>City</th>\n    </tr>\n  </thead>\n  <tbody>\n    <tr>\n      <th>first</th>\n      <td>0</td>\n      <td>0</td>\n      <td>0</td>\n      <td>0</td>\n      <td>0</td>\n      <td>0</td>\n      <td>0</td>\n      <td>0</td>\n      <td>0</td>\n      <td>12322</td>\n      <td>50</td>\n      <td>chandigarh</td>\n    </tr>\n    <tr>\n      <th>second</th>\n      <td>1</td>\n      <td>1</td>\n      <td>1</td>\n      <td>1</td>\n      <td>1</td>\n      <td>1</td>\n      <td>1</td>\n      <td>1</td>\n      <td>1</td>\n      <td>12534</td>\n      <td>123</td>\n      <td>patiala</td>\n    </tr>\n    <tr>\n      <th>third</th>\n      <td>2</td>\n      <td>2</td>\n      <td>2</td>\n      <td>2</td>\n      <td>2</td>\n      <td>2</td>\n      <td>2</td>\n      <td>2</td>\n      <td>2</td>\n      <td>125654</td>\n      <td>67</td>\n      <td>ludhiana</td>\n    </tr>\n    <tr>\n      <th>fourth</th>\n      <td>3</td>\n      <td>3</td>\n      <td>3</td>\n      <td>3</td>\n      <td>3</td>\n      <td>3</td>\n      <td>3</td>\n      <td>3</td>\n      <td>3</td>\n      <td>564523</td>\n      <td>87</td>\n      <td>rajkot</td>\n    </tr>\n  </tbody>\n</table>\n</div>"
     },
     "execution_count": 18,
     "metadata": {},
     "output_type": "execute_result"
    }
   ],
   "source": [
    "timmy"
   ],
   "metadata": {
    "collapsed": false,
    "pycharm": {
     "name": "#%%\n"
    }
   }
  },
  {
   "cell_type": "code",
   "execution_count": 19,
   "outputs": [],
   "source": [
    "ser=pd.Series(np.random.rand(34))"
   ],
   "metadata": {
    "collapsed": false,
    "pycharm": {
     "name": "#%%\n"
    }
   }
  },
  {
   "cell_type": "code",
   "execution_count": 20,
   "outputs": [
    {
     "data": {
      "text/plain": "0     0.649187\n1     0.111223\n2     0.614733\n3     0.715828\n4     0.217442\n5     0.167363\n6     0.971884\n7     0.895058\n8     0.775345\n9     0.831788\n10    0.889186\n11    0.724006\n12    0.845097\n13    0.598583\n14    0.623401\n15    0.201496\n16    0.689798\n17    0.767743\n18    0.987272\n19    0.087026\n20    0.650054\n21    0.845682\n22    0.706537\n23    0.116548\n24    0.948979\n25    0.045513\n26    0.654909\n27    0.505037\n28    0.734368\n29    0.007194\n30    0.553135\n31    0.623247\n32    0.704154\n33    0.542610\ndtype: float64"
     },
     "execution_count": 20,
     "metadata": {},
     "output_type": "execute_result"
    }
   ],
   "source": [
    "ser"
   ],
   "metadata": {
    "collapsed": false,
    "pycharm": {
     "name": "#%%\n"
    }
   }
  },
  {
   "cell_type": "code",
   "execution_count": 21,
   "outputs": [
    {
     "data": {
      "text/plain": "pandas.core.series.Series"
     },
     "execution_count": 21,
     "metadata": {},
     "output_type": "execute_result"
    }
   ],
   "source": [
    "type(ser)"
   ],
   "metadata": {
    "collapsed": false,
    "pycharm": {
     "name": "#%%\n"
    }
   }
  },
  {
   "cell_type": "code",
   "execution_count": 22,
   "outputs": [],
   "source": [
    "newdf=pd.DataFrame(np.random.rand(334,5), index=np.arange(334))"
   ],
   "metadata": {
    "collapsed": false,
    "pycharm": {
     "name": "#%%\n"
    }
   }
  },
  {
   "cell_type": "code",
   "execution_count": 23,
   "outputs": [
    {
     "data": {
      "text/plain": "          0         1         2         3         4\n0  0.432357  0.041995  0.699357  0.462174  0.513841\n1  0.262802  0.843322  0.392428  0.563360  0.999545\n2  0.505932  0.735391  0.233032  0.036597  0.923612\n3  0.460307  0.216057  0.214916  0.872143  0.131151\n4  0.279013  0.412259  0.972149  0.575664  0.904100",
      "text/html": "<div>\n<style scoped>\n    .dataframe tbody tr th:only-of-type {\n        vertical-align: middle;\n    }\n\n    .dataframe tbody tr th {\n        vertical-align: top;\n    }\n\n    .dataframe thead th {\n        text-align: right;\n    }\n</style>\n<table border=\"1\" class=\"dataframe\">\n  <thead>\n    <tr style=\"text-align: right;\">\n      <th></th>\n      <th>0</th>\n      <th>1</th>\n      <th>2</th>\n      <th>3</th>\n      <th>4</th>\n    </tr>\n  </thead>\n  <tbody>\n    <tr>\n      <th>0</th>\n      <td>0.432357</td>\n      <td>0.041995</td>\n      <td>0.699357</td>\n      <td>0.462174</td>\n      <td>0.513841</td>\n    </tr>\n    <tr>\n      <th>1</th>\n      <td>0.262802</td>\n      <td>0.843322</td>\n      <td>0.392428</td>\n      <td>0.563360</td>\n      <td>0.999545</td>\n    </tr>\n    <tr>\n      <th>2</th>\n      <td>0.505932</td>\n      <td>0.735391</td>\n      <td>0.233032</td>\n      <td>0.036597</td>\n      <td>0.923612</td>\n    </tr>\n    <tr>\n      <th>3</th>\n      <td>0.460307</td>\n      <td>0.216057</td>\n      <td>0.214916</td>\n      <td>0.872143</td>\n      <td>0.131151</td>\n    </tr>\n    <tr>\n      <th>4</th>\n      <td>0.279013</td>\n      <td>0.412259</td>\n      <td>0.972149</td>\n      <td>0.575664</td>\n      <td>0.904100</td>\n    </tr>\n  </tbody>\n</table>\n</div>"
     },
     "execution_count": 23,
     "metadata": {},
     "output_type": "execute_result"
    }
   ],
   "source": [
    "newdf.head()"
   ],
   "metadata": {
    "collapsed": false,
    "pycharm": {
     "name": "#%%\n"
    }
   }
  },
  {
   "cell_type": "code",
   "execution_count": 24,
   "outputs": [
    {
     "data": {
      "text/plain": "pandas.core.frame.DataFrame"
     },
     "execution_count": 24,
     "metadata": {},
     "output_type": "execute_result"
    }
   ],
   "source": [
    "type(newdf)"
   ],
   "metadata": {
    "collapsed": false,
    "pycharm": {
     "name": "#%%\n"
    }
   }
  },
  {
   "cell_type": "code",
   "execution_count": 25,
   "outputs": [
    {
     "data": {
      "text/plain": "                0           1           2           3           4\ncount  334.000000  334.000000  334.000000  334.000000  334.000000\nmean     0.498014    0.488668    0.483405    0.513521    0.509201\nstd      0.283967    0.281912    0.274327    0.295075    0.285607\nmin      0.001196    0.000213    0.003405    0.000062    0.001011\n25%      0.251271    0.264880    0.272532    0.246918    0.268964\n50%      0.506515    0.483119    0.463520    0.527254    0.525915\n75%      0.718694    0.724160    0.705312    0.778695    0.765169\nmax      0.989644    0.999811    0.988883    0.997454    0.999545",
      "text/html": "<div>\n<style scoped>\n    .dataframe tbody tr th:only-of-type {\n        vertical-align: middle;\n    }\n\n    .dataframe tbody tr th {\n        vertical-align: top;\n    }\n\n    .dataframe thead th {\n        text-align: right;\n    }\n</style>\n<table border=\"1\" class=\"dataframe\">\n  <thead>\n    <tr style=\"text-align: right;\">\n      <th></th>\n      <th>0</th>\n      <th>1</th>\n      <th>2</th>\n      <th>3</th>\n      <th>4</th>\n    </tr>\n  </thead>\n  <tbody>\n    <tr>\n      <th>count</th>\n      <td>334.000000</td>\n      <td>334.000000</td>\n      <td>334.000000</td>\n      <td>334.000000</td>\n      <td>334.000000</td>\n    </tr>\n    <tr>\n      <th>mean</th>\n      <td>0.498014</td>\n      <td>0.488668</td>\n      <td>0.483405</td>\n      <td>0.513521</td>\n      <td>0.509201</td>\n    </tr>\n    <tr>\n      <th>std</th>\n      <td>0.283967</td>\n      <td>0.281912</td>\n      <td>0.274327</td>\n      <td>0.295075</td>\n      <td>0.285607</td>\n    </tr>\n    <tr>\n      <th>min</th>\n      <td>0.001196</td>\n      <td>0.000213</td>\n      <td>0.003405</td>\n      <td>0.000062</td>\n      <td>0.001011</td>\n    </tr>\n    <tr>\n      <th>25%</th>\n      <td>0.251271</td>\n      <td>0.264880</td>\n      <td>0.272532</td>\n      <td>0.246918</td>\n      <td>0.268964</td>\n    </tr>\n    <tr>\n      <th>50%</th>\n      <td>0.506515</td>\n      <td>0.483119</td>\n      <td>0.463520</td>\n      <td>0.527254</td>\n      <td>0.525915</td>\n    </tr>\n    <tr>\n      <th>75%</th>\n      <td>0.718694</td>\n      <td>0.724160</td>\n      <td>0.705312</td>\n      <td>0.778695</td>\n      <td>0.765169</td>\n    </tr>\n    <tr>\n      <th>max</th>\n      <td>0.989644</td>\n      <td>0.999811</td>\n      <td>0.988883</td>\n      <td>0.997454</td>\n      <td>0.999545</td>\n    </tr>\n  </tbody>\n</table>\n</div>"
     },
     "execution_count": 25,
     "metadata": {},
     "output_type": "execute_result"
    }
   ],
   "source": [
    "newdf.describe()"
   ],
   "metadata": {
    "collapsed": false,
    "pycharm": {
     "name": "#%%\n"
    }
   }
  },
  {
   "cell_type": "code",
   "execution_count": 26,
   "outputs": [
    {
     "data": {
      "text/plain": "0    float64\n1    float64\n2    float64\n3    float64\n4    float64\ndtype: object"
     },
     "execution_count": 26,
     "metadata": {},
     "output_type": "execute_result"
    }
   ],
   "source": [
    "newdf.dtypes"
   ],
   "metadata": {
    "collapsed": false,
    "pycharm": {
     "name": "#%%\n"
    }
   }
  },
  {
   "cell_type": "code",
   "execution_count": 27,
   "outputs": [
    {
     "data": {
      "text/plain": "Int64Index([  0,   1,   2,   3,   4,   5,   6,   7,   8,   9,\n            ...\n            324, 325, 326, 327, 328, 329, 330, 331, 332, 333],\n           dtype='int64', length=334)"
     },
     "execution_count": 27,
     "metadata": {},
     "output_type": "execute_result"
    }
   ],
   "source": [
    "newdf.index"
   ],
   "metadata": {
    "collapsed": false,
    "pycharm": {
     "name": "#%%\n"
    }
   }
  },
  {
   "cell_type": "code",
   "execution_count": 28,
   "outputs": [
    {
     "data": {
      "text/plain": "RangeIndex(start=0, stop=5, step=1)"
     },
     "execution_count": 28,
     "metadata": {},
     "output_type": "execute_result"
    }
   ],
   "source": [
    "newdf.columns"
   ],
   "metadata": {
    "collapsed": false,
    "pycharm": {
     "name": "#%%\n"
    }
   }
  },
  {
   "cell_type": "code",
   "execution_count": 29,
   "outputs": [
    {
     "data": {
      "text/plain": "array([[0.43235669, 0.04199529, 0.69935663, 0.46217443, 0.51384132],\n       [0.26280179, 0.84332156, 0.39242755, 0.5633597 , 0.99954476],\n       [0.5059323 , 0.73539051, 0.23303236, 0.03659653, 0.9236122 ],\n       ...,\n       [0.58096919, 0.89299771, 0.56898889, 0.32701002, 0.7691631 ],\n       [0.66545012, 0.2679374 , 0.82606109, 0.8089482 , 0.85171806],\n       [0.9644446 , 0.17122408, 0.37525062, 0.16603423, 0.52575991]])"
     },
     "execution_count": 29,
     "metadata": {},
     "output_type": "execute_result"
    }
   ],
   "source": [
    "newdf.to_numpy()"
   ],
   "metadata": {
    "collapsed": false,
    "pycharm": {
     "name": "#%%\n"
    }
   }
  },
  {
   "cell_type": "code",
   "execution_count": 30,
   "outputs": [
    {
     "data": {
      "text/plain": "0    float64\n1    float64\n2    float64\n3    float64\n4    float64\ndtype: object"
     },
     "execution_count": 30,
     "metadata": {},
     "output_type": "execute_result"
    }
   ],
   "source": [
    "newdf.dtypes"
   ],
   "metadata": {
    "collapsed": false,
    "pycharm": {
     "name": "#%%\n"
    }
   }
  },
  {
   "cell_type": "code",
   "execution_count": 31,
   "outputs": [
    {
     "data": {
      "text/plain": "        0         1         2         3         4         5         6    \\\n0  0.432357  0.262802  0.505932  0.460307  0.279013  0.107161  0.676925   \n1  0.041995  0.843322  0.735391  0.216057  0.412259  0.999490  0.588592   \n2  0.699357  0.392428  0.233032  0.214916  0.972149  0.743339  0.605150   \n3  0.462174  0.563360  0.036597  0.872143  0.575664  0.340126  0.211070   \n4  0.513841  0.999545  0.923612  0.131151  0.904100  0.331137  0.430475   \n\n        7         8         9    ...       324       325       326       327  \\\n0  0.200528  0.458591  0.245854  ...  0.931455  0.598057  0.130788  0.418737   \n1  0.658565  0.370050  0.834811  ...  0.319964  0.979261  0.896710  0.685152   \n2  0.467204  0.303564  0.493673  ...  0.964551  0.571275  0.851015  0.448726   \n3  0.737600  0.186827  0.485992  ...  0.563364  0.255342  0.516450  0.797682   \n4  0.736116  0.232222  0.267372  ...  0.549424  0.814760  0.542951  0.341981   \n\n        328       329       330       331       332       333  \n0  0.780333  0.814939  0.955822  0.580969  0.665450  0.964445  \n1  0.142779  0.307182  0.139222  0.892998  0.267937  0.171224  \n2  0.699810  0.171175  0.316163  0.568989  0.826061  0.375251  \n3  0.353259  0.239330  0.837440  0.327010  0.808948  0.166034  \n4  0.068184  0.358561  0.714484  0.769163  0.851718  0.525760  \n\n[5 rows x 334 columns]",
      "text/html": "<div>\n<style scoped>\n    .dataframe tbody tr th:only-of-type {\n        vertical-align: middle;\n    }\n\n    .dataframe tbody tr th {\n        vertical-align: top;\n    }\n\n    .dataframe thead th {\n        text-align: right;\n    }\n</style>\n<table border=\"1\" class=\"dataframe\">\n  <thead>\n    <tr style=\"text-align: right;\">\n      <th></th>\n      <th>0</th>\n      <th>1</th>\n      <th>2</th>\n      <th>3</th>\n      <th>4</th>\n      <th>5</th>\n      <th>6</th>\n      <th>7</th>\n      <th>8</th>\n      <th>9</th>\n      <th>...</th>\n      <th>324</th>\n      <th>325</th>\n      <th>326</th>\n      <th>327</th>\n      <th>328</th>\n      <th>329</th>\n      <th>330</th>\n      <th>331</th>\n      <th>332</th>\n      <th>333</th>\n    </tr>\n  </thead>\n  <tbody>\n    <tr>\n      <th>0</th>\n      <td>0.432357</td>\n      <td>0.262802</td>\n      <td>0.505932</td>\n      <td>0.460307</td>\n      <td>0.279013</td>\n      <td>0.107161</td>\n      <td>0.676925</td>\n      <td>0.200528</td>\n      <td>0.458591</td>\n      <td>0.245854</td>\n      <td>...</td>\n      <td>0.931455</td>\n      <td>0.598057</td>\n      <td>0.130788</td>\n      <td>0.418737</td>\n      <td>0.780333</td>\n      <td>0.814939</td>\n      <td>0.955822</td>\n      <td>0.580969</td>\n      <td>0.665450</td>\n      <td>0.964445</td>\n    </tr>\n    <tr>\n      <th>1</th>\n      <td>0.041995</td>\n      <td>0.843322</td>\n      <td>0.735391</td>\n      <td>0.216057</td>\n      <td>0.412259</td>\n      <td>0.999490</td>\n      <td>0.588592</td>\n      <td>0.658565</td>\n      <td>0.370050</td>\n      <td>0.834811</td>\n      <td>...</td>\n      <td>0.319964</td>\n      <td>0.979261</td>\n      <td>0.896710</td>\n      <td>0.685152</td>\n      <td>0.142779</td>\n      <td>0.307182</td>\n      <td>0.139222</td>\n      <td>0.892998</td>\n      <td>0.267937</td>\n      <td>0.171224</td>\n    </tr>\n    <tr>\n      <th>2</th>\n      <td>0.699357</td>\n      <td>0.392428</td>\n      <td>0.233032</td>\n      <td>0.214916</td>\n      <td>0.972149</td>\n      <td>0.743339</td>\n      <td>0.605150</td>\n      <td>0.467204</td>\n      <td>0.303564</td>\n      <td>0.493673</td>\n      <td>...</td>\n      <td>0.964551</td>\n      <td>0.571275</td>\n      <td>0.851015</td>\n      <td>0.448726</td>\n      <td>0.699810</td>\n      <td>0.171175</td>\n      <td>0.316163</td>\n      <td>0.568989</td>\n      <td>0.826061</td>\n      <td>0.375251</td>\n    </tr>\n    <tr>\n      <th>3</th>\n      <td>0.462174</td>\n      <td>0.563360</td>\n      <td>0.036597</td>\n      <td>0.872143</td>\n      <td>0.575664</td>\n      <td>0.340126</td>\n      <td>0.211070</td>\n      <td>0.737600</td>\n      <td>0.186827</td>\n      <td>0.485992</td>\n      <td>...</td>\n      <td>0.563364</td>\n      <td>0.255342</td>\n      <td>0.516450</td>\n      <td>0.797682</td>\n      <td>0.353259</td>\n      <td>0.239330</td>\n      <td>0.837440</td>\n      <td>0.327010</td>\n      <td>0.808948</td>\n      <td>0.166034</td>\n    </tr>\n    <tr>\n      <th>4</th>\n      <td>0.513841</td>\n      <td>0.999545</td>\n      <td>0.923612</td>\n      <td>0.131151</td>\n      <td>0.904100</td>\n      <td>0.331137</td>\n      <td>0.430475</td>\n      <td>0.736116</td>\n      <td>0.232222</td>\n      <td>0.267372</td>\n      <td>...</td>\n      <td>0.549424</td>\n      <td>0.814760</td>\n      <td>0.542951</td>\n      <td>0.341981</td>\n      <td>0.068184</td>\n      <td>0.358561</td>\n      <td>0.714484</td>\n      <td>0.769163</td>\n      <td>0.851718</td>\n      <td>0.525760</td>\n    </tr>\n  </tbody>\n</table>\n<p>5 rows × 334 columns</p>\n</div>"
     },
     "execution_count": 31,
     "metadata": {},
     "output_type": "execute_result"
    }
   ],
   "source": [
    "newdf.T"
   ],
   "metadata": {
    "collapsed": false,
    "pycharm": {
     "name": "#%%\n"
    }
   }
  },
  {
   "cell_type": "code",
   "execution_count": 32,
   "outputs": [
    {
     "data": {
      "text/plain": "            0         1         2         3         4\n0    0.432357  0.041995  0.699357  0.462174  0.513841\n1    0.262802  0.843322  0.392428  0.563360  0.999545\n2    0.505932  0.735391  0.233032  0.036597  0.923612\n3    0.460307  0.216057  0.214916  0.872143  0.131151\n4    0.279013  0.412259  0.972149  0.575664  0.904100\n..        ...       ...       ...       ...       ...\n329  0.814939  0.307182  0.171175  0.239330  0.358561\n330  0.955822  0.139222  0.316163  0.837440  0.714484\n331  0.580969  0.892998  0.568989  0.327010  0.769163\n332  0.665450  0.267937  0.826061  0.808948  0.851718\n333  0.964445  0.171224  0.375251  0.166034  0.525760\n\n[334 rows x 5 columns]",
      "text/html": "<div>\n<style scoped>\n    .dataframe tbody tr th:only-of-type {\n        vertical-align: middle;\n    }\n\n    .dataframe tbody tr th {\n        vertical-align: top;\n    }\n\n    .dataframe thead th {\n        text-align: right;\n    }\n</style>\n<table border=\"1\" class=\"dataframe\">\n  <thead>\n    <tr style=\"text-align: right;\">\n      <th></th>\n      <th>0</th>\n      <th>1</th>\n      <th>2</th>\n      <th>3</th>\n      <th>4</th>\n    </tr>\n  </thead>\n  <tbody>\n    <tr>\n      <th>0</th>\n      <td>0.432357</td>\n      <td>0.041995</td>\n      <td>0.699357</td>\n      <td>0.462174</td>\n      <td>0.513841</td>\n    </tr>\n    <tr>\n      <th>1</th>\n      <td>0.262802</td>\n      <td>0.843322</td>\n      <td>0.392428</td>\n      <td>0.563360</td>\n      <td>0.999545</td>\n    </tr>\n    <tr>\n      <th>2</th>\n      <td>0.505932</td>\n      <td>0.735391</td>\n      <td>0.233032</td>\n      <td>0.036597</td>\n      <td>0.923612</td>\n    </tr>\n    <tr>\n      <th>3</th>\n      <td>0.460307</td>\n      <td>0.216057</td>\n      <td>0.214916</td>\n      <td>0.872143</td>\n      <td>0.131151</td>\n    </tr>\n    <tr>\n      <th>4</th>\n      <td>0.279013</td>\n      <td>0.412259</td>\n      <td>0.972149</td>\n      <td>0.575664</td>\n      <td>0.904100</td>\n    </tr>\n    <tr>\n      <th>...</th>\n      <td>...</td>\n      <td>...</td>\n      <td>...</td>\n      <td>...</td>\n      <td>...</td>\n    </tr>\n    <tr>\n      <th>329</th>\n      <td>0.814939</td>\n      <td>0.307182</td>\n      <td>0.171175</td>\n      <td>0.239330</td>\n      <td>0.358561</td>\n    </tr>\n    <tr>\n      <th>330</th>\n      <td>0.955822</td>\n      <td>0.139222</td>\n      <td>0.316163</td>\n      <td>0.837440</td>\n      <td>0.714484</td>\n    </tr>\n    <tr>\n      <th>331</th>\n      <td>0.580969</td>\n      <td>0.892998</td>\n      <td>0.568989</td>\n      <td>0.327010</td>\n      <td>0.769163</td>\n    </tr>\n    <tr>\n      <th>332</th>\n      <td>0.665450</td>\n      <td>0.267937</td>\n      <td>0.826061</td>\n      <td>0.808948</td>\n      <td>0.851718</td>\n    </tr>\n    <tr>\n      <th>333</th>\n      <td>0.964445</td>\n      <td>0.171224</td>\n      <td>0.375251</td>\n      <td>0.166034</td>\n      <td>0.525760</td>\n    </tr>\n  </tbody>\n</table>\n<p>334 rows × 5 columns</p>\n</div>"
     },
     "execution_count": 32,
     "metadata": {},
     "output_type": "execute_result"
    }
   ],
   "source": [
    "newdf"
   ],
   "metadata": {
    "collapsed": false,
    "pycharm": {
     "name": "#%%\n"
    }
   }
  },
  {
   "cell_type": "code",
   "execution_count": 33,
   "outputs": [
    {
     "data": {
      "text/plain": "            0         1         2         3         4\n333  0.964445  0.171224  0.375251  0.166034  0.525760\n332  0.665450  0.267937  0.826061  0.808948  0.851718\n331  0.580969  0.892998  0.568989  0.327010  0.769163\n330  0.955822  0.139222  0.316163  0.837440  0.714484\n329  0.814939  0.307182  0.171175  0.239330  0.358561\n..        ...       ...       ...       ...       ...\n4    0.279013  0.412259  0.972149  0.575664  0.904100\n3    0.460307  0.216057  0.214916  0.872143  0.131151\n2    0.505932  0.735391  0.233032  0.036597  0.923612\n1    0.262802  0.843322  0.392428  0.563360  0.999545\n0    0.432357  0.041995  0.699357  0.462174  0.513841\n\n[334 rows x 5 columns]",
      "text/html": "<div>\n<style scoped>\n    .dataframe tbody tr th:only-of-type {\n        vertical-align: middle;\n    }\n\n    .dataframe tbody tr th {\n        vertical-align: top;\n    }\n\n    .dataframe thead th {\n        text-align: right;\n    }\n</style>\n<table border=\"1\" class=\"dataframe\">\n  <thead>\n    <tr style=\"text-align: right;\">\n      <th></th>\n      <th>0</th>\n      <th>1</th>\n      <th>2</th>\n      <th>3</th>\n      <th>4</th>\n    </tr>\n  </thead>\n  <tbody>\n    <tr>\n      <th>333</th>\n      <td>0.964445</td>\n      <td>0.171224</td>\n      <td>0.375251</td>\n      <td>0.166034</td>\n      <td>0.525760</td>\n    </tr>\n    <tr>\n      <th>332</th>\n      <td>0.665450</td>\n      <td>0.267937</td>\n      <td>0.826061</td>\n      <td>0.808948</td>\n      <td>0.851718</td>\n    </tr>\n    <tr>\n      <th>331</th>\n      <td>0.580969</td>\n      <td>0.892998</td>\n      <td>0.568989</td>\n      <td>0.327010</td>\n      <td>0.769163</td>\n    </tr>\n    <tr>\n      <th>330</th>\n      <td>0.955822</td>\n      <td>0.139222</td>\n      <td>0.316163</td>\n      <td>0.837440</td>\n      <td>0.714484</td>\n    </tr>\n    <tr>\n      <th>329</th>\n      <td>0.814939</td>\n      <td>0.307182</td>\n      <td>0.171175</td>\n      <td>0.239330</td>\n      <td>0.358561</td>\n    </tr>\n    <tr>\n      <th>...</th>\n      <td>...</td>\n      <td>...</td>\n      <td>...</td>\n      <td>...</td>\n      <td>...</td>\n    </tr>\n    <tr>\n      <th>4</th>\n      <td>0.279013</td>\n      <td>0.412259</td>\n      <td>0.972149</td>\n      <td>0.575664</td>\n      <td>0.904100</td>\n    </tr>\n    <tr>\n      <th>3</th>\n      <td>0.460307</td>\n      <td>0.216057</td>\n      <td>0.214916</td>\n      <td>0.872143</td>\n      <td>0.131151</td>\n    </tr>\n    <tr>\n      <th>2</th>\n      <td>0.505932</td>\n      <td>0.735391</td>\n      <td>0.233032</td>\n      <td>0.036597</td>\n      <td>0.923612</td>\n    </tr>\n    <tr>\n      <th>1</th>\n      <td>0.262802</td>\n      <td>0.843322</td>\n      <td>0.392428</td>\n      <td>0.563360</td>\n      <td>0.999545</td>\n    </tr>\n    <tr>\n      <th>0</th>\n      <td>0.432357</td>\n      <td>0.041995</td>\n      <td>0.699357</td>\n      <td>0.462174</td>\n      <td>0.513841</td>\n    </tr>\n  </tbody>\n</table>\n<p>334 rows × 5 columns</p>\n</div>"
     },
     "execution_count": 33,
     "metadata": {},
     "output_type": "execute_result"
    }
   ],
   "source": [
    "newdf.sort_index(axis=0,ascending=False)"
   ],
   "metadata": {
    "collapsed": false,
    "pycharm": {
     "name": "#%%\n"
    }
   }
  },
  {
   "cell_type": "code",
   "execution_count": 34,
   "outputs": [
    {
     "data": {
      "text/plain": "            4         3         2         1         0\n0    0.513841  0.462174  0.699357  0.041995  0.432357\n1    0.999545  0.563360  0.392428  0.843322  0.262802\n2    0.923612  0.036597  0.233032  0.735391  0.505932\n3    0.131151  0.872143  0.214916  0.216057  0.460307\n4    0.904100  0.575664  0.972149  0.412259  0.279013\n..        ...       ...       ...       ...       ...\n329  0.358561  0.239330  0.171175  0.307182  0.814939\n330  0.714484  0.837440  0.316163  0.139222  0.955822\n331  0.769163  0.327010  0.568989  0.892998  0.580969\n332  0.851718  0.808948  0.826061  0.267937  0.665450\n333  0.525760  0.166034  0.375251  0.171224  0.964445\n\n[334 rows x 5 columns]",
      "text/html": "<div>\n<style scoped>\n    .dataframe tbody tr th:only-of-type {\n        vertical-align: middle;\n    }\n\n    .dataframe tbody tr th {\n        vertical-align: top;\n    }\n\n    .dataframe thead th {\n        text-align: right;\n    }\n</style>\n<table border=\"1\" class=\"dataframe\">\n  <thead>\n    <tr style=\"text-align: right;\">\n      <th></th>\n      <th>4</th>\n      <th>3</th>\n      <th>2</th>\n      <th>1</th>\n      <th>0</th>\n    </tr>\n  </thead>\n  <tbody>\n    <tr>\n      <th>0</th>\n      <td>0.513841</td>\n      <td>0.462174</td>\n      <td>0.699357</td>\n      <td>0.041995</td>\n      <td>0.432357</td>\n    </tr>\n    <tr>\n      <th>1</th>\n      <td>0.999545</td>\n      <td>0.563360</td>\n      <td>0.392428</td>\n      <td>0.843322</td>\n      <td>0.262802</td>\n    </tr>\n    <tr>\n      <th>2</th>\n      <td>0.923612</td>\n      <td>0.036597</td>\n      <td>0.233032</td>\n      <td>0.735391</td>\n      <td>0.505932</td>\n    </tr>\n    <tr>\n      <th>3</th>\n      <td>0.131151</td>\n      <td>0.872143</td>\n      <td>0.214916</td>\n      <td>0.216057</td>\n      <td>0.460307</td>\n    </tr>\n    <tr>\n      <th>4</th>\n      <td>0.904100</td>\n      <td>0.575664</td>\n      <td>0.972149</td>\n      <td>0.412259</td>\n      <td>0.279013</td>\n    </tr>\n    <tr>\n      <th>...</th>\n      <td>...</td>\n      <td>...</td>\n      <td>...</td>\n      <td>...</td>\n      <td>...</td>\n    </tr>\n    <tr>\n      <th>329</th>\n      <td>0.358561</td>\n      <td>0.239330</td>\n      <td>0.171175</td>\n      <td>0.307182</td>\n      <td>0.814939</td>\n    </tr>\n    <tr>\n      <th>330</th>\n      <td>0.714484</td>\n      <td>0.837440</td>\n      <td>0.316163</td>\n      <td>0.139222</td>\n      <td>0.955822</td>\n    </tr>\n    <tr>\n      <th>331</th>\n      <td>0.769163</td>\n      <td>0.327010</td>\n      <td>0.568989</td>\n      <td>0.892998</td>\n      <td>0.580969</td>\n    </tr>\n    <tr>\n      <th>332</th>\n      <td>0.851718</td>\n      <td>0.808948</td>\n      <td>0.826061</td>\n      <td>0.267937</td>\n      <td>0.665450</td>\n    </tr>\n    <tr>\n      <th>333</th>\n      <td>0.525760</td>\n      <td>0.166034</td>\n      <td>0.375251</td>\n      <td>0.171224</td>\n      <td>0.964445</td>\n    </tr>\n  </tbody>\n</table>\n<p>334 rows × 5 columns</p>\n</div>"
     },
     "execution_count": 34,
     "metadata": {},
     "output_type": "execute_result"
    }
   ],
   "source": [
    "newdf.sort_index(axis=1,ascending=False)"
   ],
   "metadata": {
    "collapsed": false,
    "pycharm": {
     "name": "#%%\n"
    }
   }
  },
  {
   "cell_type": "code",
   "execution_count": 35,
   "outputs": [],
   "source": [
    "newdf2=newdf"
   ],
   "metadata": {
    "collapsed": false,
    "pycharm": {
     "name": "#%%\n"
    }
   }
  },
  {
   "cell_type": "code",
   "execution_count": 36,
   "outputs": [],
   "source": [
    "newdf2[0][0]=9756"
   ],
   "metadata": {
    "collapsed": false,
    "pycharm": {
     "name": "#%%\n"
    }
   }
  },
  {
   "cell_type": "code",
   "execution_count": 37,
   "outputs": [
    {
     "data": {
      "text/plain": "               0         1         2         3         4\n0    9756.000000  0.041995  0.699357  0.462174  0.513841\n1       0.262802  0.843322  0.392428  0.563360  0.999545\n2       0.505932  0.735391  0.233032  0.036597  0.923612\n3       0.460307  0.216057  0.214916  0.872143  0.131151\n4       0.279013  0.412259  0.972149  0.575664  0.904100\n..           ...       ...       ...       ...       ...\n329     0.814939  0.307182  0.171175  0.239330  0.358561\n330     0.955822  0.139222  0.316163  0.837440  0.714484\n331     0.580969  0.892998  0.568989  0.327010  0.769163\n332     0.665450  0.267937  0.826061  0.808948  0.851718\n333     0.964445  0.171224  0.375251  0.166034  0.525760\n\n[334 rows x 5 columns]",
      "text/html": "<div>\n<style scoped>\n    .dataframe tbody tr th:only-of-type {\n        vertical-align: middle;\n    }\n\n    .dataframe tbody tr th {\n        vertical-align: top;\n    }\n\n    .dataframe thead th {\n        text-align: right;\n    }\n</style>\n<table border=\"1\" class=\"dataframe\">\n  <thead>\n    <tr style=\"text-align: right;\">\n      <th></th>\n      <th>0</th>\n      <th>1</th>\n      <th>2</th>\n      <th>3</th>\n      <th>4</th>\n    </tr>\n  </thead>\n  <tbody>\n    <tr>\n      <th>0</th>\n      <td>9756.000000</td>\n      <td>0.041995</td>\n      <td>0.699357</td>\n      <td>0.462174</td>\n      <td>0.513841</td>\n    </tr>\n    <tr>\n      <th>1</th>\n      <td>0.262802</td>\n      <td>0.843322</td>\n      <td>0.392428</td>\n      <td>0.563360</td>\n      <td>0.999545</td>\n    </tr>\n    <tr>\n      <th>2</th>\n      <td>0.505932</td>\n      <td>0.735391</td>\n      <td>0.233032</td>\n      <td>0.036597</td>\n      <td>0.923612</td>\n    </tr>\n    <tr>\n      <th>3</th>\n      <td>0.460307</td>\n      <td>0.216057</td>\n      <td>0.214916</td>\n      <td>0.872143</td>\n      <td>0.131151</td>\n    </tr>\n    <tr>\n      <th>4</th>\n      <td>0.279013</td>\n      <td>0.412259</td>\n      <td>0.972149</td>\n      <td>0.575664</td>\n      <td>0.904100</td>\n    </tr>\n    <tr>\n      <th>...</th>\n      <td>...</td>\n      <td>...</td>\n      <td>...</td>\n      <td>...</td>\n      <td>...</td>\n    </tr>\n    <tr>\n      <th>329</th>\n      <td>0.814939</td>\n      <td>0.307182</td>\n      <td>0.171175</td>\n      <td>0.239330</td>\n      <td>0.358561</td>\n    </tr>\n    <tr>\n      <th>330</th>\n      <td>0.955822</td>\n      <td>0.139222</td>\n      <td>0.316163</td>\n      <td>0.837440</td>\n      <td>0.714484</td>\n    </tr>\n    <tr>\n      <th>331</th>\n      <td>0.580969</td>\n      <td>0.892998</td>\n      <td>0.568989</td>\n      <td>0.327010</td>\n      <td>0.769163</td>\n    </tr>\n    <tr>\n      <th>332</th>\n      <td>0.665450</td>\n      <td>0.267937</td>\n      <td>0.826061</td>\n      <td>0.808948</td>\n      <td>0.851718</td>\n    </tr>\n    <tr>\n      <th>333</th>\n      <td>0.964445</td>\n      <td>0.171224</td>\n      <td>0.375251</td>\n      <td>0.166034</td>\n      <td>0.525760</td>\n    </tr>\n  </tbody>\n</table>\n<p>334 rows × 5 columns</p>\n</div>"
     },
     "execution_count": 37,
     "metadata": {},
     "output_type": "execute_result"
    }
   ],
   "source": [
    "newdf"
   ],
   "metadata": {
    "collapsed": false,
    "pycharm": {
     "name": "#%%\n"
    }
   }
  },
  {
   "cell_type": "code",
   "execution_count": 38,
   "outputs": [],
   "source": [
    "newdf3=newdf.copy()"
   ],
   "metadata": {
    "collapsed": false,
    "pycharm": {
     "name": "#%%\n"
    }
   }
  },
  {
   "cell_type": "code",
   "execution_count": 39,
   "outputs": [
    {
     "data": {
      "text/plain": "               0         1         2         3         4\n0    9756.000000  0.041995  0.699357  0.462174  0.513841\n1       0.262802  0.843322  0.392428  0.563360  0.999545\n2       0.505932  0.735391  0.233032  0.036597  0.923612\n3       0.460307  0.216057  0.214916  0.872143  0.131151\n4       0.279013  0.412259  0.972149  0.575664  0.904100\n..           ...       ...       ...       ...       ...\n329     0.814939  0.307182  0.171175  0.239330  0.358561\n330     0.955822  0.139222  0.316163  0.837440  0.714484\n331     0.580969  0.892998  0.568989  0.327010  0.769163\n332     0.665450  0.267937  0.826061  0.808948  0.851718\n333     0.964445  0.171224  0.375251  0.166034  0.525760\n\n[334 rows x 5 columns]",
      "text/html": "<div>\n<style scoped>\n    .dataframe tbody tr th:only-of-type {\n        vertical-align: middle;\n    }\n\n    .dataframe tbody tr th {\n        vertical-align: top;\n    }\n\n    .dataframe thead th {\n        text-align: right;\n    }\n</style>\n<table border=\"1\" class=\"dataframe\">\n  <thead>\n    <tr style=\"text-align: right;\">\n      <th></th>\n      <th>0</th>\n      <th>1</th>\n      <th>2</th>\n      <th>3</th>\n      <th>4</th>\n    </tr>\n  </thead>\n  <tbody>\n    <tr>\n      <th>0</th>\n      <td>9756.000000</td>\n      <td>0.041995</td>\n      <td>0.699357</td>\n      <td>0.462174</td>\n      <td>0.513841</td>\n    </tr>\n    <tr>\n      <th>1</th>\n      <td>0.262802</td>\n      <td>0.843322</td>\n      <td>0.392428</td>\n      <td>0.563360</td>\n      <td>0.999545</td>\n    </tr>\n    <tr>\n      <th>2</th>\n      <td>0.505932</td>\n      <td>0.735391</td>\n      <td>0.233032</td>\n      <td>0.036597</td>\n      <td>0.923612</td>\n    </tr>\n    <tr>\n      <th>3</th>\n      <td>0.460307</td>\n      <td>0.216057</td>\n      <td>0.214916</td>\n      <td>0.872143</td>\n      <td>0.131151</td>\n    </tr>\n    <tr>\n      <th>4</th>\n      <td>0.279013</td>\n      <td>0.412259</td>\n      <td>0.972149</td>\n      <td>0.575664</td>\n      <td>0.904100</td>\n    </tr>\n    <tr>\n      <th>...</th>\n      <td>...</td>\n      <td>...</td>\n      <td>...</td>\n      <td>...</td>\n      <td>...</td>\n    </tr>\n    <tr>\n      <th>329</th>\n      <td>0.814939</td>\n      <td>0.307182</td>\n      <td>0.171175</td>\n      <td>0.239330</td>\n      <td>0.358561</td>\n    </tr>\n    <tr>\n      <th>330</th>\n      <td>0.955822</td>\n      <td>0.139222</td>\n      <td>0.316163</td>\n      <td>0.837440</td>\n      <td>0.714484</td>\n    </tr>\n    <tr>\n      <th>331</th>\n      <td>0.580969</td>\n      <td>0.892998</td>\n      <td>0.568989</td>\n      <td>0.327010</td>\n      <td>0.769163</td>\n    </tr>\n    <tr>\n      <th>332</th>\n      <td>0.665450</td>\n      <td>0.267937</td>\n      <td>0.826061</td>\n      <td>0.808948</td>\n      <td>0.851718</td>\n    </tr>\n    <tr>\n      <th>333</th>\n      <td>0.964445</td>\n      <td>0.171224</td>\n      <td>0.375251</td>\n      <td>0.166034</td>\n      <td>0.525760</td>\n    </tr>\n  </tbody>\n</table>\n<p>334 rows × 5 columns</p>\n</div>"
     },
     "execution_count": 39,
     "metadata": {},
     "output_type": "execute_result"
    }
   ],
   "source": [
    "newdf3"
   ],
   "metadata": {
    "collapsed": false,
    "pycharm": {
     "name": "#%%\n"
    }
   }
  },
  {
   "cell_type": "code",
   "execution_count": 40,
   "outputs": [],
   "source": [
    "newdf.loc[0,0]=654"
   ],
   "metadata": {
    "collapsed": false,
    "pycharm": {
     "name": "#%%\n"
    }
   }
  },
  {
   "cell_type": "code",
   "execution_count": 41,
   "outputs": [
    {
     "data": {
      "text/plain": "            0         1         2         3         4\n0  654.000000  0.041995  0.699357  0.462174  0.513841\n1    0.262802  0.843322  0.392428  0.563360  0.999545",
      "text/html": "<div>\n<style scoped>\n    .dataframe tbody tr th:only-of-type {\n        vertical-align: middle;\n    }\n\n    .dataframe tbody tr th {\n        vertical-align: top;\n    }\n\n    .dataframe thead th {\n        text-align: right;\n    }\n</style>\n<table border=\"1\" class=\"dataframe\">\n  <thead>\n    <tr style=\"text-align: right;\">\n      <th></th>\n      <th>0</th>\n      <th>1</th>\n      <th>2</th>\n      <th>3</th>\n      <th>4</th>\n    </tr>\n  </thead>\n  <tbody>\n    <tr>\n      <th>0</th>\n      <td>654.000000</td>\n      <td>0.041995</td>\n      <td>0.699357</td>\n      <td>0.462174</td>\n      <td>0.513841</td>\n    </tr>\n    <tr>\n      <th>1</th>\n      <td>0.262802</td>\n      <td>0.843322</td>\n      <td>0.392428</td>\n      <td>0.563360</td>\n      <td>0.999545</td>\n    </tr>\n  </tbody>\n</table>\n</div>"
     },
     "execution_count": 41,
     "metadata": {},
     "output_type": "execute_result"
    }
   ],
   "source": [
    "newdf.head(2)"
   ],
   "metadata": {
    "collapsed": false,
    "pycharm": {
     "name": "#%%\n"
    }
   }
  },
  {
   "cell_type": "code",
   "execution_count": 42,
   "outputs": [],
   "source": [
    "newdf.columns=list(\"ABCDE\")"
   ],
   "metadata": {
    "collapsed": false,
    "pycharm": {
     "name": "#%%\n"
    }
   }
  },
  {
   "cell_type": "code",
   "execution_count": 43,
   "outputs": [
    {
     "data": {
      "text/plain": "              A         B         C         D         E\n0    654.000000  0.041995  0.699357  0.462174  0.513841\n1      0.262802  0.843322  0.392428  0.563360  0.999545\n2      0.505932  0.735391  0.233032  0.036597  0.923612\n3      0.460307  0.216057  0.214916  0.872143  0.131151\n4      0.279013  0.412259  0.972149  0.575664  0.904100\n..          ...       ...       ...       ...       ...\n329    0.814939  0.307182  0.171175  0.239330  0.358561\n330    0.955822  0.139222  0.316163  0.837440  0.714484\n331    0.580969  0.892998  0.568989  0.327010  0.769163\n332    0.665450  0.267937  0.826061  0.808948  0.851718\n333    0.964445  0.171224  0.375251  0.166034  0.525760\n\n[334 rows x 5 columns]",
      "text/html": "<div>\n<style scoped>\n    .dataframe tbody tr th:only-of-type {\n        vertical-align: middle;\n    }\n\n    .dataframe tbody tr th {\n        vertical-align: top;\n    }\n\n    .dataframe thead th {\n        text-align: right;\n    }\n</style>\n<table border=\"1\" class=\"dataframe\">\n  <thead>\n    <tr style=\"text-align: right;\">\n      <th></th>\n      <th>A</th>\n      <th>B</th>\n      <th>C</th>\n      <th>D</th>\n      <th>E</th>\n    </tr>\n  </thead>\n  <tbody>\n    <tr>\n      <th>0</th>\n      <td>654.000000</td>\n      <td>0.041995</td>\n      <td>0.699357</td>\n      <td>0.462174</td>\n      <td>0.513841</td>\n    </tr>\n    <tr>\n      <th>1</th>\n      <td>0.262802</td>\n      <td>0.843322</td>\n      <td>0.392428</td>\n      <td>0.563360</td>\n      <td>0.999545</td>\n    </tr>\n    <tr>\n      <th>2</th>\n      <td>0.505932</td>\n      <td>0.735391</td>\n      <td>0.233032</td>\n      <td>0.036597</td>\n      <td>0.923612</td>\n    </tr>\n    <tr>\n      <th>3</th>\n      <td>0.460307</td>\n      <td>0.216057</td>\n      <td>0.214916</td>\n      <td>0.872143</td>\n      <td>0.131151</td>\n    </tr>\n    <tr>\n      <th>4</th>\n      <td>0.279013</td>\n      <td>0.412259</td>\n      <td>0.972149</td>\n      <td>0.575664</td>\n      <td>0.904100</td>\n    </tr>\n    <tr>\n      <th>...</th>\n      <td>...</td>\n      <td>...</td>\n      <td>...</td>\n      <td>...</td>\n      <td>...</td>\n    </tr>\n    <tr>\n      <th>329</th>\n      <td>0.814939</td>\n      <td>0.307182</td>\n      <td>0.171175</td>\n      <td>0.239330</td>\n      <td>0.358561</td>\n    </tr>\n    <tr>\n      <th>330</th>\n      <td>0.955822</td>\n      <td>0.139222</td>\n      <td>0.316163</td>\n      <td>0.837440</td>\n      <td>0.714484</td>\n    </tr>\n    <tr>\n      <th>331</th>\n      <td>0.580969</td>\n      <td>0.892998</td>\n      <td>0.568989</td>\n      <td>0.327010</td>\n      <td>0.769163</td>\n    </tr>\n    <tr>\n      <th>332</th>\n      <td>0.665450</td>\n      <td>0.267937</td>\n      <td>0.826061</td>\n      <td>0.808948</td>\n      <td>0.851718</td>\n    </tr>\n    <tr>\n      <th>333</th>\n      <td>0.964445</td>\n      <td>0.171224</td>\n      <td>0.375251</td>\n      <td>0.166034</td>\n      <td>0.525760</td>\n    </tr>\n  </tbody>\n</table>\n<p>334 rows × 5 columns</p>\n</div>"
     },
     "execution_count": 43,
     "metadata": {},
     "output_type": "execute_result"
    }
   ],
   "source": [
    "newdf"
   ],
   "metadata": {
    "collapsed": false,
    "pycharm": {
     "name": "#%%\n"
    }
   }
  },
  {
   "cell_type": "code",
   "execution_count": 44,
   "outputs": [],
   "source": [
    "newdf.loc[0,'A']=119.2"
   ],
   "metadata": {
    "collapsed": false,
    "pycharm": {
     "name": "#%%\n"
    }
   }
  },
  {
   "cell_type": "code",
   "execution_count": 45,
   "outputs": [
    {
     "data": {
      "text/plain": "              A         B         C         D         E\n0    119.200000  0.041995  0.699357  0.462174  0.513841\n1      0.262802  0.843322  0.392428  0.563360  0.999545\n2      0.505932  0.735391  0.233032  0.036597  0.923612\n3      0.460307  0.216057  0.214916  0.872143  0.131151\n4      0.279013  0.412259  0.972149  0.575664  0.904100\n..          ...       ...       ...       ...       ...\n329    0.814939  0.307182  0.171175  0.239330  0.358561\n330    0.955822  0.139222  0.316163  0.837440  0.714484\n331    0.580969  0.892998  0.568989  0.327010  0.769163\n332    0.665450  0.267937  0.826061  0.808948  0.851718\n333    0.964445  0.171224  0.375251  0.166034  0.525760\n\n[334 rows x 5 columns]",
      "text/html": "<div>\n<style scoped>\n    .dataframe tbody tr th:only-of-type {\n        vertical-align: middle;\n    }\n\n    .dataframe tbody tr th {\n        vertical-align: top;\n    }\n\n    .dataframe thead th {\n        text-align: right;\n    }\n</style>\n<table border=\"1\" class=\"dataframe\">\n  <thead>\n    <tr style=\"text-align: right;\">\n      <th></th>\n      <th>A</th>\n      <th>B</th>\n      <th>C</th>\n      <th>D</th>\n      <th>E</th>\n    </tr>\n  </thead>\n  <tbody>\n    <tr>\n      <th>0</th>\n      <td>119.200000</td>\n      <td>0.041995</td>\n      <td>0.699357</td>\n      <td>0.462174</td>\n      <td>0.513841</td>\n    </tr>\n    <tr>\n      <th>1</th>\n      <td>0.262802</td>\n      <td>0.843322</td>\n      <td>0.392428</td>\n      <td>0.563360</td>\n      <td>0.999545</td>\n    </tr>\n    <tr>\n      <th>2</th>\n      <td>0.505932</td>\n      <td>0.735391</td>\n      <td>0.233032</td>\n      <td>0.036597</td>\n      <td>0.923612</td>\n    </tr>\n    <tr>\n      <th>3</th>\n      <td>0.460307</td>\n      <td>0.216057</td>\n      <td>0.214916</td>\n      <td>0.872143</td>\n      <td>0.131151</td>\n    </tr>\n    <tr>\n      <th>4</th>\n      <td>0.279013</td>\n      <td>0.412259</td>\n      <td>0.972149</td>\n      <td>0.575664</td>\n      <td>0.904100</td>\n    </tr>\n    <tr>\n      <th>...</th>\n      <td>...</td>\n      <td>...</td>\n      <td>...</td>\n      <td>...</td>\n      <td>...</td>\n    </tr>\n    <tr>\n      <th>329</th>\n      <td>0.814939</td>\n      <td>0.307182</td>\n      <td>0.171175</td>\n      <td>0.239330</td>\n      <td>0.358561</td>\n    </tr>\n    <tr>\n      <th>330</th>\n      <td>0.955822</td>\n      <td>0.139222</td>\n      <td>0.316163</td>\n      <td>0.837440</td>\n      <td>0.714484</td>\n    </tr>\n    <tr>\n      <th>331</th>\n      <td>0.580969</td>\n      <td>0.892998</td>\n      <td>0.568989</td>\n      <td>0.327010</td>\n      <td>0.769163</td>\n    </tr>\n    <tr>\n      <th>332</th>\n      <td>0.665450</td>\n      <td>0.267937</td>\n      <td>0.826061</td>\n      <td>0.808948</td>\n      <td>0.851718</td>\n    </tr>\n    <tr>\n      <th>333</th>\n      <td>0.964445</td>\n      <td>0.171224</td>\n      <td>0.375251</td>\n      <td>0.166034</td>\n      <td>0.525760</td>\n    </tr>\n  </tbody>\n</table>\n<p>334 rows × 5 columns</p>\n</div>"
     },
     "execution_count": 45,
     "metadata": {},
     "output_type": "execute_result"
    }
   ],
   "source": [
    "newdf"
   ],
   "metadata": {
    "collapsed": false,
    "pycharm": {
     "name": "#%%\n"
    }
   }
  },
  {
   "cell_type": "code",
   "execution_count": 46,
   "outputs": [],
   "source": [
    "newdf.loc[0,0]=55.4"
   ],
   "metadata": {
    "collapsed": false,
    "pycharm": {
     "name": "#%%\n"
    }
   }
  },
  {
   "cell_type": "code",
   "execution_count": 47,
   "outputs": [
    {
     "data": {
      "text/plain": "              A         B         C         D         E     0\n0    119.200000  0.041995  0.699357  0.462174  0.513841  55.4\n1      0.262802  0.843322  0.392428  0.563360  0.999545   NaN\n2      0.505932  0.735391  0.233032  0.036597  0.923612   NaN\n3      0.460307  0.216057  0.214916  0.872143  0.131151   NaN\n4      0.279013  0.412259  0.972149  0.575664  0.904100   NaN\n..          ...       ...       ...       ...       ...   ...\n329    0.814939  0.307182  0.171175  0.239330  0.358561   NaN\n330    0.955822  0.139222  0.316163  0.837440  0.714484   NaN\n331    0.580969  0.892998  0.568989  0.327010  0.769163   NaN\n332    0.665450  0.267937  0.826061  0.808948  0.851718   NaN\n333    0.964445  0.171224  0.375251  0.166034  0.525760   NaN\n\n[334 rows x 6 columns]",
      "text/html": "<div>\n<style scoped>\n    .dataframe tbody tr th:only-of-type {\n        vertical-align: middle;\n    }\n\n    .dataframe tbody tr th {\n        vertical-align: top;\n    }\n\n    .dataframe thead th {\n        text-align: right;\n    }\n</style>\n<table border=\"1\" class=\"dataframe\">\n  <thead>\n    <tr style=\"text-align: right;\">\n      <th></th>\n      <th>A</th>\n      <th>B</th>\n      <th>C</th>\n      <th>D</th>\n      <th>E</th>\n      <th>0</th>\n    </tr>\n  </thead>\n  <tbody>\n    <tr>\n      <th>0</th>\n      <td>119.200000</td>\n      <td>0.041995</td>\n      <td>0.699357</td>\n      <td>0.462174</td>\n      <td>0.513841</td>\n      <td>55.4</td>\n    </tr>\n    <tr>\n      <th>1</th>\n      <td>0.262802</td>\n      <td>0.843322</td>\n      <td>0.392428</td>\n      <td>0.563360</td>\n      <td>0.999545</td>\n      <td>NaN</td>\n    </tr>\n    <tr>\n      <th>2</th>\n      <td>0.505932</td>\n      <td>0.735391</td>\n      <td>0.233032</td>\n      <td>0.036597</td>\n      <td>0.923612</td>\n      <td>NaN</td>\n    </tr>\n    <tr>\n      <th>3</th>\n      <td>0.460307</td>\n      <td>0.216057</td>\n      <td>0.214916</td>\n      <td>0.872143</td>\n      <td>0.131151</td>\n      <td>NaN</td>\n    </tr>\n    <tr>\n      <th>4</th>\n      <td>0.279013</td>\n      <td>0.412259</td>\n      <td>0.972149</td>\n      <td>0.575664</td>\n      <td>0.904100</td>\n      <td>NaN</td>\n    </tr>\n    <tr>\n      <th>...</th>\n      <td>...</td>\n      <td>...</td>\n      <td>...</td>\n      <td>...</td>\n      <td>...</td>\n      <td>...</td>\n    </tr>\n    <tr>\n      <th>329</th>\n      <td>0.814939</td>\n      <td>0.307182</td>\n      <td>0.171175</td>\n      <td>0.239330</td>\n      <td>0.358561</td>\n      <td>NaN</td>\n    </tr>\n    <tr>\n      <th>330</th>\n      <td>0.955822</td>\n      <td>0.139222</td>\n      <td>0.316163</td>\n      <td>0.837440</td>\n      <td>0.714484</td>\n      <td>NaN</td>\n    </tr>\n    <tr>\n      <th>331</th>\n      <td>0.580969</td>\n      <td>0.892998</td>\n      <td>0.568989</td>\n      <td>0.327010</td>\n      <td>0.769163</td>\n      <td>NaN</td>\n    </tr>\n    <tr>\n      <th>332</th>\n      <td>0.665450</td>\n      <td>0.267937</td>\n      <td>0.826061</td>\n      <td>0.808948</td>\n      <td>0.851718</td>\n      <td>NaN</td>\n    </tr>\n    <tr>\n      <th>333</th>\n      <td>0.964445</td>\n      <td>0.171224</td>\n      <td>0.375251</td>\n      <td>0.166034</td>\n      <td>0.525760</td>\n      <td>NaN</td>\n    </tr>\n  </tbody>\n</table>\n<p>334 rows × 6 columns</p>\n</div>"
     },
     "execution_count": 47,
     "metadata": {},
     "output_type": "execute_result"
    }
   ],
   "source": [
    "newdf"
   ],
   "metadata": {
    "collapsed": false,
    "pycharm": {
     "name": "#%%\n"
    }
   }
  },
  {
   "cell_type": "code",
   "execution_count": 48,
   "outputs": [],
   "source": [
    "newdf=newdf.drop(0,axis=1)"
   ],
   "metadata": {
    "collapsed": false,
    "pycharm": {
     "name": "#%%\n"
    }
   }
  },
  {
   "cell_type": "code",
   "execution_count": 49,
   "outputs": [
    {
     "data": {
      "text/plain": "              A         B         C         D         E\n0    119.200000  0.041995  0.699357  0.462174  0.513841\n1      0.262802  0.843322  0.392428  0.563360  0.999545\n2      0.505932  0.735391  0.233032  0.036597  0.923612\n3      0.460307  0.216057  0.214916  0.872143  0.131151\n4      0.279013  0.412259  0.972149  0.575664  0.904100\n..          ...       ...       ...       ...       ...\n329    0.814939  0.307182  0.171175  0.239330  0.358561\n330    0.955822  0.139222  0.316163  0.837440  0.714484\n331    0.580969  0.892998  0.568989  0.327010  0.769163\n332    0.665450  0.267937  0.826061  0.808948  0.851718\n333    0.964445  0.171224  0.375251  0.166034  0.525760\n\n[334 rows x 5 columns]",
      "text/html": "<div>\n<style scoped>\n    .dataframe tbody tr th:only-of-type {\n        vertical-align: middle;\n    }\n\n    .dataframe tbody tr th {\n        vertical-align: top;\n    }\n\n    .dataframe thead th {\n        text-align: right;\n    }\n</style>\n<table border=\"1\" class=\"dataframe\">\n  <thead>\n    <tr style=\"text-align: right;\">\n      <th></th>\n      <th>A</th>\n      <th>B</th>\n      <th>C</th>\n      <th>D</th>\n      <th>E</th>\n    </tr>\n  </thead>\n  <tbody>\n    <tr>\n      <th>0</th>\n      <td>119.200000</td>\n      <td>0.041995</td>\n      <td>0.699357</td>\n      <td>0.462174</td>\n      <td>0.513841</td>\n    </tr>\n    <tr>\n      <th>1</th>\n      <td>0.262802</td>\n      <td>0.843322</td>\n      <td>0.392428</td>\n      <td>0.563360</td>\n      <td>0.999545</td>\n    </tr>\n    <tr>\n      <th>2</th>\n      <td>0.505932</td>\n      <td>0.735391</td>\n      <td>0.233032</td>\n      <td>0.036597</td>\n      <td>0.923612</td>\n    </tr>\n    <tr>\n      <th>3</th>\n      <td>0.460307</td>\n      <td>0.216057</td>\n      <td>0.214916</td>\n      <td>0.872143</td>\n      <td>0.131151</td>\n    </tr>\n    <tr>\n      <th>4</th>\n      <td>0.279013</td>\n      <td>0.412259</td>\n      <td>0.972149</td>\n      <td>0.575664</td>\n      <td>0.904100</td>\n    </tr>\n    <tr>\n      <th>...</th>\n      <td>...</td>\n      <td>...</td>\n      <td>...</td>\n      <td>...</td>\n      <td>...</td>\n    </tr>\n    <tr>\n      <th>329</th>\n      <td>0.814939</td>\n      <td>0.307182</td>\n      <td>0.171175</td>\n      <td>0.239330</td>\n      <td>0.358561</td>\n    </tr>\n    <tr>\n      <th>330</th>\n      <td>0.955822</td>\n      <td>0.139222</td>\n      <td>0.316163</td>\n      <td>0.837440</td>\n      <td>0.714484</td>\n    </tr>\n    <tr>\n      <th>331</th>\n      <td>0.580969</td>\n      <td>0.892998</td>\n      <td>0.568989</td>\n      <td>0.327010</td>\n      <td>0.769163</td>\n    </tr>\n    <tr>\n      <th>332</th>\n      <td>0.665450</td>\n      <td>0.267937</td>\n      <td>0.826061</td>\n      <td>0.808948</td>\n      <td>0.851718</td>\n    </tr>\n    <tr>\n      <th>333</th>\n      <td>0.964445</td>\n      <td>0.171224</td>\n      <td>0.375251</td>\n      <td>0.166034</td>\n      <td>0.525760</td>\n    </tr>\n  </tbody>\n</table>\n<p>334 rows × 5 columns</p>\n</div>"
     },
     "execution_count": 49,
     "metadata": {},
     "output_type": "execute_result"
    }
   ],
   "source": [
    "newdf"
   ],
   "metadata": {
    "collapsed": false,
    "pycharm": {
     "name": "#%%\n"
    }
   }
  },
  {
   "cell_type": "code",
   "execution_count": 50,
   "outputs": [
    {
     "data": {
      "text/plain": "          C         D\n1  0.392428  0.563360\n2  0.233032  0.036597",
      "text/html": "<div>\n<style scoped>\n    .dataframe tbody tr th:only-of-type {\n        vertical-align: middle;\n    }\n\n    .dataframe tbody tr th {\n        vertical-align: top;\n    }\n\n    .dataframe thead th {\n        text-align: right;\n    }\n</style>\n<table border=\"1\" class=\"dataframe\">\n  <thead>\n    <tr style=\"text-align: right;\">\n      <th></th>\n      <th>C</th>\n      <th>D</th>\n    </tr>\n  </thead>\n  <tbody>\n    <tr>\n      <th>1</th>\n      <td>0.392428</td>\n      <td>0.563360</td>\n    </tr>\n    <tr>\n      <th>2</th>\n      <td>0.233032</td>\n      <td>0.036597</td>\n    </tr>\n  </tbody>\n</table>\n</div>"
     },
     "execution_count": 50,
     "metadata": {},
     "output_type": "execute_result"
    }
   ],
   "source": [
    "newdf.loc[[1,2],['C','D']]"
   ],
   "metadata": {
    "collapsed": false,
    "pycharm": {
     "name": "#%%\n"
    }
   }
  },
  {
   "cell_type": "code",
   "execution_count": 51,
   "outputs": [
    {
     "data": {
      "text/plain": "            A         B         C         D         E\n1    0.262802  0.843322  0.392428  0.563360  0.999545\n4    0.279013  0.412259  0.972149  0.575664  0.904100\n5    0.107161  0.999490  0.743339  0.340126  0.331137\n7    0.200528  0.658565  0.467204  0.737600  0.736116\n9    0.245854  0.834811  0.493673  0.485992  0.267372\n..        ...       ...       ...       ...       ...\n294  0.001196  0.959106  0.508308  0.105432  0.556022\n301  0.180843  0.567944  0.388139  0.638034  0.841719\n305  0.055268  0.752779  0.730164  0.913680  0.537776\n310  0.001310  0.764293  0.289266  0.972886  0.462276\n326  0.130788  0.896710  0.851015  0.516450  0.542951\n\n[87 rows x 5 columns]",
      "text/html": "<div>\n<style scoped>\n    .dataframe tbody tr th:only-of-type {\n        vertical-align: middle;\n    }\n\n    .dataframe tbody tr th {\n        vertical-align: top;\n    }\n\n    .dataframe thead th {\n        text-align: right;\n    }\n</style>\n<table border=\"1\" class=\"dataframe\">\n  <thead>\n    <tr style=\"text-align: right;\">\n      <th></th>\n      <th>A</th>\n      <th>B</th>\n      <th>C</th>\n      <th>D</th>\n      <th>E</th>\n    </tr>\n  </thead>\n  <tbody>\n    <tr>\n      <th>1</th>\n      <td>0.262802</td>\n      <td>0.843322</td>\n      <td>0.392428</td>\n      <td>0.563360</td>\n      <td>0.999545</td>\n    </tr>\n    <tr>\n      <th>4</th>\n      <td>0.279013</td>\n      <td>0.412259</td>\n      <td>0.972149</td>\n      <td>0.575664</td>\n      <td>0.904100</td>\n    </tr>\n    <tr>\n      <th>5</th>\n      <td>0.107161</td>\n      <td>0.999490</td>\n      <td>0.743339</td>\n      <td>0.340126</td>\n      <td>0.331137</td>\n    </tr>\n    <tr>\n      <th>7</th>\n      <td>0.200528</td>\n      <td>0.658565</td>\n      <td>0.467204</td>\n      <td>0.737600</td>\n      <td>0.736116</td>\n    </tr>\n    <tr>\n      <th>9</th>\n      <td>0.245854</td>\n      <td>0.834811</td>\n      <td>0.493673</td>\n      <td>0.485992</td>\n      <td>0.267372</td>\n    </tr>\n    <tr>\n      <th>...</th>\n      <td>...</td>\n      <td>...</td>\n      <td>...</td>\n      <td>...</td>\n      <td>...</td>\n    </tr>\n    <tr>\n      <th>294</th>\n      <td>0.001196</td>\n      <td>0.959106</td>\n      <td>0.508308</td>\n      <td>0.105432</td>\n      <td>0.556022</td>\n    </tr>\n    <tr>\n      <th>301</th>\n      <td>0.180843</td>\n      <td>0.567944</td>\n      <td>0.388139</td>\n      <td>0.638034</td>\n      <td>0.841719</td>\n    </tr>\n    <tr>\n      <th>305</th>\n      <td>0.055268</td>\n      <td>0.752779</td>\n      <td>0.730164</td>\n      <td>0.913680</td>\n      <td>0.537776</td>\n    </tr>\n    <tr>\n      <th>310</th>\n      <td>0.001310</td>\n      <td>0.764293</td>\n      <td>0.289266</td>\n      <td>0.972886</td>\n      <td>0.462276</td>\n    </tr>\n    <tr>\n      <th>326</th>\n      <td>0.130788</td>\n      <td>0.896710</td>\n      <td>0.851015</td>\n      <td>0.516450</td>\n      <td>0.542951</td>\n    </tr>\n  </tbody>\n</table>\n<p>87 rows × 5 columns</p>\n</div>"
     },
     "execution_count": 51,
     "metadata": {},
     "output_type": "execute_result"
    }
   ],
   "source": [
    "newdf.loc[(newdf['A']<0.3) &(newdf['C']>0.1)]"
   ],
   "metadata": {
    "collapsed": false,
    "pycharm": {
     "name": "#%%\n"
    }
   }
  },
  {
   "cell_type": "code",
   "execution_count": 52,
   "outputs": [
    {
     "data": {
      "text/plain": "0.46217442634859707"
     },
     "execution_count": 52,
     "metadata": {},
     "output_type": "execute_result"
    }
   ],
   "source": [
    "newdf.iloc[0,3]"
   ],
   "metadata": {
    "collapsed": false,
    "pycharm": {
     "name": "#%%\n"
    }
   }
  },
  {
   "cell_type": "code",
   "execution_count": 53,
   "outputs": [
    {
     "data": {
      "text/plain": "          B         C\n0  0.041995  0.699357\n5  0.999490  0.743339",
      "text/html": "<div>\n<style scoped>\n    .dataframe tbody tr th:only-of-type {\n        vertical-align: middle;\n    }\n\n    .dataframe tbody tr th {\n        vertical-align: top;\n    }\n\n    .dataframe thead th {\n        text-align: right;\n    }\n</style>\n<table border=\"1\" class=\"dataframe\">\n  <thead>\n    <tr style=\"text-align: right;\">\n      <th></th>\n      <th>B</th>\n      <th>C</th>\n    </tr>\n  </thead>\n  <tbody>\n    <tr>\n      <th>0</th>\n      <td>0.041995</td>\n      <td>0.699357</td>\n    </tr>\n    <tr>\n      <th>5</th>\n      <td>0.999490</td>\n      <td>0.743339</td>\n    </tr>\n  </tbody>\n</table>\n</div>"
     },
     "execution_count": 53,
     "metadata": {},
     "output_type": "execute_result"
    }
   ],
   "source": [
    "newdf.iloc[[0,5],[1,2]]"
   ],
   "metadata": {
    "collapsed": false,
    "pycharm": {
     "name": "#%%\n"
    }
   }
  },
  {
   "cell_type": "code",
   "execution_count": 54,
   "outputs": [],
   "source": [
    "newdf.drop([0],inplace=True)"
   ],
   "metadata": {
    "collapsed": false,
    "pycharm": {
     "name": "#%%\n"
    }
   }
  },
  {
   "cell_type": "code",
   "execution_count": 55,
   "outputs": [
    {
     "data": {
      "text/plain": "            A         B         C         D         E\n1    0.262802  0.843322  0.392428  0.563360  0.999545\n2    0.505932  0.735391  0.233032  0.036597  0.923612\n3    0.460307  0.216057  0.214916  0.872143  0.131151\n4    0.279013  0.412259  0.972149  0.575664  0.904100\n5    0.107161  0.999490  0.743339  0.340126  0.331137\n..        ...       ...       ...       ...       ...\n329  0.814939  0.307182  0.171175  0.239330  0.358561\n330  0.955822  0.139222  0.316163  0.837440  0.714484\n331  0.580969  0.892998  0.568989  0.327010  0.769163\n332  0.665450  0.267937  0.826061  0.808948  0.851718\n333  0.964445  0.171224  0.375251  0.166034  0.525760\n\n[333 rows x 5 columns]",
      "text/html": "<div>\n<style scoped>\n    .dataframe tbody tr th:only-of-type {\n        vertical-align: middle;\n    }\n\n    .dataframe tbody tr th {\n        vertical-align: top;\n    }\n\n    .dataframe thead th {\n        text-align: right;\n    }\n</style>\n<table border=\"1\" class=\"dataframe\">\n  <thead>\n    <tr style=\"text-align: right;\">\n      <th></th>\n      <th>A</th>\n      <th>B</th>\n      <th>C</th>\n      <th>D</th>\n      <th>E</th>\n    </tr>\n  </thead>\n  <tbody>\n    <tr>\n      <th>1</th>\n      <td>0.262802</td>\n      <td>0.843322</td>\n      <td>0.392428</td>\n      <td>0.563360</td>\n      <td>0.999545</td>\n    </tr>\n    <tr>\n      <th>2</th>\n      <td>0.505932</td>\n      <td>0.735391</td>\n      <td>0.233032</td>\n      <td>0.036597</td>\n      <td>0.923612</td>\n    </tr>\n    <tr>\n      <th>3</th>\n      <td>0.460307</td>\n      <td>0.216057</td>\n      <td>0.214916</td>\n      <td>0.872143</td>\n      <td>0.131151</td>\n    </tr>\n    <tr>\n      <th>4</th>\n      <td>0.279013</td>\n      <td>0.412259</td>\n      <td>0.972149</td>\n      <td>0.575664</td>\n      <td>0.904100</td>\n    </tr>\n    <tr>\n      <th>5</th>\n      <td>0.107161</td>\n      <td>0.999490</td>\n      <td>0.743339</td>\n      <td>0.340126</td>\n      <td>0.331137</td>\n    </tr>\n    <tr>\n      <th>...</th>\n      <td>...</td>\n      <td>...</td>\n      <td>...</td>\n      <td>...</td>\n      <td>...</td>\n    </tr>\n    <tr>\n      <th>329</th>\n      <td>0.814939</td>\n      <td>0.307182</td>\n      <td>0.171175</td>\n      <td>0.239330</td>\n      <td>0.358561</td>\n    </tr>\n    <tr>\n      <th>330</th>\n      <td>0.955822</td>\n      <td>0.139222</td>\n      <td>0.316163</td>\n      <td>0.837440</td>\n      <td>0.714484</td>\n    </tr>\n    <tr>\n      <th>331</th>\n      <td>0.580969</td>\n      <td>0.892998</td>\n      <td>0.568989</td>\n      <td>0.327010</td>\n      <td>0.769163</td>\n    </tr>\n    <tr>\n      <th>332</th>\n      <td>0.665450</td>\n      <td>0.267937</td>\n      <td>0.826061</td>\n      <td>0.808948</td>\n      <td>0.851718</td>\n    </tr>\n    <tr>\n      <th>333</th>\n      <td>0.964445</td>\n      <td>0.171224</td>\n      <td>0.375251</td>\n      <td>0.166034</td>\n      <td>0.525760</td>\n    </tr>\n  </tbody>\n</table>\n<p>333 rows × 5 columns</p>\n</div>"
     },
     "execution_count": 55,
     "metadata": {},
     "output_type": "execute_result"
    }
   ],
   "source": [
    "newdf"
   ],
   "metadata": {
    "collapsed": false,
    "pycharm": {
     "name": "#%%\n"
    }
   }
  },
  {
   "cell_type": "code",
   "execution_count": 56,
   "outputs": [],
   "source": [
    "newdf.reset_index(drop=True,inplace=True)"
   ],
   "metadata": {
    "collapsed": false,
    "pycharm": {
     "name": "#%%\n"
    }
   }
  },
  {
   "cell_type": "code",
   "execution_count": 57,
   "outputs": [
    {
     "data": {
      "text/plain": "            A         B         C         D         E\n0    0.262802  0.843322  0.392428  0.563360  0.999545\n1    0.505932  0.735391  0.233032  0.036597  0.923612\n2    0.460307  0.216057  0.214916  0.872143  0.131151\n3    0.279013  0.412259  0.972149  0.575664  0.904100\n4    0.107161  0.999490  0.743339  0.340126  0.331137\n..        ...       ...       ...       ...       ...\n328  0.814939  0.307182  0.171175  0.239330  0.358561\n329  0.955822  0.139222  0.316163  0.837440  0.714484\n330  0.580969  0.892998  0.568989  0.327010  0.769163\n331  0.665450  0.267937  0.826061  0.808948  0.851718\n332  0.964445  0.171224  0.375251  0.166034  0.525760\n\n[333 rows x 5 columns]",
      "text/html": "<div>\n<style scoped>\n    .dataframe tbody tr th:only-of-type {\n        vertical-align: middle;\n    }\n\n    .dataframe tbody tr th {\n        vertical-align: top;\n    }\n\n    .dataframe thead th {\n        text-align: right;\n    }\n</style>\n<table border=\"1\" class=\"dataframe\">\n  <thead>\n    <tr style=\"text-align: right;\">\n      <th></th>\n      <th>A</th>\n      <th>B</th>\n      <th>C</th>\n      <th>D</th>\n      <th>E</th>\n    </tr>\n  </thead>\n  <tbody>\n    <tr>\n      <th>0</th>\n      <td>0.262802</td>\n      <td>0.843322</td>\n      <td>0.392428</td>\n      <td>0.563360</td>\n      <td>0.999545</td>\n    </tr>\n    <tr>\n      <th>1</th>\n      <td>0.505932</td>\n      <td>0.735391</td>\n      <td>0.233032</td>\n      <td>0.036597</td>\n      <td>0.923612</td>\n    </tr>\n    <tr>\n      <th>2</th>\n      <td>0.460307</td>\n      <td>0.216057</td>\n      <td>0.214916</td>\n      <td>0.872143</td>\n      <td>0.131151</td>\n    </tr>\n    <tr>\n      <th>3</th>\n      <td>0.279013</td>\n      <td>0.412259</td>\n      <td>0.972149</td>\n      <td>0.575664</td>\n      <td>0.904100</td>\n    </tr>\n    <tr>\n      <th>4</th>\n      <td>0.107161</td>\n      <td>0.999490</td>\n      <td>0.743339</td>\n      <td>0.340126</td>\n      <td>0.331137</td>\n    </tr>\n    <tr>\n      <th>...</th>\n      <td>...</td>\n      <td>...</td>\n      <td>...</td>\n      <td>...</td>\n      <td>...</td>\n    </tr>\n    <tr>\n      <th>328</th>\n      <td>0.814939</td>\n      <td>0.307182</td>\n      <td>0.171175</td>\n      <td>0.239330</td>\n      <td>0.358561</td>\n    </tr>\n    <tr>\n      <th>329</th>\n      <td>0.955822</td>\n      <td>0.139222</td>\n      <td>0.316163</td>\n      <td>0.837440</td>\n      <td>0.714484</td>\n    </tr>\n    <tr>\n      <th>330</th>\n      <td>0.580969</td>\n      <td>0.892998</td>\n      <td>0.568989</td>\n      <td>0.327010</td>\n      <td>0.769163</td>\n    </tr>\n    <tr>\n      <th>331</th>\n      <td>0.665450</td>\n      <td>0.267937</td>\n      <td>0.826061</td>\n      <td>0.808948</td>\n      <td>0.851718</td>\n    </tr>\n    <tr>\n      <th>332</th>\n      <td>0.964445</td>\n      <td>0.171224</td>\n      <td>0.375251</td>\n      <td>0.166034</td>\n      <td>0.525760</td>\n    </tr>\n  </tbody>\n</table>\n<p>333 rows × 5 columns</p>\n</div>"
     },
     "execution_count": 57,
     "metadata": {},
     "output_type": "execute_result"
    }
   ],
   "source": [
    "newdf"
   ],
   "metadata": {
    "collapsed": false,
    "pycharm": {
     "name": "#%%\n"
    }
   }
  },
  {
   "cell_type": "code",
   "execution_count": 58,
   "outputs": [
    {
     "data": {
      "text/plain": "0      False\n1      False\n2      False\n3      False\n4      False\n       ...  \n328    False\n329    False\n330    False\n331    False\n332    False\nName: B, Length: 333, dtype: bool"
     },
     "execution_count": 58,
     "metadata": {},
     "output_type": "execute_result"
    }
   ],
   "source": [
    "newdf['B'].isnull()"
   ],
   "metadata": {
    "collapsed": false,
    "pycharm": {
     "name": "#%%\n"
    }
   }
  },
  {
   "cell_type": "code",
   "execution_count": 59,
   "outputs": [],
   "source": [
    "newdf.loc[:,'B']=None"
   ],
   "metadata": {
    "collapsed": false,
    "pycharm": {
     "name": "#%%\n"
    }
   }
  },
  {
   "cell_type": "code",
   "execution_count": 60,
   "outputs": [
    {
     "data": {
      "text/plain": "            A     B         C         D         E\n0    0.262802  None  0.392428  0.563360  0.999545\n1    0.505932  None  0.233032  0.036597  0.923612\n2    0.460307  None  0.214916  0.872143  0.131151\n3    0.279013  None  0.972149  0.575664  0.904100\n4    0.107161  None  0.743339  0.340126  0.331137\n..        ...   ...       ...       ...       ...\n328  0.814939  None  0.171175  0.239330  0.358561\n329  0.955822  None  0.316163  0.837440  0.714484\n330  0.580969  None  0.568989  0.327010  0.769163\n331  0.665450  None  0.826061  0.808948  0.851718\n332  0.964445  None  0.375251  0.166034  0.525760\n\n[333 rows x 5 columns]",
      "text/html": "<div>\n<style scoped>\n    .dataframe tbody tr th:only-of-type {\n        vertical-align: middle;\n    }\n\n    .dataframe tbody tr th {\n        vertical-align: top;\n    }\n\n    .dataframe thead th {\n        text-align: right;\n    }\n</style>\n<table border=\"1\" class=\"dataframe\">\n  <thead>\n    <tr style=\"text-align: right;\">\n      <th></th>\n      <th>A</th>\n      <th>B</th>\n      <th>C</th>\n      <th>D</th>\n      <th>E</th>\n    </tr>\n  </thead>\n  <tbody>\n    <tr>\n      <th>0</th>\n      <td>0.262802</td>\n      <td>None</td>\n      <td>0.392428</td>\n      <td>0.563360</td>\n      <td>0.999545</td>\n    </tr>\n    <tr>\n      <th>1</th>\n      <td>0.505932</td>\n      <td>None</td>\n      <td>0.233032</td>\n      <td>0.036597</td>\n      <td>0.923612</td>\n    </tr>\n    <tr>\n      <th>2</th>\n      <td>0.460307</td>\n      <td>None</td>\n      <td>0.214916</td>\n      <td>0.872143</td>\n      <td>0.131151</td>\n    </tr>\n    <tr>\n      <th>3</th>\n      <td>0.279013</td>\n      <td>None</td>\n      <td>0.972149</td>\n      <td>0.575664</td>\n      <td>0.904100</td>\n    </tr>\n    <tr>\n      <th>4</th>\n      <td>0.107161</td>\n      <td>None</td>\n      <td>0.743339</td>\n      <td>0.340126</td>\n      <td>0.331137</td>\n    </tr>\n    <tr>\n      <th>...</th>\n      <td>...</td>\n      <td>...</td>\n      <td>...</td>\n      <td>...</td>\n      <td>...</td>\n    </tr>\n    <tr>\n      <th>328</th>\n      <td>0.814939</td>\n      <td>None</td>\n      <td>0.171175</td>\n      <td>0.239330</td>\n      <td>0.358561</td>\n    </tr>\n    <tr>\n      <th>329</th>\n      <td>0.955822</td>\n      <td>None</td>\n      <td>0.316163</td>\n      <td>0.837440</td>\n      <td>0.714484</td>\n    </tr>\n    <tr>\n      <th>330</th>\n      <td>0.580969</td>\n      <td>None</td>\n      <td>0.568989</td>\n      <td>0.327010</td>\n      <td>0.769163</td>\n    </tr>\n    <tr>\n      <th>331</th>\n      <td>0.665450</td>\n      <td>None</td>\n      <td>0.826061</td>\n      <td>0.808948</td>\n      <td>0.851718</td>\n    </tr>\n    <tr>\n      <th>332</th>\n      <td>0.964445</td>\n      <td>None</td>\n      <td>0.375251</td>\n      <td>0.166034</td>\n      <td>0.525760</td>\n    </tr>\n  </tbody>\n</table>\n<p>333 rows × 5 columns</p>\n</div>"
     },
     "execution_count": 60,
     "metadata": {},
     "output_type": "execute_result"
    }
   ],
   "source": [
    "newdf"
   ],
   "metadata": {
    "collapsed": false,
    "pycharm": {
     "name": "#%%\n"
    }
   }
  },
  {
   "cell_type": "code",
   "execution_count": 61,
   "outputs": [],
   "source": [
    "newdf.loc[:,'B']=45"
   ],
   "metadata": {
    "collapsed": false,
    "pycharm": {
     "name": "#%%\n"
    }
   }
  },
  {
   "cell_type": "code",
   "execution_count": 62,
   "outputs": [
    {
     "data": {
      "text/plain": "            A   B         C         D         E\n0    0.262802  45  0.392428  0.563360  0.999545\n1    0.505932  45  0.233032  0.036597  0.923612\n2    0.460307  45  0.214916  0.872143  0.131151\n3    0.279013  45  0.972149  0.575664  0.904100\n4    0.107161  45  0.743339  0.340126  0.331137\n..        ...  ..       ...       ...       ...\n328  0.814939  45  0.171175  0.239330  0.358561\n329  0.955822  45  0.316163  0.837440  0.714484\n330  0.580969  45  0.568989  0.327010  0.769163\n331  0.665450  45  0.826061  0.808948  0.851718\n332  0.964445  45  0.375251  0.166034  0.525760\n\n[333 rows x 5 columns]",
      "text/html": "<div>\n<style scoped>\n    .dataframe tbody tr th:only-of-type {\n        vertical-align: middle;\n    }\n\n    .dataframe tbody tr th {\n        vertical-align: top;\n    }\n\n    .dataframe thead th {\n        text-align: right;\n    }\n</style>\n<table border=\"1\" class=\"dataframe\">\n  <thead>\n    <tr style=\"text-align: right;\">\n      <th></th>\n      <th>A</th>\n      <th>B</th>\n      <th>C</th>\n      <th>D</th>\n      <th>E</th>\n    </tr>\n  </thead>\n  <tbody>\n    <tr>\n      <th>0</th>\n      <td>0.262802</td>\n      <td>45</td>\n      <td>0.392428</td>\n      <td>0.563360</td>\n      <td>0.999545</td>\n    </tr>\n    <tr>\n      <th>1</th>\n      <td>0.505932</td>\n      <td>45</td>\n      <td>0.233032</td>\n      <td>0.036597</td>\n      <td>0.923612</td>\n    </tr>\n    <tr>\n      <th>2</th>\n      <td>0.460307</td>\n      <td>45</td>\n      <td>0.214916</td>\n      <td>0.872143</td>\n      <td>0.131151</td>\n    </tr>\n    <tr>\n      <th>3</th>\n      <td>0.279013</td>\n      <td>45</td>\n      <td>0.972149</td>\n      <td>0.575664</td>\n      <td>0.904100</td>\n    </tr>\n    <tr>\n      <th>4</th>\n      <td>0.107161</td>\n      <td>45</td>\n      <td>0.743339</td>\n      <td>0.340126</td>\n      <td>0.331137</td>\n    </tr>\n    <tr>\n      <th>...</th>\n      <td>...</td>\n      <td>...</td>\n      <td>...</td>\n      <td>...</td>\n      <td>...</td>\n    </tr>\n    <tr>\n      <th>328</th>\n      <td>0.814939</td>\n      <td>45</td>\n      <td>0.171175</td>\n      <td>0.239330</td>\n      <td>0.358561</td>\n    </tr>\n    <tr>\n      <th>329</th>\n      <td>0.955822</td>\n      <td>45</td>\n      <td>0.316163</td>\n      <td>0.837440</td>\n      <td>0.714484</td>\n    </tr>\n    <tr>\n      <th>330</th>\n      <td>0.580969</td>\n      <td>45</td>\n      <td>0.568989</td>\n      <td>0.327010</td>\n      <td>0.769163</td>\n    </tr>\n    <tr>\n      <th>331</th>\n      <td>0.665450</td>\n      <td>45</td>\n      <td>0.826061</td>\n      <td>0.808948</td>\n      <td>0.851718</td>\n    </tr>\n    <tr>\n      <th>332</th>\n      <td>0.964445</td>\n      <td>45</td>\n      <td>0.375251</td>\n      <td>0.166034</td>\n      <td>0.525760</td>\n    </tr>\n  </tbody>\n</table>\n<p>333 rows × 5 columns</p>\n</div>"
     },
     "execution_count": 62,
     "metadata": {},
     "output_type": "execute_result"
    }
   ],
   "source": [
    "newdf"
   ],
   "metadata": {
    "collapsed": false,
    "pycharm": {
     "name": "#%%\n"
    }
   }
  },
  {
   "cell_type": "code",
   "execution_count": 62,
   "outputs": [],
   "source": [],
   "metadata": {
    "collapsed": false,
    "pycharm": {
     "name": "#%%\n"
    }
   }
  }
 ],
 "metadata": {
  "kernelspec": {
   "display_name": "Python 3 (ipykernel)",
   "language": "python",
   "name": "python3"
  },
  "language_info": {
   "codemirror_mode": {
    "name": "ipython",
    "version": 3
   },
   "file_extension": ".py",
   "mimetype": "text/x-python",
   "name": "python",
   "nbconvert_exporter": "python",
   "pygments_lexer": "ipython3",
   "version": "3.9.12"
  }
 },
 "nbformat": 4,
 "nbformat_minor": 5
}