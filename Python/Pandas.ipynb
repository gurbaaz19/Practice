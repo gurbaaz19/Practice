{
 "cells": [
  {
   "cell_type": "code",
   "execution_count": 1,
   "id": "7eef446a",
   "metadata": {
    "pycharm": {
     "name": "#%%\n"
    }
   },
   "outputs": [],
   "source": [
    "import numpy as np\n",
    "import pandas as pd"
   ]
  },
  {
   "cell_type": "code",
   "execution_count": 2,
   "id": "dde150af",
   "metadata": {
    "pycharm": {
     "name": "#%%\n"
    }
   },
   "outputs": [],
   "source": [
    "dict1 ={\n",
    "    \"name\":['gurbaaz','timmy','gunnu','alex'],\n",
    "    \"marks\":[92,34,24,17],\n",
    "    \"city\":['chandigarh','patiala','ludhiana','NewYork']\n",
    "}"
   ]
  },
  {
   "cell_type": "code",
   "execution_count": 3,
   "id": "a1667f90",
   "metadata": {
    "pycharm": {
     "name": "#%%\n"
    }
   },
   "outputs": [],
   "source": [
    "df=pd.DataFrame(dict1)"
   ]
  },
  {
   "cell_type": "code",
   "execution_count": 4,
   "outputs": [
    {
     "data": {
      "text/plain": "      name  marks        city\n0  gurbaaz     92  chandigarh\n1    timmy     34     patiala\n2    gunnu     24    ludhiana\n3     alex     17     NewYork",
      "text/html": "<div>\n<style scoped>\n    .dataframe tbody tr th:only-of-type {\n        vertical-align: middle;\n    }\n\n    .dataframe tbody tr th {\n        vertical-align: top;\n    }\n\n    .dataframe thead th {\n        text-align: right;\n    }\n</style>\n<table border=\"1\" class=\"dataframe\">\n  <thead>\n    <tr style=\"text-align: right;\">\n      <th></th>\n      <th>name</th>\n      <th>marks</th>\n      <th>city</th>\n    </tr>\n  </thead>\n  <tbody>\n    <tr>\n      <th>0</th>\n      <td>gurbaaz</td>\n      <td>92</td>\n      <td>chandigarh</td>\n    </tr>\n    <tr>\n      <th>1</th>\n      <td>timmy</td>\n      <td>34</td>\n      <td>patiala</td>\n    </tr>\n    <tr>\n      <th>2</th>\n      <td>gunnu</td>\n      <td>24</td>\n      <td>ludhiana</td>\n    </tr>\n    <tr>\n      <th>3</th>\n      <td>alex</td>\n      <td>17</td>\n      <td>NewYork</td>\n    </tr>\n  </tbody>\n</table>\n</div>"
     },
     "execution_count": 4,
     "metadata": {},
     "output_type": "execute_result"
    }
   ],
   "source": [
    "df"
   ],
   "metadata": {
    "collapsed": false,
    "pycharm": {
     "name": "#%%\n"
    }
   }
  },
  {
   "cell_type": "code",
   "execution_count": 5,
   "outputs": [
    {
     "data": {
      "text/plain": "0    chandigarh\n1       patiala\n2      ludhiana\n3       NewYork\nName: city, dtype: object"
     },
     "execution_count": 5,
     "metadata": {},
     "output_type": "execute_result"
    }
   ],
   "source": [
    "df.city"
   ],
   "metadata": {
    "collapsed": false,
    "pycharm": {
     "name": "#%%\n"
    }
   }
  },
  {
   "cell_type": "code",
   "execution_count": 6,
   "outputs": [],
   "source": [
    "df.to_csv('friends.csv')"
   ],
   "metadata": {
    "collapsed": false,
    "pycharm": {
     "name": "#%%\n"
    }
   }
  },
  {
   "cell_type": "code",
   "execution_count": 7,
   "outputs": [],
   "source": [
    "df.to_excel('friends.xlsx')"
   ],
   "metadata": {
    "collapsed": false,
    "pycharm": {
     "name": "#%%\n"
    }
   }
  },
  {
   "cell_type": "code",
   "execution_count": 8,
   "outputs": [],
   "source": [
    "df.to_csv('friends_indexNo.csv', index=False)"
   ],
   "metadata": {
    "collapsed": false,
    "pycharm": {
     "name": "#%%\n"
    }
   }
  },
  {
   "cell_type": "code",
   "execution_count": 9,
   "outputs": [
    {
     "data": {
      "text/plain": "      name  marks        city\n0  gurbaaz     92  chandigarh\n1    timmy     34     patiala",
      "text/html": "<div>\n<style scoped>\n    .dataframe tbody tr th:only-of-type {\n        vertical-align: middle;\n    }\n\n    .dataframe tbody tr th {\n        vertical-align: top;\n    }\n\n    .dataframe thead th {\n        text-align: right;\n    }\n</style>\n<table border=\"1\" class=\"dataframe\">\n  <thead>\n    <tr style=\"text-align: right;\">\n      <th></th>\n      <th>name</th>\n      <th>marks</th>\n      <th>city</th>\n    </tr>\n  </thead>\n  <tbody>\n    <tr>\n      <th>0</th>\n      <td>gurbaaz</td>\n      <td>92</td>\n      <td>chandigarh</td>\n    </tr>\n    <tr>\n      <th>1</th>\n      <td>timmy</td>\n      <td>34</td>\n      <td>patiala</td>\n    </tr>\n  </tbody>\n</table>\n</div>"
     },
     "execution_count": 9,
     "metadata": {},
     "output_type": "execute_result"
    }
   ],
   "source": [
    "df.head(2)"
   ],
   "metadata": {
    "collapsed": false,
    "pycharm": {
     "name": "#%%\n"
    }
   }
  },
  {
   "cell_type": "code",
   "execution_count": 10,
   "outputs": [
    {
     "data": {
      "text/plain": "    name  marks      city\n2  gunnu     24  ludhiana\n3   alex     17   NewYork",
      "text/html": "<div>\n<style scoped>\n    .dataframe tbody tr th:only-of-type {\n        vertical-align: middle;\n    }\n\n    .dataframe tbody tr th {\n        vertical-align: top;\n    }\n\n    .dataframe thead th {\n        text-align: right;\n    }\n</style>\n<table border=\"1\" class=\"dataframe\">\n  <thead>\n    <tr style=\"text-align: right;\">\n      <th></th>\n      <th>name</th>\n      <th>marks</th>\n      <th>city</th>\n    </tr>\n  </thead>\n  <tbody>\n    <tr>\n      <th>2</th>\n      <td>gunnu</td>\n      <td>24</td>\n      <td>ludhiana</td>\n    </tr>\n    <tr>\n      <th>3</th>\n      <td>alex</td>\n      <td>17</td>\n      <td>NewYork</td>\n    </tr>\n  </tbody>\n</table>\n</div>"
     },
     "execution_count": 10,
     "metadata": {},
     "output_type": "execute_result"
    }
   ],
   "source": [
    "df.tail(2)"
   ],
   "metadata": {
    "collapsed": false,
    "pycharm": {
     "name": "#%%\n"
    }
   }
  },
  {
   "cell_type": "code",
   "execution_count": 11,
   "outputs": [
    {
     "data": {
      "text/plain": "          marks\ncount   4.00000\nmean   41.75000\nstd    34.21866\nmin    17.00000\n25%    22.25000\n50%    29.00000\n75%    48.50000\nmax    92.00000",
      "text/html": "<div>\n<style scoped>\n    .dataframe tbody tr th:only-of-type {\n        vertical-align: middle;\n    }\n\n    .dataframe tbody tr th {\n        vertical-align: top;\n    }\n\n    .dataframe thead th {\n        text-align: right;\n    }\n</style>\n<table border=\"1\" class=\"dataframe\">\n  <thead>\n    <tr style=\"text-align: right;\">\n      <th></th>\n      <th>marks</th>\n    </tr>\n  </thead>\n  <tbody>\n    <tr>\n      <th>count</th>\n      <td>4.00000</td>\n    </tr>\n    <tr>\n      <th>mean</th>\n      <td>41.75000</td>\n    </tr>\n    <tr>\n      <th>std</th>\n      <td>34.21866</td>\n    </tr>\n    <tr>\n      <th>min</th>\n      <td>17.00000</td>\n    </tr>\n    <tr>\n      <th>25%</th>\n      <td>22.25000</td>\n    </tr>\n    <tr>\n      <th>50%</th>\n      <td>29.00000</td>\n    </tr>\n    <tr>\n      <th>75%</th>\n      <td>48.50000</td>\n    </tr>\n    <tr>\n      <th>max</th>\n      <td>92.00000</td>\n    </tr>\n  </tbody>\n</table>\n</div>"
     },
     "execution_count": 11,
     "metadata": {},
     "output_type": "execute_result"
    }
   ],
   "source": [
    "df.describe()"
   ],
   "metadata": {
    "collapsed": false,
    "pycharm": {
     "name": "#%%\n"
    }
   }
  },
  {
   "cell_type": "code",
   "execution_count": 12,
   "outputs": [],
   "source": [
    "timmy= pd.read_csv('timmy.csv')"
   ],
   "metadata": {
    "collapsed": false,
    "pycharm": {
     "name": "#%%\n"
    }
   }
  },
  {
   "cell_type": "code",
   "execution_count": 13,
   "outputs": [
    {
     "data": {
      "text/plain": "   Unnamed: 0.10  Unnamed: 0.9  Unnamed: 0.8  Unnamed: 0.7  Unnamed: 0.6  \\\n0              0             0             0             0             0   \n1              1             1             1             1             1   \n2              2             2             2             2             2   \n3              3             3             3             3             3   \n\n   Unnamed: 0.5  Unnamed: 0.4  Unnamed: 0.3  Unnamed: 0.2  Unnamed: 0.1  \\\n0             0             0             0             0             0   \n1             1             1             1             1             1   \n2             2             2             2             2             2   \n3             3             3             3             3             3   \n\n   Unnamed: 0  Tain No.  Speed        City  \n0           0     12322     50  chandigarh  \n1           1     12534    123     patiala  \n2           2    125654     67    ludhiana  \n3           3    564523     87      rajkot  ",
      "text/html": "<div>\n<style scoped>\n    .dataframe tbody tr th:only-of-type {\n        vertical-align: middle;\n    }\n\n    .dataframe tbody tr th {\n        vertical-align: top;\n    }\n\n    .dataframe thead th {\n        text-align: right;\n    }\n</style>\n<table border=\"1\" class=\"dataframe\">\n  <thead>\n    <tr style=\"text-align: right;\">\n      <th></th>\n      <th>Unnamed: 0.10</th>\n      <th>Unnamed: 0.9</th>\n      <th>Unnamed: 0.8</th>\n      <th>Unnamed: 0.7</th>\n      <th>Unnamed: 0.6</th>\n      <th>Unnamed: 0.5</th>\n      <th>Unnamed: 0.4</th>\n      <th>Unnamed: 0.3</th>\n      <th>Unnamed: 0.2</th>\n      <th>Unnamed: 0.1</th>\n      <th>Unnamed: 0</th>\n      <th>Tain No.</th>\n      <th>Speed</th>\n      <th>City</th>\n    </tr>\n  </thead>\n  <tbody>\n    <tr>\n      <th>0</th>\n      <td>0</td>\n      <td>0</td>\n      <td>0</td>\n      <td>0</td>\n      <td>0</td>\n      <td>0</td>\n      <td>0</td>\n      <td>0</td>\n      <td>0</td>\n      <td>0</td>\n      <td>0</td>\n      <td>12322</td>\n      <td>50</td>\n      <td>chandigarh</td>\n    </tr>\n    <tr>\n      <th>1</th>\n      <td>1</td>\n      <td>1</td>\n      <td>1</td>\n      <td>1</td>\n      <td>1</td>\n      <td>1</td>\n      <td>1</td>\n      <td>1</td>\n      <td>1</td>\n      <td>1</td>\n      <td>1</td>\n      <td>12534</td>\n      <td>123</td>\n      <td>patiala</td>\n    </tr>\n    <tr>\n      <th>2</th>\n      <td>2</td>\n      <td>2</td>\n      <td>2</td>\n      <td>2</td>\n      <td>2</td>\n      <td>2</td>\n      <td>2</td>\n      <td>2</td>\n      <td>2</td>\n      <td>2</td>\n      <td>2</td>\n      <td>125654</td>\n      <td>67</td>\n      <td>ludhiana</td>\n    </tr>\n    <tr>\n      <th>3</th>\n      <td>3</td>\n      <td>3</td>\n      <td>3</td>\n      <td>3</td>\n      <td>3</td>\n      <td>3</td>\n      <td>3</td>\n      <td>3</td>\n      <td>3</td>\n      <td>3</td>\n      <td>3</td>\n      <td>564523</td>\n      <td>87</td>\n      <td>rajkot</td>\n    </tr>\n  </tbody>\n</table>\n</div>"
     },
     "execution_count": 13,
     "metadata": {},
     "output_type": "execute_result"
    }
   ],
   "source": [
    "timmy"
   ],
   "metadata": {
    "collapsed": false,
    "pycharm": {
     "name": "#%%\n"
    }
   }
  },
  {
   "cell_type": "code",
   "execution_count": 14,
   "outputs": [
    {
     "name": "stderr",
     "output_type": "stream",
     "text": [
      "C:\\Users\\gurba\\AppData\\Local\\Temp\\ipykernel_18764\\3645333898.py:1: SettingWithCopyWarning: \n",
      "A value is trying to be set on a copy of a slice from a DataFrame\n",
      "\n",
      "See the caveats in the documentation: https://pandas.pydata.org/pandas-docs/stable/user_guide/indexing.html#returning-a-view-versus-a-copy\n",
      "  timmy['Speed'][0]=50\n"
     ]
    }
   ],
   "source": [
    "timmy['Speed'][0]=50"
   ],
   "metadata": {
    "collapsed": false,
    "pycharm": {
     "name": "#%%\n"
    }
   }
  },
  {
   "cell_type": "code",
   "execution_count": 15,
   "outputs": [
    {
     "data": {
      "text/plain": "   Unnamed: 0.10  Unnamed: 0.9  Unnamed: 0.8  Unnamed: 0.7  Unnamed: 0.6  \\\n0              0             0             0             0             0   \n1              1             1             1             1             1   \n2              2             2             2             2             2   \n3              3             3             3             3             3   \n\n   Unnamed: 0.5  Unnamed: 0.4  Unnamed: 0.3  Unnamed: 0.2  Unnamed: 0.1  \\\n0             0             0             0             0             0   \n1             1             1             1             1             1   \n2             2             2             2             2             2   \n3             3             3             3             3             3   \n\n   Unnamed: 0  Tain No.  Speed        City  \n0           0     12322     50  chandigarh  \n1           1     12534    123     patiala  \n2           2    125654     67    ludhiana  \n3           3    564523     87      rajkot  ",
      "text/html": "<div>\n<style scoped>\n    .dataframe tbody tr th:only-of-type {\n        vertical-align: middle;\n    }\n\n    .dataframe tbody tr th {\n        vertical-align: top;\n    }\n\n    .dataframe thead th {\n        text-align: right;\n    }\n</style>\n<table border=\"1\" class=\"dataframe\">\n  <thead>\n    <tr style=\"text-align: right;\">\n      <th></th>\n      <th>Unnamed: 0.10</th>\n      <th>Unnamed: 0.9</th>\n      <th>Unnamed: 0.8</th>\n      <th>Unnamed: 0.7</th>\n      <th>Unnamed: 0.6</th>\n      <th>Unnamed: 0.5</th>\n      <th>Unnamed: 0.4</th>\n      <th>Unnamed: 0.3</th>\n      <th>Unnamed: 0.2</th>\n      <th>Unnamed: 0.1</th>\n      <th>Unnamed: 0</th>\n      <th>Tain No.</th>\n      <th>Speed</th>\n      <th>City</th>\n    </tr>\n  </thead>\n  <tbody>\n    <tr>\n      <th>0</th>\n      <td>0</td>\n      <td>0</td>\n      <td>0</td>\n      <td>0</td>\n      <td>0</td>\n      <td>0</td>\n      <td>0</td>\n      <td>0</td>\n      <td>0</td>\n      <td>0</td>\n      <td>0</td>\n      <td>12322</td>\n      <td>50</td>\n      <td>chandigarh</td>\n    </tr>\n    <tr>\n      <th>1</th>\n      <td>1</td>\n      <td>1</td>\n      <td>1</td>\n      <td>1</td>\n      <td>1</td>\n      <td>1</td>\n      <td>1</td>\n      <td>1</td>\n      <td>1</td>\n      <td>1</td>\n      <td>1</td>\n      <td>12534</td>\n      <td>123</td>\n      <td>patiala</td>\n    </tr>\n    <tr>\n      <th>2</th>\n      <td>2</td>\n      <td>2</td>\n      <td>2</td>\n      <td>2</td>\n      <td>2</td>\n      <td>2</td>\n      <td>2</td>\n      <td>2</td>\n      <td>2</td>\n      <td>2</td>\n      <td>2</td>\n      <td>125654</td>\n      <td>67</td>\n      <td>ludhiana</td>\n    </tr>\n    <tr>\n      <th>3</th>\n      <td>3</td>\n      <td>3</td>\n      <td>3</td>\n      <td>3</td>\n      <td>3</td>\n      <td>3</td>\n      <td>3</td>\n      <td>3</td>\n      <td>3</td>\n      <td>3</td>\n      <td>3</td>\n      <td>564523</td>\n      <td>87</td>\n      <td>rajkot</td>\n    </tr>\n  </tbody>\n</table>\n</div>"
     },
     "execution_count": 15,
     "metadata": {},
     "output_type": "execute_result"
    }
   ],
   "source": [
    "timmy"
   ],
   "metadata": {
    "collapsed": false,
    "pycharm": {
     "name": "#%%\n"
    }
   }
  },
  {
   "cell_type": "code",
   "execution_count": 16,
   "outputs": [],
   "source": [
    "timmy.to_csv('timmy.csv')"
   ],
   "metadata": {
    "collapsed": false,
    "pycharm": {
     "name": "#%%\n"
    }
   }
  },
  {
   "cell_type": "code",
   "execution_count": 17,
   "outputs": [],
   "source": [
    "timmy.index=['first','second','third','fourth']"
   ],
   "metadata": {
    "collapsed": false,
    "pycharm": {
     "name": "#%%\n"
    }
   }
  },
  {
   "cell_type": "code",
   "execution_count": 18,
   "outputs": [
    {
     "data": {
      "text/plain": "        Unnamed: 0.10  Unnamed: 0.9  Unnamed: 0.8  Unnamed: 0.7  Unnamed: 0.6  \\\nfirst               0             0             0             0             0   \nsecond              1             1             1             1             1   \nthird               2             2             2             2             2   \nfourth              3             3             3             3             3   \n\n        Unnamed: 0.5  Unnamed: 0.4  Unnamed: 0.3  Unnamed: 0.2  Unnamed: 0.1  \\\nfirst              0             0             0             0             0   \nsecond             1             1             1             1             1   \nthird              2             2             2             2             2   \nfourth             3             3             3             3             3   \n\n        Unnamed: 0  Tain No.  Speed        City  \nfirst            0     12322     50  chandigarh  \nsecond           1     12534    123     patiala  \nthird            2    125654     67    ludhiana  \nfourth           3    564523     87      rajkot  ",
      "text/html": "<div>\n<style scoped>\n    .dataframe tbody tr th:only-of-type {\n        vertical-align: middle;\n    }\n\n    .dataframe tbody tr th {\n        vertical-align: top;\n    }\n\n    .dataframe thead th {\n        text-align: right;\n    }\n</style>\n<table border=\"1\" class=\"dataframe\">\n  <thead>\n    <tr style=\"text-align: right;\">\n      <th></th>\n      <th>Unnamed: 0.10</th>\n      <th>Unnamed: 0.9</th>\n      <th>Unnamed: 0.8</th>\n      <th>Unnamed: 0.7</th>\n      <th>Unnamed: 0.6</th>\n      <th>Unnamed: 0.5</th>\n      <th>Unnamed: 0.4</th>\n      <th>Unnamed: 0.3</th>\n      <th>Unnamed: 0.2</th>\n      <th>Unnamed: 0.1</th>\n      <th>Unnamed: 0</th>\n      <th>Tain No.</th>\n      <th>Speed</th>\n      <th>City</th>\n    </tr>\n  </thead>\n  <tbody>\n    <tr>\n      <th>first</th>\n      <td>0</td>\n      <td>0</td>\n      <td>0</td>\n      <td>0</td>\n      <td>0</td>\n      <td>0</td>\n      <td>0</td>\n      <td>0</td>\n      <td>0</td>\n      <td>0</td>\n      <td>0</td>\n      <td>12322</td>\n      <td>50</td>\n      <td>chandigarh</td>\n    </tr>\n    <tr>\n      <th>second</th>\n      <td>1</td>\n      <td>1</td>\n      <td>1</td>\n      <td>1</td>\n      <td>1</td>\n      <td>1</td>\n      <td>1</td>\n      <td>1</td>\n      <td>1</td>\n      <td>1</td>\n      <td>1</td>\n      <td>12534</td>\n      <td>123</td>\n      <td>patiala</td>\n    </tr>\n    <tr>\n      <th>third</th>\n      <td>2</td>\n      <td>2</td>\n      <td>2</td>\n      <td>2</td>\n      <td>2</td>\n      <td>2</td>\n      <td>2</td>\n      <td>2</td>\n      <td>2</td>\n      <td>2</td>\n      <td>2</td>\n      <td>125654</td>\n      <td>67</td>\n      <td>ludhiana</td>\n    </tr>\n    <tr>\n      <th>fourth</th>\n      <td>3</td>\n      <td>3</td>\n      <td>3</td>\n      <td>3</td>\n      <td>3</td>\n      <td>3</td>\n      <td>3</td>\n      <td>3</td>\n      <td>3</td>\n      <td>3</td>\n      <td>3</td>\n      <td>564523</td>\n      <td>87</td>\n      <td>rajkot</td>\n    </tr>\n  </tbody>\n</table>\n</div>"
     },
     "execution_count": 18,
     "metadata": {},
     "output_type": "execute_result"
    }
   ],
   "source": [
    "timmy"
   ],
   "metadata": {
    "collapsed": false,
    "pycharm": {
     "name": "#%%\n"
    }
   }
  },
  {
   "cell_type": "code",
   "execution_count": 19,
   "outputs": [],
   "source": [
    "ser=pd.Series(np.random.rand(34))"
   ],
   "metadata": {
    "collapsed": false,
    "pycharm": {
     "name": "#%%\n"
    }
   }
  },
  {
   "cell_type": "code",
   "execution_count": 20,
   "outputs": [
    {
     "data": {
      "text/plain": "0     0.760509\n1     0.875578\n2     0.040968\n3     0.371871\n4     0.251200\n5     0.489339\n6     0.137177\n7     0.701612\n8     0.116949\n9     0.639261\n10    0.278170\n11    0.082295\n12    0.564361\n13    0.749330\n14    0.366823\n15    0.979217\n16    0.089160\n17    0.667414\n18    0.703799\n19    0.268235\n20    0.753458\n21    0.522758\n22    0.222955\n23    0.457268\n24    0.089529\n25    0.486526\n26    0.688906\n27    0.650054\n28    0.687290\n29    0.335428\n30    0.474729\n31    0.148484\n32    0.901736\n33    0.424187\ndtype: float64"
     },
     "execution_count": 20,
     "metadata": {},
     "output_type": "execute_result"
    }
   ],
   "source": [
    "ser"
   ],
   "metadata": {
    "collapsed": false,
    "pycharm": {
     "name": "#%%\n"
    }
   }
  },
  {
   "cell_type": "code",
   "execution_count": 21,
   "outputs": [
    {
     "data": {
      "text/plain": "pandas.core.series.Series"
     },
     "execution_count": 21,
     "metadata": {},
     "output_type": "execute_result"
    }
   ],
   "source": [
    "type(ser)"
   ],
   "metadata": {
    "collapsed": false,
    "pycharm": {
     "name": "#%%\n"
    }
   }
  },
  {
   "cell_type": "code",
   "execution_count": 22,
   "outputs": [],
   "source": [
    "newdf=pd.DataFrame(np.random.rand(334,5), index=np.arange(334))"
   ],
   "metadata": {
    "collapsed": false,
    "pycharm": {
     "name": "#%%\n"
    }
   }
  },
  {
   "cell_type": "code",
   "execution_count": 23,
   "outputs": [
    {
     "data": {
      "text/plain": "          0         1         2         3         4\n0  0.977619  0.120369  0.776917  0.541943  0.953637\n1  0.726646  0.228588  0.034236  0.002127  0.806061\n2  0.388369  0.103273  0.457535  0.158369  0.421174\n3  0.782331  0.951424  0.079129  0.979930  0.109586\n4  0.583564  0.597886  0.328780  0.774392  0.572285",
      "text/html": "<div>\n<style scoped>\n    .dataframe tbody tr th:only-of-type {\n        vertical-align: middle;\n    }\n\n    .dataframe tbody tr th {\n        vertical-align: top;\n    }\n\n    .dataframe thead th {\n        text-align: right;\n    }\n</style>\n<table border=\"1\" class=\"dataframe\">\n  <thead>\n    <tr style=\"text-align: right;\">\n      <th></th>\n      <th>0</th>\n      <th>1</th>\n      <th>2</th>\n      <th>3</th>\n      <th>4</th>\n    </tr>\n  </thead>\n  <tbody>\n    <tr>\n      <th>0</th>\n      <td>0.977619</td>\n      <td>0.120369</td>\n      <td>0.776917</td>\n      <td>0.541943</td>\n      <td>0.953637</td>\n    </tr>\n    <tr>\n      <th>1</th>\n      <td>0.726646</td>\n      <td>0.228588</td>\n      <td>0.034236</td>\n      <td>0.002127</td>\n      <td>0.806061</td>\n    </tr>\n    <tr>\n      <th>2</th>\n      <td>0.388369</td>\n      <td>0.103273</td>\n      <td>0.457535</td>\n      <td>0.158369</td>\n      <td>0.421174</td>\n    </tr>\n    <tr>\n      <th>3</th>\n      <td>0.782331</td>\n      <td>0.951424</td>\n      <td>0.079129</td>\n      <td>0.979930</td>\n      <td>0.109586</td>\n    </tr>\n    <tr>\n      <th>4</th>\n      <td>0.583564</td>\n      <td>0.597886</td>\n      <td>0.328780</td>\n      <td>0.774392</td>\n      <td>0.572285</td>\n    </tr>\n  </tbody>\n</table>\n</div>"
     },
     "execution_count": 23,
     "metadata": {},
     "output_type": "execute_result"
    }
   ],
   "source": [
    "newdf.head()"
   ],
   "metadata": {
    "collapsed": false,
    "pycharm": {
     "name": "#%%\n"
    }
   }
  },
  {
   "cell_type": "code",
   "execution_count": 24,
   "outputs": [
    {
     "data": {
      "text/plain": "pandas.core.frame.DataFrame"
     },
     "execution_count": 24,
     "metadata": {},
     "output_type": "execute_result"
    }
   ],
   "source": [
    "type(newdf)"
   ],
   "metadata": {
    "collapsed": false,
    "pycharm": {
     "name": "#%%\n"
    }
   }
  },
  {
   "cell_type": "code",
   "execution_count": 25,
   "outputs": [
    {
     "data": {
      "text/plain": "                0           1           2           3           4\ncount  334.000000  334.000000  334.000000  334.000000  334.000000\nmean     0.491278    0.508928    0.516245    0.490470    0.496486\nstd      0.296998    0.287217    0.292366    0.295202    0.294673\nmin      0.000825    0.000943    0.000578    0.001483    0.000471\n25%      0.226625    0.262469    0.284118    0.228158    0.238082\n50%      0.464667    0.528497    0.500069    0.477907    0.471904\n75%      0.754464    0.753906    0.786599    0.753033    0.774702\nmax      0.998142    0.999674    0.999260    0.990006    0.999287",
      "text/html": "<div>\n<style scoped>\n    .dataframe tbody tr th:only-of-type {\n        vertical-align: middle;\n    }\n\n    .dataframe tbody tr th {\n        vertical-align: top;\n    }\n\n    .dataframe thead th {\n        text-align: right;\n    }\n</style>\n<table border=\"1\" class=\"dataframe\">\n  <thead>\n    <tr style=\"text-align: right;\">\n      <th></th>\n      <th>0</th>\n      <th>1</th>\n      <th>2</th>\n      <th>3</th>\n      <th>4</th>\n    </tr>\n  </thead>\n  <tbody>\n    <tr>\n      <th>count</th>\n      <td>334.000000</td>\n      <td>334.000000</td>\n      <td>334.000000</td>\n      <td>334.000000</td>\n      <td>334.000000</td>\n    </tr>\n    <tr>\n      <th>mean</th>\n      <td>0.491278</td>\n      <td>0.508928</td>\n      <td>0.516245</td>\n      <td>0.490470</td>\n      <td>0.496486</td>\n    </tr>\n    <tr>\n      <th>std</th>\n      <td>0.296998</td>\n      <td>0.287217</td>\n      <td>0.292366</td>\n      <td>0.295202</td>\n      <td>0.294673</td>\n    </tr>\n    <tr>\n      <th>min</th>\n      <td>0.000825</td>\n      <td>0.000943</td>\n      <td>0.000578</td>\n      <td>0.001483</td>\n      <td>0.000471</td>\n    </tr>\n    <tr>\n      <th>25%</th>\n      <td>0.226625</td>\n      <td>0.262469</td>\n      <td>0.284118</td>\n      <td>0.228158</td>\n      <td>0.238082</td>\n    </tr>\n    <tr>\n      <th>50%</th>\n      <td>0.464667</td>\n      <td>0.528497</td>\n      <td>0.500069</td>\n      <td>0.477907</td>\n      <td>0.471904</td>\n    </tr>\n    <tr>\n      <th>75%</th>\n      <td>0.754464</td>\n      <td>0.753906</td>\n      <td>0.786599</td>\n      <td>0.753033</td>\n      <td>0.774702</td>\n    </tr>\n    <tr>\n      <th>max</th>\n      <td>0.998142</td>\n      <td>0.999674</td>\n      <td>0.999260</td>\n      <td>0.990006</td>\n      <td>0.999287</td>\n    </tr>\n  </tbody>\n</table>\n</div>"
     },
     "execution_count": 25,
     "metadata": {},
     "output_type": "execute_result"
    }
   ],
   "source": [
    "newdf.describe()"
   ],
   "metadata": {
    "collapsed": false,
    "pycharm": {
     "name": "#%%\n"
    }
   }
  },
  {
   "cell_type": "code",
   "execution_count": 26,
   "outputs": [
    {
     "data": {
      "text/plain": "0    float64\n1    float64\n2    float64\n3    float64\n4    float64\ndtype: object"
     },
     "execution_count": 26,
     "metadata": {},
     "output_type": "execute_result"
    }
   ],
   "source": [
    "newdf.dtypes"
   ],
   "metadata": {
    "collapsed": false,
    "pycharm": {
     "name": "#%%\n"
    }
   }
  },
  {
   "cell_type": "code",
   "execution_count": 27,
   "outputs": [
    {
     "data": {
      "text/plain": "Int64Index([  0,   1,   2,   3,   4,   5,   6,   7,   8,   9,\n            ...\n            324, 325, 326, 327, 328, 329, 330, 331, 332, 333],\n           dtype='int64', length=334)"
     },
     "execution_count": 27,
     "metadata": {},
     "output_type": "execute_result"
    }
   ],
   "source": [
    "newdf.index"
   ],
   "metadata": {
    "collapsed": false,
    "pycharm": {
     "name": "#%%\n"
    }
   }
  },
  {
   "cell_type": "code",
   "execution_count": 28,
   "outputs": [
    {
     "data": {
      "text/plain": "RangeIndex(start=0, stop=5, step=1)"
     },
     "execution_count": 28,
     "metadata": {},
     "output_type": "execute_result"
    }
   ],
   "source": [
    "newdf.columns"
   ],
   "metadata": {
    "collapsed": false,
    "pycharm": {
     "name": "#%%\n"
    }
   }
  },
  {
   "cell_type": "code",
   "execution_count": 29,
   "outputs": [
    {
     "data": {
      "text/plain": "array([[0.97761931, 0.1203695 , 0.77691728, 0.54194255, 0.95363728],\n       [0.72664636, 0.22858805, 0.03423562, 0.00212672, 0.80606083],\n       [0.38836882, 0.10327347, 0.4575349 , 0.15836948, 0.42117447],\n       ...,\n       [0.40140275, 0.93401681, 0.12405486, 0.98435888, 0.84828956],\n       [0.17254975, 0.02561044, 0.44502396, 0.77460047, 0.48386369],\n       [0.30380227, 0.51625945, 0.462356  , 0.7096887 , 0.80643451]])"
     },
     "execution_count": 29,
     "metadata": {},
     "output_type": "execute_result"
    }
   ],
   "source": [
    "newdf.to_numpy()"
   ],
   "metadata": {
    "collapsed": false,
    "pycharm": {
     "name": "#%%\n"
    }
   }
  },
  {
   "cell_type": "code",
   "execution_count": 30,
   "outputs": [
    {
     "data": {
      "text/plain": "0    float64\n1    float64\n2    float64\n3    float64\n4    float64\ndtype: object"
     },
     "execution_count": 30,
     "metadata": {},
     "output_type": "execute_result"
    }
   ],
   "source": [
    "newdf.dtypes"
   ],
   "metadata": {
    "collapsed": false,
    "pycharm": {
     "name": "#%%\n"
    }
   }
  },
  {
   "cell_type": "code",
   "execution_count": 31,
   "outputs": [
    {
     "data": {
      "text/plain": "        0         1         2         3         4         5         6    \\\n0  0.977619  0.726646  0.388369  0.782331  0.583564  0.743578  0.921760   \n1  0.120369  0.228588  0.103273  0.951424  0.597886  0.006239  0.656712   \n2  0.776917  0.034236  0.457535  0.079129  0.328780  0.017536  0.960398   \n3  0.541943  0.002127  0.158369  0.979930  0.774392  0.924947  0.545358   \n4  0.953637  0.806061  0.421174  0.109586  0.572285  0.295022  0.642706   \n\n        7         8         9    ...       324       325       326       327  \\\n0  0.937526  0.747933  0.194811  ...  0.817333  0.845822  0.875236  0.028323   \n1  0.768382  0.224226  0.181342  ...  0.886835  0.159313  0.767722  0.387512   \n2  0.331996  0.820598  0.811245  ...  0.573833  0.840537  0.696269  0.157069   \n3  0.950688  0.934892  0.690762  ...  0.536199  0.398713  0.405179  0.346402   \n4  0.201681  0.859230  0.369030  ...  0.567923  0.675859  0.966680  0.079654   \n\n        328       329       330       331       332       333  \n0  0.247594  0.594372  0.919037  0.401403  0.172550  0.303802  \n1  0.160401  0.487546  0.876866  0.934017  0.025610  0.516259  \n2  0.918534  0.752590  0.895388  0.124055  0.445024  0.462356  \n3  0.533024  0.791148  0.180047  0.984359  0.774600  0.709689  \n4  0.400005  0.351038  0.561975  0.848290  0.483864  0.806435  \n\n[5 rows x 334 columns]",
      "text/html": "<div>\n<style scoped>\n    .dataframe tbody tr th:only-of-type {\n        vertical-align: middle;\n    }\n\n    .dataframe tbody tr th {\n        vertical-align: top;\n    }\n\n    .dataframe thead th {\n        text-align: right;\n    }\n</style>\n<table border=\"1\" class=\"dataframe\">\n  <thead>\n    <tr style=\"text-align: right;\">\n      <th></th>\n      <th>0</th>\n      <th>1</th>\n      <th>2</th>\n      <th>3</th>\n      <th>4</th>\n      <th>5</th>\n      <th>6</th>\n      <th>7</th>\n      <th>8</th>\n      <th>9</th>\n      <th>...</th>\n      <th>324</th>\n      <th>325</th>\n      <th>326</th>\n      <th>327</th>\n      <th>328</th>\n      <th>329</th>\n      <th>330</th>\n      <th>331</th>\n      <th>332</th>\n      <th>333</th>\n    </tr>\n  </thead>\n  <tbody>\n    <tr>\n      <th>0</th>\n      <td>0.977619</td>\n      <td>0.726646</td>\n      <td>0.388369</td>\n      <td>0.782331</td>\n      <td>0.583564</td>\n      <td>0.743578</td>\n      <td>0.921760</td>\n      <td>0.937526</td>\n      <td>0.747933</td>\n      <td>0.194811</td>\n      <td>...</td>\n      <td>0.817333</td>\n      <td>0.845822</td>\n      <td>0.875236</td>\n      <td>0.028323</td>\n      <td>0.247594</td>\n      <td>0.594372</td>\n      <td>0.919037</td>\n      <td>0.401403</td>\n      <td>0.172550</td>\n      <td>0.303802</td>\n    </tr>\n    <tr>\n      <th>1</th>\n      <td>0.120369</td>\n      <td>0.228588</td>\n      <td>0.103273</td>\n      <td>0.951424</td>\n      <td>0.597886</td>\n      <td>0.006239</td>\n      <td>0.656712</td>\n      <td>0.768382</td>\n      <td>0.224226</td>\n      <td>0.181342</td>\n      <td>...</td>\n      <td>0.886835</td>\n      <td>0.159313</td>\n      <td>0.767722</td>\n      <td>0.387512</td>\n      <td>0.160401</td>\n      <td>0.487546</td>\n      <td>0.876866</td>\n      <td>0.934017</td>\n      <td>0.025610</td>\n      <td>0.516259</td>\n    </tr>\n    <tr>\n      <th>2</th>\n      <td>0.776917</td>\n      <td>0.034236</td>\n      <td>0.457535</td>\n      <td>0.079129</td>\n      <td>0.328780</td>\n      <td>0.017536</td>\n      <td>0.960398</td>\n      <td>0.331996</td>\n      <td>0.820598</td>\n      <td>0.811245</td>\n      <td>...</td>\n      <td>0.573833</td>\n      <td>0.840537</td>\n      <td>0.696269</td>\n      <td>0.157069</td>\n      <td>0.918534</td>\n      <td>0.752590</td>\n      <td>0.895388</td>\n      <td>0.124055</td>\n      <td>0.445024</td>\n      <td>0.462356</td>\n    </tr>\n    <tr>\n      <th>3</th>\n      <td>0.541943</td>\n      <td>0.002127</td>\n      <td>0.158369</td>\n      <td>0.979930</td>\n      <td>0.774392</td>\n      <td>0.924947</td>\n      <td>0.545358</td>\n      <td>0.950688</td>\n      <td>0.934892</td>\n      <td>0.690762</td>\n      <td>...</td>\n      <td>0.536199</td>\n      <td>0.398713</td>\n      <td>0.405179</td>\n      <td>0.346402</td>\n      <td>0.533024</td>\n      <td>0.791148</td>\n      <td>0.180047</td>\n      <td>0.984359</td>\n      <td>0.774600</td>\n      <td>0.709689</td>\n    </tr>\n    <tr>\n      <th>4</th>\n      <td>0.953637</td>\n      <td>0.806061</td>\n      <td>0.421174</td>\n      <td>0.109586</td>\n      <td>0.572285</td>\n      <td>0.295022</td>\n      <td>0.642706</td>\n      <td>0.201681</td>\n      <td>0.859230</td>\n      <td>0.369030</td>\n      <td>...</td>\n      <td>0.567923</td>\n      <td>0.675859</td>\n      <td>0.966680</td>\n      <td>0.079654</td>\n      <td>0.400005</td>\n      <td>0.351038</td>\n      <td>0.561975</td>\n      <td>0.848290</td>\n      <td>0.483864</td>\n      <td>0.806435</td>\n    </tr>\n  </tbody>\n</table>\n<p>5 rows × 334 columns</p>\n</div>"
     },
     "execution_count": 31,
     "metadata": {},
     "output_type": "execute_result"
    }
   ],
   "source": [
    "newdf.T"
   ],
   "metadata": {
    "collapsed": false,
    "pycharm": {
     "name": "#%%\n"
    }
   }
  },
  {
   "cell_type": "code",
   "execution_count": 32,
   "outputs": [
    {
     "data": {
      "text/plain": "            0         1         2         3         4\n0    0.977619  0.120369  0.776917  0.541943  0.953637\n1    0.726646  0.228588  0.034236  0.002127  0.806061\n2    0.388369  0.103273  0.457535  0.158369  0.421174\n3    0.782331  0.951424  0.079129  0.979930  0.109586\n4    0.583564  0.597886  0.328780  0.774392  0.572285\n..        ...       ...       ...       ...       ...\n329  0.594372  0.487546  0.752590  0.791148  0.351038\n330  0.919037  0.876866  0.895388  0.180047  0.561975\n331  0.401403  0.934017  0.124055  0.984359  0.848290\n332  0.172550  0.025610  0.445024  0.774600  0.483864\n333  0.303802  0.516259  0.462356  0.709689  0.806435\n\n[334 rows x 5 columns]",
      "text/html": "<div>\n<style scoped>\n    .dataframe tbody tr th:only-of-type {\n        vertical-align: middle;\n    }\n\n    .dataframe tbody tr th {\n        vertical-align: top;\n    }\n\n    .dataframe thead th {\n        text-align: right;\n    }\n</style>\n<table border=\"1\" class=\"dataframe\">\n  <thead>\n    <tr style=\"text-align: right;\">\n      <th></th>\n      <th>0</th>\n      <th>1</th>\n      <th>2</th>\n      <th>3</th>\n      <th>4</th>\n    </tr>\n  </thead>\n  <tbody>\n    <tr>\n      <th>0</th>\n      <td>0.977619</td>\n      <td>0.120369</td>\n      <td>0.776917</td>\n      <td>0.541943</td>\n      <td>0.953637</td>\n    </tr>\n    <tr>\n      <th>1</th>\n      <td>0.726646</td>\n      <td>0.228588</td>\n      <td>0.034236</td>\n      <td>0.002127</td>\n      <td>0.806061</td>\n    </tr>\n    <tr>\n      <th>2</th>\n      <td>0.388369</td>\n      <td>0.103273</td>\n      <td>0.457535</td>\n      <td>0.158369</td>\n      <td>0.421174</td>\n    </tr>\n    <tr>\n      <th>3</th>\n      <td>0.782331</td>\n      <td>0.951424</td>\n      <td>0.079129</td>\n      <td>0.979930</td>\n      <td>0.109586</td>\n    </tr>\n    <tr>\n      <th>4</th>\n      <td>0.583564</td>\n      <td>0.597886</td>\n      <td>0.328780</td>\n      <td>0.774392</td>\n      <td>0.572285</td>\n    </tr>\n    <tr>\n      <th>...</th>\n      <td>...</td>\n      <td>...</td>\n      <td>...</td>\n      <td>...</td>\n      <td>...</td>\n    </tr>\n    <tr>\n      <th>329</th>\n      <td>0.594372</td>\n      <td>0.487546</td>\n      <td>0.752590</td>\n      <td>0.791148</td>\n      <td>0.351038</td>\n    </tr>\n    <tr>\n      <th>330</th>\n      <td>0.919037</td>\n      <td>0.876866</td>\n      <td>0.895388</td>\n      <td>0.180047</td>\n      <td>0.561975</td>\n    </tr>\n    <tr>\n      <th>331</th>\n      <td>0.401403</td>\n      <td>0.934017</td>\n      <td>0.124055</td>\n      <td>0.984359</td>\n      <td>0.848290</td>\n    </tr>\n    <tr>\n      <th>332</th>\n      <td>0.172550</td>\n      <td>0.025610</td>\n      <td>0.445024</td>\n      <td>0.774600</td>\n      <td>0.483864</td>\n    </tr>\n    <tr>\n      <th>333</th>\n      <td>0.303802</td>\n      <td>0.516259</td>\n      <td>0.462356</td>\n      <td>0.709689</td>\n      <td>0.806435</td>\n    </tr>\n  </tbody>\n</table>\n<p>334 rows × 5 columns</p>\n</div>"
     },
     "execution_count": 32,
     "metadata": {},
     "output_type": "execute_result"
    }
   ],
   "source": [
    "newdf"
   ],
   "metadata": {
    "collapsed": false,
    "pycharm": {
     "name": "#%%\n"
    }
   }
  },
  {
   "cell_type": "code",
   "execution_count": 33,
   "outputs": [
    {
     "data": {
      "text/plain": "            0         1         2         3         4\n333  0.303802  0.516259  0.462356  0.709689  0.806435\n332  0.172550  0.025610  0.445024  0.774600  0.483864\n331  0.401403  0.934017  0.124055  0.984359  0.848290\n330  0.919037  0.876866  0.895388  0.180047  0.561975\n329  0.594372  0.487546  0.752590  0.791148  0.351038\n..        ...       ...       ...       ...       ...\n4    0.583564  0.597886  0.328780  0.774392  0.572285\n3    0.782331  0.951424  0.079129  0.979930  0.109586\n2    0.388369  0.103273  0.457535  0.158369  0.421174\n1    0.726646  0.228588  0.034236  0.002127  0.806061\n0    0.977619  0.120369  0.776917  0.541943  0.953637\n\n[334 rows x 5 columns]",
      "text/html": "<div>\n<style scoped>\n    .dataframe tbody tr th:only-of-type {\n        vertical-align: middle;\n    }\n\n    .dataframe tbody tr th {\n        vertical-align: top;\n    }\n\n    .dataframe thead th {\n        text-align: right;\n    }\n</style>\n<table border=\"1\" class=\"dataframe\">\n  <thead>\n    <tr style=\"text-align: right;\">\n      <th></th>\n      <th>0</th>\n      <th>1</th>\n      <th>2</th>\n      <th>3</th>\n      <th>4</th>\n    </tr>\n  </thead>\n  <tbody>\n    <tr>\n      <th>333</th>\n      <td>0.303802</td>\n      <td>0.516259</td>\n      <td>0.462356</td>\n      <td>0.709689</td>\n      <td>0.806435</td>\n    </tr>\n    <tr>\n      <th>332</th>\n      <td>0.172550</td>\n      <td>0.025610</td>\n      <td>0.445024</td>\n      <td>0.774600</td>\n      <td>0.483864</td>\n    </tr>\n    <tr>\n      <th>331</th>\n      <td>0.401403</td>\n      <td>0.934017</td>\n      <td>0.124055</td>\n      <td>0.984359</td>\n      <td>0.848290</td>\n    </tr>\n    <tr>\n      <th>330</th>\n      <td>0.919037</td>\n      <td>0.876866</td>\n      <td>0.895388</td>\n      <td>0.180047</td>\n      <td>0.561975</td>\n    </tr>\n    <tr>\n      <th>329</th>\n      <td>0.594372</td>\n      <td>0.487546</td>\n      <td>0.752590</td>\n      <td>0.791148</td>\n      <td>0.351038</td>\n    </tr>\n    <tr>\n      <th>...</th>\n      <td>...</td>\n      <td>...</td>\n      <td>...</td>\n      <td>...</td>\n      <td>...</td>\n    </tr>\n    <tr>\n      <th>4</th>\n      <td>0.583564</td>\n      <td>0.597886</td>\n      <td>0.328780</td>\n      <td>0.774392</td>\n      <td>0.572285</td>\n    </tr>\n    <tr>\n      <th>3</th>\n      <td>0.782331</td>\n      <td>0.951424</td>\n      <td>0.079129</td>\n      <td>0.979930</td>\n      <td>0.109586</td>\n    </tr>\n    <tr>\n      <th>2</th>\n      <td>0.388369</td>\n      <td>0.103273</td>\n      <td>0.457535</td>\n      <td>0.158369</td>\n      <td>0.421174</td>\n    </tr>\n    <tr>\n      <th>1</th>\n      <td>0.726646</td>\n      <td>0.228588</td>\n      <td>0.034236</td>\n      <td>0.002127</td>\n      <td>0.806061</td>\n    </tr>\n    <tr>\n      <th>0</th>\n      <td>0.977619</td>\n      <td>0.120369</td>\n      <td>0.776917</td>\n      <td>0.541943</td>\n      <td>0.953637</td>\n    </tr>\n  </tbody>\n</table>\n<p>334 rows × 5 columns</p>\n</div>"
     },
     "execution_count": 33,
     "metadata": {},
     "output_type": "execute_result"
    }
   ],
   "source": [
    "newdf.sort_index(axis=0,ascending=False)"
   ],
   "metadata": {
    "collapsed": false,
    "pycharm": {
     "name": "#%%\n"
    }
   }
  },
  {
   "cell_type": "code",
   "execution_count": 34,
   "outputs": [
    {
     "data": {
      "text/plain": "            4         3         2         1         0\n0    0.953637  0.541943  0.776917  0.120369  0.977619\n1    0.806061  0.002127  0.034236  0.228588  0.726646\n2    0.421174  0.158369  0.457535  0.103273  0.388369\n3    0.109586  0.979930  0.079129  0.951424  0.782331\n4    0.572285  0.774392  0.328780  0.597886  0.583564\n..        ...       ...       ...       ...       ...\n329  0.351038  0.791148  0.752590  0.487546  0.594372\n330  0.561975  0.180047  0.895388  0.876866  0.919037\n331  0.848290  0.984359  0.124055  0.934017  0.401403\n332  0.483864  0.774600  0.445024  0.025610  0.172550\n333  0.806435  0.709689  0.462356  0.516259  0.303802\n\n[334 rows x 5 columns]",
      "text/html": "<div>\n<style scoped>\n    .dataframe tbody tr th:only-of-type {\n        vertical-align: middle;\n    }\n\n    .dataframe tbody tr th {\n        vertical-align: top;\n    }\n\n    .dataframe thead th {\n        text-align: right;\n    }\n</style>\n<table border=\"1\" class=\"dataframe\">\n  <thead>\n    <tr style=\"text-align: right;\">\n      <th></th>\n      <th>4</th>\n      <th>3</th>\n      <th>2</th>\n      <th>1</th>\n      <th>0</th>\n    </tr>\n  </thead>\n  <tbody>\n    <tr>\n      <th>0</th>\n      <td>0.953637</td>\n      <td>0.541943</td>\n      <td>0.776917</td>\n      <td>0.120369</td>\n      <td>0.977619</td>\n    </tr>\n    <tr>\n      <th>1</th>\n      <td>0.806061</td>\n      <td>0.002127</td>\n      <td>0.034236</td>\n      <td>0.228588</td>\n      <td>0.726646</td>\n    </tr>\n    <tr>\n      <th>2</th>\n      <td>0.421174</td>\n      <td>0.158369</td>\n      <td>0.457535</td>\n      <td>0.103273</td>\n      <td>0.388369</td>\n    </tr>\n    <tr>\n      <th>3</th>\n      <td>0.109586</td>\n      <td>0.979930</td>\n      <td>0.079129</td>\n      <td>0.951424</td>\n      <td>0.782331</td>\n    </tr>\n    <tr>\n      <th>4</th>\n      <td>0.572285</td>\n      <td>0.774392</td>\n      <td>0.328780</td>\n      <td>0.597886</td>\n      <td>0.583564</td>\n    </tr>\n    <tr>\n      <th>...</th>\n      <td>...</td>\n      <td>...</td>\n      <td>...</td>\n      <td>...</td>\n      <td>...</td>\n    </tr>\n    <tr>\n      <th>329</th>\n      <td>0.351038</td>\n      <td>0.791148</td>\n      <td>0.752590</td>\n      <td>0.487546</td>\n      <td>0.594372</td>\n    </tr>\n    <tr>\n      <th>330</th>\n      <td>0.561975</td>\n      <td>0.180047</td>\n      <td>0.895388</td>\n      <td>0.876866</td>\n      <td>0.919037</td>\n    </tr>\n    <tr>\n      <th>331</th>\n      <td>0.848290</td>\n      <td>0.984359</td>\n      <td>0.124055</td>\n      <td>0.934017</td>\n      <td>0.401403</td>\n    </tr>\n    <tr>\n      <th>332</th>\n      <td>0.483864</td>\n      <td>0.774600</td>\n      <td>0.445024</td>\n      <td>0.025610</td>\n      <td>0.172550</td>\n    </tr>\n    <tr>\n      <th>333</th>\n      <td>0.806435</td>\n      <td>0.709689</td>\n      <td>0.462356</td>\n      <td>0.516259</td>\n      <td>0.303802</td>\n    </tr>\n  </tbody>\n</table>\n<p>334 rows × 5 columns</p>\n</div>"
     },
     "execution_count": 34,
     "metadata": {},
     "output_type": "execute_result"
    }
   ],
   "source": [
    "newdf.sort_index(axis=1,ascending=False)"
   ],
   "metadata": {
    "collapsed": false,
    "pycharm": {
     "name": "#%%\n"
    }
   }
  },
  {
   "cell_type": "code",
   "execution_count": 35,
   "outputs": [],
   "source": [
    "newdf2=newdf"
   ],
   "metadata": {
    "collapsed": false,
    "pycharm": {
     "name": "#%%\n"
    }
   }
  },
  {
   "cell_type": "code",
   "execution_count": 36,
   "outputs": [],
   "source": [
    "newdf2[0][0]=9756"
   ],
   "metadata": {
    "collapsed": false,
    "pycharm": {
     "name": "#%%\n"
    }
   }
  },
  {
   "cell_type": "code",
   "execution_count": 37,
   "outputs": [
    {
     "data": {
      "text/plain": "               0         1         2         3         4\n0    9756.000000  0.120369  0.776917  0.541943  0.953637\n1       0.726646  0.228588  0.034236  0.002127  0.806061\n2       0.388369  0.103273  0.457535  0.158369  0.421174\n3       0.782331  0.951424  0.079129  0.979930  0.109586\n4       0.583564  0.597886  0.328780  0.774392  0.572285\n..           ...       ...       ...       ...       ...\n329     0.594372  0.487546  0.752590  0.791148  0.351038\n330     0.919037  0.876866  0.895388  0.180047  0.561975\n331     0.401403  0.934017  0.124055  0.984359  0.848290\n332     0.172550  0.025610  0.445024  0.774600  0.483864\n333     0.303802  0.516259  0.462356  0.709689  0.806435\n\n[334 rows x 5 columns]",
      "text/html": "<div>\n<style scoped>\n    .dataframe tbody tr th:only-of-type {\n        vertical-align: middle;\n    }\n\n    .dataframe tbody tr th {\n        vertical-align: top;\n    }\n\n    .dataframe thead th {\n        text-align: right;\n    }\n</style>\n<table border=\"1\" class=\"dataframe\">\n  <thead>\n    <tr style=\"text-align: right;\">\n      <th></th>\n      <th>0</th>\n      <th>1</th>\n      <th>2</th>\n      <th>3</th>\n      <th>4</th>\n    </tr>\n  </thead>\n  <tbody>\n    <tr>\n      <th>0</th>\n      <td>9756.000000</td>\n      <td>0.120369</td>\n      <td>0.776917</td>\n      <td>0.541943</td>\n      <td>0.953637</td>\n    </tr>\n    <tr>\n      <th>1</th>\n      <td>0.726646</td>\n      <td>0.228588</td>\n      <td>0.034236</td>\n      <td>0.002127</td>\n      <td>0.806061</td>\n    </tr>\n    <tr>\n      <th>2</th>\n      <td>0.388369</td>\n      <td>0.103273</td>\n      <td>0.457535</td>\n      <td>0.158369</td>\n      <td>0.421174</td>\n    </tr>\n    <tr>\n      <th>3</th>\n      <td>0.782331</td>\n      <td>0.951424</td>\n      <td>0.079129</td>\n      <td>0.979930</td>\n      <td>0.109586</td>\n    </tr>\n    <tr>\n      <th>4</th>\n      <td>0.583564</td>\n      <td>0.597886</td>\n      <td>0.328780</td>\n      <td>0.774392</td>\n      <td>0.572285</td>\n    </tr>\n    <tr>\n      <th>...</th>\n      <td>...</td>\n      <td>...</td>\n      <td>...</td>\n      <td>...</td>\n      <td>...</td>\n    </tr>\n    <tr>\n      <th>329</th>\n      <td>0.594372</td>\n      <td>0.487546</td>\n      <td>0.752590</td>\n      <td>0.791148</td>\n      <td>0.351038</td>\n    </tr>\n    <tr>\n      <th>330</th>\n      <td>0.919037</td>\n      <td>0.876866</td>\n      <td>0.895388</td>\n      <td>0.180047</td>\n      <td>0.561975</td>\n    </tr>\n    <tr>\n      <th>331</th>\n      <td>0.401403</td>\n      <td>0.934017</td>\n      <td>0.124055</td>\n      <td>0.984359</td>\n      <td>0.848290</td>\n    </tr>\n    <tr>\n      <th>332</th>\n      <td>0.172550</td>\n      <td>0.025610</td>\n      <td>0.445024</td>\n      <td>0.774600</td>\n      <td>0.483864</td>\n    </tr>\n    <tr>\n      <th>333</th>\n      <td>0.303802</td>\n      <td>0.516259</td>\n      <td>0.462356</td>\n      <td>0.709689</td>\n      <td>0.806435</td>\n    </tr>\n  </tbody>\n</table>\n<p>334 rows × 5 columns</p>\n</div>"
     },
     "execution_count": 37,
     "metadata": {},
     "output_type": "execute_result"
    }
   ],
   "source": [
    "newdf"
   ],
   "metadata": {
    "collapsed": false,
    "pycharm": {
     "name": "#%%\n"
    }
   }
  },
  {
   "cell_type": "code",
   "execution_count": 38,
   "outputs": [],
   "source": [
    "newdf3=newdf.copy()"
   ],
   "metadata": {
    "collapsed": false,
    "pycharm": {
     "name": "#%%\n"
    }
   }
  },
  {
   "cell_type": "code",
   "execution_count": 39,
   "outputs": [
    {
     "data": {
      "text/plain": "               0         1         2         3         4\n0    9756.000000  0.120369  0.776917  0.541943  0.953637\n1       0.726646  0.228588  0.034236  0.002127  0.806061\n2       0.388369  0.103273  0.457535  0.158369  0.421174\n3       0.782331  0.951424  0.079129  0.979930  0.109586\n4       0.583564  0.597886  0.328780  0.774392  0.572285\n..           ...       ...       ...       ...       ...\n329     0.594372  0.487546  0.752590  0.791148  0.351038\n330     0.919037  0.876866  0.895388  0.180047  0.561975\n331     0.401403  0.934017  0.124055  0.984359  0.848290\n332     0.172550  0.025610  0.445024  0.774600  0.483864\n333     0.303802  0.516259  0.462356  0.709689  0.806435\n\n[334 rows x 5 columns]",
      "text/html": "<div>\n<style scoped>\n    .dataframe tbody tr th:only-of-type {\n        vertical-align: middle;\n    }\n\n    .dataframe tbody tr th {\n        vertical-align: top;\n    }\n\n    .dataframe thead th {\n        text-align: right;\n    }\n</style>\n<table border=\"1\" class=\"dataframe\">\n  <thead>\n    <tr style=\"text-align: right;\">\n      <th></th>\n      <th>0</th>\n      <th>1</th>\n      <th>2</th>\n      <th>3</th>\n      <th>4</th>\n    </tr>\n  </thead>\n  <tbody>\n    <tr>\n      <th>0</th>\n      <td>9756.000000</td>\n      <td>0.120369</td>\n      <td>0.776917</td>\n      <td>0.541943</td>\n      <td>0.953637</td>\n    </tr>\n    <tr>\n      <th>1</th>\n      <td>0.726646</td>\n      <td>0.228588</td>\n      <td>0.034236</td>\n      <td>0.002127</td>\n      <td>0.806061</td>\n    </tr>\n    <tr>\n      <th>2</th>\n      <td>0.388369</td>\n      <td>0.103273</td>\n      <td>0.457535</td>\n      <td>0.158369</td>\n      <td>0.421174</td>\n    </tr>\n    <tr>\n      <th>3</th>\n      <td>0.782331</td>\n      <td>0.951424</td>\n      <td>0.079129</td>\n      <td>0.979930</td>\n      <td>0.109586</td>\n    </tr>\n    <tr>\n      <th>4</th>\n      <td>0.583564</td>\n      <td>0.597886</td>\n      <td>0.328780</td>\n      <td>0.774392</td>\n      <td>0.572285</td>\n    </tr>\n    <tr>\n      <th>...</th>\n      <td>...</td>\n      <td>...</td>\n      <td>...</td>\n      <td>...</td>\n      <td>...</td>\n    </tr>\n    <tr>\n      <th>329</th>\n      <td>0.594372</td>\n      <td>0.487546</td>\n      <td>0.752590</td>\n      <td>0.791148</td>\n      <td>0.351038</td>\n    </tr>\n    <tr>\n      <th>330</th>\n      <td>0.919037</td>\n      <td>0.876866</td>\n      <td>0.895388</td>\n      <td>0.180047</td>\n      <td>0.561975</td>\n    </tr>\n    <tr>\n      <th>331</th>\n      <td>0.401403</td>\n      <td>0.934017</td>\n      <td>0.124055</td>\n      <td>0.984359</td>\n      <td>0.848290</td>\n    </tr>\n    <tr>\n      <th>332</th>\n      <td>0.172550</td>\n      <td>0.025610</td>\n      <td>0.445024</td>\n      <td>0.774600</td>\n      <td>0.483864</td>\n    </tr>\n    <tr>\n      <th>333</th>\n      <td>0.303802</td>\n      <td>0.516259</td>\n      <td>0.462356</td>\n      <td>0.709689</td>\n      <td>0.806435</td>\n    </tr>\n  </tbody>\n</table>\n<p>334 rows × 5 columns</p>\n</div>"
     },
     "execution_count": 39,
     "metadata": {},
     "output_type": "execute_result"
    }
   ],
   "source": [
    "newdf3"
   ],
   "metadata": {
    "collapsed": false,
    "pycharm": {
     "name": "#%%\n"
    }
   }
  },
  {
   "cell_type": "code",
   "execution_count": 40,
   "outputs": [],
   "source": [
    "newdf.loc[0,0]=654"
   ],
   "metadata": {
    "collapsed": false,
    "pycharm": {
     "name": "#%%\n"
    }
   }
  },
  {
   "cell_type": "code",
   "execution_count": 41,
   "outputs": [
    {
     "data": {
      "text/plain": "            0         1         2         3         4\n0  654.000000  0.120369  0.776917  0.541943  0.953637\n1    0.726646  0.228588  0.034236  0.002127  0.806061",
      "text/html": "<div>\n<style scoped>\n    .dataframe tbody tr th:only-of-type {\n        vertical-align: middle;\n    }\n\n    .dataframe tbody tr th {\n        vertical-align: top;\n    }\n\n    .dataframe thead th {\n        text-align: right;\n    }\n</style>\n<table border=\"1\" class=\"dataframe\">\n  <thead>\n    <tr style=\"text-align: right;\">\n      <th></th>\n      <th>0</th>\n      <th>1</th>\n      <th>2</th>\n      <th>3</th>\n      <th>4</th>\n    </tr>\n  </thead>\n  <tbody>\n    <tr>\n      <th>0</th>\n      <td>654.000000</td>\n      <td>0.120369</td>\n      <td>0.776917</td>\n      <td>0.541943</td>\n      <td>0.953637</td>\n    </tr>\n    <tr>\n      <th>1</th>\n      <td>0.726646</td>\n      <td>0.228588</td>\n      <td>0.034236</td>\n      <td>0.002127</td>\n      <td>0.806061</td>\n    </tr>\n  </tbody>\n</table>\n</div>"
     },
     "execution_count": 41,
     "metadata": {},
     "output_type": "execute_result"
    }
   ],
   "source": [
    "newdf.head(2)"
   ],
   "metadata": {
    "collapsed": false,
    "pycharm": {
     "name": "#%%\n"
    }
   }
  },
  {
   "cell_type": "code",
   "execution_count": 42,
   "outputs": [],
   "source": [
    "newdf.columns=list(\"ABCDE\")"
   ],
   "metadata": {
    "collapsed": false,
    "pycharm": {
     "name": "#%%\n"
    }
   }
  },
  {
   "cell_type": "code",
   "execution_count": 43,
   "outputs": [
    {
     "data": {
      "text/plain": "              A         B         C         D         E\n0    654.000000  0.120369  0.776917  0.541943  0.953637\n1      0.726646  0.228588  0.034236  0.002127  0.806061\n2      0.388369  0.103273  0.457535  0.158369  0.421174\n3      0.782331  0.951424  0.079129  0.979930  0.109586\n4      0.583564  0.597886  0.328780  0.774392  0.572285\n..          ...       ...       ...       ...       ...\n329    0.594372  0.487546  0.752590  0.791148  0.351038\n330    0.919037  0.876866  0.895388  0.180047  0.561975\n331    0.401403  0.934017  0.124055  0.984359  0.848290\n332    0.172550  0.025610  0.445024  0.774600  0.483864\n333    0.303802  0.516259  0.462356  0.709689  0.806435\n\n[334 rows x 5 columns]",
      "text/html": "<div>\n<style scoped>\n    .dataframe tbody tr th:only-of-type {\n        vertical-align: middle;\n    }\n\n    .dataframe tbody tr th {\n        vertical-align: top;\n    }\n\n    .dataframe thead th {\n        text-align: right;\n    }\n</style>\n<table border=\"1\" class=\"dataframe\">\n  <thead>\n    <tr style=\"text-align: right;\">\n      <th></th>\n      <th>A</th>\n      <th>B</th>\n      <th>C</th>\n      <th>D</th>\n      <th>E</th>\n    </tr>\n  </thead>\n  <tbody>\n    <tr>\n      <th>0</th>\n      <td>654.000000</td>\n      <td>0.120369</td>\n      <td>0.776917</td>\n      <td>0.541943</td>\n      <td>0.953637</td>\n    </tr>\n    <tr>\n      <th>1</th>\n      <td>0.726646</td>\n      <td>0.228588</td>\n      <td>0.034236</td>\n      <td>0.002127</td>\n      <td>0.806061</td>\n    </tr>\n    <tr>\n      <th>2</th>\n      <td>0.388369</td>\n      <td>0.103273</td>\n      <td>0.457535</td>\n      <td>0.158369</td>\n      <td>0.421174</td>\n    </tr>\n    <tr>\n      <th>3</th>\n      <td>0.782331</td>\n      <td>0.951424</td>\n      <td>0.079129</td>\n      <td>0.979930</td>\n      <td>0.109586</td>\n    </tr>\n    <tr>\n      <th>4</th>\n      <td>0.583564</td>\n      <td>0.597886</td>\n      <td>0.328780</td>\n      <td>0.774392</td>\n      <td>0.572285</td>\n    </tr>\n    <tr>\n      <th>...</th>\n      <td>...</td>\n      <td>...</td>\n      <td>...</td>\n      <td>...</td>\n      <td>...</td>\n    </tr>\n    <tr>\n      <th>329</th>\n      <td>0.594372</td>\n      <td>0.487546</td>\n      <td>0.752590</td>\n      <td>0.791148</td>\n      <td>0.351038</td>\n    </tr>\n    <tr>\n      <th>330</th>\n      <td>0.919037</td>\n      <td>0.876866</td>\n      <td>0.895388</td>\n      <td>0.180047</td>\n      <td>0.561975</td>\n    </tr>\n    <tr>\n      <th>331</th>\n      <td>0.401403</td>\n      <td>0.934017</td>\n      <td>0.124055</td>\n      <td>0.984359</td>\n      <td>0.848290</td>\n    </tr>\n    <tr>\n      <th>332</th>\n      <td>0.172550</td>\n      <td>0.025610</td>\n      <td>0.445024</td>\n      <td>0.774600</td>\n      <td>0.483864</td>\n    </tr>\n    <tr>\n      <th>333</th>\n      <td>0.303802</td>\n      <td>0.516259</td>\n      <td>0.462356</td>\n      <td>0.709689</td>\n      <td>0.806435</td>\n    </tr>\n  </tbody>\n</table>\n<p>334 rows × 5 columns</p>\n</div>"
     },
     "execution_count": 43,
     "metadata": {},
     "output_type": "execute_result"
    }
   ],
   "source": [
    "newdf"
   ],
   "metadata": {
    "collapsed": false,
    "pycharm": {
     "name": "#%%\n"
    }
   }
  },
  {
   "cell_type": "code",
   "execution_count": 44,
   "outputs": [],
   "source": [
    "newdf.loc[0,'A']=119.2"
   ],
   "metadata": {
    "collapsed": false,
    "pycharm": {
     "name": "#%%\n"
    }
   }
  },
  {
   "cell_type": "code",
   "execution_count": 45,
   "outputs": [
    {
     "data": {
      "text/plain": "              A         B         C         D         E\n0    119.200000  0.120369  0.776917  0.541943  0.953637\n1      0.726646  0.228588  0.034236  0.002127  0.806061\n2      0.388369  0.103273  0.457535  0.158369  0.421174\n3      0.782331  0.951424  0.079129  0.979930  0.109586\n4      0.583564  0.597886  0.328780  0.774392  0.572285\n..          ...       ...       ...       ...       ...\n329    0.594372  0.487546  0.752590  0.791148  0.351038\n330    0.919037  0.876866  0.895388  0.180047  0.561975\n331    0.401403  0.934017  0.124055  0.984359  0.848290\n332    0.172550  0.025610  0.445024  0.774600  0.483864\n333    0.303802  0.516259  0.462356  0.709689  0.806435\n\n[334 rows x 5 columns]",
      "text/html": "<div>\n<style scoped>\n    .dataframe tbody tr th:only-of-type {\n        vertical-align: middle;\n    }\n\n    .dataframe tbody tr th {\n        vertical-align: top;\n    }\n\n    .dataframe thead th {\n        text-align: right;\n    }\n</style>\n<table border=\"1\" class=\"dataframe\">\n  <thead>\n    <tr style=\"text-align: right;\">\n      <th></th>\n      <th>A</th>\n      <th>B</th>\n      <th>C</th>\n      <th>D</th>\n      <th>E</th>\n    </tr>\n  </thead>\n  <tbody>\n    <tr>\n      <th>0</th>\n      <td>119.200000</td>\n      <td>0.120369</td>\n      <td>0.776917</td>\n      <td>0.541943</td>\n      <td>0.953637</td>\n    </tr>\n    <tr>\n      <th>1</th>\n      <td>0.726646</td>\n      <td>0.228588</td>\n      <td>0.034236</td>\n      <td>0.002127</td>\n      <td>0.806061</td>\n    </tr>\n    <tr>\n      <th>2</th>\n      <td>0.388369</td>\n      <td>0.103273</td>\n      <td>0.457535</td>\n      <td>0.158369</td>\n      <td>0.421174</td>\n    </tr>\n    <tr>\n      <th>3</th>\n      <td>0.782331</td>\n      <td>0.951424</td>\n      <td>0.079129</td>\n      <td>0.979930</td>\n      <td>0.109586</td>\n    </tr>\n    <tr>\n      <th>4</th>\n      <td>0.583564</td>\n      <td>0.597886</td>\n      <td>0.328780</td>\n      <td>0.774392</td>\n      <td>0.572285</td>\n    </tr>\n    <tr>\n      <th>...</th>\n      <td>...</td>\n      <td>...</td>\n      <td>...</td>\n      <td>...</td>\n      <td>...</td>\n    </tr>\n    <tr>\n      <th>329</th>\n      <td>0.594372</td>\n      <td>0.487546</td>\n      <td>0.752590</td>\n      <td>0.791148</td>\n      <td>0.351038</td>\n    </tr>\n    <tr>\n      <th>330</th>\n      <td>0.919037</td>\n      <td>0.876866</td>\n      <td>0.895388</td>\n      <td>0.180047</td>\n      <td>0.561975</td>\n    </tr>\n    <tr>\n      <th>331</th>\n      <td>0.401403</td>\n      <td>0.934017</td>\n      <td>0.124055</td>\n      <td>0.984359</td>\n      <td>0.848290</td>\n    </tr>\n    <tr>\n      <th>332</th>\n      <td>0.172550</td>\n      <td>0.025610</td>\n      <td>0.445024</td>\n      <td>0.774600</td>\n      <td>0.483864</td>\n    </tr>\n    <tr>\n      <th>333</th>\n      <td>0.303802</td>\n      <td>0.516259</td>\n      <td>0.462356</td>\n      <td>0.709689</td>\n      <td>0.806435</td>\n    </tr>\n  </tbody>\n</table>\n<p>334 rows × 5 columns</p>\n</div>"
     },
     "execution_count": 45,
     "metadata": {},
     "output_type": "execute_result"
    }
   ],
   "source": [
    "newdf"
   ],
   "metadata": {
    "collapsed": false,
    "pycharm": {
     "name": "#%%\n"
    }
   }
  },
  {
   "cell_type": "code",
   "execution_count": 46,
   "outputs": [],
   "source": [
    "newdf.loc[0,0]=55.4"
   ],
   "metadata": {
    "collapsed": false,
    "pycharm": {
     "name": "#%%\n"
    }
   }
  },
  {
   "cell_type": "code",
   "execution_count": 47,
   "outputs": [
    {
     "data": {
      "text/plain": "              A         B         C         D         E     0\n0    119.200000  0.120369  0.776917  0.541943  0.953637  55.4\n1      0.726646  0.228588  0.034236  0.002127  0.806061   NaN\n2      0.388369  0.103273  0.457535  0.158369  0.421174   NaN\n3      0.782331  0.951424  0.079129  0.979930  0.109586   NaN\n4      0.583564  0.597886  0.328780  0.774392  0.572285   NaN\n..          ...       ...       ...       ...       ...   ...\n329    0.594372  0.487546  0.752590  0.791148  0.351038   NaN\n330    0.919037  0.876866  0.895388  0.180047  0.561975   NaN\n331    0.401403  0.934017  0.124055  0.984359  0.848290   NaN\n332    0.172550  0.025610  0.445024  0.774600  0.483864   NaN\n333    0.303802  0.516259  0.462356  0.709689  0.806435   NaN\n\n[334 rows x 6 columns]",
      "text/html": "<div>\n<style scoped>\n    .dataframe tbody tr th:only-of-type {\n        vertical-align: middle;\n    }\n\n    .dataframe tbody tr th {\n        vertical-align: top;\n    }\n\n    .dataframe thead th {\n        text-align: right;\n    }\n</style>\n<table border=\"1\" class=\"dataframe\">\n  <thead>\n    <tr style=\"text-align: right;\">\n      <th></th>\n      <th>A</th>\n      <th>B</th>\n      <th>C</th>\n      <th>D</th>\n      <th>E</th>\n      <th>0</th>\n    </tr>\n  </thead>\n  <tbody>\n    <tr>\n      <th>0</th>\n      <td>119.200000</td>\n      <td>0.120369</td>\n      <td>0.776917</td>\n      <td>0.541943</td>\n      <td>0.953637</td>\n      <td>55.4</td>\n    </tr>\n    <tr>\n      <th>1</th>\n      <td>0.726646</td>\n      <td>0.228588</td>\n      <td>0.034236</td>\n      <td>0.002127</td>\n      <td>0.806061</td>\n      <td>NaN</td>\n    </tr>\n    <tr>\n      <th>2</th>\n      <td>0.388369</td>\n      <td>0.103273</td>\n      <td>0.457535</td>\n      <td>0.158369</td>\n      <td>0.421174</td>\n      <td>NaN</td>\n    </tr>\n    <tr>\n      <th>3</th>\n      <td>0.782331</td>\n      <td>0.951424</td>\n      <td>0.079129</td>\n      <td>0.979930</td>\n      <td>0.109586</td>\n      <td>NaN</td>\n    </tr>\n    <tr>\n      <th>4</th>\n      <td>0.583564</td>\n      <td>0.597886</td>\n      <td>0.328780</td>\n      <td>0.774392</td>\n      <td>0.572285</td>\n      <td>NaN</td>\n    </tr>\n    <tr>\n      <th>...</th>\n      <td>...</td>\n      <td>...</td>\n      <td>...</td>\n      <td>...</td>\n      <td>...</td>\n      <td>...</td>\n    </tr>\n    <tr>\n      <th>329</th>\n      <td>0.594372</td>\n      <td>0.487546</td>\n      <td>0.752590</td>\n      <td>0.791148</td>\n      <td>0.351038</td>\n      <td>NaN</td>\n    </tr>\n    <tr>\n      <th>330</th>\n      <td>0.919037</td>\n      <td>0.876866</td>\n      <td>0.895388</td>\n      <td>0.180047</td>\n      <td>0.561975</td>\n      <td>NaN</td>\n    </tr>\n    <tr>\n      <th>331</th>\n      <td>0.401403</td>\n      <td>0.934017</td>\n      <td>0.124055</td>\n      <td>0.984359</td>\n      <td>0.848290</td>\n      <td>NaN</td>\n    </tr>\n    <tr>\n      <th>332</th>\n      <td>0.172550</td>\n      <td>0.025610</td>\n      <td>0.445024</td>\n      <td>0.774600</td>\n      <td>0.483864</td>\n      <td>NaN</td>\n    </tr>\n    <tr>\n      <th>333</th>\n      <td>0.303802</td>\n      <td>0.516259</td>\n      <td>0.462356</td>\n      <td>0.709689</td>\n      <td>0.806435</td>\n      <td>NaN</td>\n    </tr>\n  </tbody>\n</table>\n<p>334 rows × 6 columns</p>\n</div>"
     },
     "execution_count": 47,
     "metadata": {},
     "output_type": "execute_result"
    }
   ],
   "source": [
    "newdf"
   ],
   "metadata": {
    "collapsed": false,
    "pycharm": {
     "name": "#%%\n"
    }
   }
  },
  {
   "cell_type": "code",
   "execution_count": 48,
   "outputs": [],
   "source": [
    "newdf=newdf.drop(0,axis=1)"
   ],
   "metadata": {
    "collapsed": false,
    "pycharm": {
     "name": "#%%\n"
    }
   }
  },
  {
   "cell_type": "code",
   "execution_count": 49,
   "outputs": [
    {
     "data": {
      "text/plain": "              A         B         C         D         E\n0    119.200000  0.120369  0.776917  0.541943  0.953637\n1      0.726646  0.228588  0.034236  0.002127  0.806061\n2      0.388369  0.103273  0.457535  0.158369  0.421174\n3      0.782331  0.951424  0.079129  0.979930  0.109586\n4      0.583564  0.597886  0.328780  0.774392  0.572285\n..          ...       ...       ...       ...       ...\n329    0.594372  0.487546  0.752590  0.791148  0.351038\n330    0.919037  0.876866  0.895388  0.180047  0.561975\n331    0.401403  0.934017  0.124055  0.984359  0.848290\n332    0.172550  0.025610  0.445024  0.774600  0.483864\n333    0.303802  0.516259  0.462356  0.709689  0.806435\n\n[334 rows x 5 columns]",
      "text/html": "<div>\n<style scoped>\n    .dataframe tbody tr th:only-of-type {\n        vertical-align: middle;\n    }\n\n    .dataframe tbody tr th {\n        vertical-align: top;\n    }\n\n    .dataframe thead th {\n        text-align: right;\n    }\n</style>\n<table border=\"1\" class=\"dataframe\">\n  <thead>\n    <tr style=\"text-align: right;\">\n      <th></th>\n      <th>A</th>\n      <th>B</th>\n      <th>C</th>\n      <th>D</th>\n      <th>E</th>\n    </tr>\n  </thead>\n  <tbody>\n    <tr>\n      <th>0</th>\n      <td>119.200000</td>\n      <td>0.120369</td>\n      <td>0.776917</td>\n      <td>0.541943</td>\n      <td>0.953637</td>\n    </tr>\n    <tr>\n      <th>1</th>\n      <td>0.726646</td>\n      <td>0.228588</td>\n      <td>0.034236</td>\n      <td>0.002127</td>\n      <td>0.806061</td>\n    </tr>\n    <tr>\n      <th>2</th>\n      <td>0.388369</td>\n      <td>0.103273</td>\n      <td>0.457535</td>\n      <td>0.158369</td>\n      <td>0.421174</td>\n    </tr>\n    <tr>\n      <th>3</th>\n      <td>0.782331</td>\n      <td>0.951424</td>\n      <td>0.079129</td>\n      <td>0.979930</td>\n      <td>0.109586</td>\n    </tr>\n    <tr>\n      <th>4</th>\n      <td>0.583564</td>\n      <td>0.597886</td>\n      <td>0.328780</td>\n      <td>0.774392</td>\n      <td>0.572285</td>\n    </tr>\n    <tr>\n      <th>...</th>\n      <td>...</td>\n      <td>...</td>\n      <td>...</td>\n      <td>...</td>\n      <td>...</td>\n    </tr>\n    <tr>\n      <th>329</th>\n      <td>0.594372</td>\n      <td>0.487546</td>\n      <td>0.752590</td>\n      <td>0.791148</td>\n      <td>0.351038</td>\n    </tr>\n    <tr>\n      <th>330</th>\n      <td>0.919037</td>\n      <td>0.876866</td>\n      <td>0.895388</td>\n      <td>0.180047</td>\n      <td>0.561975</td>\n    </tr>\n    <tr>\n      <th>331</th>\n      <td>0.401403</td>\n      <td>0.934017</td>\n      <td>0.124055</td>\n      <td>0.984359</td>\n      <td>0.848290</td>\n    </tr>\n    <tr>\n      <th>332</th>\n      <td>0.172550</td>\n      <td>0.025610</td>\n      <td>0.445024</td>\n      <td>0.774600</td>\n      <td>0.483864</td>\n    </tr>\n    <tr>\n      <th>333</th>\n      <td>0.303802</td>\n      <td>0.516259</td>\n      <td>0.462356</td>\n      <td>0.709689</td>\n      <td>0.806435</td>\n    </tr>\n  </tbody>\n</table>\n<p>334 rows × 5 columns</p>\n</div>"
     },
     "execution_count": 49,
     "metadata": {},
     "output_type": "execute_result"
    }
   ],
   "source": [
    "newdf"
   ],
   "metadata": {
    "collapsed": false,
    "pycharm": {
     "name": "#%%\n"
    }
   }
  },
  {
   "cell_type": "code",
   "execution_count": 50,
   "outputs": [
    {
     "data": {
      "text/plain": "          C         D\n1  0.034236  0.002127\n2  0.457535  0.158369",
      "text/html": "<div>\n<style scoped>\n    .dataframe tbody tr th:only-of-type {\n        vertical-align: middle;\n    }\n\n    .dataframe tbody tr th {\n        vertical-align: top;\n    }\n\n    .dataframe thead th {\n        text-align: right;\n    }\n</style>\n<table border=\"1\" class=\"dataframe\">\n  <thead>\n    <tr style=\"text-align: right;\">\n      <th></th>\n      <th>C</th>\n      <th>D</th>\n    </tr>\n  </thead>\n  <tbody>\n    <tr>\n      <th>1</th>\n      <td>0.034236</td>\n      <td>0.002127</td>\n    </tr>\n    <tr>\n      <th>2</th>\n      <td>0.457535</td>\n      <td>0.158369</td>\n    </tr>\n  </tbody>\n</table>\n</div>"
     },
     "execution_count": 50,
     "metadata": {},
     "output_type": "execute_result"
    }
   ],
   "source": [
    "newdf.loc[[1,2],['C','D']]"
   ],
   "metadata": {
    "collapsed": false,
    "pycharm": {
     "name": "#%%\n"
    }
   }
  },
  {
   "cell_type": "code",
   "execution_count": 51,
   "outputs": [
    {
     "data": {
      "text/plain": "            A         B         C         D         E\n9    0.194811  0.181342  0.811245  0.690762  0.369030\n10   0.177982  0.646500  0.635741  0.329950  0.388450\n13   0.173409  0.262390  0.796866  0.482865  0.640850\n17   0.148934  0.233961  0.841839  0.910009  0.965231\n20   0.142567  0.386376  0.415915  0.065411  0.057612\n..        ...       ...       ...       ...       ...\n319  0.150272  0.126751  0.772425  0.929802  0.298629\n321  0.175407  0.929159  0.799035  0.633730  0.477181\n327  0.028323  0.387512  0.157069  0.346402  0.079654\n328  0.247594  0.160401  0.918534  0.533024  0.400005\n332  0.172550  0.025610  0.445024  0.774600  0.483864\n\n[99 rows x 5 columns]",
      "text/html": "<div>\n<style scoped>\n    .dataframe tbody tr th:only-of-type {\n        vertical-align: middle;\n    }\n\n    .dataframe tbody tr th {\n        vertical-align: top;\n    }\n\n    .dataframe thead th {\n        text-align: right;\n    }\n</style>\n<table border=\"1\" class=\"dataframe\">\n  <thead>\n    <tr style=\"text-align: right;\">\n      <th></th>\n      <th>A</th>\n      <th>B</th>\n      <th>C</th>\n      <th>D</th>\n      <th>E</th>\n    </tr>\n  </thead>\n  <tbody>\n    <tr>\n      <th>9</th>\n      <td>0.194811</td>\n      <td>0.181342</td>\n      <td>0.811245</td>\n      <td>0.690762</td>\n      <td>0.369030</td>\n    </tr>\n    <tr>\n      <th>10</th>\n      <td>0.177982</td>\n      <td>0.646500</td>\n      <td>0.635741</td>\n      <td>0.329950</td>\n      <td>0.388450</td>\n    </tr>\n    <tr>\n      <th>13</th>\n      <td>0.173409</td>\n      <td>0.262390</td>\n      <td>0.796866</td>\n      <td>0.482865</td>\n      <td>0.640850</td>\n    </tr>\n    <tr>\n      <th>17</th>\n      <td>0.148934</td>\n      <td>0.233961</td>\n      <td>0.841839</td>\n      <td>0.910009</td>\n      <td>0.965231</td>\n    </tr>\n    <tr>\n      <th>20</th>\n      <td>0.142567</td>\n      <td>0.386376</td>\n      <td>0.415915</td>\n      <td>0.065411</td>\n      <td>0.057612</td>\n    </tr>\n    <tr>\n      <th>...</th>\n      <td>...</td>\n      <td>...</td>\n      <td>...</td>\n      <td>...</td>\n      <td>...</td>\n    </tr>\n    <tr>\n      <th>319</th>\n      <td>0.150272</td>\n      <td>0.126751</td>\n      <td>0.772425</td>\n      <td>0.929802</td>\n      <td>0.298629</td>\n    </tr>\n    <tr>\n      <th>321</th>\n      <td>0.175407</td>\n      <td>0.929159</td>\n      <td>0.799035</td>\n      <td>0.633730</td>\n      <td>0.477181</td>\n    </tr>\n    <tr>\n      <th>327</th>\n      <td>0.028323</td>\n      <td>0.387512</td>\n      <td>0.157069</td>\n      <td>0.346402</td>\n      <td>0.079654</td>\n    </tr>\n    <tr>\n      <th>328</th>\n      <td>0.247594</td>\n      <td>0.160401</td>\n      <td>0.918534</td>\n      <td>0.533024</td>\n      <td>0.400005</td>\n    </tr>\n    <tr>\n      <th>332</th>\n      <td>0.172550</td>\n      <td>0.025610</td>\n      <td>0.445024</td>\n      <td>0.774600</td>\n      <td>0.483864</td>\n    </tr>\n  </tbody>\n</table>\n<p>99 rows × 5 columns</p>\n</div>"
     },
     "execution_count": 51,
     "metadata": {},
     "output_type": "execute_result"
    }
   ],
   "source": [
    "newdf.loc[(newdf['A']<0.3) &(newdf['C']>0.1)]"
   ],
   "metadata": {
    "collapsed": false,
    "pycharm": {
     "name": "#%%\n"
    }
   }
  },
  {
   "cell_type": "code",
   "execution_count": 52,
   "outputs": [
    {
     "data": {
      "text/plain": "0.5419425539400746"
     },
     "execution_count": 52,
     "metadata": {},
     "output_type": "execute_result"
    }
   ],
   "source": [
    "newdf.iloc[0,3]"
   ],
   "metadata": {
    "collapsed": false,
    "pycharm": {
     "name": "#%%\n"
    }
   }
  },
  {
   "cell_type": "code",
   "execution_count": 53,
   "outputs": [
    {
     "data": {
      "text/plain": "          B         C\n0  0.120369  0.776917\n5  0.006239  0.017536",
      "text/html": "<div>\n<style scoped>\n    .dataframe tbody tr th:only-of-type {\n        vertical-align: middle;\n    }\n\n    .dataframe tbody tr th {\n        vertical-align: top;\n    }\n\n    .dataframe thead th {\n        text-align: right;\n    }\n</style>\n<table border=\"1\" class=\"dataframe\">\n  <thead>\n    <tr style=\"text-align: right;\">\n      <th></th>\n      <th>B</th>\n      <th>C</th>\n    </tr>\n  </thead>\n  <tbody>\n    <tr>\n      <th>0</th>\n      <td>0.120369</td>\n      <td>0.776917</td>\n    </tr>\n    <tr>\n      <th>5</th>\n      <td>0.006239</td>\n      <td>0.017536</td>\n    </tr>\n  </tbody>\n</table>\n</div>"
     },
     "execution_count": 53,
     "metadata": {},
     "output_type": "execute_result"
    }
   ],
   "source": [
    "newdf.iloc[[0,5],[1,2]]"
   ],
   "metadata": {
    "collapsed": false,
    "pycharm": {
     "name": "#%%\n"
    }
   }
  },
  {
   "cell_type": "code",
   "execution_count": 54,
   "outputs": [],
   "source": [
    "newdf.drop([0],inplace=True)"
   ],
   "metadata": {
    "collapsed": false,
    "pycharm": {
     "name": "#%%\n"
    }
   }
  },
  {
   "cell_type": "code",
   "execution_count": 55,
   "outputs": [
    {
     "data": {
      "text/plain": "            A         B         C         D         E\n1    0.726646  0.228588  0.034236  0.002127  0.806061\n2    0.388369  0.103273  0.457535  0.158369  0.421174\n3    0.782331  0.951424  0.079129  0.979930  0.109586\n4    0.583564  0.597886  0.328780  0.774392  0.572285\n5    0.743578  0.006239  0.017536  0.924947  0.295022\n..        ...       ...       ...       ...       ...\n329  0.594372  0.487546  0.752590  0.791148  0.351038\n330  0.919037  0.876866  0.895388  0.180047  0.561975\n331  0.401403  0.934017  0.124055  0.984359  0.848290\n332  0.172550  0.025610  0.445024  0.774600  0.483864\n333  0.303802  0.516259  0.462356  0.709689  0.806435\n\n[333 rows x 5 columns]",
      "text/html": "<div>\n<style scoped>\n    .dataframe tbody tr th:only-of-type {\n        vertical-align: middle;\n    }\n\n    .dataframe tbody tr th {\n        vertical-align: top;\n    }\n\n    .dataframe thead th {\n        text-align: right;\n    }\n</style>\n<table border=\"1\" class=\"dataframe\">\n  <thead>\n    <tr style=\"text-align: right;\">\n      <th></th>\n      <th>A</th>\n      <th>B</th>\n      <th>C</th>\n      <th>D</th>\n      <th>E</th>\n    </tr>\n  </thead>\n  <tbody>\n    <tr>\n      <th>1</th>\n      <td>0.726646</td>\n      <td>0.228588</td>\n      <td>0.034236</td>\n      <td>0.002127</td>\n      <td>0.806061</td>\n    </tr>\n    <tr>\n      <th>2</th>\n      <td>0.388369</td>\n      <td>0.103273</td>\n      <td>0.457535</td>\n      <td>0.158369</td>\n      <td>0.421174</td>\n    </tr>\n    <tr>\n      <th>3</th>\n      <td>0.782331</td>\n      <td>0.951424</td>\n      <td>0.079129</td>\n      <td>0.979930</td>\n      <td>0.109586</td>\n    </tr>\n    <tr>\n      <th>4</th>\n      <td>0.583564</td>\n      <td>0.597886</td>\n      <td>0.328780</td>\n      <td>0.774392</td>\n      <td>0.572285</td>\n    </tr>\n    <tr>\n      <th>5</th>\n      <td>0.743578</td>\n      <td>0.006239</td>\n      <td>0.017536</td>\n      <td>0.924947</td>\n      <td>0.295022</td>\n    </tr>\n    <tr>\n      <th>...</th>\n      <td>...</td>\n      <td>...</td>\n      <td>...</td>\n      <td>...</td>\n      <td>...</td>\n    </tr>\n    <tr>\n      <th>329</th>\n      <td>0.594372</td>\n      <td>0.487546</td>\n      <td>0.752590</td>\n      <td>0.791148</td>\n      <td>0.351038</td>\n    </tr>\n    <tr>\n      <th>330</th>\n      <td>0.919037</td>\n      <td>0.876866</td>\n      <td>0.895388</td>\n      <td>0.180047</td>\n      <td>0.561975</td>\n    </tr>\n    <tr>\n      <th>331</th>\n      <td>0.401403</td>\n      <td>0.934017</td>\n      <td>0.124055</td>\n      <td>0.984359</td>\n      <td>0.848290</td>\n    </tr>\n    <tr>\n      <th>332</th>\n      <td>0.172550</td>\n      <td>0.025610</td>\n      <td>0.445024</td>\n      <td>0.774600</td>\n      <td>0.483864</td>\n    </tr>\n    <tr>\n      <th>333</th>\n      <td>0.303802</td>\n      <td>0.516259</td>\n      <td>0.462356</td>\n      <td>0.709689</td>\n      <td>0.806435</td>\n    </tr>\n  </tbody>\n</table>\n<p>333 rows × 5 columns</p>\n</div>"
     },
     "execution_count": 55,
     "metadata": {},
     "output_type": "execute_result"
    }
   ],
   "source": [
    "newdf"
   ],
   "metadata": {
    "collapsed": false,
    "pycharm": {
     "name": "#%%\n"
    }
   }
  },
  {
   "cell_type": "code",
   "execution_count": 56,
   "outputs": [],
   "source": [
    "newdf.reset_index(drop=True,inplace=True)"
   ],
   "metadata": {
    "collapsed": false,
    "pycharm": {
     "name": "#%%\n"
    }
   }
  },
  {
   "cell_type": "code",
   "execution_count": 57,
   "outputs": [
    {
     "data": {
      "text/plain": "            A         B         C         D         E\n0    0.726646  0.228588  0.034236  0.002127  0.806061\n1    0.388369  0.103273  0.457535  0.158369  0.421174\n2    0.782331  0.951424  0.079129  0.979930  0.109586\n3    0.583564  0.597886  0.328780  0.774392  0.572285\n4    0.743578  0.006239  0.017536  0.924947  0.295022\n..        ...       ...       ...       ...       ...\n328  0.594372  0.487546  0.752590  0.791148  0.351038\n329  0.919037  0.876866  0.895388  0.180047  0.561975\n330  0.401403  0.934017  0.124055  0.984359  0.848290\n331  0.172550  0.025610  0.445024  0.774600  0.483864\n332  0.303802  0.516259  0.462356  0.709689  0.806435\n\n[333 rows x 5 columns]",
      "text/html": "<div>\n<style scoped>\n    .dataframe tbody tr th:only-of-type {\n        vertical-align: middle;\n    }\n\n    .dataframe tbody tr th {\n        vertical-align: top;\n    }\n\n    .dataframe thead th {\n        text-align: right;\n    }\n</style>\n<table border=\"1\" class=\"dataframe\">\n  <thead>\n    <tr style=\"text-align: right;\">\n      <th></th>\n      <th>A</th>\n      <th>B</th>\n      <th>C</th>\n      <th>D</th>\n      <th>E</th>\n    </tr>\n  </thead>\n  <tbody>\n    <tr>\n      <th>0</th>\n      <td>0.726646</td>\n      <td>0.228588</td>\n      <td>0.034236</td>\n      <td>0.002127</td>\n      <td>0.806061</td>\n    </tr>\n    <tr>\n      <th>1</th>\n      <td>0.388369</td>\n      <td>0.103273</td>\n      <td>0.457535</td>\n      <td>0.158369</td>\n      <td>0.421174</td>\n    </tr>\n    <tr>\n      <th>2</th>\n      <td>0.782331</td>\n      <td>0.951424</td>\n      <td>0.079129</td>\n      <td>0.979930</td>\n      <td>0.109586</td>\n    </tr>\n    <tr>\n      <th>3</th>\n      <td>0.583564</td>\n      <td>0.597886</td>\n      <td>0.328780</td>\n      <td>0.774392</td>\n      <td>0.572285</td>\n    </tr>\n    <tr>\n      <th>4</th>\n      <td>0.743578</td>\n      <td>0.006239</td>\n      <td>0.017536</td>\n      <td>0.924947</td>\n      <td>0.295022</td>\n    </tr>\n    <tr>\n      <th>...</th>\n      <td>...</td>\n      <td>...</td>\n      <td>...</td>\n      <td>...</td>\n      <td>...</td>\n    </tr>\n    <tr>\n      <th>328</th>\n      <td>0.594372</td>\n      <td>0.487546</td>\n      <td>0.752590</td>\n      <td>0.791148</td>\n      <td>0.351038</td>\n    </tr>\n    <tr>\n      <th>329</th>\n      <td>0.919037</td>\n      <td>0.876866</td>\n      <td>0.895388</td>\n      <td>0.180047</td>\n      <td>0.561975</td>\n    </tr>\n    <tr>\n      <th>330</th>\n      <td>0.401403</td>\n      <td>0.934017</td>\n      <td>0.124055</td>\n      <td>0.984359</td>\n      <td>0.848290</td>\n    </tr>\n    <tr>\n      <th>331</th>\n      <td>0.172550</td>\n      <td>0.025610</td>\n      <td>0.445024</td>\n      <td>0.774600</td>\n      <td>0.483864</td>\n    </tr>\n    <tr>\n      <th>332</th>\n      <td>0.303802</td>\n      <td>0.516259</td>\n      <td>0.462356</td>\n      <td>0.709689</td>\n      <td>0.806435</td>\n    </tr>\n  </tbody>\n</table>\n<p>333 rows × 5 columns</p>\n</div>"
     },
     "execution_count": 57,
     "metadata": {},
     "output_type": "execute_result"
    }
   ],
   "source": [
    "newdf"
   ],
   "metadata": {
    "collapsed": false,
    "pycharm": {
     "name": "#%%\n"
    }
   }
  },
  {
   "cell_type": "code",
   "execution_count": 58,
   "outputs": [
    {
     "data": {
      "text/plain": "0      False\n1      False\n2      False\n3      False\n4      False\n       ...  \n328    False\n329    False\n330    False\n331    False\n332    False\nName: B, Length: 333, dtype: bool"
     },
     "execution_count": 58,
     "metadata": {},
     "output_type": "execute_result"
    }
   ],
   "source": [
    "newdf['B'].isnull()"
   ],
   "metadata": {
    "collapsed": false,
    "pycharm": {
     "name": "#%%\n"
    }
   }
  },
  {
   "cell_type": "code",
   "execution_count": 59,
   "outputs": [],
   "source": [
    "newdf.loc[:,'B']=None"
   ],
   "metadata": {
    "collapsed": false,
    "pycharm": {
     "name": "#%%\n"
    }
   }
  },
  {
   "cell_type": "code",
   "execution_count": 60,
   "outputs": [
    {
     "data": {
      "text/plain": "            A     B         C         D         E\n0    0.726646  None  0.034236  0.002127  0.806061\n1    0.388369  None  0.457535  0.158369  0.421174\n2    0.782331  None  0.079129  0.979930  0.109586\n3    0.583564  None  0.328780  0.774392  0.572285\n4    0.743578  None  0.017536  0.924947  0.295022\n..        ...   ...       ...       ...       ...\n328  0.594372  None  0.752590  0.791148  0.351038\n329  0.919037  None  0.895388  0.180047  0.561975\n330  0.401403  None  0.124055  0.984359  0.848290\n331  0.172550  None  0.445024  0.774600  0.483864\n332  0.303802  None  0.462356  0.709689  0.806435\n\n[333 rows x 5 columns]",
      "text/html": "<div>\n<style scoped>\n    .dataframe tbody tr th:only-of-type {\n        vertical-align: middle;\n    }\n\n    .dataframe tbody tr th {\n        vertical-align: top;\n    }\n\n    .dataframe thead th {\n        text-align: right;\n    }\n</style>\n<table border=\"1\" class=\"dataframe\">\n  <thead>\n    <tr style=\"text-align: right;\">\n      <th></th>\n      <th>A</th>\n      <th>B</th>\n      <th>C</th>\n      <th>D</th>\n      <th>E</th>\n    </tr>\n  </thead>\n  <tbody>\n    <tr>\n      <th>0</th>\n      <td>0.726646</td>\n      <td>None</td>\n      <td>0.034236</td>\n      <td>0.002127</td>\n      <td>0.806061</td>\n    </tr>\n    <tr>\n      <th>1</th>\n      <td>0.388369</td>\n      <td>None</td>\n      <td>0.457535</td>\n      <td>0.158369</td>\n      <td>0.421174</td>\n    </tr>\n    <tr>\n      <th>2</th>\n      <td>0.782331</td>\n      <td>None</td>\n      <td>0.079129</td>\n      <td>0.979930</td>\n      <td>0.109586</td>\n    </tr>\n    <tr>\n      <th>3</th>\n      <td>0.583564</td>\n      <td>None</td>\n      <td>0.328780</td>\n      <td>0.774392</td>\n      <td>0.572285</td>\n    </tr>\n    <tr>\n      <th>4</th>\n      <td>0.743578</td>\n      <td>None</td>\n      <td>0.017536</td>\n      <td>0.924947</td>\n      <td>0.295022</td>\n    </tr>\n    <tr>\n      <th>...</th>\n      <td>...</td>\n      <td>...</td>\n      <td>...</td>\n      <td>...</td>\n      <td>...</td>\n    </tr>\n    <tr>\n      <th>328</th>\n      <td>0.594372</td>\n      <td>None</td>\n      <td>0.752590</td>\n      <td>0.791148</td>\n      <td>0.351038</td>\n    </tr>\n    <tr>\n      <th>329</th>\n      <td>0.919037</td>\n      <td>None</td>\n      <td>0.895388</td>\n      <td>0.180047</td>\n      <td>0.561975</td>\n    </tr>\n    <tr>\n      <th>330</th>\n      <td>0.401403</td>\n      <td>None</td>\n      <td>0.124055</td>\n      <td>0.984359</td>\n      <td>0.848290</td>\n    </tr>\n    <tr>\n      <th>331</th>\n      <td>0.172550</td>\n      <td>None</td>\n      <td>0.445024</td>\n      <td>0.774600</td>\n      <td>0.483864</td>\n    </tr>\n    <tr>\n      <th>332</th>\n      <td>0.303802</td>\n      <td>None</td>\n      <td>0.462356</td>\n      <td>0.709689</td>\n      <td>0.806435</td>\n    </tr>\n  </tbody>\n</table>\n<p>333 rows × 5 columns</p>\n</div>"
     },
     "execution_count": 60,
     "metadata": {},
     "output_type": "execute_result"
    }
   ],
   "source": [
    "newdf"
   ],
   "metadata": {
    "collapsed": false,
    "pycharm": {
     "name": "#%%\n"
    }
   }
  },
  {
   "cell_type": "code",
   "execution_count": 61,
   "outputs": [],
   "source": [
    "newdf.loc[:,'B']=45"
   ],
   "metadata": {
    "collapsed": false,
    "pycharm": {
     "name": "#%%\n"
    }
   }
  },
  {
   "cell_type": "code",
   "execution_count": 62,
   "outputs": [
    {
     "data": {
      "text/plain": "            A   B         C         D         E\n0    0.726646  45  0.034236  0.002127  0.806061\n1    0.388369  45  0.457535  0.158369  0.421174\n2    0.782331  45  0.079129  0.979930  0.109586\n3    0.583564  45  0.328780  0.774392  0.572285\n4    0.743578  45  0.017536  0.924947  0.295022\n..        ...  ..       ...       ...       ...\n328  0.594372  45  0.752590  0.791148  0.351038\n329  0.919037  45  0.895388  0.180047  0.561975\n330  0.401403  45  0.124055  0.984359  0.848290\n331  0.172550  45  0.445024  0.774600  0.483864\n332  0.303802  45  0.462356  0.709689  0.806435\n\n[333 rows x 5 columns]",
      "text/html": "<div>\n<style scoped>\n    .dataframe tbody tr th:only-of-type {\n        vertical-align: middle;\n    }\n\n    .dataframe tbody tr th {\n        vertical-align: top;\n    }\n\n    .dataframe thead th {\n        text-align: right;\n    }\n</style>\n<table border=\"1\" class=\"dataframe\">\n  <thead>\n    <tr style=\"text-align: right;\">\n      <th></th>\n      <th>A</th>\n      <th>B</th>\n      <th>C</th>\n      <th>D</th>\n      <th>E</th>\n    </tr>\n  </thead>\n  <tbody>\n    <tr>\n      <th>0</th>\n      <td>0.726646</td>\n      <td>45</td>\n      <td>0.034236</td>\n      <td>0.002127</td>\n      <td>0.806061</td>\n    </tr>\n    <tr>\n      <th>1</th>\n      <td>0.388369</td>\n      <td>45</td>\n      <td>0.457535</td>\n      <td>0.158369</td>\n      <td>0.421174</td>\n    </tr>\n    <tr>\n      <th>2</th>\n      <td>0.782331</td>\n      <td>45</td>\n      <td>0.079129</td>\n      <td>0.979930</td>\n      <td>0.109586</td>\n    </tr>\n    <tr>\n      <th>3</th>\n      <td>0.583564</td>\n      <td>45</td>\n      <td>0.328780</td>\n      <td>0.774392</td>\n      <td>0.572285</td>\n    </tr>\n    <tr>\n      <th>4</th>\n      <td>0.743578</td>\n      <td>45</td>\n      <td>0.017536</td>\n      <td>0.924947</td>\n      <td>0.295022</td>\n    </tr>\n    <tr>\n      <th>...</th>\n      <td>...</td>\n      <td>...</td>\n      <td>...</td>\n      <td>...</td>\n      <td>...</td>\n    </tr>\n    <tr>\n      <th>328</th>\n      <td>0.594372</td>\n      <td>45</td>\n      <td>0.752590</td>\n      <td>0.791148</td>\n      <td>0.351038</td>\n    </tr>\n    <tr>\n      <th>329</th>\n      <td>0.919037</td>\n      <td>45</td>\n      <td>0.895388</td>\n      <td>0.180047</td>\n      <td>0.561975</td>\n    </tr>\n    <tr>\n      <th>330</th>\n      <td>0.401403</td>\n      <td>45</td>\n      <td>0.124055</td>\n      <td>0.984359</td>\n      <td>0.848290</td>\n    </tr>\n    <tr>\n      <th>331</th>\n      <td>0.172550</td>\n      <td>45</td>\n      <td>0.445024</td>\n      <td>0.774600</td>\n      <td>0.483864</td>\n    </tr>\n    <tr>\n      <th>332</th>\n      <td>0.303802</td>\n      <td>45</td>\n      <td>0.462356</td>\n      <td>0.709689</td>\n      <td>0.806435</td>\n    </tr>\n  </tbody>\n</table>\n<p>333 rows × 5 columns</p>\n</div>"
     },
     "execution_count": 62,
     "metadata": {},
     "output_type": "execute_result"
    }
   ],
   "source": [
    "newdf"
   ],
   "metadata": {
    "collapsed": false,
    "pycharm": {
     "name": "#%%\n"
    }
   }
  },
  {
   "cell_type": "code",
   "execution_count": 63,
   "outputs": [
    {
     "data": {
      "text/plain": "<AxesSubplot:>"
     },
     "execution_count": 63,
     "metadata": {},
     "output_type": "execute_result"
    },
    {
     "data": {
      "text/plain": "<Figure size 432x288 with 1 Axes>",
      "image/png": "[encoded data removed]"
     },
     "metadata": {
      "needs_background": "light"
     },
     "output_type": "display_data"
    }
   ],
   "source": [
    "df.plot()"
   ],
   "metadata": {
    "collapsed": false,
    "pycharm": {
     "name": "#%%\n"
    }
   }
  },
  {
   "cell_type": "code",
   "execution_count": 64,
   "outputs": [],
   "source": [
    "df=pd.DataFrame({\"name\": ['Alfred', 'Batman', 'Catwoman'],\n",
    "                 \"toy\": [np.nan, 'Batmobile', 'Bullwhip'],\n",
    "                 \"born\": [pd.NaT, pd.Timestamp(1940,4,25),\n",
    "                          pd.NaT]})"
   ],
   "metadata": {
    "collapsed": false,
    "pycharm": {
     "name": "#%%\n"
    }
   }
  },
  {
   "cell_type": "code",
   "execution_count": 65,
   "outputs": [
    {
     "data": {
      "text/plain": "       name        toy       born\n0    Alfred        NaN        NaT\n1    Batman  Batmobile 1940-04-25\n2  Catwoman   Bullwhip        NaT",
      "text/html": "<div>\n<style scoped>\n    .dataframe tbody tr th:only-of-type {\n        vertical-align: middle;\n    }\n\n    .dataframe tbody tr th {\n        vertical-align: top;\n    }\n\n    .dataframe thead th {\n        text-align: right;\n    }\n</style>\n<table border=\"1\" class=\"dataframe\">\n  <thead>\n    <tr style=\"text-align: right;\">\n      <th></th>\n      <th>name</th>\n      <th>toy</th>\n      <th>born</th>\n    </tr>\n  </thead>\n  <tbody>\n    <tr>\n      <th>0</th>\n      <td>Alfred</td>\n      <td>NaN</td>\n      <td>NaT</td>\n    </tr>\n    <tr>\n      <th>1</th>\n      <td>Batman</td>\n      <td>Batmobile</td>\n      <td>1940-04-25</td>\n    </tr>\n    <tr>\n      <th>2</th>\n      <td>Catwoman</td>\n      <td>Bullwhip</td>\n      <td>NaT</td>\n    </tr>\n  </tbody>\n</table>\n</div>"
     },
     "execution_count": 65,
     "metadata": {},
     "output_type": "execute_result"
    }
   ],
   "source": [
    "df"
   ],
   "metadata": {
    "collapsed": false,
    "pycharm": {
     "name": "#%%\n"
    }
   }
  },
  {
   "cell_type": "code",
   "execution_count": 66,
   "outputs": [
    {
     "data": {
      "text/plain": "     name        toy       born\n1  Batman  Batmobile 1940-04-25",
      "text/html": "<div>\n<style scoped>\n    .dataframe tbody tr th:only-of-type {\n        vertical-align: middle;\n    }\n\n    .dataframe tbody tr th {\n        vertical-align: top;\n    }\n\n    .dataframe thead th {\n        text-align: right;\n    }\n</style>\n<table border=\"1\" class=\"dataframe\">\n  <thead>\n    <tr style=\"text-align: right;\">\n      <th></th>\n      <th>name</th>\n      <th>toy</th>\n      <th>born</th>\n    </tr>\n  </thead>\n  <tbody>\n    <tr>\n      <th>1</th>\n      <td>Batman</td>\n      <td>Batmobile</td>\n      <td>1940-04-25</td>\n    </tr>\n  </tbody>\n</table>\n</div>"
     },
     "execution_count": 66,
     "metadata": {},
     "output_type": "execute_result"
    }
   ],
   "source": [
    "df.dropna()"
   ],
   "metadata": {
    "collapsed": false,
    "pycharm": {
     "name": "#%%\n"
    }
   }
  }
 ],
 "metadata": {
  "kernelspec": {
   "display_name": "Python 3 (ipykernel)",
   "language": "python",
   "name": "python3"
  },
  "language_info": {
   "codemirror_mode": {
    "name": "ipython",
    "version": 3
   },
   "file_extension": ".py",
   "mimetype": "text/x-python",
   "name": "python",
   "nbconvert_exporter": "python",
   "pygments_lexer": "ipython3",
   "version": "3.9.12"
  }
 },
 "nbformat": 4,
 "nbformat_minor": 5
}