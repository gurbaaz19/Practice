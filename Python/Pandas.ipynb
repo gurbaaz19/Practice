{
 "cells": [
  {
   "cell_type": "code",
   "execution_count": 1,
   "id": "7eef446a",
   "metadata": {
    "pycharm": {
     "name": "#%%\n"
    }
   },
   "outputs": [],
   "source": [
    "import numpy as np\n",
    "import pandas as pd"
   ]
  },
  {
   "cell_type": "code",
   "execution_count": 2,
   "id": "dde150af",
   "metadata": {
    "pycharm": {
     "name": "#%%\n"
    }
   },
   "outputs": [],
   "source": [
    "dict1 ={\n",
    "    \"name\":['gurbaaz','timmy','gunnu','manav'],\n",
    "    \"marks\":[92,34,24,17],\n",
    "    \"city\":['chandigarh','patiala','ludhiana','rajkot']\n",
    "}"
   ]
  },
  {
   "cell_type": "code",
   "execution_count": 3,
   "id": "a1667f90",
   "metadata": {
    "pycharm": {
     "name": "#%%\n"
    }
   },
   "outputs": [],
   "source": [
    "df=pd.DataFrame(dict1)"
   ]
  },
  {
   "cell_type": "code",
   "execution_count": 4,
   "outputs": [
    {
     "data": {
      "text/plain": "      name  marks        city\n0  gurbaaz     92  chandigarh\n1    timmy     34     patiala\n2    gunnu     24    ludhiana\n3    manav     17      rajkot",
      "text/html": "<div>\n<style scoped>\n    .dataframe tbody tr th:only-of-type {\n        vertical-align: middle;\n    }\n\n    .dataframe tbody tr th {\n        vertical-align: top;\n    }\n\n    .dataframe thead th {\n        text-align: right;\n    }\n</style>\n<table border=\"1\" class=\"dataframe\">\n  <thead>\n    <tr style=\"text-align: right;\">\n      <th></th>\n      <th>name</th>\n      <th>marks</th>\n      <th>city</th>\n    </tr>\n  </thead>\n  <tbody>\n    <tr>\n      <th>0</th>\n      <td>gurbaaz</td>\n      <td>92</td>\n      <td>chandigarh</td>\n    </tr>\n    <tr>\n      <th>1</th>\n      <td>timmy</td>\n      <td>34</td>\n      <td>patiala</td>\n    </tr>\n    <tr>\n      <th>2</th>\n      <td>gunnu</td>\n      <td>24</td>\n      <td>ludhiana</td>\n    </tr>\n    <tr>\n      <th>3</th>\n      <td>manav</td>\n      <td>17</td>\n      <td>rajkot</td>\n    </tr>\n  </tbody>\n</table>\n</div>"
     },
     "execution_count": 4,
     "metadata": {},
     "output_type": "execute_result"
    }
   ],
   "source": [
    "df"
   ],
   "metadata": {
    "collapsed": false,
    "pycharm": {
     "name": "#%%\n"
    }
   }
  },
  {
   "cell_type": "code",
   "execution_count": 5,
   "outputs": [
    {
     "data": {
      "text/plain": "0    chandigarh\n1       patiala\n2      ludhiana\n3        rajkot\nName: city, dtype: object"
     },
     "execution_count": 5,
     "metadata": {},
     "output_type": "execute_result"
    }
   ],
   "source": [
    "df.city"
   ],
   "metadata": {
    "collapsed": false,
    "pycharm": {
     "name": "#%%\n"
    }
   }
  },
  {
   "cell_type": "code",
   "execution_count": 6,
   "outputs": [],
   "source": [
    "df.to_csv('friends.csv')"
   ],
   "metadata": {
    "collapsed": false,
    "pycharm": {
     "name": "#%%\n"
    }
   }
  },
  {
   "cell_type": "code",
   "execution_count": 7,
   "outputs": [],
   "source": [
    "df.to_excel('friends.xlsx')"
   ],
   "metadata": {
    "collapsed": false,
    "pycharm": {
     "name": "#%%\n"
    }
   }
  },
  {
   "cell_type": "code",
   "execution_count": 8,
   "outputs": [],
   "source": [
    "df.to_csv('friends_indexNo.csv', index=False)"
   ],
   "metadata": {
    "collapsed": false,
    "pycharm": {
     "name": "#%%\n"
    }
   }
  },
  {
   "cell_type": "code",
   "execution_count": 9,
   "outputs": [
    {
     "data": {
      "text/plain": "      name  marks        city\n0  gurbaaz     92  chandigarh\n1    timmy     34     patiala",
      "text/html": "<div>\n<style scoped>\n    .dataframe tbody tr th:only-of-type {\n        vertical-align: middle;\n    }\n\n    .dataframe tbody tr th {\n        vertical-align: top;\n    }\n\n    .dataframe thead th {\n        text-align: right;\n    }\n</style>\n<table border=\"1\" class=\"dataframe\">\n  <thead>\n    <tr style=\"text-align: right;\">\n      <th></th>\n      <th>name</th>\n      <th>marks</th>\n      <th>city</th>\n    </tr>\n  </thead>\n  <tbody>\n    <tr>\n      <th>0</th>\n      <td>gurbaaz</td>\n      <td>92</td>\n      <td>chandigarh</td>\n    </tr>\n    <tr>\n      <th>1</th>\n      <td>timmy</td>\n      <td>34</td>\n      <td>patiala</td>\n    </tr>\n  </tbody>\n</table>\n</div>"
     },
     "execution_count": 9,
     "metadata": {},
     "output_type": "execute_result"
    }
   ],
   "source": [
    "df.head(2)"
   ],
   "metadata": {
    "collapsed": false,
    "pycharm": {
     "name": "#%%\n"
    }
   }
  },
  {
   "cell_type": "code",
   "execution_count": 10,
   "outputs": [
    {
     "data": {
      "text/plain": "    name  marks      city\n2  gunnu     24  ludhiana\n3  manav     17    rajkot",
      "text/html": "<div>\n<style scoped>\n    .dataframe tbody tr th:only-of-type {\n        vertical-align: middle;\n    }\n\n    .dataframe tbody tr th {\n        vertical-align: top;\n    }\n\n    .dataframe thead th {\n        text-align: right;\n    }\n</style>\n<table border=\"1\" class=\"dataframe\">\n  <thead>\n    <tr style=\"text-align: right;\">\n      <th></th>\n      <th>name</th>\n      <th>marks</th>\n      <th>city</th>\n    </tr>\n  </thead>\n  <tbody>\n    <tr>\n      <th>2</th>\n      <td>gunnu</td>\n      <td>24</td>\n      <td>ludhiana</td>\n    </tr>\n    <tr>\n      <th>3</th>\n      <td>manav</td>\n      <td>17</td>\n      <td>rajkot</td>\n    </tr>\n  </tbody>\n</table>\n</div>"
     },
     "execution_count": 10,
     "metadata": {},
     "output_type": "execute_result"
    }
   ],
   "source": [
    "df.tail(2)"
   ],
   "metadata": {
    "collapsed": false,
    "pycharm": {
     "name": "#%%\n"
    }
   }
  },
  {
   "cell_type": "code",
   "execution_count": 11,
   "outputs": [
    {
     "data": {
      "text/plain": "          marks\ncount   4.00000\nmean   41.75000\nstd    34.21866\nmin    17.00000\n25%    22.25000\n50%    29.00000\n75%    48.50000\nmax    92.00000",
      "text/html": "<div>\n<style scoped>\n    .dataframe tbody tr th:only-of-type {\n        vertical-align: middle;\n    }\n\n    .dataframe tbody tr th {\n        vertical-align: top;\n    }\n\n    .dataframe thead th {\n        text-align: right;\n    }\n</style>\n<table border=\"1\" class=\"dataframe\">\n  <thead>\n    <tr style=\"text-align: right;\">\n      <th></th>\n      <th>marks</th>\n    </tr>\n  </thead>\n  <tbody>\n    <tr>\n      <th>count</th>\n      <td>4.00000</td>\n    </tr>\n    <tr>\n      <th>mean</th>\n      <td>41.75000</td>\n    </tr>\n    <tr>\n      <th>std</th>\n      <td>34.21866</td>\n    </tr>\n    <tr>\n      <th>min</th>\n      <td>17.00000</td>\n    </tr>\n    <tr>\n      <th>25%</th>\n      <td>22.25000</td>\n    </tr>\n    <tr>\n      <th>50%</th>\n      <td>29.00000</td>\n    </tr>\n    <tr>\n      <th>75%</th>\n      <td>48.50000</td>\n    </tr>\n    <tr>\n      <th>max</th>\n      <td>92.00000</td>\n    </tr>\n  </tbody>\n</table>\n</div>"
     },
     "execution_count": 11,
     "metadata": {},
     "output_type": "execute_result"
    }
   ],
   "source": [
    "df.describe()"
   ],
   "metadata": {
    "collapsed": false,
    "pycharm": {
     "name": "#%%\n"
    }
   }
  },
  {
   "cell_type": "code",
   "execution_count": 12,
   "outputs": [],
   "source": [
    "timmy= pd.read_csv('timmy.csv')"
   ],
   "metadata": {
    "collapsed": false,
    "pycharm": {
     "name": "#%%\n"
    }
   }
  },
  {
   "cell_type": "code",
   "execution_count": 13,
   "outputs": [
    {
     "data": {
      "text/plain": "   Unnamed: 0.7  Unnamed: 0.6  Unnamed: 0.5  Unnamed: 0.4  Unnamed: 0.3  \\\n0             0             0             0             0             0   \n1             1             1             1             1             1   \n2             2             2             2             2             2   \n3             3             3             3             3             3   \n\n   Unnamed: 0.2  Unnamed: 0.1  Unnamed: 0  Tain No.  Speed        City  \n0             0             0           0     12322     50  chandigarh  \n1             1             1           1     12534    123     patiala  \n2             2             2           2    125654     67    ludhiana  \n3             3             3           3    564523     87      rajkot  ",
      "text/html": "<div>\n<style scoped>\n    .dataframe tbody tr th:only-of-type {\n        vertical-align: middle;\n    }\n\n    .dataframe tbody tr th {\n        vertical-align: top;\n    }\n\n    .dataframe thead th {\n        text-align: right;\n    }\n</style>\n<table border=\"1\" class=\"dataframe\">\n  <thead>\n    <tr style=\"text-align: right;\">\n      <th></th>\n      <th>Unnamed: 0.7</th>\n      <th>Unnamed: 0.6</th>\n      <th>Unnamed: 0.5</th>\n      <th>Unnamed: 0.4</th>\n      <th>Unnamed: 0.3</th>\n      <th>Unnamed: 0.2</th>\n      <th>Unnamed: 0.1</th>\n      <th>Unnamed: 0</th>\n      <th>Tain No.</th>\n      <th>Speed</th>\n      <th>City</th>\n    </tr>\n  </thead>\n  <tbody>\n    <tr>\n      <th>0</th>\n      <td>0</td>\n      <td>0</td>\n      <td>0</td>\n      <td>0</td>\n      <td>0</td>\n      <td>0</td>\n      <td>0</td>\n      <td>0</td>\n      <td>12322</td>\n      <td>50</td>\n      <td>chandigarh</td>\n    </tr>\n    <tr>\n      <th>1</th>\n      <td>1</td>\n      <td>1</td>\n      <td>1</td>\n      <td>1</td>\n      <td>1</td>\n      <td>1</td>\n      <td>1</td>\n      <td>1</td>\n      <td>12534</td>\n      <td>123</td>\n      <td>patiala</td>\n    </tr>\n    <tr>\n      <th>2</th>\n      <td>2</td>\n      <td>2</td>\n      <td>2</td>\n      <td>2</td>\n      <td>2</td>\n      <td>2</td>\n      <td>2</td>\n      <td>2</td>\n      <td>125654</td>\n      <td>67</td>\n      <td>ludhiana</td>\n    </tr>\n    <tr>\n      <th>3</th>\n      <td>3</td>\n      <td>3</td>\n      <td>3</td>\n      <td>3</td>\n      <td>3</td>\n      <td>3</td>\n      <td>3</td>\n      <td>3</td>\n      <td>564523</td>\n      <td>87</td>\n      <td>rajkot</td>\n    </tr>\n  </tbody>\n</table>\n</div>"
     },
     "execution_count": 13,
     "metadata": {},
     "output_type": "execute_result"
    }
   ],
   "source": [
    "timmy"
   ],
   "metadata": {
    "collapsed": false,
    "pycharm": {
     "name": "#%%\n"
    }
   }
  },
  {
   "cell_type": "code",
   "execution_count": 14,
   "outputs": [
    {
     "name": "stderr",
     "output_type": "stream",
     "text": [
      "C:\\Users\\gurba\\AppData\\Local\\Temp\\ipykernel_16712\\3645333898.py:1: SettingWithCopyWarning: \n",
      "A value is trying to be set on a copy of a slice from a DataFrame\n",
      "\n",
      "See the caveats in the documentation: https://pandas.pydata.org/pandas-docs/stable/user_guide/indexing.html#returning-a-view-versus-a-copy\n",
      "  timmy['Speed'][0]=50\n"
     ]
    }
   ],
   "source": [
    "timmy['Speed'][0]=50"
   ],
   "metadata": {
    "collapsed": false,
    "pycharm": {
     "name": "#%%\n"
    }
   }
  },
  {
   "cell_type": "code",
   "execution_count": 15,
   "outputs": [
    {
     "data": {
      "text/plain": "   Unnamed: 0.7  Unnamed: 0.6  Unnamed: 0.5  Unnamed: 0.4  Unnamed: 0.3  \\\n0             0             0             0             0             0   \n1             1             1             1             1             1   \n2             2             2             2             2             2   \n3             3             3             3             3             3   \n\n   Unnamed: 0.2  Unnamed: 0.1  Unnamed: 0  Tain No.  Speed        City  \n0             0             0           0     12322     50  chandigarh  \n1             1             1           1     12534    123     patiala  \n2             2             2           2    125654     67    ludhiana  \n3             3             3           3    564523     87      rajkot  ",
      "text/html": "<div>\n<style scoped>\n    .dataframe tbody tr th:only-of-type {\n        vertical-align: middle;\n    }\n\n    .dataframe tbody tr th {\n        vertical-align: top;\n    }\n\n    .dataframe thead th {\n        text-align: right;\n    }\n</style>\n<table border=\"1\" class=\"dataframe\">\n  <thead>\n    <tr style=\"text-align: right;\">\n      <th></th>\n      <th>Unnamed: 0.7</th>\n      <th>Unnamed: 0.6</th>\n      <th>Unnamed: 0.5</th>\n      <th>Unnamed: 0.4</th>\n      <th>Unnamed: 0.3</th>\n      <th>Unnamed: 0.2</th>\n      <th>Unnamed: 0.1</th>\n      <th>Unnamed: 0</th>\n      <th>Tain No.</th>\n      <th>Speed</th>\n      <th>City</th>\n    </tr>\n  </thead>\n  <tbody>\n    <tr>\n      <th>0</th>\n      <td>0</td>\n      <td>0</td>\n      <td>0</td>\n      <td>0</td>\n      <td>0</td>\n      <td>0</td>\n      <td>0</td>\n      <td>0</td>\n      <td>12322</td>\n      <td>50</td>\n      <td>chandigarh</td>\n    </tr>\n    <tr>\n      <th>1</th>\n      <td>1</td>\n      <td>1</td>\n      <td>1</td>\n      <td>1</td>\n      <td>1</td>\n      <td>1</td>\n      <td>1</td>\n      <td>1</td>\n      <td>12534</td>\n      <td>123</td>\n      <td>patiala</td>\n    </tr>\n    <tr>\n      <th>2</th>\n      <td>2</td>\n      <td>2</td>\n      <td>2</td>\n      <td>2</td>\n      <td>2</td>\n      <td>2</td>\n      <td>2</td>\n      <td>2</td>\n      <td>125654</td>\n      <td>67</td>\n      <td>ludhiana</td>\n    </tr>\n    <tr>\n      <th>3</th>\n      <td>3</td>\n      <td>3</td>\n      <td>3</td>\n      <td>3</td>\n      <td>3</td>\n      <td>3</td>\n      <td>3</td>\n      <td>3</td>\n      <td>564523</td>\n      <td>87</td>\n      <td>rajkot</td>\n    </tr>\n  </tbody>\n</table>\n</div>"
     },
     "execution_count": 15,
     "metadata": {},
     "output_type": "execute_result"
    }
   ],
   "source": [
    "timmy"
   ],
   "metadata": {
    "collapsed": false,
    "pycharm": {
     "name": "#%%\n"
    }
   }
  },
  {
   "cell_type": "code",
   "execution_count": 16,
   "outputs": [],
   "source": [
    "timmy.to_csv('timmy.csv')"
   ],
   "metadata": {
    "collapsed": false,
    "pycharm": {
     "name": "#%%\n"
    }
   }
  },
  {
   "cell_type": "code",
   "execution_count": 17,
   "outputs": [],
   "source": [
    "timmy.index=['first','second','third','fourth']"
   ],
   "metadata": {
    "collapsed": false,
    "pycharm": {
     "name": "#%%\n"
    }
   }
  },
  {
   "cell_type": "code",
   "execution_count": 18,
   "outputs": [
    {
     "data": {
      "text/plain": "        Unnamed: 0.7  Unnamed: 0.6  Unnamed: 0.5  Unnamed: 0.4  Unnamed: 0.3  \\\nfirst              0             0             0             0             0   \nsecond             1             1             1             1             1   \nthird              2             2             2             2             2   \nfourth             3             3             3             3             3   \n\n        Unnamed: 0.2  Unnamed: 0.1  Unnamed: 0  Tain No.  Speed        City  \nfirst              0             0           0     12322     50  chandigarh  \nsecond             1             1           1     12534    123     patiala  \nthird              2             2           2    125654     67    ludhiana  \nfourth             3             3           3    564523     87      rajkot  ",
      "text/html": "<div>\n<style scoped>\n    .dataframe tbody tr th:only-of-type {\n        vertical-align: middle;\n    }\n\n    .dataframe tbody tr th {\n        vertical-align: top;\n    }\n\n    .dataframe thead th {\n        text-align: right;\n    }\n</style>\n<table border=\"1\" class=\"dataframe\">\n  <thead>\n    <tr style=\"text-align: right;\">\n      <th></th>\n      <th>Unnamed: 0.7</th>\n      <th>Unnamed: 0.6</th>\n      <th>Unnamed: 0.5</th>\n      <th>Unnamed: 0.4</th>\n      <th>Unnamed: 0.3</th>\n      <th>Unnamed: 0.2</th>\n      <th>Unnamed: 0.1</th>\n      <th>Unnamed: 0</th>\n      <th>Tain No.</th>\n      <th>Speed</th>\n      <th>City</th>\n    </tr>\n  </thead>\n  <tbody>\n    <tr>\n      <th>first</th>\n      <td>0</td>\n      <td>0</td>\n      <td>0</td>\n      <td>0</td>\n      <td>0</td>\n      <td>0</td>\n      <td>0</td>\n      <td>0</td>\n      <td>12322</td>\n      <td>50</td>\n      <td>chandigarh</td>\n    </tr>\n    <tr>\n      <th>second</th>\n      <td>1</td>\n      <td>1</td>\n      <td>1</td>\n      <td>1</td>\n      <td>1</td>\n      <td>1</td>\n      <td>1</td>\n      <td>1</td>\n      <td>12534</td>\n      <td>123</td>\n      <td>patiala</td>\n    </tr>\n    <tr>\n      <th>third</th>\n      <td>2</td>\n      <td>2</td>\n      <td>2</td>\n      <td>2</td>\n      <td>2</td>\n      <td>2</td>\n      <td>2</td>\n      <td>2</td>\n      <td>125654</td>\n      <td>67</td>\n      <td>ludhiana</td>\n    </tr>\n    <tr>\n      <th>fourth</th>\n      <td>3</td>\n      <td>3</td>\n      <td>3</td>\n      <td>3</td>\n      <td>3</td>\n      <td>3</td>\n      <td>3</td>\n      <td>3</td>\n      <td>564523</td>\n      <td>87</td>\n      <td>rajkot</td>\n    </tr>\n  </tbody>\n</table>\n</div>"
     },
     "execution_count": 18,
     "metadata": {},
     "output_type": "execute_result"
    }
   ],
   "source": [
    "timmy"
   ],
   "metadata": {
    "collapsed": false,
    "pycharm": {
     "name": "#%%\n"
    }
   }
  },
  {
   "cell_type": "code",
   "execution_count": 19,
   "outputs": [],
   "source": [
    "ser=pd.Series(np.random.rand(34))"
   ],
   "metadata": {
    "collapsed": false,
    "pycharm": {
     "name": "#%%\n"
    }
   }
  },
  {
   "cell_type": "code",
   "execution_count": 20,
   "outputs": [
    {
     "data": {
      "text/plain": "0     0.134812\n1     0.237043\n2     0.757914\n3     0.263322\n4     0.477985\n5     0.961617\n6     0.138592\n7     0.409637\n8     0.050678\n9     0.499631\n10    0.787970\n11    0.641656\n12    0.071273\n13    0.204554\n14    0.759777\n15    0.883385\n16    0.527626\n17    0.346459\n18    0.342849\n19    0.120151\n20    0.321390\n21    0.359591\n22    0.946989\n23    0.551817\n24    0.951928\n25    0.622468\n26    0.054137\n27    0.852005\n28    0.815177\n29    0.758805\n30    0.607901\n31    0.531631\n32    0.428046\n33    0.566956\ndtype: float64"
     },
     "execution_count": 20,
     "metadata": {},
     "output_type": "execute_result"
    }
   ],
   "source": [
    "ser"
   ],
   "metadata": {
    "collapsed": false,
    "pycharm": {
     "name": "#%%\n"
    }
   }
  },
  {
   "cell_type": "code",
   "execution_count": 21,
   "outputs": [
    {
     "data": {
      "text/plain": "pandas.core.series.Series"
     },
     "execution_count": 21,
     "metadata": {},
     "output_type": "execute_result"
    }
   ],
   "source": [
    "type(ser)"
   ],
   "metadata": {
    "collapsed": false,
    "pycharm": {
     "name": "#%%\n"
    }
   }
  },
  {
   "cell_type": "code",
   "execution_count": 22,
   "outputs": [],
   "source": [
    "newdf=pd.DataFrame(np.random.rand(334,5), index=np.arange(334))"
   ],
   "metadata": {
    "collapsed": false,
    "pycharm": {
     "name": "#%%\n"
    }
   }
  },
  {
   "cell_type": "code",
   "execution_count": 23,
   "outputs": [
    {
     "data": {
      "text/plain": "          0         1         2         3         4\n0  0.512863  0.983487  0.266444  0.120459  0.001110\n1  0.270932  0.153358  0.213429  0.148198  0.127868\n2  0.665118  0.350857  0.583002  0.215119  0.710048\n3  0.634087  0.727786  0.955138  0.343467  0.608244\n4  0.600628  0.551305  0.293138  0.062102  0.319682",
      "text/html": "<div>\n<style scoped>\n    .dataframe tbody tr th:only-of-type {\n        vertical-align: middle;\n    }\n\n    .dataframe tbody tr th {\n        vertical-align: top;\n    }\n\n    .dataframe thead th {\n        text-align: right;\n    }\n</style>\n<table border=\"1\" class=\"dataframe\">\n  <thead>\n    <tr style=\"text-align: right;\">\n      <th></th>\n      <th>0</th>\n      <th>1</th>\n      <th>2</th>\n      <th>3</th>\n      <th>4</th>\n    </tr>\n  </thead>\n  <tbody>\n    <tr>\n      <th>0</th>\n      <td>0.512863</td>\n      <td>0.983487</td>\n      <td>0.266444</td>\n      <td>0.120459</td>\n      <td>0.001110</td>\n    </tr>\n    <tr>\n      <th>1</th>\n      <td>0.270932</td>\n      <td>0.153358</td>\n      <td>0.213429</td>\n      <td>0.148198</td>\n      <td>0.127868</td>\n    </tr>\n    <tr>\n      <th>2</th>\n      <td>0.665118</td>\n      <td>0.350857</td>\n      <td>0.583002</td>\n      <td>0.215119</td>\n      <td>0.710048</td>\n    </tr>\n    <tr>\n      <th>3</th>\n      <td>0.634087</td>\n      <td>0.727786</td>\n      <td>0.955138</td>\n      <td>0.343467</td>\n      <td>0.608244</td>\n    </tr>\n    <tr>\n      <th>4</th>\n      <td>0.600628</td>\n      <td>0.551305</td>\n      <td>0.293138</td>\n      <td>0.062102</td>\n      <td>0.319682</td>\n    </tr>\n  </tbody>\n</table>\n</div>"
     },
     "execution_count": 23,
     "metadata": {},
     "output_type": "execute_result"
    }
   ],
   "source": [
    "newdf.head()"
   ],
   "metadata": {
    "collapsed": false,
    "pycharm": {
     "name": "#%%\n"
    }
   }
  },
  {
   "cell_type": "code",
   "execution_count": 24,
   "outputs": [
    {
     "data": {
      "text/plain": "pandas.core.frame.DataFrame"
     },
     "execution_count": 24,
     "metadata": {},
     "output_type": "execute_result"
    }
   ],
   "source": [
    "type(newdf)"
   ],
   "metadata": {
    "collapsed": false,
    "pycharm": {
     "name": "#%%\n"
    }
   }
  },
  {
   "cell_type": "code",
   "execution_count": 25,
   "outputs": [
    {
     "data": {
      "text/plain": "                0           1           2           3           4\ncount  334.000000  334.000000  334.000000  334.000000  334.000000\nmean     0.523669    0.512989    0.479512    0.489528    0.510716\nstd      0.278528    0.299421    0.295537    0.281923    0.281939\nmin      0.002778    0.001606    0.001849    0.000369    0.001110\n25%      0.285321    0.238203    0.213970    0.242918    0.257184\n50%      0.541858    0.532639    0.460152    0.471517    0.510697\n75%      0.739469    0.780578    0.744093    0.723822    0.767868\nmax      0.997440    0.999431    0.996002    0.992664    0.994284",
      "text/html": "<div>\n<style scoped>\n    .dataframe tbody tr th:only-of-type {\n        vertical-align: middle;\n    }\n\n    .dataframe tbody tr th {\n        vertical-align: top;\n    }\n\n    .dataframe thead th {\n        text-align: right;\n    }\n</style>\n<table border=\"1\" class=\"dataframe\">\n  <thead>\n    <tr style=\"text-align: right;\">\n      <th></th>\n      <th>0</th>\n      <th>1</th>\n      <th>2</th>\n      <th>3</th>\n      <th>4</th>\n    </tr>\n  </thead>\n  <tbody>\n    <tr>\n      <th>count</th>\n      <td>334.000000</td>\n      <td>334.000000</td>\n      <td>334.000000</td>\n      <td>334.000000</td>\n      <td>334.000000</td>\n    </tr>\n    <tr>\n      <th>mean</th>\n      <td>0.523669</td>\n      <td>0.512989</td>\n      <td>0.479512</td>\n      <td>0.489528</td>\n      <td>0.510716</td>\n    </tr>\n    <tr>\n      <th>std</th>\n      <td>0.278528</td>\n      <td>0.299421</td>\n      <td>0.295537</td>\n      <td>0.281923</td>\n      <td>0.281939</td>\n    </tr>\n    <tr>\n      <th>min</th>\n      <td>0.002778</td>\n      <td>0.001606</td>\n      <td>0.001849</td>\n      <td>0.000369</td>\n      <td>0.001110</td>\n    </tr>\n    <tr>\n      <th>25%</th>\n      <td>0.285321</td>\n      <td>0.238203</td>\n      <td>0.213970</td>\n      <td>0.242918</td>\n      <td>0.257184</td>\n    </tr>\n    <tr>\n      <th>50%</th>\n      <td>0.541858</td>\n      <td>0.532639</td>\n      <td>0.460152</td>\n      <td>0.471517</td>\n      <td>0.510697</td>\n    </tr>\n    <tr>\n      <th>75%</th>\n      <td>0.739469</td>\n      <td>0.780578</td>\n      <td>0.744093</td>\n      <td>0.723822</td>\n      <td>0.767868</td>\n    </tr>\n    <tr>\n      <th>max</th>\n      <td>0.997440</td>\n      <td>0.999431</td>\n      <td>0.996002</td>\n      <td>0.992664</td>\n      <td>0.994284</td>\n    </tr>\n  </tbody>\n</table>\n</div>"
     },
     "execution_count": 25,
     "metadata": {},
     "output_type": "execute_result"
    }
   ],
   "source": [
    "newdf.describe()"
   ],
   "metadata": {
    "collapsed": false,
    "pycharm": {
     "name": "#%%\n"
    }
   }
  },
  {
   "cell_type": "code",
   "execution_count": 26,
   "outputs": [
    {
     "data": {
      "text/plain": "0    float64\n1    float64\n2    float64\n3    float64\n4    float64\ndtype: object"
     },
     "execution_count": 26,
     "metadata": {},
     "output_type": "execute_result"
    }
   ],
   "source": [
    "newdf.dtypes"
   ],
   "metadata": {
    "collapsed": false,
    "pycharm": {
     "name": "#%%\n"
    }
   }
  },
  {
   "cell_type": "code",
   "execution_count": 27,
   "outputs": [
    {
     "data": {
      "text/plain": "Int64Index([  0,   1,   2,   3,   4,   5,   6,   7,   8,   9,\n            ...\n            324, 325, 326, 327, 328, 329, 330, 331, 332, 333],\n           dtype='int64', length=334)"
     },
     "execution_count": 27,
     "metadata": {},
     "output_type": "execute_result"
    }
   ],
   "source": [
    "newdf.index"
   ],
   "metadata": {
    "collapsed": false,
    "pycharm": {
     "name": "#%%\n"
    }
   }
  },
  {
   "cell_type": "code",
   "execution_count": 28,
   "outputs": [
    {
     "data": {
      "text/plain": "RangeIndex(start=0, stop=5, step=1)"
     },
     "execution_count": 28,
     "metadata": {},
     "output_type": "execute_result"
    }
   ],
   "source": [
    "newdf.columns"
   ],
   "metadata": {
    "collapsed": false,
    "pycharm": {
     "name": "#%%\n"
    }
   }
  },
  {
   "cell_type": "code",
   "execution_count": 29,
   "outputs": [
    {
     "data": {
      "text/plain": "array([[0.51286289, 0.98348685, 0.26644415, 0.12045856, 0.00110983],\n       [0.27093153, 0.15335844, 0.21342919, 0.14819787, 0.127868  ],\n       [0.6651175 , 0.35085652, 0.58300158, 0.21511882, 0.71004804],\n       ...,\n       [0.20637248, 0.75041335, 0.39412429, 0.13253609, 0.05258153],\n       [0.55629683, 0.84171319, 0.96506228, 0.11238717, 0.21168824],\n       [0.0179901 , 0.63208669, 0.74688456, 0.36905035, 0.35609337]])"
     },
     "execution_count": 29,
     "metadata": {},
     "output_type": "execute_result"
    }
   ],
   "source": [
    "newdf.to_numpy()"
   ],
   "metadata": {
    "collapsed": false,
    "pycharm": {
     "name": "#%%\n"
    }
   }
  },
  {
   "cell_type": "code",
   "execution_count": 30,
   "outputs": [
    {
     "data": {
      "text/plain": "0    float64\n1    float64\n2    float64\n3    float64\n4    float64\ndtype: object"
     },
     "execution_count": 30,
     "metadata": {},
     "output_type": "execute_result"
    }
   ],
   "source": [
    "newdf.dtypes"
   ],
   "metadata": {
    "collapsed": false,
    "pycharm": {
     "name": "#%%\n"
    }
   }
  },
  {
   "cell_type": "code",
   "execution_count": 31,
   "outputs": [
    {
     "data": {
      "text/plain": "        0         1         2         3         4         5         6    \\\n0  0.512863  0.270932  0.665118  0.634087  0.600628  0.503733  0.989597   \n1  0.983487  0.153358  0.350857  0.727786  0.551305  0.786994  0.991737   \n2  0.266444  0.213429  0.583002  0.955138  0.293138  0.033880  0.620905   \n3  0.120459  0.148198  0.215119  0.343467  0.062102  0.501781  0.226409   \n4  0.001110  0.127868  0.710048  0.608244  0.319682  0.397876  0.380046   \n\n        7         8         9    ...       324       325       326       327  \\\n0  0.396502  0.552635  0.688458  ...  0.446572  0.532362  0.581477  0.901692   \n1  0.026921  0.417193  0.004616  ...  0.985871  0.564625  0.627226  0.479918   \n2  0.009306  0.250334  0.172349  ...  0.792968  0.425390  0.531103  0.629889   \n3  0.825982  0.136416  0.578722  ...  0.914210  0.092411  0.461420  0.117117   \n4  0.054796  0.782287  0.557685  ...  0.281047  0.393498  0.714913  0.711489   \n\n        328       329       330       331       332       333  \n0  0.145729  0.979328  0.378096  0.206372  0.556297  0.017990  \n1  0.392898  0.886560  0.756595  0.750413  0.841713  0.632087  \n2  0.316824  0.561728  0.108500  0.394124  0.965062  0.746885  \n3  0.312397  0.424675  0.377694  0.132536  0.112387  0.369050  \n4  0.953897  0.866605  0.727588  0.052582  0.211688  0.356093  \n\n[5 rows x 334 columns]",
      "text/html": "<div>\n<style scoped>\n    .dataframe tbody tr th:only-of-type {\n        vertical-align: middle;\n    }\n\n    .dataframe tbody tr th {\n        vertical-align: top;\n    }\n\n    .dataframe thead th {\n        text-align: right;\n    }\n</style>\n<table border=\"1\" class=\"dataframe\">\n  <thead>\n    <tr style=\"text-align: right;\">\n      <th></th>\n      <th>0</th>\n      <th>1</th>\n      <th>2</th>\n      <th>3</th>\n      <th>4</th>\n      <th>5</th>\n      <th>6</th>\n      <th>7</th>\n      <th>8</th>\n      <th>9</th>\n      <th>...</th>\n      <th>324</th>\n      <th>325</th>\n      <th>326</th>\n      <th>327</th>\n      <th>328</th>\n      <th>329</th>\n      <th>330</th>\n      <th>331</th>\n      <th>332</th>\n      <th>333</th>\n    </tr>\n  </thead>\n  <tbody>\n    <tr>\n      <th>0</th>\n      <td>0.512863</td>\n      <td>0.270932</td>\n      <td>0.665118</td>\n      <td>0.634087</td>\n      <td>0.600628</td>\n      <td>0.503733</td>\n      <td>0.989597</td>\n      <td>0.396502</td>\n      <td>0.552635</td>\n      <td>0.688458</td>\n      <td>...</td>\n      <td>0.446572</td>\n      <td>0.532362</td>\n      <td>0.581477</td>\n      <td>0.901692</td>\n      <td>0.145729</td>\n      <td>0.979328</td>\n      <td>0.378096</td>\n      <td>0.206372</td>\n      <td>0.556297</td>\n      <td>0.017990</td>\n    </tr>\n    <tr>\n      <th>1</th>\n      <td>0.983487</td>\n      <td>0.153358</td>\n      <td>0.350857</td>\n      <td>0.727786</td>\n      <td>0.551305</td>\n      <td>0.786994</td>\n      <td>0.991737</td>\n      <td>0.026921</td>\n      <td>0.417193</td>\n      <td>0.004616</td>\n      <td>...</td>\n      <td>0.985871</td>\n      <td>0.564625</td>\n      <td>0.627226</td>\n      <td>0.479918</td>\n      <td>0.392898</td>\n      <td>0.886560</td>\n      <td>0.756595</td>\n      <td>0.750413</td>\n      <td>0.841713</td>\n      <td>0.632087</td>\n    </tr>\n    <tr>\n      <th>2</th>\n      <td>0.266444</td>\n      <td>0.213429</td>\n      <td>0.583002</td>\n      <td>0.955138</td>\n      <td>0.293138</td>\n      <td>0.033880</td>\n      <td>0.620905</td>\n      <td>0.009306</td>\n      <td>0.250334</td>\n      <td>0.172349</td>\n      <td>...</td>\n      <td>0.792968</td>\n      <td>0.425390</td>\n      <td>0.531103</td>\n      <td>0.629889</td>\n      <td>0.316824</td>\n      <td>0.561728</td>\n      <td>0.108500</td>\n      <td>0.394124</td>\n      <td>0.965062</td>\n      <td>0.746885</td>\n    </tr>\n    <tr>\n      <th>3</th>\n      <td>0.120459</td>\n      <td>0.148198</td>\n      <td>0.215119</td>\n      <td>0.343467</td>\n      <td>0.062102</td>\n      <td>0.501781</td>\n      <td>0.226409</td>\n      <td>0.825982</td>\n      <td>0.136416</td>\n      <td>0.578722</td>\n      <td>...</td>\n      <td>0.914210</td>\n      <td>0.092411</td>\n      <td>0.461420</td>\n      <td>0.117117</td>\n      <td>0.312397</td>\n      <td>0.424675</td>\n      <td>0.377694</td>\n      <td>0.132536</td>\n      <td>0.112387</td>\n      <td>0.369050</td>\n    </tr>\n    <tr>\n      <th>4</th>\n      <td>0.001110</td>\n      <td>0.127868</td>\n      <td>0.710048</td>\n      <td>0.608244</td>\n      <td>0.319682</td>\n      <td>0.397876</td>\n      <td>0.380046</td>\n      <td>0.054796</td>\n      <td>0.782287</td>\n      <td>0.557685</td>\n      <td>...</td>\n      <td>0.281047</td>\n      <td>0.393498</td>\n      <td>0.714913</td>\n      <td>0.711489</td>\n      <td>0.953897</td>\n      <td>0.866605</td>\n      <td>0.727588</td>\n      <td>0.052582</td>\n      <td>0.211688</td>\n      <td>0.356093</td>\n    </tr>\n  </tbody>\n</table>\n<p>5 rows × 334 columns</p>\n</div>"
     },
     "execution_count": 31,
     "metadata": {},
     "output_type": "execute_result"
    }
   ],
   "source": [
    "newdf.T"
   ],
   "metadata": {
    "collapsed": false,
    "pycharm": {
     "name": "#%%\n"
    }
   }
  },
  {
   "cell_type": "code",
   "execution_count": 32,
   "outputs": [
    {
     "data": {
      "text/plain": "            0         1         2         3         4\n0    0.512863  0.983487  0.266444  0.120459  0.001110\n1    0.270932  0.153358  0.213429  0.148198  0.127868\n2    0.665118  0.350857  0.583002  0.215119  0.710048\n3    0.634087  0.727786  0.955138  0.343467  0.608244\n4    0.600628  0.551305  0.293138  0.062102  0.319682\n..        ...       ...       ...       ...       ...\n329  0.979328  0.886560  0.561728  0.424675  0.866605\n330  0.378096  0.756595  0.108500  0.377694  0.727588\n331  0.206372  0.750413  0.394124  0.132536  0.052582\n332  0.556297  0.841713  0.965062  0.112387  0.211688\n333  0.017990  0.632087  0.746885  0.369050  0.356093\n\n[334 rows x 5 columns]",
      "text/html": "<div>\n<style scoped>\n    .dataframe tbody tr th:only-of-type {\n        vertical-align: middle;\n    }\n\n    .dataframe tbody tr th {\n        vertical-align: top;\n    }\n\n    .dataframe thead th {\n        text-align: right;\n    }\n</style>\n<table border=\"1\" class=\"dataframe\">\n  <thead>\n    <tr style=\"text-align: right;\">\n      <th></th>\n      <th>0</th>\n      <th>1</th>\n      <th>2</th>\n      <th>3</th>\n      <th>4</th>\n    </tr>\n  </thead>\n  <tbody>\n    <tr>\n      <th>0</th>\n      <td>0.512863</td>\n      <td>0.983487</td>\n      <td>0.266444</td>\n      <td>0.120459</td>\n      <td>0.001110</td>\n    </tr>\n    <tr>\n      <th>1</th>\n      <td>0.270932</td>\n      <td>0.153358</td>\n      <td>0.213429</td>\n      <td>0.148198</td>\n      <td>0.127868</td>\n    </tr>\n    <tr>\n      <th>2</th>\n      <td>0.665118</td>\n      <td>0.350857</td>\n      <td>0.583002</td>\n      <td>0.215119</td>\n      <td>0.710048</td>\n    </tr>\n    <tr>\n      <th>3</th>\n      <td>0.634087</td>\n      <td>0.727786</td>\n      <td>0.955138</td>\n      <td>0.343467</td>\n      <td>0.608244</td>\n    </tr>\n    <tr>\n      <th>4</th>\n      <td>0.600628</td>\n      <td>0.551305</td>\n      <td>0.293138</td>\n      <td>0.062102</td>\n      <td>0.319682</td>\n    </tr>\n    <tr>\n      <th>...</th>\n      <td>...</td>\n      <td>...</td>\n      <td>...</td>\n      <td>...</td>\n      <td>...</td>\n    </tr>\n    <tr>\n      <th>329</th>\n      <td>0.979328</td>\n      <td>0.886560</td>\n      <td>0.561728</td>\n      <td>0.424675</td>\n      <td>0.866605</td>\n    </tr>\n    <tr>\n      <th>330</th>\n      <td>0.378096</td>\n      <td>0.756595</td>\n      <td>0.108500</td>\n      <td>0.377694</td>\n      <td>0.727588</td>\n    </tr>\n    <tr>\n      <th>331</th>\n      <td>0.206372</td>\n      <td>0.750413</td>\n      <td>0.394124</td>\n      <td>0.132536</td>\n      <td>0.052582</td>\n    </tr>\n    <tr>\n      <th>332</th>\n      <td>0.556297</td>\n      <td>0.841713</td>\n      <td>0.965062</td>\n      <td>0.112387</td>\n      <td>0.211688</td>\n    </tr>\n    <tr>\n      <th>333</th>\n      <td>0.017990</td>\n      <td>0.632087</td>\n      <td>0.746885</td>\n      <td>0.369050</td>\n      <td>0.356093</td>\n    </tr>\n  </tbody>\n</table>\n<p>334 rows × 5 columns</p>\n</div>"
     },
     "execution_count": 32,
     "metadata": {},
     "output_type": "execute_result"
    }
   ],
   "source": [
    "newdf"
   ],
   "metadata": {
    "collapsed": false,
    "pycharm": {
     "name": "#%%\n"
    }
   }
  },
  {
   "cell_type": "code",
   "execution_count": 33,
   "outputs": [
    {
     "data": {
      "text/plain": "            0         1         2         3         4\n333  0.017990  0.632087  0.746885  0.369050  0.356093\n332  0.556297  0.841713  0.965062  0.112387  0.211688\n331  0.206372  0.750413  0.394124  0.132536  0.052582\n330  0.378096  0.756595  0.108500  0.377694  0.727588\n329  0.979328  0.886560  0.561728  0.424675  0.866605\n..        ...       ...       ...       ...       ...\n4    0.600628  0.551305  0.293138  0.062102  0.319682\n3    0.634087  0.727786  0.955138  0.343467  0.608244\n2    0.665118  0.350857  0.583002  0.215119  0.710048\n1    0.270932  0.153358  0.213429  0.148198  0.127868\n0    0.512863  0.983487  0.266444  0.120459  0.001110\n\n[334 rows x 5 columns]",
      "text/html": "<div>\n<style scoped>\n    .dataframe tbody tr th:only-of-type {\n        vertical-align: middle;\n    }\n\n    .dataframe tbody tr th {\n        vertical-align: top;\n    }\n\n    .dataframe thead th {\n        text-align: right;\n    }\n</style>\n<table border=\"1\" class=\"dataframe\">\n  <thead>\n    <tr style=\"text-align: right;\">\n      <th></th>\n      <th>0</th>\n      <th>1</th>\n      <th>2</th>\n      <th>3</th>\n      <th>4</th>\n    </tr>\n  </thead>\n  <tbody>\n    <tr>\n      <th>333</th>\n      <td>0.017990</td>\n      <td>0.632087</td>\n      <td>0.746885</td>\n      <td>0.369050</td>\n      <td>0.356093</td>\n    </tr>\n    <tr>\n      <th>332</th>\n      <td>0.556297</td>\n      <td>0.841713</td>\n      <td>0.965062</td>\n      <td>0.112387</td>\n      <td>0.211688</td>\n    </tr>\n    <tr>\n      <th>331</th>\n      <td>0.206372</td>\n      <td>0.750413</td>\n      <td>0.394124</td>\n      <td>0.132536</td>\n      <td>0.052582</td>\n    </tr>\n    <tr>\n      <th>330</th>\n      <td>0.378096</td>\n      <td>0.756595</td>\n      <td>0.108500</td>\n      <td>0.377694</td>\n      <td>0.727588</td>\n    </tr>\n    <tr>\n      <th>329</th>\n      <td>0.979328</td>\n      <td>0.886560</td>\n      <td>0.561728</td>\n      <td>0.424675</td>\n      <td>0.866605</td>\n    </tr>\n    <tr>\n      <th>...</th>\n      <td>...</td>\n      <td>...</td>\n      <td>...</td>\n      <td>...</td>\n      <td>...</td>\n    </tr>\n    <tr>\n      <th>4</th>\n      <td>0.600628</td>\n      <td>0.551305</td>\n      <td>0.293138</td>\n      <td>0.062102</td>\n      <td>0.319682</td>\n    </tr>\n    <tr>\n      <th>3</th>\n      <td>0.634087</td>\n      <td>0.727786</td>\n      <td>0.955138</td>\n      <td>0.343467</td>\n      <td>0.608244</td>\n    </tr>\n    <tr>\n      <th>2</th>\n      <td>0.665118</td>\n      <td>0.350857</td>\n      <td>0.583002</td>\n      <td>0.215119</td>\n      <td>0.710048</td>\n    </tr>\n    <tr>\n      <th>1</th>\n      <td>0.270932</td>\n      <td>0.153358</td>\n      <td>0.213429</td>\n      <td>0.148198</td>\n      <td>0.127868</td>\n    </tr>\n    <tr>\n      <th>0</th>\n      <td>0.512863</td>\n      <td>0.983487</td>\n      <td>0.266444</td>\n      <td>0.120459</td>\n      <td>0.001110</td>\n    </tr>\n  </tbody>\n</table>\n<p>334 rows × 5 columns</p>\n</div>"
     },
     "execution_count": 33,
     "metadata": {},
     "output_type": "execute_result"
    }
   ],
   "source": [
    "newdf.sort_index(axis=0,ascending=False)"
   ],
   "metadata": {
    "collapsed": false,
    "pycharm": {
     "name": "#%%\n"
    }
   }
  },
  {
   "cell_type": "code",
   "execution_count": 34,
   "outputs": [
    {
     "data": {
      "text/plain": "            4         3         2         1         0\n0    0.001110  0.120459  0.266444  0.983487  0.512863\n1    0.127868  0.148198  0.213429  0.153358  0.270932\n2    0.710048  0.215119  0.583002  0.350857  0.665118\n3    0.608244  0.343467  0.955138  0.727786  0.634087\n4    0.319682  0.062102  0.293138  0.551305  0.600628\n..        ...       ...       ...       ...       ...\n329  0.866605  0.424675  0.561728  0.886560  0.979328\n330  0.727588  0.377694  0.108500  0.756595  0.378096\n331  0.052582  0.132536  0.394124  0.750413  0.206372\n332  0.211688  0.112387  0.965062  0.841713  0.556297\n333  0.356093  0.369050  0.746885  0.632087  0.017990\n\n[334 rows x 5 columns]",
      "text/html": "<div>\n<style scoped>\n    .dataframe tbody tr th:only-of-type {\n        vertical-align: middle;\n    }\n\n    .dataframe tbody tr th {\n        vertical-align: top;\n    }\n\n    .dataframe thead th {\n        text-align: right;\n    }\n</style>\n<table border=\"1\" class=\"dataframe\">\n  <thead>\n    <tr style=\"text-align: right;\">\n      <th></th>\n      <th>4</th>\n      <th>3</th>\n      <th>2</th>\n      <th>1</th>\n      <th>0</th>\n    </tr>\n  </thead>\n  <tbody>\n    <tr>\n      <th>0</th>\n      <td>0.001110</td>\n      <td>0.120459</td>\n      <td>0.266444</td>\n      <td>0.983487</td>\n      <td>0.512863</td>\n    </tr>\n    <tr>\n      <th>1</th>\n      <td>0.127868</td>\n      <td>0.148198</td>\n      <td>0.213429</td>\n      <td>0.153358</td>\n      <td>0.270932</td>\n    </tr>\n    <tr>\n      <th>2</th>\n      <td>0.710048</td>\n      <td>0.215119</td>\n      <td>0.583002</td>\n      <td>0.350857</td>\n      <td>0.665118</td>\n    </tr>\n    <tr>\n      <th>3</th>\n      <td>0.608244</td>\n      <td>0.343467</td>\n      <td>0.955138</td>\n      <td>0.727786</td>\n      <td>0.634087</td>\n    </tr>\n    <tr>\n      <th>4</th>\n      <td>0.319682</td>\n      <td>0.062102</td>\n      <td>0.293138</td>\n      <td>0.551305</td>\n      <td>0.600628</td>\n    </tr>\n    <tr>\n      <th>...</th>\n      <td>...</td>\n      <td>...</td>\n      <td>...</td>\n      <td>...</td>\n      <td>...</td>\n    </tr>\n    <tr>\n      <th>329</th>\n      <td>0.866605</td>\n      <td>0.424675</td>\n      <td>0.561728</td>\n      <td>0.886560</td>\n      <td>0.979328</td>\n    </tr>\n    <tr>\n      <th>330</th>\n      <td>0.727588</td>\n      <td>0.377694</td>\n      <td>0.108500</td>\n      <td>0.756595</td>\n      <td>0.378096</td>\n    </tr>\n    <tr>\n      <th>331</th>\n      <td>0.052582</td>\n      <td>0.132536</td>\n      <td>0.394124</td>\n      <td>0.750413</td>\n      <td>0.206372</td>\n    </tr>\n    <tr>\n      <th>332</th>\n      <td>0.211688</td>\n      <td>0.112387</td>\n      <td>0.965062</td>\n      <td>0.841713</td>\n      <td>0.556297</td>\n    </tr>\n    <tr>\n      <th>333</th>\n      <td>0.356093</td>\n      <td>0.369050</td>\n      <td>0.746885</td>\n      <td>0.632087</td>\n      <td>0.017990</td>\n    </tr>\n  </tbody>\n</table>\n<p>334 rows × 5 columns</p>\n</div>"
     },
     "execution_count": 34,
     "metadata": {},
     "output_type": "execute_result"
    }
   ],
   "source": [
    "newdf.sort_index(axis=1,ascending=False)"
   ],
   "metadata": {
    "collapsed": false,
    "pycharm": {
     "name": "#%%\n"
    }
   }
  },
  {
   "cell_type": "code",
   "execution_count": 35,
   "outputs": [],
   "source": [
    "newdf2=newdf"
   ],
   "metadata": {
    "collapsed": false,
    "pycharm": {
     "name": "#%%\n"
    }
   }
  },
  {
   "cell_type": "code",
   "execution_count": 36,
   "outputs": [],
   "source": [
    "newdf2[0][0]=9756"
   ],
   "metadata": {
    "collapsed": false,
    "pycharm": {
     "name": "#%%\n"
    }
   }
  },
  {
   "cell_type": "code",
   "execution_count": 37,
   "outputs": [
    {
     "data": {
      "text/plain": "               0         1         2         3         4\n0    9756.000000  0.983487  0.266444  0.120459  0.001110\n1       0.270932  0.153358  0.213429  0.148198  0.127868\n2       0.665118  0.350857  0.583002  0.215119  0.710048\n3       0.634087  0.727786  0.955138  0.343467  0.608244\n4       0.600628  0.551305  0.293138  0.062102  0.319682\n..           ...       ...       ...       ...       ...\n329     0.979328  0.886560  0.561728  0.424675  0.866605\n330     0.378096  0.756595  0.108500  0.377694  0.727588\n331     0.206372  0.750413  0.394124  0.132536  0.052582\n332     0.556297  0.841713  0.965062  0.112387  0.211688\n333     0.017990  0.632087  0.746885  0.369050  0.356093\n\n[334 rows x 5 columns]",
      "text/html": "<div>\n<style scoped>\n    .dataframe tbody tr th:only-of-type {\n        vertical-align: middle;\n    }\n\n    .dataframe tbody tr th {\n        vertical-align: top;\n    }\n\n    .dataframe thead th {\n        text-align: right;\n    }\n</style>\n<table border=\"1\" class=\"dataframe\">\n  <thead>\n    <tr style=\"text-align: right;\">\n      <th></th>\n      <th>0</th>\n      <th>1</th>\n      <th>2</th>\n      <th>3</th>\n      <th>4</th>\n    </tr>\n  </thead>\n  <tbody>\n    <tr>\n      <th>0</th>\n      <td>9756.000000</td>\n      <td>0.983487</td>\n      <td>0.266444</td>\n      <td>0.120459</td>\n      <td>0.001110</td>\n    </tr>\n    <tr>\n      <th>1</th>\n      <td>0.270932</td>\n      <td>0.153358</td>\n      <td>0.213429</td>\n      <td>0.148198</td>\n      <td>0.127868</td>\n    </tr>\n    <tr>\n      <th>2</th>\n      <td>0.665118</td>\n      <td>0.350857</td>\n      <td>0.583002</td>\n      <td>0.215119</td>\n      <td>0.710048</td>\n    </tr>\n    <tr>\n      <th>3</th>\n      <td>0.634087</td>\n      <td>0.727786</td>\n      <td>0.955138</td>\n      <td>0.343467</td>\n      <td>0.608244</td>\n    </tr>\n    <tr>\n      <th>4</th>\n      <td>0.600628</td>\n      <td>0.551305</td>\n      <td>0.293138</td>\n      <td>0.062102</td>\n      <td>0.319682</td>\n    </tr>\n    <tr>\n      <th>...</th>\n      <td>...</td>\n      <td>...</td>\n      <td>...</td>\n      <td>...</td>\n      <td>...</td>\n    </tr>\n    <tr>\n      <th>329</th>\n      <td>0.979328</td>\n      <td>0.886560</td>\n      <td>0.561728</td>\n      <td>0.424675</td>\n      <td>0.866605</td>\n    </tr>\n    <tr>\n      <th>330</th>\n      <td>0.378096</td>\n      <td>0.756595</td>\n      <td>0.108500</td>\n      <td>0.377694</td>\n      <td>0.727588</td>\n    </tr>\n    <tr>\n      <th>331</th>\n      <td>0.206372</td>\n      <td>0.750413</td>\n      <td>0.394124</td>\n      <td>0.132536</td>\n      <td>0.052582</td>\n    </tr>\n    <tr>\n      <th>332</th>\n      <td>0.556297</td>\n      <td>0.841713</td>\n      <td>0.965062</td>\n      <td>0.112387</td>\n      <td>0.211688</td>\n    </tr>\n    <tr>\n      <th>333</th>\n      <td>0.017990</td>\n      <td>0.632087</td>\n      <td>0.746885</td>\n      <td>0.369050</td>\n      <td>0.356093</td>\n    </tr>\n  </tbody>\n</table>\n<p>334 rows × 5 columns</p>\n</div>"
     },
     "execution_count": 37,
     "metadata": {},
     "output_type": "execute_result"
    }
   ],
   "source": [
    "newdf"
   ],
   "metadata": {
    "collapsed": false,
    "pycharm": {
     "name": "#%%\n"
    }
   }
  },
  {
   "cell_type": "code",
   "execution_count": 38,
   "outputs": [],
   "source": [
    "newdf3=newdf.copy()"
   ],
   "metadata": {
    "collapsed": false,
    "pycharm": {
     "name": "#%%\n"
    }
   }
  },
  {
   "cell_type": "code",
   "execution_count": 39,
   "outputs": [
    {
     "data": {
      "text/plain": "               0         1         2         3         4\n0    9756.000000  0.983487  0.266444  0.120459  0.001110\n1       0.270932  0.153358  0.213429  0.148198  0.127868\n2       0.665118  0.350857  0.583002  0.215119  0.710048\n3       0.634087  0.727786  0.955138  0.343467  0.608244\n4       0.600628  0.551305  0.293138  0.062102  0.319682\n..           ...       ...       ...       ...       ...\n329     0.979328  0.886560  0.561728  0.424675  0.866605\n330     0.378096  0.756595  0.108500  0.377694  0.727588\n331     0.206372  0.750413  0.394124  0.132536  0.052582\n332     0.556297  0.841713  0.965062  0.112387  0.211688\n333     0.017990  0.632087  0.746885  0.369050  0.356093\n\n[334 rows x 5 columns]",
      "text/html": "<div>\n<style scoped>\n    .dataframe tbody tr th:only-of-type {\n        vertical-align: middle;\n    }\n\n    .dataframe tbody tr th {\n        vertical-align: top;\n    }\n\n    .dataframe thead th {\n        text-align: right;\n    }\n</style>\n<table border=\"1\" class=\"dataframe\">\n  <thead>\n    <tr style=\"text-align: right;\">\n      <th></th>\n      <th>0</th>\n      <th>1</th>\n      <th>2</th>\n      <th>3</th>\n      <th>4</th>\n    </tr>\n  </thead>\n  <tbody>\n    <tr>\n      <th>0</th>\n      <td>9756.000000</td>\n      <td>0.983487</td>\n      <td>0.266444</td>\n      <td>0.120459</td>\n      <td>0.001110</td>\n    </tr>\n    <tr>\n      <th>1</th>\n      <td>0.270932</td>\n      <td>0.153358</td>\n      <td>0.213429</td>\n      <td>0.148198</td>\n      <td>0.127868</td>\n    </tr>\n    <tr>\n      <th>2</th>\n      <td>0.665118</td>\n      <td>0.350857</td>\n      <td>0.583002</td>\n      <td>0.215119</td>\n      <td>0.710048</td>\n    </tr>\n    <tr>\n      <th>3</th>\n      <td>0.634087</td>\n      <td>0.727786</td>\n      <td>0.955138</td>\n      <td>0.343467</td>\n      <td>0.608244</td>\n    </tr>\n    <tr>\n      <th>4</th>\n      <td>0.600628</td>\n      <td>0.551305</td>\n      <td>0.293138</td>\n      <td>0.062102</td>\n      <td>0.319682</td>\n    </tr>\n    <tr>\n      <th>...</th>\n      <td>...</td>\n      <td>...</td>\n      <td>...</td>\n      <td>...</td>\n      <td>...</td>\n    </tr>\n    <tr>\n      <th>329</th>\n      <td>0.979328</td>\n      <td>0.886560</td>\n      <td>0.561728</td>\n      <td>0.424675</td>\n      <td>0.866605</td>\n    </tr>\n    <tr>\n      <th>330</th>\n      <td>0.378096</td>\n      <td>0.756595</td>\n      <td>0.108500</td>\n      <td>0.377694</td>\n      <td>0.727588</td>\n    </tr>\n    <tr>\n      <th>331</th>\n      <td>0.206372</td>\n      <td>0.750413</td>\n      <td>0.394124</td>\n      <td>0.132536</td>\n      <td>0.052582</td>\n    </tr>\n    <tr>\n      <th>332</th>\n      <td>0.556297</td>\n      <td>0.841713</td>\n      <td>0.965062</td>\n      <td>0.112387</td>\n      <td>0.211688</td>\n    </tr>\n    <tr>\n      <th>333</th>\n      <td>0.017990</td>\n      <td>0.632087</td>\n      <td>0.746885</td>\n      <td>0.369050</td>\n      <td>0.356093</td>\n    </tr>\n  </tbody>\n</table>\n<p>334 rows × 5 columns</p>\n</div>"
     },
     "execution_count": 39,
     "metadata": {},
     "output_type": "execute_result"
    }
   ],
   "source": [
    "newdf3"
   ],
   "metadata": {
    "collapsed": false,
    "pycharm": {
     "name": "#%%\n"
    }
   }
  },
  {
   "cell_type": "code",
   "execution_count": 40,
   "outputs": [],
   "source": [
    "newdf.loc[0,0]=654"
   ],
   "metadata": {
    "collapsed": false,
    "pycharm": {
     "name": "#%%\n"
    }
   }
  },
  {
   "cell_type": "code",
   "execution_count": 41,
   "outputs": [
    {
     "data": {
      "text/plain": "            0         1         2         3         4\n0  654.000000  0.983487  0.266444  0.120459  0.001110\n1    0.270932  0.153358  0.213429  0.148198  0.127868",
      "text/html": "<div>\n<style scoped>\n    .dataframe tbody tr th:only-of-type {\n        vertical-align: middle;\n    }\n\n    .dataframe tbody tr th {\n        vertical-align: top;\n    }\n\n    .dataframe thead th {\n        text-align: right;\n    }\n</style>\n<table border=\"1\" class=\"dataframe\">\n  <thead>\n    <tr style=\"text-align: right;\">\n      <th></th>\n      <th>0</th>\n      <th>1</th>\n      <th>2</th>\n      <th>3</th>\n      <th>4</th>\n    </tr>\n  </thead>\n  <tbody>\n    <tr>\n      <th>0</th>\n      <td>654.000000</td>\n      <td>0.983487</td>\n      <td>0.266444</td>\n      <td>0.120459</td>\n      <td>0.001110</td>\n    </tr>\n    <tr>\n      <th>1</th>\n      <td>0.270932</td>\n      <td>0.153358</td>\n      <td>0.213429</td>\n      <td>0.148198</td>\n      <td>0.127868</td>\n    </tr>\n  </tbody>\n</table>\n</div>"
     },
     "execution_count": 41,
     "metadata": {},
     "output_type": "execute_result"
    }
   ],
   "source": [
    "newdf.head(2)"
   ],
   "metadata": {
    "collapsed": false,
    "pycharm": {
     "name": "#%%\n"
    }
   }
  },
  {
   "cell_type": "code",
   "execution_count": 42,
   "outputs": [],
   "source": [
    "newdf.columns=list(\"ABCDE\")"
   ],
   "metadata": {
    "collapsed": false,
    "pycharm": {
     "name": "#%%\n"
    }
   }
  },
  {
   "cell_type": "code",
   "execution_count": 43,
   "outputs": [
    {
     "data": {
      "text/plain": "              A         B         C         D         E\n0    654.000000  0.983487  0.266444  0.120459  0.001110\n1      0.270932  0.153358  0.213429  0.148198  0.127868\n2      0.665118  0.350857  0.583002  0.215119  0.710048\n3      0.634087  0.727786  0.955138  0.343467  0.608244\n4      0.600628  0.551305  0.293138  0.062102  0.319682\n..          ...       ...       ...       ...       ...\n329    0.979328  0.886560  0.561728  0.424675  0.866605\n330    0.378096  0.756595  0.108500  0.377694  0.727588\n331    0.206372  0.750413  0.394124  0.132536  0.052582\n332    0.556297  0.841713  0.965062  0.112387  0.211688\n333    0.017990  0.632087  0.746885  0.369050  0.356093\n\n[334 rows x 5 columns]",
      "text/html": "<div>\n<style scoped>\n    .dataframe tbody tr th:only-of-type {\n        vertical-align: middle;\n    }\n\n    .dataframe tbody tr th {\n        vertical-align: top;\n    }\n\n    .dataframe thead th {\n        text-align: right;\n    }\n</style>\n<table border=\"1\" class=\"dataframe\">\n  <thead>\n    <tr style=\"text-align: right;\">\n      <th></th>\n      <th>A</th>\n      <th>B</th>\n      <th>C</th>\n      <th>D</th>\n      <th>E</th>\n    </tr>\n  </thead>\n  <tbody>\n    <tr>\n      <th>0</th>\n      <td>654.000000</td>\n      <td>0.983487</td>\n      <td>0.266444</td>\n      <td>0.120459</td>\n      <td>0.001110</td>\n    </tr>\n    <tr>\n      <th>1</th>\n      <td>0.270932</td>\n      <td>0.153358</td>\n      <td>0.213429</td>\n      <td>0.148198</td>\n      <td>0.127868</td>\n    </tr>\n    <tr>\n      <th>2</th>\n      <td>0.665118</td>\n      <td>0.350857</td>\n      <td>0.583002</td>\n      <td>0.215119</td>\n      <td>0.710048</td>\n    </tr>\n    <tr>\n      <th>3</th>\n      <td>0.634087</td>\n      <td>0.727786</td>\n      <td>0.955138</td>\n      <td>0.343467</td>\n      <td>0.608244</td>\n    </tr>\n    <tr>\n      <th>4</th>\n      <td>0.600628</td>\n      <td>0.551305</td>\n      <td>0.293138</td>\n      <td>0.062102</td>\n      <td>0.319682</td>\n    </tr>\n    <tr>\n      <th>...</th>\n      <td>...</td>\n      <td>...</td>\n      <td>...</td>\n      <td>...</td>\n      <td>...</td>\n    </tr>\n    <tr>\n      <th>329</th>\n      <td>0.979328</td>\n      <td>0.886560</td>\n      <td>0.561728</td>\n      <td>0.424675</td>\n      <td>0.866605</td>\n    </tr>\n    <tr>\n      <th>330</th>\n      <td>0.378096</td>\n      <td>0.756595</td>\n      <td>0.108500</td>\n      <td>0.377694</td>\n      <td>0.727588</td>\n    </tr>\n    <tr>\n      <th>331</th>\n      <td>0.206372</td>\n      <td>0.750413</td>\n      <td>0.394124</td>\n      <td>0.132536</td>\n      <td>0.052582</td>\n    </tr>\n    <tr>\n      <th>332</th>\n      <td>0.556297</td>\n      <td>0.841713</td>\n      <td>0.965062</td>\n      <td>0.112387</td>\n      <td>0.211688</td>\n    </tr>\n    <tr>\n      <th>333</th>\n      <td>0.017990</td>\n      <td>0.632087</td>\n      <td>0.746885</td>\n      <td>0.369050</td>\n      <td>0.356093</td>\n    </tr>\n  </tbody>\n</table>\n<p>334 rows × 5 columns</p>\n</div>"
     },
     "execution_count": 43,
     "metadata": {},
     "output_type": "execute_result"
    }
   ],
   "source": [
    "newdf"
   ],
   "metadata": {
    "collapsed": false,
    "pycharm": {
     "name": "#%%\n"
    }
   }
  },
  {
   "cell_type": "code",
   "execution_count": 44,
   "outputs": [],
   "source": [
    "newdf.loc[0,'A']=119.2"
   ],
   "metadata": {
    "collapsed": false,
    "pycharm": {
     "name": "#%%\n"
    }
   }
  },
  {
   "cell_type": "code",
   "execution_count": 45,
   "outputs": [
    {
     "data": {
      "text/plain": "              A         B         C         D         E\n0    119.200000  0.983487  0.266444  0.120459  0.001110\n1      0.270932  0.153358  0.213429  0.148198  0.127868\n2      0.665118  0.350857  0.583002  0.215119  0.710048\n3      0.634087  0.727786  0.955138  0.343467  0.608244\n4      0.600628  0.551305  0.293138  0.062102  0.319682\n..          ...       ...       ...       ...       ...\n329    0.979328  0.886560  0.561728  0.424675  0.866605\n330    0.378096  0.756595  0.108500  0.377694  0.727588\n331    0.206372  0.750413  0.394124  0.132536  0.052582\n332    0.556297  0.841713  0.965062  0.112387  0.211688\n333    0.017990  0.632087  0.746885  0.369050  0.356093\n\n[334 rows x 5 columns]",
      "text/html": "<div>\n<style scoped>\n    .dataframe tbody tr th:only-of-type {\n        vertical-align: middle;\n    }\n\n    .dataframe tbody tr th {\n        vertical-align: top;\n    }\n\n    .dataframe thead th {\n        text-align: right;\n    }\n</style>\n<table border=\"1\" class=\"dataframe\">\n  <thead>\n    <tr style=\"text-align: right;\">\n      <th></th>\n      <th>A</th>\n      <th>B</th>\n      <th>C</th>\n      <th>D</th>\n      <th>E</th>\n    </tr>\n  </thead>\n  <tbody>\n    <tr>\n      <th>0</th>\n      <td>119.200000</td>\n      <td>0.983487</td>\n      <td>0.266444</td>\n      <td>0.120459</td>\n      <td>0.001110</td>\n    </tr>\n    <tr>\n      <th>1</th>\n      <td>0.270932</td>\n      <td>0.153358</td>\n      <td>0.213429</td>\n      <td>0.148198</td>\n      <td>0.127868</td>\n    </tr>\n    <tr>\n      <th>2</th>\n      <td>0.665118</td>\n      <td>0.350857</td>\n      <td>0.583002</td>\n      <td>0.215119</td>\n      <td>0.710048</td>\n    </tr>\n    <tr>\n      <th>3</th>\n      <td>0.634087</td>\n      <td>0.727786</td>\n      <td>0.955138</td>\n      <td>0.343467</td>\n      <td>0.608244</td>\n    </tr>\n    <tr>\n      <th>4</th>\n      <td>0.600628</td>\n      <td>0.551305</td>\n      <td>0.293138</td>\n      <td>0.062102</td>\n      <td>0.319682</td>\n    </tr>\n    <tr>\n      <th>...</th>\n      <td>...</td>\n      <td>...</td>\n      <td>...</td>\n      <td>...</td>\n      <td>...</td>\n    </tr>\n    <tr>\n      <th>329</th>\n      <td>0.979328</td>\n      <td>0.886560</td>\n      <td>0.561728</td>\n      <td>0.424675</td>\n      <td>0.866605</td>\n    </tr>\n    <tr>\n      <th>330</th>\n      <td>0.378096</td>\n      <td>0.756595</td>\n      <td>0.108500</td>\n      <td>0.377694</td>\n      <td>0.727588</td>\n    </tr>\n    <tr>\n      <th>331</th>\n      <td>0.206372</td>\n      <td>0.750413</td>\n      <td>0.394124</td>\n      <td>0.132536</td>\n      <td>0.052582</td>\n    </tr>\n    <tr>\n      <th>332</th>\n      <td>0.556297</td>\n      <td>0.841713</td>\n      <td>0.965062</td>\n      <td>0.112387</td>\n      <td>0.211688</td>\n    </tr>\n    <tr>\n      <th>333</th>\n      <td>0.017990</td>\n      <td>0.632087</td>\n      <td>0.746885</td>\n      <td>0.369050</td>\n      <td>0.356093</td>\n    </tr>\n  </tbody>\n</table>\n<p>334 rows × 5 columns</p>\n</div>"
     },
     "execution_count": 45,
     "metadata": {},
     "output_type": "execute_result"
    }
   ],
   "source": [
    "newdf"
   ],
   "metadata": {
    "collapsed": false,
    "pycharm": {
     "name": "#%%\n"
    }
   }
  },
  {
   "cell_type": "code",
   "execution_count": 46,
   "outputs": [],
   "source": [
    "newdf.loc[0,0]=55.4"
   ],
   "metadata": {
    "collapsed": false,
    "pycharm": {
     "name": "#%%\n"
    }
   }
  },
  {
   "cell_type": "code",
   "execution_count": 47,
   "outputs": [
    {
     "data": {
      "text/plain": "              A         B         C         D         E     0\n0    119.200000  0.983487  0.266444  0.120459  0.001110  55.4\n1      0.270932  0.153358  0.213429  0.148198  0.127868   NaN\n2      0.665118  0.350857  0.583002  0.215119  0.710048   NaN\n3      0.634087  0.727786  0.955138  0.343467  0.608244   NaN\n4      0.600628  0.551305  0.293138  0.062102  0.319682   NaN\n..          ...       ...       ...       ...       ...   ...\n329    0.979328  0.886560  0.561728  0.424675  0.866605   NaN\n330    0.378096  0.756595  0.108500  0.377694  0.727588   NaN\n331    0.206372  0.750413  0.394124  0.132536  0.052582   NaN\n332    0.556297  0.841713  0.965062  0.112387  0.211688   NaN\n333    0.017990  0.632087  0.746885  0.369050  0.356093   NaN\n\n[334 rows x 6 columns]",
      "text/html": "<div>\n<style scoped>\n    .dataframe tbody tr th:only-of-type {\n        vertical-align: middle;\n    }\n\n    .dataframe tbody tr th {\n        vertical-align: top;\n    }\n\n    .dataframe thead th {\n        text-align: right;\n    }\n</style>\n<table border=\"1\" class=\"dataframe\">\n  <thead>\n    <tr style=\"text-align: right;\">\n      <th></th>\n      <th>A</th>\n      <th>B</th>\n      <th>C</th>\n      <th>D</th>\n      <th>E</th>\n      <th>0</th>\n    </tr>\n  </thead>\n  <tbody>\n    <tr>\n      <th>0</th>\n      <td>119.200000</td>\n      <td>0.983487</td>\n      <td>0.266444</td>\n      <td>0.120459</td>\n      <td>0.001110</td>\n      <td>55.4</td>\n    </tr>\n    <tr>\n      <th>1</th>\n      <td>0.270932</td>\n      <td>0.153358</td>\n      <td>0.213429</td>\n      <td>0.148198</td>\n      <td>0.127868</td>\n      <td>NaN</td>\n    </tr>\n    <tr>\n      <th>2</th>\n      <td>0.665118</td>\n      <td>0.350857</td>\n      <td>0.583002</td>\n      <td>0.215119</td>\n      <td>0.710048</td>\n      <td>NaN</td>\n    </tr>\n    <tr>\n      <th>3</th>\n      <td>0.634087</td>\n      <td>0.727786</td>\n      <td>0.955138</td>\n      <td>0.343467</td>\n      <td>0.608244</td>\n      <td>NaN</td>\n    </tr>\n    <tr>\n      <th>4</th>\n      <td>0.600628</td>\n      <td>0.551305</td>\n      <td>0.293138</td>\n      <td>0.062102</td>\n      <td>0.319682</td>\n      <td>NaN</td>\n    </tr>\n    <tr>\n      <th>...</th>\n      <td>...</td>\n      <td>...</td>\n      <td>...</td>\n      <td>...</td>\n      <td>...</td>\n      <td>...</td>\n    </tr>\n    <tr>\n      <th>329</th>\n      <td>0.979328</td>\n      <td>0.886560</td>\n      <td>0.561728</td>\n      <td>0.424675</td>\n      <td>0.866605</td>\n      <td>NaN</td>\n    </tr>\n    <tr>\n      <th>330</th>\n      <td>0.378096</td>\n      <td>0.756595</td>\n      <td>0.108500</td>\n      <td>0.377694</td>\n      <td>0.727588</td>\n      <td>NaN</td>\n    </tr>\n    <tr>\n      <th>331</th>\n      <td>0.206372</td>\n      <td>0.750413</td>\n      <td>0.394124</td>\n      <td>0.132536</td>\n      <td>0.052582</td>\n      <td>NaN</td>\n    </tr>\n    <tr>\n      <th>332</th>\n      <td>0.556297</td>\n      <td>0.841713</td>\n      <td>0.965062</td>\n      <td>0.112387</td>\n      <td>0.211688</td>\n      <td>NaN</td>\n    </tr>\n    <tr>\n      <th>333</th>\n      <td>0.017990</td>\n      <td>0.632087</td>\n      <td>0.746885</td>\n      <td>0.369050</td>\n      <td>0.356093</td>\n      <td>NaN</td>\n    </tr>\n  </tbody>\n</table>\n<p>334 rows × 6 columns</p>\n</div>"
     },
     "execution_count": 47,
     "metadata": {},
     "output_type": "execute_result"
    }
   ],
   "source": [
    "newdf"
   ],
   "metadata": {
    "collapsed": false,
    "pycharm": {
     "name": "#%%\n"
    }
   }
  },
  {
   "cell_type": "code",
   "execution_count": 48,
   "outputs": [],
   "source": [
    "newdf=newdf.drop(0,axis=1)"
   ],
   "metadata": {
    "collapsed": false,
    "pycharm": {
     "name": "#%%\n"
    }
   }
  },
  {
   "cell_type": "code",
   "execution_count": 49,
   "outputs": [
    {
     "data": {
      "text/plain": "              A         B         C         D         E\n0    119.200000  0.983487  0.266444  0.120459  0.001110\n1      0.270932  0.153358  0.213429  0.148198  0.127868\n2      0.665118  0.350857  0.583002  0.215119  0.710048\n3      0.634087  0.727786  0.955138  0.343467  0.608244\n4      0.600628  0.551305  0.293138  0.062102  0.319682\n..          ...       ...       ...       ...       ...\n329    0.979328  0.886560  0.561728  0.424675  0.866605\n330    0.378096  0.756595  0.108500  0.377694  0.727588\n331    0.206372  0.750413  0.394124  0.132536  0.052582\n332    0.556297  0.841713  0.965062  0.112387  0.211688\n333    0.017990  0.632087  0.746885  0.369050  0.356093\n\n[334 rows x 5 columns]",
      "text/html": "<div>\n<style scoped>\n    .dataframe tbody tr th:only-of-type {\n        vertical-align: middle;\n    }\n\n    .dataframe tbody tr th {\n        vertical-align: top;\n    }\n\n    .dataframe thead th {\n        text-align: right;\n    }\n</style>\n<table border=\"1\" class=\"dataframe\">\n  <thead>\n    <tr style=\"text-align: right;\">\n      <th></th>\n      <th>A</th>\n      <th>B</th>\n      <th>C</th>\n      <th>D</th>\n      <th>E</th>\n    </tr>\n  </thead>\n  <tbody>\n    <tr>\n      <th>0</th>\n      <td>119.200000</td>\n      <td>0.983487</td>\n      <td>0.266444</td>\n      <td>0.120459</td>\n      <td>0.001110</td>\n    </tr>\n    <tr>\n      <th>1</th>\n      <td>0.270932</td>\n      <td>0.153358</td>\n      <td>0.213429</td>\n      <td>0.148198</td>\n      <td>0.127868</td>\n    </tr>\n    <tr>\n      <th>2</th>\n      <td>0.665118</td>\n      <td>0.350857</td>\n      <td>0.583002</td>\n      <td>0.215119</td>\n      <td>0.710048</td>\n    </tr>\n    <tr>\n      <th>3</th>\n      <td>0.634087</td>\n      <td>0.727786</td>\n      <td>0.955138</td>\n      <td>0.343467</td>\n      <td>0.608244</td>\n    </tr>\n    <tr>\n      <th>4</th>\n      <td>0.600628</td>\n      <td>0.551305</td>\n      <td>0.293138</td>\n      <td>0.062102</td>\n      <td>0.319682</td>\n    </tr>\n    <tr>\n      <th>...</th>\n      <td>...</td>\n      <td>...</td>\n      <td>...</td>\n      <td>...</td>\n      <td>...</td>\n    </tr>\n    <tr>\n      <th>329</th>\n      <td>0.979328</td>\n      <td>0.886560</td>\n      <td>0.561728</td>\n      <td>0.424675</td>\n      <td>0.866605</td>\n    </tr>\n    <tr>\n      <th>330</th>\n      <td>0.378096</td>\n      <td>0.756595</td>\n      <td>0.108500</td>\n      <td>0.377694</td>\n      <td>0.727588</td>\n    </tr>\n    <tr>\n      <th>331</th>\n      <td>0.206372</td>\n      <td>0.750413</td>\n      <td>0.394124</td>\n      <td>0.132536</td>\n      <td>0.052582</td>\n    </tr>\n    <tr>\n      <th>332</th>\n      <td>0.556297</td>\n      <td>0.841713</td>\n      <td>0.965062</td>\n      <td>0.112387</td>\n      <td>0.211688</td>\n    </tr>\n    <tr>\n      <th>333</th>\n      <td>0.017990</td>\n      <td>0.632087</td>\n      <td>0.746885</td>\n      <td>0.369050</td>\n      <td>0.356093</td>\n    </tr>\n  </tbody>\n</table>\n<p>334 rows × 5 columns</p>\n</div>"
     },
     "execution_count": 49,
     "metadata": {},
     "output_type": "execute_result"
    }
   ],
   "source": [
    "newdf"
   ],
   "metadata": {
    "collapsed": false,
    "pycharm": {
     "name": "#%%\n"
    }
   }
  },
  {
   "cell_type": "code",
   "execution_count": 50,
   "outputs": [
    {
     "data": {
      "text/plain": "          C         D\n1  0.213429  0.148198\n2  0.583002  0.215119",
      "text/html": "<div>\n<style scoped>\n    .dataframe tbody tr th:only-of-type {\n        vertical-align: middle;\n    }\n\n    .dataframe tbody tr th {\n        vertical-align: top;\n    }\n\n    .dataframe thead th {\n        text-align: right;\n    }\n</style>\n<table border=\"1\" class=\"dataframe\">\n  <thead>\n    <tr style=\"text-align: right;\">\n      <th></th>\n      <th>C</th>\n      <th>D</th>\n    </tr>\n  </thead>\n  <tbody>\n    <tr>\n      <th>1</th>\n      <td>0.213429</td>\n      <td>0.148198</td>\n    </tr>\n    <tr>\n      <th>2</th>\n      <td>0.583002</td>\n      <td>0.215119</td>\n    </tr>\n  </tbody>\n</table>\n</div>"
     },
     "execution_count": 50,
     "metadata": {},
     "output_type": "execute_result"
    }
   ],
   "source": [
    "newdf.loc[[1,2],['C','D']]"
   ],
   "metadata": {
    "collapsed": false,
    "pycharm": {
     "name": "#%%\n"
    }
   }
  },
  {
   "cell_type": "code",
   "execution_count": 51,
   "outputs": [
    {
     "data": {
      "text/plain": "            A         B         C         D         E\n1    0.270932  0.153358  0.213429  0.148198  0.127868\n14   0.243465  0.202596  0.947529  0.177667  0.201077\n15   0.149425  0.821169  0.131851  0.514178  0.557742\n17   0.242469  0.939771  0.126726  0.023745  0.820635\n21   0.107065  0.737866  0.695021  0.813810  0.401547\n..        ...       ...       ...       ...       ...\n314  0.234575  0.733993  0.619217  0.181456  0.660861\n317  0.118845  0.108298  0.401537  0.671507  0.436412\n328  0.145729  0.392898  0.316824  0.312397  0.953897\n331  0.206372  0.750413  0.394124  0.132536  0.052582\n333  0.017990  0.632087  0.746885  0.369050  0.356093\n\n[76 rows x 5 columns]",
      "text/html": "<div>\n<style scoped>\n    .dataframe tbody tr th:only-of-type {\n        vertical-align: middle;\n    }\n\n    .dataframe tbody tr th {\n        vertical-align: top;\n    }\n\n    .dataframe thead th {\n        text-align: right;\n    }\n</style>\n<table border=\"1\" class=\"dataframe\">\n  <thead>\n    <tr style=\"text-align: right;\">\n      <th></th>\n      <th>A</th>\n      <th>B</th>\n      <th>C</th>\n      <th>D</th>\n      <th>E</th>\n    </tr>\n  </thead>\n  <tbody>\n    <tr>\n      <th>1</th>\n      <td>0.270932</td>\n      <td>0.153358</td>\n      <td>0.213429</td>\n      <td>0.148198</td>\n      <td>0.127868</td>\n    </tr>\n    <tr>\n      <th>14</th>\n      <td>0.243465</td>\n      <td>0.202596</td>\n      <td>0.947529</td>\n      <td>0.177667</td>\n      <td>0.201077</td>\n    </tr>\n    <tr>\n      <th>15</th>\n      <td>0.149425</td>\n      <td>0.821169</td>\n      <td>0.131851</td>\n      <td>0.514178</td>\n      <td>0.557742</td>\n    </tr>\n    <tr>\n      <th>17</th>\n      <td>0.242469</td>\n      <td>0.939771</td>\n      <td>0.126726</td>\n      <td>0.023745</td>\n      <td>0.820635</td>\n    </tr>\n    <tr>\n      <th>21</th>\n      <td>0.107065</td>\n      <td>0.737866</td>\n      <td>0.695021</td>\n      <td>0.813810</td>\n      <td>0.401547</td>\n    </tr>\n    <tr>\n      <th>...</th>\n      <td>...</td>\n      <td>...</td>\n      <td>...</td>\n      <td>...</td>\n      <td>...</td>\n    </tr>\n    <tr>\n      <th>314</th>\n      <td>0.234575</td>\n      <td>0.733993</td>\n      <td>0.619217</td>\n      <td>0.181456</td>\n      <td>0.660861</td>\n    </tr>\n    <tr>\n      <th>317</th>\n      <td>0.118845</td>\n      <td>0.108298</td>\n      <td>0.401537</td>\n      <td>0.671507</td>\n      <td>0.436412</td>\n    </tr>\n    <tr>\n      <th>328</th>\n      <td>0.145729</td>\n      <td>0.392898</td>\n      <td>0.316824</td>\n      <td>0.312397</td>\n      <td>0.953897</td>\n    </tr>\n    <tr>\n      <th>331</th>\n      <td>0.206372</td>\n      <td>0.750413</td>\n      <td>0.394124</td>\n      <td>0.132536</td>\n      <td>0.052582</td>\n    </tr>\n    <tr>\n      <th>333</th>\n      <td>0.017990</td>\n      <td>0.632087</td>\n      <td>0.746885</td>\n      <td>0.369050</td>\n      <td>0.356093</td>\n    </tr>\n  </tbody>\n</table>\n<p>76 rows × 5 columns</p>\n</div>"
     },
     "execution_count": 51,
     "metadata": {},
     "output_type": "execute_result"
    }
   ],
   "source": [
    "newdf.loc[(newdf['A']<0.3) &(newdf['C']>0.1)]"
   ],
   "metadata": {
    "collapsed": false,
    "pycharm": {
     "name": "#%%\n"
    }
   }
  },
  {
   "cell_type": "code",
   "execution_count": 52,
   "outputs": [
    {
     "data": {
      "text/plain": "0.12045856164330448"
     },
     "execution_count": 52,
     "metadata": {},
     "output_type": "execute_result"
    }
   ],
   "source": [
    "newdf.iloc[0,3]"
   ],
   "metadata": {
    "collapsed": false,
    "pycharm": {
     "name": "#%%\n"
    }
   }
  },
  {
   "cell_type": "code",
   "execution_count": 53,
   "outputs": [
    {
     "data": {
      "text/plain": "          B         C\n0  0.983487  0.266444\n5  0.786994  0.033880",
      "text/html": "<div>\n<style scoped>\n    .dataframe tbody tr th:only-of-type {\n        vertical-align: middle;\n    }\n\n    .dataframe tbody tr th {\n        vertical-align: top;\n    }\n\n    .dataframe thead th {\n        text-align: right;\n    }\n</style>\n<table border=\"1\" class=\"dataframe\">\n  <thead>\n    <tr style=\"text-align: right;\">\n      <th></th>\n      <th>B</th>\n      <th>C</th>\n    </tr>\n  </thead>\n  <tbody>\n    <tr>\n      <th>0</th>\n      <td>0.983487</td>\n      <td>0.266444</td>\n    </tr>\n    <tr>\n      <th>5</th>\n      <td>0.786994</td>\n      <td>0.033880</td>\n    </tr>\n  </tbody>\n</table>\n</div>"
     },
     "execution_count": 53,
     "metadata": {},
     "output_type": "execute_result"
    }
   ],
   "source": [
    "newdf.iloc[[0,5],[1,2]]"
   ],
   "metadata": {
    "collapsed": false,
    "pycharm": {
     "name": "#%%\n"
    }
   }
  },
  {
   "cell_type": "code",
   "execution_count": 54,
   "outputs": [],
   "source": [
    "newdf.drop([0],inplace=True)"
   ],
   "metadata": {
    "collapsed": false,
    "pycharm": {
     "name": "#%%\n"
    }
   }
  },
  {
   "cell_type": "code",
   "execution_count": 55,
   "outputs": [
    {
     "data": {
      "text/plain": "            A         B         C         D         E\n1    0.270932  0.153358  0.213429  0.148198  0.127868\n2    0.665118  0.350857  0.583002  0.215119  0.710048\n3    0.634087  0.727786  0.955138  0.343467  0.608244\n4    0.600628  0.551305  0.293138  0.062102  0.319682\n5    0.503733  0.786994  0.033880  0.501781  0.397876\n..        ...       ...       ...       ...       ...\n329  0.979328  0.886560  0.561728  0.424675  0.866605\n330  0.378096  0.756595  0.108500  0.377694  0.727588\n331  0.206372  0.750413  0.394124  0.132536  0.052582\n332  0.556297  0.841713  0.965062  0.112387  0.211688\n333  0.017990  0.632087  0.746885  0.369050  0.356093\n\n[333 rows x 5 columns]",
      "text/html": "<div>\n<style scoped>\n    .dataframe tbody tr th:only-of-type {\n        vertical-align: middle;\n    }\n\n    .dataframe tbody tr th {\n        vertical-align: top;\n    }\n\n    .dataframe thead th {\n        text-align: right;\n    }\n</style>\n<table border=\"1\" class=\"dataframe\">\n  <thead>\n    <tr style=\"text-align: right;\">\n      <th></th>\n      <th>A</th>\n      <th>B</th>\n      <th>C</th>\n      <th>D</th>\n      <th>E</th>\n    </tr>\n  </thead>\n  <tbody>\n    <tr>\n      <th>1</th>\n      <td>0.270932</td>\n      <td>0.153358</td>\n      <td>0.213429</td>\n      <td>0.148198</td>\n      <td>0.127868</td>\n    </tr>\n    <tr>\n      <th>2</th>\n      <td>0.665118</td>\n      <td>0.350857</td>\n      <td>0.583002</td>\n      <td>0.215119</td>\n      <td>0.710048</td>\n    </tr>\n    <tr>\n      <th>3</th>\n      <td>0.634087</td>\n      <td>0.727786</td>\n      <td>0.955138</td>\n      <td>0.343467</td>\n      <td>0.608244</td>\n    </tr>\n    <tr>\n      <th>4</th>\n      <td>0.600628</td>\n      <td>0.551305</td>\n      <td>0.293138</td>\n      <td>0.062102</td>\n      <td>0.319682</td>\n    </tr>\n    <tr>\n      <th>5</th>\n      <td>0.503733</td>\n      <td>0.786994</td>\n      <td>0.033880</td>\n      <td>0.501781</td>\n      <td>0.397876</td>\n    </tr>\n    <tr>\n      <th>...</th>\n      <td>...</td>\n      <td>...</td>\n      <td>...</td>\n      <td>...</td>\n      <td>...</td>\n    </tr>\n    <tr>\n      <th>329</th>\n      <td>0.979328</td>\n      <td>0.886560</td>\n      <td>0.561728</td>\n      <td>0.424675</td>\n      <td>0.866605</td>\n    </tr>\n    <tr>\n      <th>330</th>\n      <td>0.378096</td>\n      <td>0.756595</td>\n      <td>0.108500</td>\n      <td>0.377694</td>\n      <td>0.727588</td>\n    </tr>\n    <tr>\n      <th>331</th>\n      <td>0.206372</td>\n      <td>0.750413</td>\n      <td>0.394124</td>\n      <td>0.132536</td>\n      <td>0.052582</td>\n    </tr>\n    <tr>\n      <th>332</th>\n      <td>0.556297</td>\n      <td>0.841713</td>\n      <td>0.965062</td>\n      <td>0.112387</td>\n      <td>0.211688</td>\n    </tr>\n    <tr>\n      <th>333</th>\n      <td>0.017990</td>\n      <td>0.632087</td>\n      <td>0.746885</td>\n      <td>0.369050</td>\n      <td>0.356093</td>\n    </tr>\n  </tbody>\n</table>\n<p>333 rows × 5 columns</p>\n</div>"
     },
     "execution_count": 55,
     "metadata": {},
     "output_type": "execute_result"
    }
   ],
   "source": [
    "newdf"
   ],
   "metadata": {
    "collapsed": false,
    "pycharm": {
     "name": "#%%\n"
    }
   }
  },
  {
   "cell_type": "code",
   "execution_count": 56,
   "outputs": [],
   "source": [
    "newdf.reset_index(drop=True,inplace=True)"
   ],
   "metadata": {
    "collapsed": false,
    "pycharm": {
     "name": "#%%\n"
    }
   }
  },
  {
   "cell_type": "code",
   "execution_count": 57,
   "outputs": [
    {
     "data": {
      "text/plain": "            A         B         C         D         E\n0    0.270932  0.153358  0.213429  0.148198  0.127868\n1    0.665118  0.350857  0.583002  0.215119  0.710048\n2    0.634087  0.727786  0.955138  0.343467  0.608244\n3    0.600628  0.551305  0.293138  0.062102  0.319682\n4    0.503733  0.786994  0.033880  0.501781  0.397876\n..        ...       ...       ...       ...       ...\n328  0.979328  0.886560  0.561728  0.424675  0.866605\n329  0.378096  0.756595  0.108500  0.377694  0.727588\n330  0.206372  0.750413  0.394124  0.132536  0.052582\n331  0.556297  0.841713  0.965062  0.112387  0.211688\n332  0.017990  0.632087  0.746885  0.369050  0.356093\n\n[333 rows x 5 columns]",
      "text/html": "<div>\n<style scoped>\n    .dataframe tbody tr th:only-of-type {\n        vertical-align: middle;\n    }\n\n    .dataframe tbody tr th {\n        vertical-align: top;\n    }\n\n    .dataframe thead th {\n        text-align: right;\n    }\n</style>\n<table border=\"1\" class=\"dataframe\">\n  <thead>\n    <tr style=\"text-align: right;\">\n      <th></th>\n      <th>A</th>\n      <th>B</th>\n      <th>C</th>\n      <th>D</th>\n      <th>E</th>\n    </tr>\n  </thead>\n  <tbody>\n    <tr>\n      <th>0</th>\n      <td>0.270932</td>\n      <td>0.153358</td>\n      <td>0.213429</td>\n      <td>0.148198</td>\n      <td>0.127868</td>\n    </tr>\n    <tr>\n      <th>1</th>\n      <td>0.665118</td>\n      <td>0.350857</td>\n      <td>0.583002</td>\n      <td>0.215119</td>\n      <td>0.710048</td>\n    </tr>\n    <tr>\n      <th>2</th>\n      <td>0.634087</td>\n      <td>0.727786</td>\n      <td>0.955138</td>\n      <td>0.343467</td>\n      <td>0.608244</td>\n    </tr>\n    <tr>\n      <th>3</th>\n      <td>0.600628</td>\n      <td>0.551305</td>\n      <td>0.293138</td>\n      <td>0.062102</td>\n      <td>0.319682</td>\n    </tr>\n    <tr>\n      <th>4</th>\n      <td>0.503733</td>\n      <td>0.786994</td>\n      <td>0.033880</td>\n      <td>0.501781</td>\n      <td>0.397876</td>\n    </tr>\n    <tr>\n      <th>...</th>\n      <td>...</td>\n      <td>...</td>\n      <td>...</td>\n      <td>...</td>\n      <td>...</td>\n    </tr>\n    <tr>\n      <th>328</th>\n      <td>0.979328</td>\n      <td>0.886560</td>\n      <td>0.561728</td>\n      <td>0.424675</td>\n      <td>0.866605</td>\n    </tr>\n    <tr>\n      <th>329</th>\n      <td>0.378096</td>\n      <td>0.756595</td>\n      <td>0.108500</td>\n      <td>0.377694</td>\n      <td>0.727588</td>\n    </tr>\n    <tr>\n      <th>330</th>\n      <td>0.206372</td>\n      <td>0.750413</td>\n      <td>0.394124</td>\n      <td>0.132536</td>\n      <td>0.052582</td>\n    </tr>\n    <tr>\n      <th>331</th>\n      <td>0.556297</td>\n      <td>0.841713</td>\n      <td>0.965062</td>\n      <td>0.112387</td>\n      <td>0.211688</td>\n    </tr>\n    <tr>\n      <th>332</th>\n      <td>0.017990</td>\n      <td>0.632087</td>\n      <td>0.746885</td>\n      <td>0.369050</td>\n      <td>0.356093</td>\n    </tr>\n  </tbody>\n</table>\n<p>333 rows × 5 columns</p>\n</div>"
     },
     "execution_count": 57,
     "metadata": {},
     "output_type": "execute_result"
    }
   ],
   "source": [
    "newdf"
   ],
   "metadata": {
    "collapsed": false,
    "pycharm": {
     "name": "#%%\n"
    }
   }
  },
  {
   "cell_type": "code",
   "execution_count": 58,
   "outputs": [
    {
     "data": {
      "text/plain": "0      False\n1      False\n2      False\n3      False\n4      False\n       ...  \n328    False\n329    False\n330    False\n331    False\n332    False\nName: B, Length: 333, dtype: bool"
     },
     "execution_count": 58,
     "metadata": {},
     "output_type": "execute_result"
    }
   ],
   "source": [
    "newdf['B'].isnull()"
   ],
   "metadata": {
    "collapsed": false,
    "pycharm": {
     "name": "#%%\n"
    }
   }
  },
  {
   "cell_type": "code",
   "execution_count": 61,
   "outputs": [],
   "source": [
    "newdf.loc[:,'B']=None"
   ],
   "metadata": {
    "collapsed": false,
    "pycharm": {
     "name": "#%%\n"
    }
   }
  },
  {
   "cell_type": "code",
   "execution_count": 62,
   "outputs": [
    {
     "data": {
      "text/plain": "            A     B         C         D         E\n0    0.270932  None  0.213429  0.148198  0.127868\n1    0.665118  None  0.583002  0.215119  0.710048\n2    0.634087  None  0.955138  0.343467  0.608244\n3    0.600628  None  0.293138  0.062102  0.319682\n4    0.503733  None  0.033880  0.501781  0.397876\n..        ...   ...       ...       ...       ...\n328  0.979328  None  0.561728  0.424675  0.866605\n329  0.378096  None  0.108500  0.377694  0.727588\n330  0.206372  None  0.394124  0.132536  0.052582\n331  0.556297  None  0.965062  0.112387  0.211688\n332  0.017990  None  0.746885  0.369050  0.356093\n\n[333 rows x 5 columns]",
      "text/html": "<div>\n<style scoped>\n    .dataframe tbody tr th:only-of-type {\n        vertical-align: middle;\n    }\n\n    .dataframe tbody tr th {\n        vertical-align: top;\n    }\n\n    .dataframe thead th {\n        text-align: right;\n    }\n</style>\n<table border=\"1\" class=\"dataframe\">\n  <thead>\n    <tr style=\"text-align: right;\">\n      <th></th>\n      <th>A</th>\n      <th>B</th>\n      <th>C</th>\n      <th>D</th>\n      <th>E</th>\n    </tr>\n  </thead>\n  <tbody>\n    <tr>\n      <th>0</th>\n      <td>0.270932</td>\n      <td>None</td>\n      <td>0.213429</td>\n      <td>0.148198</td>\n      <td>0.127868</td>\n    </tr>\n    <tr>\n      <th>1</th>\n      <td>0.665118</td>\n      <td>None</td>\n      <td>0.583002</td>\n      <td>0.215119</td>\n      <td>0.710048</td>\n    </tr>\n    <tr>\n      <th>2</th>\n      <td>0.634087</td>\n      <td>None</td>\n      <td>0.955138</td>\n      <td>0.343467</td>\n      <td>0.608244</td>\n    </tr>\n    <tr>\n      <th>3</th>\n      <td>0.600628</td>\n      <td>None</td>\n      <td>0.293138</td>\n      <td>0.062102</td>\n      <td>0.319682</td>\n    </tr>\n    <tr>\n      <th>4</th>\n      <td>0.503733</td>\n      <td>None</td>\n      <td>0.033880</td>\n      <td>0.501781</td>\n      <td>0.397876</td>\n    </tr>\n    <tr>\n      <th>...</th>\n      <td>...</td>\n      <td>...</td>\n      <td>...</td>\n      <td>...</td>\n      <td>...</td>\n    </tr>\n    <tr>\n      <th>328</th>\n      <td>0.979328</td>\n      <td>None</td>\n      <td>0.561728</td>\n      <td>0.424675</td>\n      <td>0.866605</td>\n    </tr>\n    <tr>\n      <th>329</th>\n      <td>0.378096</td>\n      <td>None</td>\n      <td>0.108500</td>\n      <td>0.377694</td>\n      <td>0.727588</td>\n    </tr>\n    <tr>\n      <th>330</th>\n      <td>0.206372</td>\n      <td>None</td>\n      <td>0.394124</td>\n      <td>0.132536</td>\n      <td>0.052582</td>\n    </tr>\n    <tr>\n      <th>331</th>\n      <td>0.556297</td>\n      <td>None</td>\n      <td>0.965062</td>\n      <td>0.112387</td>\n      <td>0.211688</td>\n    </tr>\n    <tr>\n      <th>332</th>\n      <td>0.017990</td>\n      <td>None</td>\n      <td>0.746885</td>\n      <td>0.369050</td>\n      <td>0.356093</td>\n    </tr>\n  </tbody>\n</table>\n<p>333 rows × 5 columns</p>\n</div>"
     },
     "execution_count": 62,
     "metadata": {},
     "output_type": "execute_result"
    }
   ],
   "source": [
    "newdf"
   ],
   "metadata": {
    "collapsed": false,
    "pycharm": {
     "name": "#%%\n"
    }
   }
  },
  {
   "cell_type": "code",
   "execution_count": 63,
   "outputs": [],
   "source": [
    "newdf.loc[:,'B']=45"
   ],
   "metadata": {
    "collapsed": false,
    "pycharm": {
     "name": "#%%\n"
    }
   }
  },
  {
   "cell_type": "code",
   "execution_count": 64,
   "outputs": [
    {
     "data": {
      "text/plain": "            A   B         C         D         E\n0    0.270932  45  0.213429  0.148198  0.127868\n1    0.665118  45  0.583002  0.215119  0.710048\n2    0.634087  45  0.955138  0.343467  0.608244\n3    0.600628  45  0.293138  0.062102  0.319682\n4    0.503733  45  0.033880  0.501781  0.397876\n..        ...  ..       ...       ...       ...\n328  0.979328  45  0.561728  0.424675  0.866605\n329  0.378096  45  0.108500  0.377694  0.727588\n330  0.206372  45  0.394124  0.132536  0.052582\n331  0.556297  45  0.965062  0.112387  0.211688\n332  0.017990  45  0.746885  0.369050  0.356093\n\n[333 rows x 5 columns]",
      "text/html": "<div>\n<style scoped>\n    .dataframe tbody tr th:only-of-type {\n        vertical-align: middle;\n    }\n\n    .dataframe tbody tr th {\n        vertical-align: top;\n    }\n\n    .dataframe thead th {\n        text-align: right;\n    }\n</style>\n<table border=\"1\" class=\"dataframe\">\n  <thead>\n    <tr style=\"text-align: right;\">\n      <th></th>\n      <th>A</th>\n      <th>B</th>\n      <th>C</th>\n      <th>D</th>\n      <th>E</th>\n    </tr>\n  </thead>\n  <tbody>\n    <tr>\n      <th>0</th>\n      <td>0.270932</td>\n      <td>45</td>\n      <td>0.213429</td>\n      <td>0.148198</td>\n      <td>0.127868</td>\n    </tr>\n    <tr>\n      <th>1</th>\n      <td>0.665118</td>\n      <td>45</td>\n      <td>0.583002</td>\n      <td>0.215119</td>\n      <td>0.710048</td>\n    </tr>\n    <tr>\n      <th>2</th>\n      <td>0.634087</td>\n      <td>45</td>\n      <td>0.955138</td>\n      <td>0.343467</td>\n      <td>0.608244</td>\n    </tr>\n    <tr>\n      <th>3</th>\n      <td>0.600628</td>\n      <td>45</td>\n      <td>0.293138</td>\n      <td>0.062102</td>\n      <td>0.319682</td>\n    </tr>\n    <tr>\n      <th>4</th>\n      <td>0.503733</td>\n      <td>45</td>\n      <td>0.033880</td>\n      <td>0.501781</td>\n      <td>0.397876</td>\n    </tr>\n    <tr>\n      <th>...</th>\n      <td>...</td>\n      <td>...</td>\n      <td>...</td>\n      <td>...</td>\n      <td>...</td>\n    </tr>\n    <tr>\n      <th>328</th>\n      <td>0.979328</td>\n      <td>45</td>\n      <td>0.561728</td>\n      <td>0.424675</td>\n      <td>0.866605</td>\n    </tr>\n    <tr>\n      <th>329</th>\n      <td>0.378096</td>\n      <td>45</td>\n      <td>0.108500</td>\n      <td>0.377694</td>\n      <td>0.727588</td>\n    </tr>\n    <tr>\n      <th>330</th>\n      <td>0.206372</td>\n      <td>45</td>\n      <td>0.394124</td>\n      <td>0.132536</td>\n      <td>0.052582</td>\n    </tr>\n    <tr>\n      <th>331</th>\n      <td>0.556297</td>\n      <td>45</td>\n      <td>0.965062</td>\n      <td>0.112387</td>\n      <td>0.211688</td>\n    </tr>\n    <tr>\n      <th>332</th>\n      <td>0.017990</td>\n      <td>45</td>\n      <td>0.746885</td>\n      <td>0.369050</td>\n      <td>0.356093</td>\n    </tr>\n  </tbody>\n</table>\n<p>333 rows × 5 columns</p>\n</div>"
     },
     "execution_count": 64,
     "metadata": {},
     "output_type": "execute_result"
    }
   ],
   "source": [
    "newdf"
   ],
   "metadata": {
    "collapsed": false,
    "pycharm": {
     "name": "#%%\n"
    }
   }
  },
  {
   "cell_type": "code",
   "execution_count": null,
   "outputs": [],
   "source": [],
   "metadata": {
    "collapsed": false,
    "pycharm": {
     "name": "#%%\n"
    }
   }
  }
 ],
 "metadata": {
  "kernelspec": {
   "display_name": "Python 3 (ipykernel)",
   "language": "python",
   "name": "python3"
  },
  "language_info": {
   "codemirror_mode": {
    "name": "ipython",
    "version": 3
   },
   "file_extension": ".py",
   "mimetype": "text/x-python",
   "name": "python",
   "nbconvert_exporter": "python",
   "pygments_lexer": "ipython3",
   "version": "3.9.12"
  }
 },
 "nbformat": 4,
 "nbformat_minor": 5
}